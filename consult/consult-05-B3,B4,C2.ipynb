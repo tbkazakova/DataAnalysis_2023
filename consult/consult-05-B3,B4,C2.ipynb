{
 "cells": [
  {
   "cell_type": "code",
   "execution_count": 72,
   "id": "5a4683ca",
   "metadata": {},
   "outputs": [
    {
     "name": "stdout",
     "output_type": "stream",
     "text": [
      "Алёна Маша Таня\n",
      "арбузы тыкву дыни\n",
      "Алёна любит арбузы\n",
      "Маша любит тыкву\n",
      "Таня любит дыни\n"
     ]
    }
   ],
   "source": [
    "# B-3 1\n",
    "names = input().split()\n",
    "fruits = input().split()\n",
    "\n",
    "# ваш код ниже\n",
    "for i in range(len(names)):\n",
    "    print(names[i], 'любит', fruits[i])"
   ]
  },
  {
   "cell_type": "code",
   "execution_count": 76,
   "id": "43a3e40a",
   "metadata": {},
   "outputs": [
    {
     "name": "stdout",
     "output_type": "stream",
     "text": [
      "Аня Маша Петя Марина\n",
      "2 2\n",
      "['Петя', 'Петя']\n"
     ]
    }
   ],
   "source": [
    "# B-3 2\n",
    "names = input().split()\n",
    "numbers = list(map(int, input().split()))\n",
    "\n",
    "# ваш код здесь\n",
    "ournames = []\n",
    "for elem in numbers:\n",
    "    ournames.append(names[elem])\n",
    "print(ournames)"
   ]
  },
  {
   "cell_type": "code",
   "execution_count": 77,
   "id": "77a1b135",
   "metadata": {},
   "outputs": [
    {
     "name": "stdout",
     "output_type": "stream",
     "text": [
      "Anna Alisa Alena Oleg Ivan\n",
      "Japanese Korean Japanese English Korean\n",
      "Japanese\n",
      "['Anna', 'Alena']\n"
     ]
    }
   ],
   "source": [
    "# B-3 3\n",
    "names = input().split()\n",
    "languages = input().split()\n",
    "info = input()\n",
    "\n",
    "# ваш код здесь\n",
    "answer = []\n",
    "for i in range(len(languages)):\n",
    "    if languages[i] == info:\n",
    "        answer.append(names[i])\n",
    "print(answer)"
   ]
  },
  {
   "cell_type": "code",
   "execution_count": 73,
   "id": "81fe1fc1",
   "metadata": {},
   "outputs": [
    {
     "name": "stdout",
     "output_type": "stream",
     "text": [
      "Томск, Москва, Таганрог\n",
      "Т\n",
      "Томск\n",
      "Таганрог\n"
     ]
    }
   ],
   "source": [
    "# B-4 1\n",
    "cities = input().split(', ')\n",
    "letter = input()\n",
    "\n",
    "# ваш код ниже\n",
    "for city in cities:\n",
    "    if city.startswith(letter):\n",
    "        print(city)"
   ]
  },
  {
   "cell_type": "code",
   "execution_count": 74,
   "id": "9efdba9d",
   "metadata": {},
   "outputs": [
    {
     "name": "stdout",
     "output_type": "stream",
     "text": [
      "БМЭ212, БМЭ213, БМЭ205, БСБ194, БМК211\n",
      "21\n",
      "БМЭ212\n",
      "БМЭ213\n",
      "БМК211\n"
     ]
    }
   ],
   "source": [
    "# B-4 2\n",
    "groups = input().split(', ')\n",
    "year = input()\n",
    "# ваш код ниже\n",
    "for elem in groups:\n",
    "    if elem[3:5] == year:\n",
    "        print(elem)"
   ]
  },
  {
   "cell_type": "code",
   "execution_count": 75,
   "id": "ed40d423",
   "metadata": {},
   "outputs": [
    {
     "name": "stdout",
     "output_type": "stream",
     "text": [
      "24-09-2022, 30-09-2022, 09-10-2022, 10-12-2022, 20-12-2022\n",
      "09\n",
      "24-09-2022\n",
      "30-09-2022\n"
     ]
    }
   ],
   "source": [
    "# B-4 3\n",
    "dates = input().split(', ')\n",
    "month = input()\n",
    "# ваш код ниже\n",
    "for elem in dates:\n",
    "    if elem[3:5] == month:\n",
    "        print(elem)"
   ]
  },
  {
   "cell_type": "code",
   "execution_count": 36,
   "id": "12557740",
   "metadata": {},
   "outputs": [],
   "source": [
    "# C-3 1\n",
    "def scholarship(mark_list):\n",
    "    answer = True\n",
    "    if 1 in mark_list or 2 in mark_list:\n",
    "        answer = False\n",
    "    if mark_list.count(3) != 1:\n",
    "        answer = False\n",
    "    return answer"
   ]
  },
  {
   "cell_type": "code",
   "execution_count": 56,
   "id": "4fccb6ff",
   "metadata": {},
   "outputs": [],
   "source": [
    "# C-3 2\n",
    "def is_birth_year_valid(dates):\n",
    "    ourdates = []\n",
    "    for date in dates:\n",
    "        if int(date[6:]) < 2000:\n",
    "            ourdates.append(date)\n",
    "    return len(ourdates)"
   ]
  },
  {
   "cell_type": "code",
   "execution_count": 69,
   "id": "42c861e6",
   "metadata": {},
   "outputs": [],
   "source": [
    "# C-3 3\n",
    "def check_door_phone(string, flat_list):\n",
    "    answer = True\n",
    "    if string[0] != '*':\n",
    "        answer = False\n",
    "    if not string[1:].isdigit():\n",
    "        answer = False\n",
    "    else:\n",
    "        if int(string[1:]) < flat_list[0] or int(string[1:]) > flat_list[1]:\n",
    "            answer = False\n",
    "    return answer"
   ]
  }
 ],
 "metadata": {
  "kernelspec": {
   "display_name": "Python 3 (ipykernel)",
   "language": "python",
   "name": "python3"
  },
  "language_info": {
   "codemirror_mode": {
    "name": "ipython",
    "version": 3
   },
   "file_extension": ".py",
   "mimetype": "text/x-python",
   "name": "python",
   "nbconvert_exporter": "python",
   "pygments_lexer": "ipython3",
   "version": "3.9.16"
  }
 },
 "nbformat": 4,
 "nbformat_minor": 5
}
