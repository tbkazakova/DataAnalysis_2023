{
 "cells": [
  {
   "cell_type": "code",
   "execution_count": 1,
   "id": "c6cc460b-cdd1-4744-8080-00dd37d656ec",
   "metadata": {},
   "outputs": [],
   "source": [
    "import numpy as np"
   ]
  },
  {
   "cell_type": "markdown",
   "id": "b0283c9e-8d02-4591-a4a2-0d5e270d9d88",
   "metadata": {},
   "source": [
    "## Ошибка"
   ]
  },
  {
   "cell_type": "code",
   "execution_count": 3,
   "id": "c59a4dda-4071-4514-ba82-80b20a065175",
   "metadata": {},
   "outputs": [],
   "source": [
    "Y = np.array([12, 40, 8, 60, 61])\n",
    "Z = np.array([9, 36, 10, 57, 62])"
   ]
  },
  {
   "cell_type": "code",
   "execution_count": 4,
   "id": "8de90562-7bd0-48dc-b437-b204d500482d",
   "metadata": {},
   "outputs": [
    {
     "data": {
      "text/plain": [
       "(array([12, 40,  8, 60, 61]), array([ 9, 36, 10, 57, 62]))"
      ]
     },
     "execution_count": 4,
     "metadata": {},
     "output_type": "execute_result"
    }
   ],
   "source": []
  },
  {
   "cell_type": "code",
   "execution_count": 6,
   "id": "36e3bd85-8356-457f-86af-9aa2069c1fcb",
   "metadata": {},
   "outputs": [
    {
     "data": {
      "text/plain": [
       "array([ 3,  4, -2,  3, -1])"
      ]
     },
     "execution_count": 6,
     "metadata": {},
     "output_type": "execute_result"
    }
   ],
   "source": [
    "Y-Z"
   ]
  },
  {
   "cell_type": "code",
   "execution_count": 7,
   "id": "d07d238f-35cc-43c5-8012-bfc8a088ed3c",
   "metadata": {},
   "outputs": [
    {
     "data": {
      "text/plain": [
       "array([ 9, 16,  4,  9,  1])"
      ]
     },
     "execution_count": 7,
     "metadata": {},
     "output_type": "execute_result"
    }
   ],
   "source": [
    "(Y - Z) ** 2"
   ]
  },
  {
   "cell_type": "code",
   "execution_count": 9,
   "id": "f7b4447b-f165-44fb-9b6a-41e278a01d82",
   "metadata": {},
   "outputs": [
    {
     "name": "stdout",
     "output_type": "stream",
     "text": [
      "39\n",
      "39\n"
     ]
    }
   ],
   "source": [
    "print(((Y - Z) ** 2).sum())\n",
    "\n",
    "print(sum((Y - Z) ** 2))"
   ]
  },
  {
   "cell_type": "markdown",
   "id": "9b35ffc5-fd05-4e43-b0c3-54457f8aa853",
   "metadata": {},
   "source": [
    "Буквально по формуле так:"
   ]
  },
  {
   "cell_type": "code",
   "execution_count": 10,
   "id": "c6acbbd0-ba82-48f7-acb8-b1b31826f060",
   "metadata": {},
   "outputs": [
    {
     "data": {
      "text/plain": [
       "7.8"
      ]
     },
     "execution_count": 10,
     "metadata": {},
     "output_type": "execute_result"
    }
   ],
   "source": [
    "((Y - Z) ** 2).sum() / 5"
   ]
  },
  {
   "cell_type": "markdown",
   "id": "431c1fc9-8ee0-432b-b66e-f02cde70da2e",
   "metadata": {},
   "source": [
    "Если мы поняли, что в формуле знаменатель это просто количество, а числитель - сумма, то мы поняли, что это средний квадрат разности, и его можно посчитать вот так:\n"
   ]
  },
  {
   "cell_type": "code",
   "execution_count": 11,
   "id": "8477c2cd-c12c-4bcb-8186-483a1b41a808",
   "metadata": {
    "scrolled": true
   },
   "outputs": [
    {
     "data": {
      "text/plain": [
       "7.8"
      ]
     },
     "execution_count": 11,
     "metadata": {},
     "output_type": "execute_result"
    }
   ],
   "source": [
    "np.mean(((Y - Z) ** 2))"
   ]
  },
  {
   "cell_type": "markdown",
   "id": "f2782103-5a5b-44f1-8f91-bb9cb7f4b2be",
   "metadata": {},
   "source": [
    "## Расчёт регрессии"
   ]
  },
  {
   "cell_type": "code",
   "execution_count": 2,
   "id": "2d458f1c-a690-4255-ac61-0aa18ce56bd7",
   "metadata": {},
   "outputs": [],
   "source": [
    "pension = np.array([39, 48, 70])"
   ]
  },
  {
   "cell_type": "code",
   "execution_count": 8,
   "id": "84eddd64-653b-4544-b835-74ac2c059e0c",
   "metadata": {},
   "outputs": [
    {
     "name": "stdout",
     "output_type": "stream",
     "text": [
      "52.333333333333336\n",
      "508.66666666666663\n",
      "508.66666666666663\n"
     ]
    }
   ],
   "source": [
    "mean = pension.mean()\n",
    "print(mean)\n",
    "\n",
    "# оба варианта дают правильный ответ\n",
    "print(((pension - mean) ** 2).sum())\n",
    "print(sum((pension - mean) ** 2))"
   ]
  },
  {
   "cell_type": "code",
   "execution_count": 32,
   "id": "526d6fdf-7663-45aa-b01b-539c10985228",
   "metadata": {},
   "outputs": [],
   "source": [
    "SSx = sum((pension - mean) ** 2)"
   ]
  },
  {
   "cell_type": "code",
   "execution_count": 23,
   "id": "30bbb1e9-4bd4-4f74-83e1-7eea8a87dc12",
   "metadata": {},
   "outputs": [
    {
     "name": "stdout",
     "output_type": "stream",
     "text": [
      "[177.77777778  18.77777778 312.11111111]\n"
     ]
    }
   ],
   "source": [
    "print((pension - mean) ** 2)"
   ]
  },
  {
   "cell_type": "markdown",
   "id": "279da166-48cf-4267-9464-b65ca62013d9",
   "metadata": {},
   "source": [
    "Если по действиям:"
   ]
  },
  {
   "cell_type": "code",
   "execution_count": 19,
   "id": "8a198ba6-2345-4b11-a034-02fa8c914e68",
   "metadata": {},
   "outputs": [
    {
     "name": "stdout",
     "output_type": "stream",
     "text": [
      "52.333333333333336\n"
     ]
    }
   ],
   "source": [
    "mean2 = (39 + 48 + 70) / 3\n",
    "print(mean2)"
   ]
  },
  {
   "cell_type": "code",
   "execution_count": 20,
   "id": "93ffef5a-b62b-4ae0-8fd1-dc35bb740668",
   "metadata": {},
   "outputs": [
    {
     "name": "stdout",
     "output_type": "stream",
     "text": [
      "-13.333333333333336\n",
      "-4.333333333333336\n",
      "17.666666666666664\n"
     ]
    }
   ],
   "source": [
    "print(39 - mean2)\n",
    "print(48 - mean2)\n",
    "print(70 - mean2)"
   ]
  },
  {
   "cell_type": "code",
   "execution_count": 21,
   "id": "7bfbfd12-e200-4df9-9806-276186197ee1",
   "metadata": {},
   "outputs": [
    {
     "name": "stdout",
     "output_type": "stream",
     "text": [
      "177.77777777777783\n",
      "18.7777777777778\n",
      "312.11111111111103\n"
     ]
    }
   ],
   "source": [
    "print((39 - mean2) ** 2)\n",
    "print((48 - mean2) ** 2)\n",
    "print((70 - mean2) ** 2)"
   ]
  },
  {
   "cell_type": "markdown",
   "id": "83fe6024-f9ef-46eb-8dd6-18a1cf65fc6b",
   "metadata": {},
   "source": [
    "тесты"
   ]
  },
  {
   "cell_type": "code",
   "execution_count": 9,
   "id": "bb990d8a-e4dd-474c-9ba0-6f5a66321ac9",
   "metadata": {},
   "outputs": [
    {
     "name": "stdout",
     "output_type": "stream",
     "text": [
      "0.6666666666666666\n"
     ]
    }
   ],
   "source": [
    "tests = np.array([9, 10, 9])\n",
    "\n",
    "mean_tests = tests.mean()\n",
    "\n",
    "SSy = sum((tests - mean_tests) ** 2)\n",
    "print(SSy)"
   ]
  },
  {
   "cell_type": "markdown",
   "id": "e3fd3c9d-303d-471d-b4f7-3ebb35e20acf",
   "metadata": {},
   "source": [
    "Сумма произведений отклонений $SP$"
   ]
  },
  {
   "cell_type": "code",
   "execution_count": 25,
   "id": "4e462967-a5c1-4b3b-b39a-e7e7c89fcb9d",
   "metadata": {},
   "outputs": [],
   "source": [
    "pension = np.array([39, 48, 70])\n",
    "tests = np.array([9, 10, 9])"
   ]
  },
  {
   "cell_type": "code",
   "execution_count": 28,
   "id": "0ead3e19-01a6-42ea-b850-4fb2c2fbcb2f",
   "metadata": {},
   "outputs": [
    {
     "name": "stdout",
     "output_type": "stream",
     "text": [
      "[351 480 630]\n"
     ]
    },
    {
     "data": {
      "text/plain": [
       "1461"
      ]
     },
     "execution_count": 28,
     "metadata": {},
     "output_type": "execute_result"
    }
   ],
   "source": [
    "print(pension * tests)\n",
    "sum(pension * tests)"
   ]
  },
  {
   "cell_type": "code",
   "execution_count": 29,
   "id": "875c0e65-253c-4d55-918e-9e36be9be152",
   "metadata": {},
   "outputs": [
    {
     "data": {
      "text/plain": [
       "1465.3333333333333"
      ]
     },
     "execution_count": 29,
     "metadata": {},
     "output_type": "execute_result"
    }
   ],
   "source": [
    "pension.sum() * tests.sum() / len(pension)"
   ]
  },
  {
   "cell_type": "markdown",
   "id": "6f663f10-73c0-4c80-beaa-cd72b382bc12",
   "metadata": {},
   "source": [
    "Сумма произведений отклонений"
   ]
  },
  {
   "attachments": {
    "f73ad773-c3dd-4d21-8768-8f434bacffd8.png": {
     "image/png": "[encoded data removed]"
    }
   },
   "cell_type": "markdown",
   "id": "ece3ec6f-a003-4d1c-86b3-e226d139f8dd",
   "metadata": {},
   "source": [
    "![pasted image 0.png](attachment:f73ad773-c3dd-4d21-8768-8f434bacffd8.png)"
   ]
  },
  {
   "cell_type": "code",
   "execution_count": 31,
   "id": "ec4622d2-3d7d-41e8-82ef-ae7fd40a70d0",
   "metadata": {},
   "outputs": [
    {
     "name": "stdout",
     "output_type": "stream",
     "text": [
      "-4.3333333333332575\n"
     ]
    }
   ],
   "source": [
    "SP = sum(pension * tests) - (pension.sum() * tests.sum() / len(pension))\n",
    "print(SP)"
   ]
  },
  {
   "cell_type": "code",
   "execution_count": 33,
   "id": "edd307d1-3bab-4936-91fe-d47fba0e91aa",
   "metadata": {},
   "outputs": [
    {
     "name": "stdout",
     "output_type": "stream",
     "text": [
      "-0.00851900393184782\n"
     ]
    }
   ],
   "source": [
    "b = SP / SSx\n",
    "print(b)"
   ]
  },
  {
   "cell_type": "markdown",
   "id": "616c6c6b-15c9-4936-ba7f-f967acd6d040",
   "metadata": {},
   "source": [
    "$test = pension * (-0.008) + ... $"
   ]
  },
  {
   "cell_type": "code",
   "execution_count": 34,
   "id": "b5e8d1e9-2fd5-43fe-855d-40f82005f547",
   "metadata": {},
   "outputs": [
    {
     "data": {
      "text/plain": [
       "array([-0.312, -0.384, -0.56 ])"
      ]
     },
     "execution_count": 34,
     "metadata": {},
     "output_type": "execute_result"
    }
   ],
   "source": [
    "pension * (-0.008)"
   ]
  },
  {
   "cell_type": "code",
   "execution_count": 10,
   "id": "0d7bc7a1-2054-439f-99a6-95cf7a58e909",
   "metadata": {},
   "outputs": [
    {
     "ename": "ModuleNotFoundError",
     "evalue": "No module named 'scipy'",
     "output_type": "error",
     "traceback": [
      "\u001b[1;31m---------------------------------------------------------------------------\u001b[0m",
      "\u001b[1;31mModuleNotFoundError\u001b[0m                       Traceback (most recent call last)",
      "Cell \u001b[1;32mIn[10], line 1\u001b[0m\n\u001b[1;32m----> 1\u001b[0m \u001b[38;5;28;01mimport\u001b[39;00m \u001b[38;5;21;01mscipy\u001b[39;00m\u001b[38;5;21;01m.\u001b[39;00m\u001b[38;5;21;01mstats\u001b[39;00m\n\u001b[0;32m      2\u001b[0m X \u001b[38;5;241m=\u001b[39m pension\n\u001b[0;32m      3\u001b[0m Y \u001b[38;5;241m=\u001b[39m tests\n",
      "\u001b[1;31mModuleNotFoundError\u001b[0m: No module named 'scipy'"
     ]
    }
   ],
   "source": [
    "import scipy.stats\n",
    "X = pension\n",
    "Y = tests\n",
    "\n",
    "res = scipy.stats.linregress(X, Y)\n",
    "\n",
    "print(f\"y = {res.intercept} + {res.slope}x\")"
   ]
  },
  {
   "attachments": {
    "31190ec9-dc9f-49c7-92e5-f5033fb078d2.png": {
     "image/png": "[encoded data removed]"
    }
   },
   "cell_type": "markdown",
   "id": "ad8339d8-c7d9-4827-b9d5-83e661d8b3d6",
   "metadata": {},
   "source": [
    "![изображение.png](attachment:31190ec9-dc9f-49c7-92e5-f5033fb078d2.png)"
   ]
  },
  {
   "cell_type": "code",
   "execution_count": 5,
   "id": "2f29a766-a345-427a-a598-146441d84e18",
   "metadata": {},
   "outputs": [
    {
     "name": "stdout",
     "output_type": "stream",
     "text": [
      "52.333333333333336 9.333333333333334\n",
      "y = 9.77916120576671 + -0.008519003931847968*x\n"
     ]
    }
   ],
   "source": [
    "X = pension\n",
    "Y = tests\n",
    "\n",
    "X_mean = X.mean()\n",
    "Y_mean = Y.mean()\n",
    "\n",
    "print(X_mean, Y_mean)\n",
    "\n",
    "# открываем доп. материал к экзамену и переписываем формулы весов\n",
    "w1 = (\n",
    "    ((X-X_mean)*(Y-Y_mean)).sum()\n",
    "    / ((X-X_mean)**2).sum()\n",
    ")\n",
    "\n",
    "w0 = Y_mean - w1*X_mean\n",
    "\n",
    "print(f'y = {w0} + {w1}*x')"
   ]
  },
  {
   "cell_type": "code",
   "execution_count": 7,
   "id": "86c414da-cc8b-4d41-9333-db2f43ad73bc",
   "metadata": {},
   "outputs": [
    {
     "data": {
      "text/plain": [
       "-0.01"
      ]
     },
     "execution_count": 7,
     "metadata": {},
     "output_type": "execute_result"
    }
   ],
   "source": [
    "round(w1, 2)"
   ]
  },
  {
   "cell_type": "markdown",
   "id": "06c0b348-27e2-4793-931d-a23e3455ad80",
   "metadata": {},
   "source": [
    "## Коэффициент линейной корреляции Пирсона"
   ]
  },
  {
   "attachments": {
    "cc69ce2b-ce8a-4db9-b16d-a4422380e6f3.png": {
     "image/png": "[encoded data removed]"
    }
   },
   "cell_type": "markdown",
   "id": "6781316a-2969-4159-9dd2-193c3114927c",
   "metadata": {},
   "source": [
    "![изображение.png](attachment:cc69ce2b-ce8a-4db9-b16d-a4422380e6f3.png)"
   ]
  },
  {
   "cell_type": "code",
   "execution_count": 14,
   "id": "3538ac29-e9c3-4665-a468-ea53fed9e668",
   "metadata": {},
   "outputs": [
    {
     "name": "stdout",
     "output_type": "stream",
     "text": [
      "0.27826085928877115\n"
     ]
    }
   ],
   "source": [
    "length = np.array([15, 12.1, 20, 24.2, 18.7])\n",
    "mass = np.array([800, 495, 302, 1001, 256])\n",
    "\n",
    "lenght_mean = length.mean()\n",
    "mass_mean = mass.mean()\n",
    "\n",
    "print(\n",
    "    np.sum((length - lenght_mean) * (mass - mass_mean))\n",
    "    / np.sqrt(np.sum((length - lenght_mean) ** 2) * np.sum((mass - mass_mean) ** 2))\n",
    ")\n"
   ]
  },
  {
   "cell_type": "code",
   "execution_count": 16,
   "id": "ee8f9ffa-27b6-481a-9571-5463958052fa",
   "metadata": {},
   "outputs": [
    {
     "data": {
      "text/plain": [
       "0.27826085928877115"
      ]
     },
     "execution_count": 16,
     "metadata": {},
     "output_type": "execute_result"
    }
   ],
   "source": [
    "diff_length = (length - lenght_mean)\n",
    "diff_mass = (mass - mass_mean)\n",
    "\n",
    "(\n",
    "    np.sum(diff_length * diff_mass)\n",
    "    / np.sqrt(np.sum(diff_length ** 2) * np.sum(diff_mass ** 2))\n",
    ")"
   ]
  },
  {
   "cell_type": "code",
   "execution_count": 17,
   "id": "133f5645-55c0-4799-a953-209a3b1caf80",
   "metadata": {},
   "outputs": [
    {
     "data": {
      "text/plain": [
       "array([[1.        , 0.27826086],\n",
       "       [0.27826086, 1.        ]])"
      ]
     },
     "execution_count": 17,
     "metadata": {},
     "output_type": "execute_result"
    }
   ],
   "source": [
    "length = np.array([15, 12.1, 20, 24.2, 18.7])\n",
    "mass = np.array([800, 495, 302, 1001, 256])\n",
    "\n",
    "np.corrcoef(length, mass)"
   ]
  },
  {
   "cell_type": "code",
   "execution_count": 17,
   "id": "d0567891-b5fc-4d81-ab12-d7f613cce5e2",
   "metadata": {},
   "outputs": [],
   "source": [
    "import matplotlib.pyplot as plt"
   ]
  },
  {
   "cell_type": "code",
   "execution_count": 21,
   "id": "23cd0737-9e7e-47d7-bf8b-440c1eae3445",
   "metadata": {},
   "outputs": [
    {
     "data": {
      "text/plain": [
       "<matplotlib.collections.PathCollection at 0x2c982594a50>"
      ]
     },
     "execution_count": 21,
     "metadata": {},
     "output_type": "execute_result"
    },
    {
     "data": {
      "image/png": "[encoded data removed]",
      "text/plain": [
       "<Figure size 640x480 with 1 Axes>"
      ]
     },
     "metadata": {},
     "output_type": "display_data"
    }
   ],
   "source": [
    "plt.scatter(length, mass)"
   ]
  },
  {
   "cell_type": "markdown",
   "id": "6d095408-e332-4946-9534-2cdb0797f0bb",
   "metadata": {},
   "source": [
    "По табличке `.csv`"
   ]
  },
  {
   "cell_type": "code",
   "execution_count": 1,
   "id": "5c66fdb2-d066-4107-8fe5-eb89879648f6",
   "metadata": {},
   "outputs": [],
   "source": [
    "import pandas as pd"
   ]
  },
  {
   "cell_type": "code",
   "execution_count": 4,
   "id": "ef42c96d-da4e-4ca8-b612-26c64c479cc9",
   "metadata": {},
   "outputs": [
    {
     "data": {
      "text/html": [
       "<div>\n",
       "<style scoped>\n",
       "    .dataframe tbody tr th:only-of-type {\n",
       "        vertical-align: middle;\n",
       "    }\n",
       "\n",
       "    .dataframe tbody tr th {\n",
       "        vertical-align: top;\n",
       "    }\n",
       "\n",
       "    .dataframe thead th {\n",
       "        text-align: right;\n",
       "    }\n",
       "</style>\n",
       "<table border=\"1\" class=\"dataframe\">\n",
       "  <thead>\n",
       "    <tr style=\"text-align: right;\">\n",
       "      <th></th>\n",
       "      <th>n</th>\n",
       "      <th>price</th>\n",
       "      <th>totsp</th>\n",
       "      <th>livesp</th>\n",
       "      <th>kitsp</th>\n",
       "      <th>dist</th>\n",
       "      <th>metrdist</th>\n",
       "      <th>walk</th>\n",
       "      <th>brick</th>\n",
       "      <th>floor</th>\n",
       "      <th>code</th>\n",
       "    </tr>\n",
       "  </thead>\n",
       "  <tbody>\n",
       "    <tr>\n",
       "      <th>0</th>\n",
       "      <td>1</td>\n",
       "      <td>81</td>\n",
       "      <td>58</td>\n",
       "      <td>40</td>\n",
       "      <td>6.0</td>\n",
       "      <td>12.5</td>\n",
       "      <td>7</td>\n",
       "      <td>1</td>\n",
       "      <td>1</td>\n",
       "      <td>1</td>\n",
       "      <td>3</td>\n",
       "    </tr>\n",
       "    <tr>\n",
       "      <th>1</th>\n",
       "      <td>2</td>\n",
       "      <td>75</td>\n",
       "      <td>44</td>\n",
       "      <td>28</td>\n",
       "      <td>6.0</td>\n",
       "      <td>13.5</td>\n",
       "      <td>7</td>\n",
       "      <td>1</td>\n",
       "      <td>0</td>\n",
       "      <td>1</td>\n",
       "      <td>6</td>\n",
       "    </tr>\n",
       "    <tr>\n",
       "      <th>2</th>\n",
       "      <td>3</td>\n",
       "      <td>128</td>\n",
       "      <td>70</td>\n",
       "      <td>42</td>\n",
       "      <td>6.0</td>\n",
       "      <td>14.5</td>\n",
       "      <td>3</td>\n",
       "      <td>1</td>\n",
       "      <td>1</td>\n",
       "      <td>1</td>\n",
       "      <td>3</td>\n",
       "    </tr>\n",
       "    <tr>\n",
       "      <th>3</th>\n",
       "      <td>4</td>\n",
       "      <td>95</td>\n",
       "      <td>61</td>\n",
       "      <td>37</td>\n",
       "      <td>6.0</td>\n",
       "      <td>13.5</td>\n",
       "      <td>7</td>\n",
       "      <td>1</td>\n",
       "      <td>0</td>\n",
       "      <td>1</td>\n",
       "      <td>1</td>\n",
       "    </tr>\n",
       "    <tr>\n",
       "      <th>4</th>\n",
       "      <td>5</td>\n",
       "      <td>330</td>\n",
       "      <td>104</td>\n",
       "      <td>60</td>\n",
       "      <td>11.0</td>\n",
       "      <td>10.5</td>\n",
       "      <td>7</td>\n",
       "      <td>0</td>\n",
       "      <td>1</td>\n",
       "      <td>1</td>\n",
       "      <td>3</td>\n",
       "    </tr>\n",
       "    <tr>\n",
       "      <th>...</th>\n",
       "      <td>...</td>\n",
       "      <td>...</td>\n",
       "      <td>...</td>\n",
       "      <td>...</td>\n",
       "      <td>...</td>\n",
       "      <td>...</td>\n",
       "      <td>...</td>\n",
       "      <td>...</td>\n",
       "      <td>...</td>\n",
       "      <td>...</td>\n",
       "      <td>...</td>\n",
       "    </tr>\n",
       "    <tr>\n",
       "      <th>2035</th>\n",
       "      <td>2036</td>\n",
       "      <td>110</td>\n",
       "      <td>77</td>\n",
       "      <td>45</td>\n",
       "      <td>10.0</td>\n",
       "      <td>12.0</td>\n",
       "      <td>5</td>\n",
       "      <td>0</td>\n",
       "      <td>0</td>\n",
       "      <td>1</td>\n",
       "      <td>5</td>\n",
       "    </tr>\n",
       "    <tr>\n",
       "      <th>2036</th>\n",
       "      <td>2037</td>\n",
       "      <td>95</td>\n",
       "      <td>60</td>\n",
       "      <td>43</td>\n",
       "      <td>6.0</td>\n",
       "      <td>9.0</td>\n",
       "      <td>5</td>\n",
       "      <td>0</td>\n",
       "      <td>0</td>\n",
       "      <td>1</td>\n",
       "      <td>4</td>\n",
       "    </tr>\n",
       "    <tr>\n",
       "      <th>2037</th>\n",
       "      <td>2038</td>\n",
       "      <td>95</td>\n",
       "      <td>60</td>\n",
       "      <td>46</td>\n",
       "      <td>5.0</td>\n",
       "      <td>10.5</td>\n",
       "      <td>5</td>\n",
       "      <td>1</td>\n",
       "      <td>0</td>\n",
       "      <td>1</td>\n",
       "      <td>7</td>\n",
       "    </tr>\n",
       "    <tr>\n",
       "      <th>2038</th>\n",
       "      <td>2039</td>\n",
       "      <td>129</td>\n",
       "      <td>76</td>\n",
       "      <td>48</td>\n",
       "      <td>10.0</td>\n",
       "      <td>12.5</td>\n",
       "      <td>5</td>\n",
       "      <td>0</td>\n",
       "      <td>0</td>\n",
       "      <td>1</td>\n",
       "      <td>3</td>\n",
       "    </tr>\n",
       "    <tr>\n",
       "      <th>2039</th>\n",
       "      <td>2040</td>\n",
       "      <td>103</td>\n",
       "      <td>64</td>\n",
       "      <td>45</td>\n",
       "      <td>7.0</td>\n",
       "      <td>15.5</td>\n",
       "      <td>5</td>\n",
       "      <td>1</td>\n",
       "      <td>0</td>\n",
       "      <td>1</td>\n",
       "      <td>1</td>\n",
       "    </tr>\n",
       "  </tbody>\n",
       "</table>\n",
       "<p>2040 rows × 11 columns</p>\n",
       "</div>"
      ],
      "text/plain": [
       "         n  price  totsp  livesp  kitsp  dist  metrdist  walk  brick  floor  \\\n",
       "0        1     81     58      40    6.0  12.5         7     1      1      1   \n",
       "1        2     75     44      28    6.0  13.5         7     1      0      1   \n",
       "2        3    128     70      42    6.0  14.5         3     1      1      1   \n",
       "3        4     95     61      37    6.0  13.5         7     1      0      1   \n",
       "4        5    330    104      60   11.0  10.5         7     0      1      1   \n",
       "...    ...    ...    ...     ...    ...   ...       ...   ...    ...    ...   \n",
       "2035  2036    110     77      45   10.0  12.0         5     0      0      1   \n",
       "2036  2037     95     60      43    6.0   9.0         5     0      0      1   \n",
       "2037  2038     95     60      46    5.0  10.5         5     1      0      1   \n",
       "2038  2039    129     76      48   10.0  12.5         5     0      0      1   \n",
       "2039  2040    103     64      45    7.0  15.5         5     1      0      1   \n",
       "\n",
       "      code  \n",
       "0        3  \n",
       "1        6  \n",
       "2        3  \n",
       "3        1  \n",
       "4        3  \n",
       "...    ...  \n",
       "2035     5  \n",
       "2036     4  \n",
       "2037     7  \n",
       "2038     3  \n",
       "2039     1  \n",
       "\n",
       "[2040 rows x 11 columns]"
      ]
     },
     "execution_count": 4,
     "metadata": {},
     "output_type": "execute_result"
    }
   ],
   "source": [
    "# в той же папке что тетрадка\n",
    "flats = pd.read_csv(\"moscow_flats.csv\", sep=\"\\t\")\n",
    "flats\n"
   ]
  },
  {
   "cell_type": "code",
   "execution_count": 6,
   "id": "d48f6ad1-e519-446a-8140-e3623a0bbed5",
   "metadata": {},
   "outputs": [
    {
     "data": {
      "text/plain": [
       "0        True\n",
       "1        True\n",
       "2        True\n",
       "3        True\n",
       "4       False\n",
       "        ...  \n",
       "2035    False\n",
       "2036    False\n",
       "2037     True\n",
       "2038    False\n",
       "2039     True\n",
       "Name: walk, Length: 2040, dtype: bool"
      ]
     },
     "execution_count": 6,
     "metadata": {},
     "output_type": "execute_result"
    }
   ],
   "source": [
    "flats[\"walk\"] == 1"
   ]
  },
  {
   "cell_type": "code",
   "execution_count": 8,
   "id": "f0241824-e0b4-45b3-bfcd-ae48f5cba411",
   "metadata": {},
   "outputs": [
    {
     "data": {
      "text/html": [
       "<div>\n",
       "<style scoped>\n",
       "    .dataframe tbody tr th:only-of-type {\n",
       "        vertical-align: middle;\n",
       "    }\n",
       "\n",
       "    .dataframe tbody tr th {\n",
       "        vertical-align: top;\n",
       "    }\n",
       "\n",
       "    .dataframe thead th {\n",
       "        text-align: right;\n",
       "    }\n",
       "</style>\n",
       "<table border=\"1\" class=\"dataframe\">\n",
       "  <thead>\n",
       "    <tr style=\"text-align: right;\">\n",
       "      <th></th>\n",
       "      <th>n</th>\n",
       "      <th>price</th>\n",
       "      <th>totsp</th>\n",
       "      <th>livesp</th>\n",
       "      <th>kitsp</th>\n",
       "      <th>dist</th>\n",
       "      <th>metrdist</th>\n",
       "      <th>walk</th>\n",
       "      <th>brick</th>\n",
       "      <th>floor</th>\n",
       "      <th>code</th>\n",
       "    </tr>\n",
       "  </thead>\n",
       "  <tbody>\n",
       "    <tr>\n",
       "      <th>0</th>\n",
       "      <td>1</td>\n",
       "      <td>81</td>\n",
       "      <td>58</td>\n",
       "      <td>40</td>\n",
       "      <td>6.0</td>\n",
       "      <td>12.5</td>\n",
       "      <td>7</td>\n",
       "      <td>1</td>\n",
       "      <td>1</td>\n",
       "      <td>1</td>\n",
       "      <td>3</td>\n",
       "    </tr>\n",
       "    <tr>\n",
       "      <th>1</th>\n",
       "      <td>2</td>\n",
       "      <td>75</td>\n",
       "      <td>44</td>\n",
       "      <td>28</td>\n",
       "      <td>6.0</td>\n",
       "      <td>13.5</td>\n",
       "      <td>7</td>\n",
       "      <td>1</td>\n",
       "      <td>0</td>\n",
       "      <td>1</td>\n",
       "      <td>6</td>\n",
       "    </tr>\n",
       "    <tr>\n",
       "      <th>2</th>\n",
       "      <td>3</td>\n",
       "      <td>128</td>\n",
       "      <td>70</td>\n",
       "      <td>42</td>\n",
       "      <td>6.0</td>\n",
       "      <td>14.5</td>\n",
       "      <td>3</td>\n",
       "      <td>1</td>\n",
       "      <td>1</td>\n",
       "      <td>1</td>\n",
       "      <td>3</td>\n",
       "    </tr>\n",
       "    <tr>\n",
       "      <th>3</th>\n",
       "      <td>4</td>\n",
       "      <td>95</td>\n",
       "      <td>61</td>\n",
       "      <td>37</td>\n",
       "      <td>6.0</td>\n",
       "      <td>13.5</td>\n",
       "      <td>7</td>\n",
       "      <td>1</td>\n",
       "      <td>0</td>\n",
       "      <td>1</td>\n",
       "      <td>1</td>\n",
       "    </tr>\n",
       "    <tr>\n",
       "      <th>5</th>\n",
       "      <td>6</td>\n",
       "      <td>137</td>\n",
       "      <td>76</td>\n",
       "      <td>50</td>\n",
       "      <td>9.0</td>\n",
       "      <td>11.0</td>\n",
       "      <td>7</td>\n",
       "      <td>1</td>\n",
       "      <td>1</td>\n",
       "      <td>1</td>\n",
       "      <td>8</td>\n",
       "    </tr>\n",
       "    <tr>\n",
       "      <th>...</th>\n",
       "      <td>...</td>\n",
       "      <td>...</td>\n",
       "      <td>...</td>\n",
       "      <td>...</td>\n",
       "      <td>...</td>\n",
       "      <td>...</td>\n",
       "      <td>...</td>\n",
       "      <td>...</td>\n",
       "      <td>...</td>\n",
       "      <td>...</td>\n",
       "      <td>...</td>\n",
       "    </tr>\n",
       "    <tr>\n",
       "      <th>2031</th>\n",
       "      <td>2032</td>\n",
       "      <td>97</td>\n",
       "      <td>63</td>\n",
       "      <td>44</td>\n",
       "      <td>7.0</td>\n",
       "      <td>11.5</td>\n",
       "      <td>5</td>\n",
       "      <td>1</td>\n",
       "      <td>0</td>\n",
       "      <td>0</td>\n",
       "      <td>6</td>\n",
       "    </tr>\n",
       "    <tr>\n",
       "      <th>2033</th>\n",
       "      <td>2034</td>\n",
       "      <td>180</td>\n",
       "      <td>79</td>\n",
       "      <td>45</td>\n",
       "      <td>10.0</td>\n",
       "      <td>8.0</td>\n",
       "      <td>15</td>\n",
       "      <td>1</td>\n",
       "      <td>0</td>\n",
       "      <td>1</td>\n",
       "      <td>1</td>\n",
       "    </tr>\n",
       "    <tr>\n",
       "      <th>2034</th>\n",
       "      <td>2035</td>\n",
       "      <td>110</td>\n",
       "      <td>77</td>\n",
       "      <td>47</td>\n",
       "      <td>10.0</td>\n",
       "      <td>13.0</td>\n",
       "      <td>10</td>\n",
       "      <td>1</td>\n",
       "      <td>0</td>\n",
       "      <td>1</td>\n",
       "      <td>5</td>\n",
       "    </tr>\n",
       "    <tr>\n",
       "      <th>2037</th>\n",
       "      <td>2038</td>\n",
       "      <td>95</td>\n",
       "      <td>60</td>\n",
       "      <td>46</td>\n",
       "      <td>5.0</td>\n",
       "      <td>10.5</td>\n",
       "      <td>5</td>\n",
       "      <td>1</td>\n",
       "      <td>0</td>\n",
       "      <td>1</td>\n",
       "      <td>7</td>\n",
       "    </tr>\n",
       "    <tr>\n",
       "      <th>2039</th>\n",
       "      <td>2040</td>\n",
       "      <td>103</td>\n",
       "      <td>64</td>\n",
       "      <td>45</td>\n",
       "      <td>7.0</td>\n",
       "      <td>15.5</td>\n",
       "      <td>5</td>\n",
       "      <td>1</td>\n",
       "      <td>0</td>\n",
       "      <td>1</td>\n",
       "      <td>1</td>\n",
       "    </tr>\n",
       "  </tbody>\n",
       "</table>\n",
       "<p>1399 rows × 11 columns</p>\n",
       "</div>"
      ],
      "text/plain": [
       "         n  price  totsp  livesp  kitsp  dist  metrdist  walk  brick  floor  \\\n",
       "0        1     81     58      40    6.0  12.5         7     1      1      1   \n",
       "1        2     75     44      28    6.0  13.5         7     1      0      1   \n",
       "2        3    128     70      42    6.0  14.5         3     1      1      1   \n",
       "3        4     95     61      37    6.0  13.5         7     1      0      1   \n",
       "5        6    137     76      50    9.0  11.0         7     1      1      1   \n",
       "...    ...    ...    ...     ...    ...   ...       ...   ...    ...    ...   \n",
       "2031  2032     97     63      44    7.0  11.5         5     1      0      0   \n",
       "2033  2034    180     79      45   10.0   8.0        15     1      0      1   \n",
       "2034  2035    110     77      47   10.0  13.0        10     1      0      1   \n",
       "2037  2038     95     60      46    5.0  10.5         5     1      0      1   \n",
       "2039  2040    103     64      45    7.0  15.5         5     1      0      1   \n",
       "\n",
       "      code  \n",
       "0        3  \n",
       "1        6  \n",
       "2        3  \n",
       "3        1  \n",
       "5        8  \n",
       "...    ...  \n",
       "2031     6  \n",
       "2033     1  \n",
       "2034     5  \n",
       "2037     7  \n",
       "2039     1  \n",
       "\n",
       "[1399 rows x 11 columns]"
      ]
     },
     "execution_count": 8,
     "metadata": {},
     "output_type": "execute_result"
    }
   ],
   "source": [
    "metro_flats = flats[flats[\"walk\"] == 1]\n",
    "metro_flats"
   ]
  },
  {
   "cell_type": "code",
   "execution_count": 22,
   "id": "5b4042c6-e6a1-4e51-b918-65bf230ca583",
   "metadata": {},
   "outputs": [
    {
     "data": {
      "text/plain": [
       "<Axes: xlabel='metrdist', ylabel='price'>"
      ]
     },
     "execution_count": 22,
     "metadata": {},
     "output_type": "execute_result"
    },
    {
     "data": {
      "image/png": "[encoded data removed]",
      "text/plain": [
       "<Figure size 640x480 with 1 Axes>"
      ]
     },
     "metadata": {},
     "output_type": "display_data"
    }
   ],
   "source": [
    "metro_flats.plot(\"metrdist\", \"price\", kind=\"scatter\")"
   ]
  },
  {
   "cell_type": "code",
   "execution_count": 23,
   "id": "1e203879-0fb7-4c02-90e4-ad9f7700c5a1",
   "metadata": {},
   "outputs": [
    {
     "data": {
      "text/plain": [
       "metrdist\n",
       "1     171.358974\n",
       "2     151.571429\n",
       "3     152.896552\n",
       "4     153.500000\n",
       "5     137.107143\n",
       "6     141.666667\n",
       "7     124.819149\n",
       "8     130.666667\n",
       "9      90.000000\n",
       "10    126.884793\n",
       "12    116.233333\n",
       "15    122.931937\n",
       "20    137.333333\n",
       "Name: price, dtype: float64"
      ]
     },
     "execution_count": 23,
     "metadata": {},
     "output_type": "execute_result"
    }
   ],
   "source": [
    "metro_flats.groupby(\"metrdist\")[\"price\"].mean()"
   ]
  },
  {
   "cell_type": "code",
   "execution_count": 26,
   "id": "1f32d56a-ae5d-4cc1-af65-aee7e37aa249",
   "metadata": {},
   "outputs": [
    {
     "data": {
      "text/plain": [
       "<Axes: xlabel='metrdist'>"
      ]
     },
     "execution_count": 26,
     "metadata": {},
     "output_type": "execute_result"
    },
    {
     "data": {
      "image/png": "[encoded data removed]",
      "text/plain": [
       "<Figure size 640x480 with 1 Axes>"
      ]
     },
     "metadata": {},
     "output_type": "display_data"
    }
   ],
   "source": [
    "dist_grouped = metro_flats.groupby(\"metrdist\")[\"price\"].mean()\n",
    "\n",
    "dist_grouped.plot()"
   ]
  },
  {
   "cell_type": "markdown",
   "id": "2b875fef-d199-416c-b6dc-f19376e73a8b",
   "metadata": {},
   "source": [
    "## 20-22 про Макдональдс"
   ]
  },
  {
   "cell_type": "code",
   "execution_count": 28,
   "id": "cdac10c6-efb4-4491-be3d-3738d158e4b1",
   "metadata": {},
   "outputs": [
    {
     "data": {
      "text/html": [
       "<div>\n",
       "<style scoped>\n",
       "    .dataframe tbody tr th:only-of-type {\n",
       "        vertical-align: middle;\n",
       "    }\n",
       "\n",
       "    .dataframe tbody tr th {\n",
       "        vertical-align: top;\n",
       "    }\n",
       "\n",
       "    .dataframe thead th {\n",
       "        text-align: right;\n",
       "    }\n",
       "</style>\n",
       "<table border=\"1\" class=\"dataframe\">\n",
       "  <thead>\n",
       "    <tr style=\"text-align: right;\">\n",
       "      <th></th>\n",
       "      <th>category</th>\n",
       "      <th>item</th>\n",
       "      <th>calories</th>\n",
       "      <th>total_fat</th>\n",
       "      <th>calcium</th>\n",
       "      <th>sugars</th>\n",
       "      <th>protein</th>\n",
       "    </tr>\n",
       "  </thead>\n",
       "  <tbody>\n",
       "    <tr>\n",
       "      <th>0</th>\n",
       "      <td>Breakfast</td>\n",
       "      <td>Egg McMuffin</td>\n",
       "      <td>300</td>\n",
       "      <td>20</td>\n",
       "      <td>25</td>\n",
       "      <td>3</td>\n",
       "      <td>17</td>\n",
       "    </tr>\n",
       "    <tr>\n",
       "      <th>1</th>\n",
       "      <td>Breakfast</td>\n",
       "      <td>Egg White Delight</td>\n",
       "      <td>250</td>\n",
       "      <td>12</td>\n",
       "      <td>25</td>\n",
       "      <td>3</td>\n",
       "      <td>18</td>\n",
       "    </tr>\n",
       "    <tr>\n",
       "      <th>2</th>\n",
       "      <td>Breakfast</td>\n",
       "      <td>Sausage McMuffin</td>\n",
       "      <td>370</td>\n",
       "      <td>35</td>\n",
       "      <td>25</td>\n",
       "      <td>2</td>\n",
       "      <td>14</td>\n",
       "    </tr>\n",
       "    <tr>\n",
       "      <th>3</th>\n",
       "      <td>Breakfast</td>\n",
       "      <td>Sausage McMuffin with Egg</td>\n",
       "      <td>450</td>\n",
       "      <td>43</td>\n",
       "      <td>30</td>\n",
       "      <td>2</td>\n",
       "      <td>21</td>\n",
       "    </tr>\n",
       "    <tr>\n",
       "      <th>4</th>\n",
       "      <td>Breakfast</td>\n",
       "      <td>Sausage McMuffin with Egg Whites</td>\n",
       "      <td>400</td>\n",
       "      <td>35</td>\n",
       "      <td>25</td>\n",
       "      <td>2</td>\n",
       "      <td>21</td>\n",
       "    </tr>\n",
       "    <tr>\n",
       "      <th>...</th>\n",
       "      <td>...</td>\n",
       "      <td>...</td>\n",
       "      <td>...</td>\n",
       "      <td>...</td>\n",
       "      <td>...</td>\n",
       "      <td>...</td>\n",
       "      <td>...</td>\n",
       "    </tr>\n",
       "    <tr>\n",
       "      <th>255</th>\n",
       "      <td>Smoothies &amp; Shakes</td>\n",
       "      <td>McFlurry with Oreo Cookies (Small)</td>\n",
       "      <td>510</td>\n",
       "      <td>26</td>\n",
       "      <td>40</td>\n",
       "      <td>64</td>\n",
       "      <td>12</td>\n",
       "    </tr>\n",
       "    <tr>\n",
       "      <th>256</th>\n",
       "      <td>Smoothies &amp; Shakes</td>\n",
       "      <td>McFlurry with Oreo Cookies (Medium)</td>\n",
       "      <td>690</td>\n",
       "      <td>35</td>\n",
       "      <td>50</td>\n",
       "      <td>85</td>\n",
       "      <td>15</td>\n",
       "    </tr>\n",
       "    <tr>\n",
       "      <th>257</th>\n",
       "      <td>Smoothies &amp; Shakes</td>\n",
       "      <td>McFlurry with Oreo Cookies (Snack)</td>\n",
       "      <td>340</td>\n",
       "      <td>17</td>\n",
       "      <td>25</td>\n",
       "      <td>43</td>\n",
       "      <td>8</td>\n",
       "    </tr>\n",
       "    <tr>\n",
       "      <th>258</th>\n",
       "      <td>Smoothies &amp; Shakes</td>\n",
       "      <td>McFlurry with Reese's Peanut Butter Cups (Medium)</td>\n",
       "      <td>810</td>\n",
       "      <td>50</td>\n",
       "      <td>60</td>\n",
       "      <td>103</td>\n",
       "      <td>21</td>\n",
       "    </tr>\n",
       "    <tr>\n",
       "      <th>259</th>\n",
       "      <td>Smoothies &amp; Shakes</td>\n",
       "      <td>McFlurry with Reese's Peanut Butter Cups (Snack)</td>\n",
       "      <td>410</td>\n",
       "      <td>25</td>\n",
       "      <td>30</td>\n",
       "      <td>51</td>\n",
       "      <td>10</td>\n",
       "    </tr>\n",
       "  </tbody>\n",
       "</table>\n",
       "<p>260 rows × 7 columns</p>\n",
       "</div>"
      ],
      "text/plain": [
       "               category                                               item  \\\n",
       "0             Breakfast                                       Egg McMuffin   \n",
       "1             Breakfast                                  Egg White Delight   \n",
       "2             Breakfast                                   Sausage McMuffin   \n",
       "3             Breakfast                          Sausage McMuffin with Egg   \n",
       "4             Breakfast                   Sausage McMuffin with Egg Whites   \n",
       "..                  ...                                                ...   \n",
       "255  Smoothies & Shakes                 McFlurry with Oreo Cookies (Small)   \n",
       "256  Smoothies & Shakes                McFlurry with Oreo Cookies (Medium)   \n",
       "257  Smoothies & Shakes                 McFlurry with Oreo Cookies (Snack)   \n",
       "258  Smoothies & Shakes  McFlurry with Reese's Peanut Butter Cups (Medium)   \n",
       "259  Smoothies & Shakes   McFlurry with Reese's Peanut Butter Cups (Snack)   \n",
       "\n",
       "     calories  total_fat  calcium  sugars  protein  \n",
       "0         300         20       25       3       17  \n",
       "1         250         12       25       3       18  \n",
       "2         370         35       25       2       14  \n",
       "3         450         43       30       2       21  \n",
       "4         400         35       25       2       21  \n",
       "..        ...        ...      ...     ...      ...  \n",
       "255       510         26       40      64       12  \n",
       "256       690         35       50      85       15  \n",
       "257       340         17       25      43        8  \n",
       "258       810         50       60     103       21  \n",
       "259       410         25       30      51       10  \n",
       "\n",
       "[260 rows x 7 columns]"
      ]
     },
     "execution_count": 28,
     "metadata": {},
     "output_type": "execute_result"
    }
   ],
   "source": [
    "mac = pd.read_csv(\"mcdonalds.csv\")\n",
    "mac"
   ]
  },
  {
   "cell_type": "code",
   "execution_count": 29,
   "id": "47d114ff-9a5e-4bbc-a9e5-2c832ba86a9d",
   "metadata": {},
   "outputs": [
    {
     "data": {
      "text/html": [
       "<div>\n",
       "<style scoped>\n",
       "    .dataframe tbody tr th:only-of-type {\n",
       "        vertical-align: middle;\n",
       "    }\n",
       "\n",
       "    .dataframe tbody tr th {\n",
       "        vertical-align: top;\n",
       "    }\n",
       "\n",
       "    .dataframe thead th {\n",
       "        text-align: right;\n",
       "    }\n",
       "</style>\n",
       "<table border=\"1\" class=\"dataframe\">\n",
       "  <thead>\n",
       "    <tr style=\"text-align: right;\">\n",
       "      <th></th>\n",
       "      <th>calories</th>\n",
       "      <th>total_fat</th>\n",
       "      <th>calcium</th>\n",
       "      <th>sugars</th>\n",
       "      <th>protein</th>\n",
       "    </tr>\n",
       "  </thead>\n",
       "  <tbody>\n",
       "    <tr>\n",
       "      <th>count</th>\n",
       "      <td>260.000000</td>\n",
       "      <td>260.000000</td>\n",
       "      <td>260.000000</td>\n",
       "      <td>260.000000</td>\n",
       "      <td>260.000000</td>\n",
       "    </tr>\n",
       "    <tr>\n",
       "      <th>mean</th>\n",
       "      <td>368.269231</td>\n",
       "      <td>21.815385</td>\n",
       "      <td>20.973077</td>\n",
       "      <td>29.423077</td>\n",
       "      <td>13.338462</td>\n",
       "    </tr>\n",
       "    <tr>\n",
       "      <th>std</th>\n",
       "      <td>240.269886</td>\n",
       "      <td>21.885199</td>\n",
       "      <td>17.019953</td>\n",
       "      <td>28.679797</td>\n",
       "      <td>11.426146</td>\n",
       "    </tr>\n",
       "    <tr>\n",
       "      <th>min</th>\n",
       "      <td>0.000000</td>\n",
       "      <td>0.000000</td>\n",
       "      <td>0.000000</td>\n",
       "      <td>0.000000</td>\n",
       "      <td>0.000000</td>\n",
       "    </tr>\n",
       "    <tr>\n",
       "      <th>25%</th>\n",
       "      <td>210.000000</td>\n",
       "      <td>3.750000</td>\n",
       "      <td>6.000000</td>\n",
       "      <td>5.750000</td>\n",
       "      <td>4.000000</td>\n",
       "    </tr>\n",
       "    <tr>\n",
       "      <th>50%</th>\n",
       "      <td>340.000000</td>\n",
       "      <td>17.000000</td>\n",
       "      <td>20.000000</td>\n",
       "      <td>17.500000</td>\n",
       "      <td>12.000000</td>\n",
       "    </tr>\n",
       "    <tr>\n",
       "      <th>75%</th>\n",
       "      <td>500.000000</td>\n",
       "      <td>35.000000</td>\n",
       "      <td>30.000000</td>\n",
       "      <td>48.000000</td>\n",
       "      <td>19.000000</td>\n",
       "    </tr>\n",
       "    <tr>\n",
       "      <th>max</th>\n",
       "      <td>1880.000000</td>\n",
       "      <td>182.000000</td>\n",
       "      <td>70.000000</td>\n",
       "      <td>128.000000</td>\n",
       "      <td>87.000000</td>\n",
       "    </tr>\n",
       "  </tbody>\n",
       "</table>\n",
       "</div>"
      ],
      "text/plain": [
       "          calories   total_fat     calcium      sugars     protein\n",
       "count   260.000000  260.000000  260.000000  260.000000  260.000000\n",
       "mean    368.269231   21.815385   20.973077   29.423077   13.338462\n",
       "std     240.269886   21.885199   17.019953   28.679797   11.426146\n",
       "min       0.000000    0.000000    0.000000    0.000000    0.000000\n",
       "25%     210.000000    3.750000    6.000000    5.750000    4.000000\n",
       "50%     340.000000   17.000000   20.000000   17.500000   12.000000\n",
       "75%     500.000000   35.000000   30.000000   48.000000   19.000000\n",
       "max    1880.000000  182.000000   70.000000  128.000000   87.000000"
      ]
     },
     "execution_count": 29,
     "metadata": {},
     "output_type": "execute_result"
    }
   ],
   "source": [
    "mac.describe()"
   ]
  },
  {
   "cell_type": "markdown",
   "id": "9583235a-bb51-4738-9235-cba65da38fca",
   "metadata": {},
   "source": [
    "Межквартильный интервал, interquartile range (IQR) это $3\\ \\text{квантиль (75\\% перцентиль)} - 1\\ \\text{квантиль (25\\% перцентиль)}$"
   ]
  },
  {
   "cell_type": "code",
   "execution_count": 33,
   "id": "28ce53c0-a4e0-4046-b293-614e60dd470a",
   "metadata": {},
   "outputs": [
    {
     "data": {
      "text/plain": [
       "15.0"
      ]
     },
     "execution_count": 33,
     "metadata": {},
     "output_type": "execute_result"
    }
   ],
   "source": [
    "mac[\"protein\"].quantile(0.75) - mac[\"protein\"].quantile(0.25)"
   ]
  },
  {
   "cell_type": "markdown",
   "id": "c4618379-5f1a-4463-8c08-4b16273ca28c",
   "metadata": {},
   "source": [
    "Медиана — второй квартиль, 50% перцентиль, — делит (отсортированную по возрастанию) выборку пополам"
   ]
  },
  {
   "cell_type": "code",
   "execution_count": 34,
   "id": "8170a2df-7ce8-4884-b6f8-22a5323fad2a",
   "metadata": {},
   "outputs": [
    {
     "data": {
      "text/plain": [
       "17.0"
      ]
     },
     "execution_count": 34,
     "metadata": {},
     "output_type": "execute_result"
    }
   ],
   "source": [
    "mac[\"total_fat\"].quantile(0.5)"
   ]
  },
  {
   "cell_type": "markdown",
   "id": "23cc1144-66c7-419e-8730-d9e63c3cbcd0",
   "metadata": {},
   "source": [
    "### Напоминание о квартилях и перцентилях"
   ]
  },
  {
   "cell_type": "markdown",
   "id": "3a607cba-af99-4204-985b-89edb5b0858e",
   "metadata": {},
   "source": [
    "99% перцентиль: 99% продуктов содержат меньше 41.64 белков, а 1% — больше"
   ]
  },
  {
   "cell_type": "code",
   "execution_count": 32,
   "id": "d3cebb66-104d-4645-9a08-0eafbe193752",
   "metadata": {},
   "outputs": [
    {
     "data": {
      "text/plain": [
       "41.6400000000001"
      ]
     },
     "execution_count": 32,
     "metadata": {},
     "output_type": "execute_result"
    }
   ],
   "source": [
    "mac[\"protein\"].quantile(0.99)"
   ]
  },
  {
   "cell_type": "markdown",
   "id": "070cb384-db5b-40c1-8ebe-ee913f129c1f",
   "metadata": {},
   "source": [
    "### По категориям"
   ]
  },
  {
   "cell_type": "code",
   "execution_count": 35,
   "id": "94ef9b6d-2fb0-4c96-b023-492440ddbfe0",
   "metadata": {},
   "outputs": [
    {
     "data": {
      "text/plain": [
       "0       True\n",
       "1       True\n",
       "2       True\n",
       "3       True\n",
       "4       True\n",
       "       ...  \n",
       "255    False\n",
       "256    False\n",
       "257    False\n",
       "258    False\n",
       "259    False\n",
       "Name: category, Length: 260, dtype: bool"
      ]
     },
     "execution_count": 35,
     "metadata": {},
     "output_type": "execute_result"
    }
   ],
   "source": [
    "mac[\"category\"] == \"Breakfast\""
   ]
  },
  {
   "cell_type": "code",
   "execution_count": 38,
   "id": "e85c3259-fa89-466a-b474-1d9bcacb6494",
   "metadata": {},
   "outputs": [
    {
     "data": {
      "text/html": [
       "<div>\n",
       "<style scoped>\n",
       "    .dataframe tbody tr th:only-of-type {\n",
       "        vertical-align: middle;\n",
       "    }\n",
       "\n",
       "    .dataframe tbody tr th {\n",
       "        vertical-align: top;\n",
       "    }\n",
       "\n",
       "    .dataframe thead th {\n",
       "        text-align: right;\n",
       "    }\n",
       "</style>\n",
       "<table border=\"1\" class=\"dataframe\">\n",
       "  <thead>\n",
       "    <tr style=\"text-align: right;\">\n",
       "      <th></th>\n",
       "      <th>category</th>\n",
       "      <th>item</th>\n",
       "      <th>calories</th>\n",
       "      <th>total_fat</th>\n",
       "      <th>calcium</th>\n",
       "      <th>sugars</th>\n",
       "      <th>protein</th>\n",
       "    </tr>\n",
       "  </thead>\n",
       "  <tbody>\n",
       "    <tr>\n",
       "      <th>0</th>\n",
       "      <td>Breakfast</td>\n",
       "      <td>Egg McMuffin</td>\n",
       "      <td>300</td>\n",
       "      <td>20</td>\n",
       "      <td>25</td>\n",
       "      <td>3</td>\n",
       "      <td>17</td>\n",
       "    </tr>\n",
       "    <tr>\n",
       "      <th>1</th>\n",
       "      <td>Breakfast</td>\n",
       "      <td>Egg White Delight</td>\n",
       "      <td>250</td>\n",
       "      <td>12</td>\n",
       "      <td>25</td>\n",
       "      <td>3</td>\n",
       "      <td>18</td>\n",
       "    </tr>\n",
       "    <tr>\n",
       "      <th>2</th>\n",
       "      <td>Breakfast</td>\n",
       "      <td>Sausage McMuffin</td>\n",
       "      <td>370</td>\n",
       "      <td>35</td>\n",
       "      <td>25</td>\n",
       "      <td>2</td>\n",
       "      <td>14</td>\n",
       "    </tr>\n",
       "    <tr>\n",
       "      <th>3</th>\n",
       "      <td>Breakfast</td>\n",
       "      <td>Sausage McMuffin with Egg</td>\n",
       "      <td>450</td>\n",
       "      <td>43</td>\n",
       "      <td>30</td>\n",
       "      <td>2</td>\n",
       "      <td>21</td>\n",
       "    </tr>\n",
       "    <tr>\n",
       "      <th>4</th>\n",
       "      <td>Breakfast</td>\n",
       "      <td>Sausage McMuffin with Egg Whites</td>\n",
       "      <td>400</td>\n",
       "      <td>35</td>\n",
       "      <td>25</td>\n",
       "      <td>2</td>\n",
       "      <td>21</td>\n",
       "    </tr>\n",
       "    <tr>\n",
       "      <th>5</th>\n",
       "      <td>Breakfast</td>\n",
       "      <td>Steak &amp; Egg McMuffin</td>\n",
       "      <td>430</td>\n",
       "      <td>36</td>\n",
       "      <td>30</td>\n",
       "      <td>3</td>\n",
       "      <td>26</td>\n",
       "    </tr>\n",
       "    <tr>\n",
       "      <th>6</th>\n",
       "      <td>Breakfast</td>\n",
       "      <td>Bacon, Egg &amp; Cheese Biscuit (Regular Biscuit)</td>\n",
       "      <td>460</td>\n",
       "      <td>40</td>\n",
       "      <td>15</td>\n",
       "      <td>3</td>\n",
       "      <td>19</td>\n",
       "    </tr>\n",
       "    <tr>\n",
       "      <th>7</th>\n",
       "      <td>Breakfast</td>\n",
       "      <td>Bacon, Egg &amp; Cheese Biscuit (Large Biscuit)</td>\n",
       "      <td>520</td>\n",
       "      <td>47</td>\n",
       "      <td>20</td>\n",
       "      <td>4</td>\n",
       "      <td>19</td>\n",
       "    </tr>\n",
       "    <tr>\n",
       "      <th>8</th>\n",
       "      <td>Breakfast</td>\n",
       "      <td>Bacon, Egg &amp; Cheese Biscuit with Egg Whites (R...</td>\n",
       "      <td>410</td>\n",
       "      <td>32</td>\n",
       "      <td>15</td>\n",
       "      <td>3</td>\n",
       "      <td>20</td>\n",
       "    </tr>\n",
       "    <tr>\n",
       "      <th>9</th>\n",
       "      <td>Breakfast</td>\n",
       "      <td>Bacon, Egg &amp; Cheese Biscuit with Egg Whites (L...</td>\n",
       "      <td>470</td>\n",
       "      <td>38</td>\n",
       "      <td>15</td>\n",
       "      <td>4</td>\n",
       "      <td>20</td>\n",
       "    </tr>\n",
       "    <tr>\n",
       "      <th>10</th>\n",
       "      <td>Breakfast</td>\n",
       "      <td>Sausage Biscuit (Regular Biscuit)</td>\n",
       "      <td>430</td>\n",
       "      <td>42</td>\n",
       "      <td>6</td>\n",
       "      <td>2</td>\n",
       "      <td>11</td>\n",
       "    </tr>\n",
       "    <tr>\n",
       "      <th>11</th>\n",
       "      <td>Breakfast</td>\n",
       "      <td>Sausage Biscuit (Large Biscuit)</td>\n",
       "      <td>480</td>\n",
       "      <td>48</td>\n",
       "      <td>8</td>\n",
       "      <td>3</td>\n",
       "      <td>11</td>\n",
       "    </tr>\n",
       "    <tr>\n",
       "      <th>12</th>\n",
       "      <td>Breakfast</td>\n",
       "      <td>Sausage Biscuit with Egg (Regular Biscuit)</td>\n",
       "      <td>510</td>\n",
       "      <td>50</td>\n",
       "      <td>10</td>\n",
       "      <td>2</td>\n",
       "      <td>18</td>\n",
       "    </tr>\n",
       "    <tr>\n",
       "      <th>13</th>\n",
       "      <td>Breakfast</td>\n",
       "      <td>Sausage Biscuit with Egg (Large Biscuit)</td>\n",
       "      <td>570</td>\n",
       "      <td>57</td>\n",
       "      <td>10</td>\n",
       "      <td>3</td>\n",
       "      <td>18</td>\n",
       "    </tr>\n",
       "    <tr>\n",
       "      <th>14</th>\n",
       "      <td>Breakfast</td>\n",
       "      <td>Sausage Biscuit with Egg Whites (Regular Biscuit)</td>\n",
       "      <td>460</td>\n",
       "      <td>42</td>\n",
       "      <td>8</td>\n",
       "      <td>3</td>\n",
       "      <td>18</td>\n",
       "    </tr>\n",
       "    <tr>\n",
       "      <th>15</th>\n",
       "      <td>Breakfast</td>\n",
       "      <td>Sausage Biscuit with Egg Whites (Large Biscuit)</td>\n",
       "      <td>520</td>\n",
       "      <td>49</td>\n",
       "      <td>8</td>\n",
       "      <td>3</td>\n",
       "      <td>18</td>\n",
       "    </tr>\n",
       "    <tr>\n",
       "      <th>16</th>\n",
       "      <td>Breakfast</td>\n",
       "      <td>Southern Style Chicken Biscuit (Regular Biscuit)</td>\n",
       "      <td>410</td>\n",
       "      <td>31</td>\n",
       "      <td>6</td>\n",
       "      <td>3</td>\n",
       "      <td>17</td>\n",
       "    </tr>\n",
       "    <tr>\n",
       "      <th>17</th>\n",
       "      <td>Breakfast</td>\n",
       "      <td>Southern Style Chicken Biscuit (Large Biscuit)</td>\n",
       "      <td>470</td>\n",
       "      <td>37</td>\n",
       "      <td>8</td>\n",
       "      <td>4</td>\n",
       "      <td>17</td>\n",
       "    </tr>\n",
       "    <tr>\n",
       "      <th>18</th>\n",
       "      <td>Breakfast</td>\n",
       "      <td>Steak &amp; Egg Biscuit (Regular Biscuit)</td>\n",
       "      <td>540</td>\n",
       "      <td>49</td>\n",
       "      <td>20</td>\n",
       "      <td>3</td>\n",
       "      <td>25</td>\n",
       "    </tr>\n",
       "    <tr>\n",
       "      <th>19</th>\n",
       "      <td>Breakfast</td>\n",
       "      <td>Bacon, Egg &amp; Cheese McGriddles</td>\n",
       "      <td>460</td>\n",
       "      <td>32</td>\n",
       "      <td>20</td>\n",
       "      <td>15</td>\n",
       "      <td>19</td>\n",
       "    </tr>\n",
       "    <tr>\n",
       "      <th>20</th>\n",
       "      <td>Breakfast</td>\n",
       "      <td>Bacon, Egg &amp; Cheese McGriddles with Egg Whites</td>\n",
       "      <td>400</td>\n",
       "      <td>24</td>\n",
       "      <td>15</td>\n",
       "      <td>16</td>\n",
       "      <td>20</td>\n",
       "    </tr>\n",
       "    <tr>\n",
       "      <th>21</th>\n",
       "      <td>Breakfast</td>\n",
       "      <td>Sausage McGriddles</td>\n",
       "      <td>420</td>\n",
       "      <td>34</td>\n",
       "      <td>8</td>\n",
       "      <td>15</td>\n",
       "      <td>11</td>\n",
       "    </tr>\n",
       "    <tr>\n",
       "      <th>22</th>\n",
       "      <td>Breakfast</td>\n",
       "      <td>Sausage, Egg &amp; Cheese McGriddles</td>\n",
       "      <td>550</td>\n",
       "      <td>48</td>\n",
       "      <td>20</td>\n",
       "      <td>15</td>\n",
       "      <td>20</td>\n",
       "    </tr>\n",
       "    <tr>\n",
       "      <th>23</th>\n",
       "      <td>Breakfast</td>\n",
       "      <td>Sausage, Egg &amp; Cheese McGriddles with Egg Whites</td>\n",
       "      <td>500</td>\n",
       "      <td>40</td>\n",
       "      <td>20</td>\n",
       "      <td>15</td>\n",
       "      <td>21</td>\n",
       "    </tr>\n",
       "    <tr>\n",
       "      <th>24</th>\n",
       "      <td>Breakfast</td>\n",
       "      <td>Bacon, Egg &amp; Cheese Bagel</td>\n",
       "      <td>620</td>\n",
       "      <td>48</td>\n",
       "      <td>20</td>\n",
       "      <td>7</td>\n",
       "      <td>30</td>\n",
       "    </tr>\n",
       "    <tr>\n",
       "      <th>25</th>\n",
       "      <td>Breakfast</td>\n",
       "      <td>Bacon, Egg &amp; Cheese Bagel with Egg Whites</td>\n",
       "      <td>570</td>\n",
       "      <td>39</td>\n",
       "      <td>20</td>\n",
       "      <td>8</td>\n",
       "      <td>30</td>\n",
       "    </tr>\n",
       "    <tr>\n",
       "      <th>26</th>\n",
       "      <td>Breakfast</td>\n",
       "      <td>Steak, Egg &amp; Cheese Bagel</td>\n",
       "      <td>670</td>\n",
       "      <td>53</td>\n",
       "      <td>25</td>\n",
       "      <td>7</td>\n",
       "      <td>33</td>\n",
       "    </tr>\n",
       "    <tr>\n",
       "      <th>27</th>\n",
       "      <td>Breakfast</td>\n",
       "      <td>Big Breakfast (Regular Biscuit)</td>\n",
       "      <td>740</td>\n",
       "      <td>73</td>\n",
       "      <td>15</td>\n",
       "      <td>3</td>\n",
       "      <td>28</td>\n",
       "    </tr>\n",
       "    <tr>\n",
       "      <th>28</th>\n",
       "      <td>Breakfast</td>\n",
       "      <td>Big Breakfast (Large Biscuit)</td>\n",
       "      <td>800</td>\n",
       "      <td>80</td>\n",
       "      <td>15</td>\n",
       "      <td>3</td>\n",
       "      <td>28</td>\n",
       "    </tr>\n",
       "    <tr>\n",
       "      <th>29</th>\n",
       "      <td>Breakfast</td>\n",
       "      <td>Big Breakfast with Egg Whites (Regular Biscuit)</td>\n",
       "      <td>640</td>\n",
       "      <td>57</td>\n",
       "      <td>10</td>\n",
       "      <td>3</td>\n",
       "      <td>26</td>\n",
       "    </tr>\n",
       "    <tr>\n",
       "      <th>30</th>\n",
       "      <td>Breakfast</td>\n",
       "      <td>Big Breakfast with Egg Whites (Large Biscuit)</td>\n",
       "      <td>690</td>\n",
       "      <td>63</td>\n",
       "      <td>10</td>\n",
       "      <td>4</td>\n",
       "      <td>26</td>\n",
       "    </tr>\n",
       "    <tr>\n",
       "      <th>31</th>\n",
       "      <td>Breakfast</td>\n",
       "      <td>Big Breakfast with Hotcakes (Regular Biscuit)</td>\n",
       "      <td>1090</td>\n",
       "      <td>87</td>\n",
       "      <td>25</td>\n",
       "      <td>17</td>\n",
       "      <td>36</td>\n",
       "    </tr>\n",
       "    <tr>\n",
       "      <th>32</th>\n",
       "      <td>Breakfast</td>\n",
       "      <td>Big Breakfast with Hotcakes (Large Biscuit)</td>\n",
       "      <td>1150</td>\n",
       "      <td>93</td>\n",
       "      <td>30</td>\n",
       "      <td>17</td>\n",
       "      <td>36</td>\n",
       "    </tr>\n",
       "    <tr>\n",
       "      <th>33</th>\n",
       "      <td>Breakfast</td>\n",
       "      <td>Big Breakfast with Hotcakes and Egg Whites (Re...</td>\n",
       "      <td>990</td>\n",
       "      <td>70</td>\n",
       "      <td>25</td>\n",
       "      <td>17</td>\n",
       "      <td>35</td>\n",
       "    </tr>\n",
       "    <tr>\n",
       "      <th>34</th>\n",
       "      <td>Breakfast</td>\n",
       "      <td>Big Breakfast with Hotcakes and Egg Whites (La...</td>\n",
       "      <td>1050</td>\n",
       "      <td>77</td>\n",
       "      <td>25</td>\n",
       "      <td>18</td>\n",
       "      <td>35</td>\n",
       "    </tr>\n",
       "    <tr>\n",
       "      <th>35</th>\n",
       "      <td>Breakfast</td>\n",
       "      <td>Hotcakes</td>\n",
       "      <td>350</td>\n",
       "      <td>13</td>\n",
       "      <td>15</td>\n",
       "      <td>14</td>\n",
       "      <td>8</td>\n",
       "    </tr>\n",
       "    <tr>\n",
       "      <th>36</th>\n",
       "      <td>Breakfast</td>\n",
       "      <td>Hotcakes and Sausage</td>\n",
       "      <td>520</td>\n",
       "      <td>37</td>\n",
       "      <td>15</td>\n",
       "      <td>14</td>\n",
       "      <td>15</td>\n",
       "    </tr>\n",
       "    <tr>\n",
       "      <th>37</th>\n",
       "      <td>Breakfast</td>\n",
       "      <td>Sausage Burrito</td>\n",
       "      <td>300</td>\n",
       "      <td>25</td>\n",
       "      <td>15</td>\n",
       "      <td>2</td>\n",
       "      <td>12</td>\n",
       "    </tr>\n",
       "    <tr>\n",
       "      <th>38</th>\n",
       "      <td>Breakfast</td>\n",
       "      <td>Hash Brown</td>\n",
       "      <td>150</td>\n",
       "      <td>14</td>\n",
       "      <td>0</td>\n",
       "      <td>0</td>\n",
       "      <td>1</td>\n",
       "    </tr>\n",
       "    <tr>\n",
       "      <th>39</th>\n",
       "      <td>Breakfast</td>\n",
       "      <td>Cinnamon Melts</td>\n",
       "      <td>460</td>\n",
       "      <td>30</td>\n",
       "      <td>6</td>\n",
       "      <td>32</td>\n",
       "      <td>6</td>\n",
       "    </tr>\n",
       "    <tr>\n",
       "      <th>40</th>\n",
       "      <td>Breakfast</td>\n",
       "      <td>Fruit &amp; Maple Oatmeal</td>\n",
       "      <td>290</td>\n",
       "      <td>6</td>\n",
       "      <td>10</td>\n",
       "      <td>32</td>\n",
       "      <td>5</td>\n",
       "    </tr>\n",
       "    <tr>\n",
       "      <th>41</th>\n",
       "      <td>Breakfast</td>\n",
       "      <td>Fruit &amp; Maple Oatmeal without Brown Sugar</td>\n",
       "      <td>260</td>\n",
       "      <td>6</td>\n",
       "      <td>6</td>\n",
       "      <td>18</td>\n",
       "      <td>5</td>\n",
       "    </tr>\n",
       "  </tbody>\n",
       "</table>\n",
       "</div>"
      ],
      "text/plain": [
       "     category                                               item  calories  \\\n",
       "0   Breakfast                                       Egg McMuffin       300   \n",
       "1   Breakfast                                  Egg White Delight       250   \n",
       "2   Breakfast                                   Sausage McMuffin       370   \n",
       "3   Breakfast                          Sausage McMuffin with Egg       450   \n",
       "4   Breakfast                   Sausage McMuffin with Egg Whites       400   \n",
       "5   Breakfast                               Steak & Egg McMuffin       430   \n",
       "6   Breakfast      Bacon, Egg & Cheese Biscuit (Regular Biscuit)       460   \n",
       "7   Breakfast        Bacon, Egg & Cheese Biscuit (Large Biscuit)       520   \n",
       "8   Breakfast  Bacon, Egg & Cheese Biscuit with Egg Whites (R...       410   \n",
       "9   Breakfast  Bacon, Egg & Cheese Biscuit with Egg Whites (L...       470   \n",
       "10  Breakfast                  Sausage Biscuit (Regular Biscuit)       430   \n",
       "11  Breakfast                    Sausage Biscuit (Large Biscuit)       480   \n",
       "12  Breakfast         Sausage Biscuit with Egg (Regular Biscuit)       510   \n",
       "13  Breakfast           Sausage Biscuit with Egg (Large Biscuit)       570   \n",
       "14  Breakfast  Sausage Biscuit with Egg Whites (Regular Biscuit)       460   \n",
       "15  Breakfast    Sausage Biscuit with Egg Whites (Large Biscuit)       520   \n",
       "16  Breakfast   Southern Style Chicken Biscuit (Regular Biscuit)       410   \n",
       "17  Breakfast     Southern Style Chicken Biscuit (Large Biscuit)       470   \n",
       "18  Breakfast              Steak & Egg Biscuit (Regular Biscuit)       540   \n",
       "19  Breakfast                     Bacon, Egg & Cheese McGriddles       460   \n",
       "20  Breakfast     Bacon, Egg & Cheese McGriddles with Egg Whites       400   \n",
       "21  Breakfast                                 Sausage McGriddles       420   \n",
       "22  Breakfast                   Sausage, Egg & Cheese McGriddles       550   \n",
       "23  Breakfast   Sausage, Egg & Cheese McGriddles with Egg Whites       500   \n",
       "24  Breakfast                          Bacon, Egg & Cheese Bagel       620   \n",
       "25  Breakfast          Bacon, Egg & Cheese Bagel with Egg Whites       570   \n",
       "26  Breakfast                          Steak, Egg & Cheese Bagel       670   \n",
       "27  Breakfast                    Big Breakfast (Regular Biscuit)       740   \n",
       "28  Breakfast                      Big Breakfast (Large Biscuit)       800   \n",
       "29  Breakfast    Big Breakfast with Egg Whites (Regular Biscuit)       640   \n",
       "30  Breakfast      Big Breakfast with Egg Whites (Large Biscuit)       690   \n",
       "31  Breakfast      Big Breakfast with Hotcakes (Regular Biscuit)      1090   \n",
       "32  Breakfast        Big Breakfast with Hotcakes (Large Biscuit)      1150   \n",
       "33  Breakfast  Big Breakfast with Hotcakes and Egg Whites (Re...       990   \n",
       "34  Breakfast  Big Breakfast with Hotcakes and Egg Whites (La...      1050   \n",
       "35  Breakfast                                           Hotcakes       350   \n",
       "36  Breakfast                               Hotcakes and Sausage       520   \n",
       "37  Breakfast                                    Sausage Burrito       300   \n",
       "38  Breakfast                                         Hash Brown       150   \n",
       "39  Breakfast                                     Cinnamon Melts       460   \n",
       "40  Breakfast                              Fruit & Maple Oatmeal       290   \n",
       "41  Breakfast          Fruit & Maple Oatmeal without Brown Sugar       260   \n",
       "\n",
       "    total_fat  calcium  sugars  protein  \n",
       "0          20       25       3       17  \n",
       "1          12       25       3       18  \n",
       "2          35       25       2       14  \n",
       "3          43       30       2       21  \n",
       "4          35       25       2       21  \n",
       "5          36       30       3       26  \n",
       "6          40       15       3       19  \n",
       "7          47       20       4       19  \n",
       "8          32       15       3       20  \n",
       "9          38       15       4       20  \n",
       "10         42        6       2       11  \n",
       "11         48        8       3       11  \n",
       "12         50       10       2       18  \n",
       "13         57       10       3       18  \n",
       "14         42        8       3       18  \n",
       "15         49        8       3       18  \n",
       "16         31        6       3       17  \n",
       "17         37        8       4       17  \n",
       "18         49       20       3       25  \n",
       "19         32       20      15       19  \n",
       "20         24       15      16       20  \n",
       "21         34        8      15       11  \n",
       "22         48       20      15       20  \n",
       "23         40       20      15       21  \n",
       "24         48       20       7       30  \n",
       "25         39       20       8       30  \n",
       "26         53       25       7       33  \n",
       "27         73       15       3       28  \n",
       "28         80       15       3       28  \n",
       "29         57       10       3       26  \n",
       "30         63       10       4       26  \n",
       "31         87       25      17       36  \n",
       "32         93       30      17       36  \n",
       "33         70       25      17       35  \n",
       "34         77       25      18       35  \n",
       "35         13       15      14        8  \n",
       "36         37       15      14       15  \n",
       "37         25       15       2       12  \n",
       "38         14        0       0        1  \n",
       "39         30        6      32        6  \n",
       "40          6       10      32        5  \n",
       "41          6        6      18        5  "
      ]
     },
     "execution_count": 38,
     "metadata": {},
     "output_type": "execute_result"
    }
   ],
   "source": [
    "mac[mac[\"category\"] == \"Breakfast\"]"
   ]
  },
  {
   "cell_type": "code",
   "execution_count": 40,
   "id": "13d57df3-7032-45a4-9b33-4d92789c6b75",
   "metadata": {},
   "outputs": [
    {
     "data": {
      "text/plain": [
       "526.6666666666666"
      ]
     },
     "execution_count": 40,
     "metadata": {},
     "output_type": "execute_result"
    }
   ],
   "source": [
    "mac[mac[\"category\"] == \"Breakfast\"][\"calories\"].mean()"
   ]
  },
  {
   "cell_type": "markdown",
   "id": "6a054318-f3b9-4fcb-96fb-05f2463598f1",
   "metadata": {},
   "source": [
    "можно сгруппировать!\n"
   ]
  },
  {
   "cell_type": "code",
   "execution_count": 42,
   "id": "af87253a-ce09-4bde-bc3a-67b0d95f1374",
   "metadata": {},
   "outputs": [
    {
     "data": {
      "text/plain": [
       "category\n",
       "Beef & Pork           494.000000\n",
       "Beverages             113.703704\n",
       "Breakfast             526.666667\n",
       "Chicken & Fish        552.962963\n",
       "Coffee & Tea          283.894737\n",
       "Desserts              222.142857\n",
       "Salads                270.000000\n",
       "Smoothies & Shakes    531.428571\n",
       "Snacks & Sides        245.769231\n",
       "Name: calories, dtype: float64"
      ]
     },
     "execution_count": 42,
     "metadata": {},
     "output_type": "execute_result"
    }
   ],
   "source": [
    "mac.groupby(\"category\")[\"calories\"].mean()"
   ]
  },
  {
   "cell_type": "code",
   "execution_count": 43,
   "id": "e9057f42-0c20-4590-bff2-61ae023faa7b",
   "metadata": {},
   "outputs": [
    {
     "data": {
      "text/plain": [
       "category\n",
       "Beef & Pork            5.916080\n",
       "Beverages              8.083609\n",
       "Breakfast              7.827147\n",
       "Chicken & Fish         8.550004\n",
       "Coffee & Tea          17.623651\n",
       "Desserts              11.282097\n",
       "Salads                 0.000000\n",
       "Smoothies & Shakes    21.753550\n",
       "Snacks & Sides         4.546061\n",
       "Name: calcium, dtype: float64"
      ]
     },
     "execution_count": 43,
     "metadata": {},
     "output_type": "execute_result"
    }
   ],
   "source": [
    "mac.groupby(\"category\")[\"calcium\"].std()"
   ]
  },
  {
   "cell_type": "code",
   "execution_count": 44,
   "id": "1edf5ae8-1934-40c6-813c-3dae743b532f",
   "metadata": {},
   "outputs": [
    {
     "data": {
      "text/plain": [
       "8.550003748687137"
      ]
     },
     "execution_count": 44,
     "metadata": {},
     "output_type": "execute_result"
    }
   ],
   "source": [
    "mac[mac[\"category\"] == \"Chicken & Fish\"][\"calcium\"].std()"
   ]
  },
  {
   "cell_type": "markdown",
   "id": "0459b53e-7211-4b2b-959f-6daae7d500ee",
   "metadata": {},
   "source": [
    "❓Найти категорию самого калорийного продукта"
   ]
  },
  {
   "cell_type": "code",
   "execution_count": 45,
   "id": "94fc9519-cae0-4e1f-9f15-e1b0ee0b637e",
   "metadata": {
    "scrolled": true
   },
   "outputs": [
    {
     "data": {
      "text/plain": [
       "category\n",
       "Beef & Pork            750\n",
       "Beverages              280\n",
       "Breakfast             1150\n",
       "Chicken & Fish        1880\n",
       "Coffee & Tea           760\n",
       "Desserts               340\n",
       "Salads                 450\n",
       "Smoothies & Shakes     930\n",
       "Snacks & Sides         510\n",
       "Name: calories, dtype: int64"
      ]
     },
     "execution_count": 45,
     "metadata": {},
     "output_type": "execute_result"
    }
   ],
   "source": [
    "mac.groupby(\"category\")[\"calories\"].max()"
   ]
  },
  {
   "cell_type": "code",
   "execution_count": 47,
   "id": "63715ff9-1556-4d3e-961e-4f048c6044c8",
   "metadata": {},
   "outputs": [
    {
     "data": {
      "text/html": [
       "<div>\n",
       "<style scoped>\n",
       "    .dataframe tbody tr th:only-of-type {\n",
       "        vertical-align: middle;\n",
       "    }\n",
       "\n",
       "    .dataframe tbody tr th {\n",
       "        vertical-align: top;\n",
       "    }\n",
       "\n",
       "    .dataframe thead th {\n",
       "        text-align: right;\n",
       "    }\n",
       "</style>\n",
       "<table border=\"1\" class=\"dataframe\">\n",
       "  <thead>\n",
       "    <tr style=\"text-align: right;\">\n",
       "      <th></th>\n",
       "      <th>category</th>\n",
       "      <th>item</th>\n",
       "      <th>calories</th>\n",
       "      <th>total_fat</th>\n",
       "      <th>calcium</th>\n",
       "      <th>sugars</th>\n",
       "      <th>protein</th>\n",
       "    </tr>\n",
       "  </thead>\n",
       "  <tbody>\n",
       "    <tr>\n",
       "      <th>82</th>\n",
       "      <td>Chicken &amp; Fish</td>\n",
       "      <td>Chicken McNuggets (40 piece)</td>\n",
       "      <td>1880</td>\n",
       "      <td>182</td>\n",
       "      <td>8</td>\n",
       "      <td>1</td>\n",
       "      <td>87</td>\n",
       "    </tr>\n",
       "    <tr>\n",
       "      <th>32</th>\n",
       "      <td>Breakfast</td>\n",
       "      <td>Big Breakfast with Hotcakes (Large Biscuit)</td>\n",
       "      <td>1150</td>\n",
       "      <td>93</td>\n",
       "      <td>30</td>\n",
       "      <td>17</td>\n",
       "      <td>36</td>\n",
       "    </tr>\n",
       "    <tr>\n",
       "      <th>31</th>\n",
       "      <td>Breakfast</td>\n",
       "      <td>Big Breakfast with Hotcakes (Regular Biscuit)</td>\n",
       "      <td>1090</td>\n",
       "      <td>87</td>\n",
       "      <td>25</td>\n",
       "      <td>17</td>\n",
       "      <td>36</td>\n",
       "    </tr>\n",
       "    <tr>\n",
       "      <th>34</th>\n",
       "      <td>Breakfast</td>\n",
       "      <td>Big Breakfast with Hotcakes and Egg Whites (La...</td>\n",
       "      <td>1050</td>\n",
       "      <td>77</td>\n",
       "      <td>25</td>\n",
       "      <td>18</td>\n",
       "      <td>35</td>\n",
       "    </tr>\n",
       "    <tr>\n",
       "      <th>33</th>\n",
       "      <td>Breakfast</td>\n",
       "      <td>Big Breakfast with Hotcakes and Egg Whites (Re...</td>\n",
       "      <td>990</td>\n",
       "      <td>70</td>\n",
       "      <td>25</td>\n",
       "      <td>17</td>\n",
       "      <td>35</td>\n",
       "    </tr>\n",
       "    <tr>\n",
       "      <th>...</th>\n",
       "      <td>...</td>\n",
       "      <td>...</td>\n",
       "      <td>...</td>\n",
       "      <td>...</td>\n",
       "      <td>...</td>\n",
       "      <td>...</td>\n",
       "      <td>...</td>\n",
       "    </tr>\n",
       "    <tr>\n",
       "      <th>117</th>\n",
       "      <td>Beverages</td>\n",
       "      <td>Diet Coke (Child)</td>\n",
       "      <td>0</td>\n",
       "      <td>0</td>\n",
       "      <td>0</td>\n",
       "      <td>0</td>\n",
       "      <td>0</td>\n",
       "    </tr>\n",
       "    <tr>\n",
       "      <th>116</th>\n",
       "      <td>Beverages</td>\n",
       "      <td>Diet Coke (Large)</td>\n",
       "      <td>0</td>\n",
       "      <td>0</td>\n",
       "      <td>0</td>\n",
       "      <td>0</td>\n",
       "      <td>0</td>\n",
       "    </tr>\n",
       "    <tr>\n",
       "      <th>115</th>\n",
       "      <td>Beverages</td>\n",
       "      <td>Diet Coke (Medium)</td>\n",
       "      <td>0</td>\n",
       "      <td>0</td>\n",
       "      <td>0</td>\n",
       "      <td>0</td>\n",
       "      <td>0</td>\n",
       "    </tr>\n",
       "    <tr>\n",
       "      <th>114</th>\n",
       "      <td>Beverages</td>\n",
       "      <td>Diet Coke (Small)</td>\n",
       "      <td>0</td>\n",
       "      <td>0</td>\n",
       "      <td>0</td>\n",
       "      <td>0</td>\n",
       "      <td>0</td>\n",
       "    </tr>\n",
       "    <tr>\n",
       "      <th>146</th>\n",
       "      <td>Coffee &amp; Tea</td>\n",
       "      <td>Coffee (Medium)</td>\n",
       "      <td>0</td>\n",
       "      <td>0</td>\n",
       "      <td>0</td>\n",
       "      <td>0</td>\n",
       "      <td>0</td>\n",
       "    </tr>\n",
       "  </tbody>\n",
       "</table>\n",
       "<p>260 rows × 7 columns</p>\n",
       "</div>"
      ],
      "text/plain": [
       "           category                                               item  \\\n",
       "82   Chicken & Fish                       Chicken McNuggets (40 piece)   \n",
       "32        Breakfast        Big Breakfast with Hotcakes (Large Biscuit)   \n",
       "31        Breakfast      Big Breakfast with Hotcakes (Regular Biscuit)   \n",
       "34        Breakfast  Big Breakfast with Hotcakes and Egg Whites (La...   \n",
       "33        Breakfast  Big Breakfast with Hotcakes and Egg Whites (Re...   \n",
       "..              ...                                                ...   \n",
       "117       Beverages                                  Diet Coke (Child)   \n",
       "116       Beverages                                  Diet Coke (Large)   \n",
       "115       Beverages                                 Diet Coke (Medium)   \n",
       "114       Beverages                                  Diet Coke (Small)   \n",
       "146    Coffee & Tea                                    Coffee (Medium)   \n",
       "\n",
       "     calories  total_fat  calcium  sugars  protein  \n",
       "82       1880        182        8       1       87  \n",
       "32       1150         93       30      17       36  \n",
       "31       1090         87       25      17       36  \n",
       "34       1050         77       25      18       35  \n",
       "33        990         70       25      17       35  \n",
       "..        ...        ...      ...     ...      ...  \n",
       "117         0          0        0       0        0  \n",
       "116         0          0        0       0        0  \n",
       "115         0          0        0       0        0  \n",
       "114         0          0        0       0        0  \n",
       "146         0          0        0       0        0  \n",
       "\n",
       "[260 rows x 7 columns]"
      ]
     },
     "execution_count": 47,
     "metadata": {},
     "output_type": "execute_result"
    }
   ],
   "source": [
    "mac.sort_values(\"calories\", ascending=False)"
   ]
  },
  {
   "cell_type": "markdown",
   "id": "cde15d3a-5f78-428a-9398-debd6267a0e3",
   "metadata": {},
   "source": [
    "Найти категорию с определённым размахом (разницей между максимумом и минимумом)"
   ]
  },
  {
   "cell_type": "code",
   "execution_count": 50,
   "id": "59cd218d-19ca-41c2-a3b3-e43418fb9ad9",
   "metadata": {},
   "outputs": [
    {
     "data": {
      "text/plain": [
       "category\n",
       "Beef & Pork            510\n",
       "Beverages              280\n",
       "Breakfast             1000\n",
       "Chicken & Fish        1690\n",
       "Coffee & Tea           760\n",
       "Desserts               295\n",
       "Salads                 310\n",
       "Smoothies & Shakes     720\n",
       "Snacks & Sides         495\n",
       "Name: calories, dtype: int64"
      ]
     },
     "execution_count": 50,
     "metadata": {},
     "output_type": "execute_result"
    }
   ],
   "source": [
    "def range(x):\n",
    "    return x.max() - x.min()\n",
    "\n",
    "mac.groupby(\"category\")[\"calories\"].apply(range)"
   ]
  },
  {
   "cell_type": "markdown",
   "id": "d872565b-f5fb-492f-bfdd-3a3574a34cc9",
   "metadata": {},
   "source": [
    "Применить строковые методы (`.split()`) и разбить на несколько столбцов"
   ]
  },
  {
   "cell_type": "code",
   "execution_count": 60,
   "id": "42041860-6d6e-4982-ae46-54fd48ba230a",
   "metadata": {},
   "outputs": [
    {
     "data": {
      "text/plain": [
       "0                                           Egg McMuffin\n",
       "1                                      Egg White Delight\n",
       "2                                       Sausage McMuffin\n",
       "3                              Sausage McMuffin with Egg\n",
       "4                       Sausage McMuffin with Egg Whites\n",
       "                             ...                        \n",
       "255                   McFlurry with Oreo Cookies (Small)\n",
       "256                  McFlurry with Oreo Cookies (Medium)\n",
       "257                   McFlurry with Oreo Cookies (Snack)\n",
       "258    McFlurry with Reese's Peanut Butter Cups (Medium)\n",
       "259     McFlurry with Reese's Peanut Butter Cups (Snack)\n",
       "Name: item, Length: 260, dtype: object"
      ]
     },
     "execution_count": 60,
     "metadata": {},
     "output_type": "execute_result"
    }
   ],
   "source": [
    "mac[\"item\"]"
   ]
  },
  {
   "cell_type": "code",
   "execution_count": 61,
   "id": "c43316fe-3296-4869-8ec4-16c4a0ac6299",
   "metadata": {},
   "outputs": [
    {
     "data": {
      "text/plain": [
       "['Мама', 'мыла', 'раму']"
      ]
     },
     "execution_count": 61,
     "metadata": {},
     "output_type": "execute_result"
    }
   ],
   "source": [
    "\"Мама мыла раму\".split()"
   ]
  },
  {
   "cell_type": "code",
   "execution_count": 62,
   "id": "9e42e555-aa97-4834-8537-2c65820934fe",
   "metadata": {},
   "outputs": [
    {
     "data": {
      "text/plain": [
       "0                                        [Egg, McMuffin]\n",
       "1                                  [Egg, White, Delight]\n",
       "2                                    [Sausage, McMuffin]\n",
       "3                         [Sausage, McMuffin, with, Egg]\n",
       "4                 [Sausage, McMuffin, with, Egg, Whites]\n",
       "                             ...                        \n",
       "255             [McFlurry, with, Oreo, Cookies, (Small)]\n",
       "256            [McFlurry, with, Oreo, Cookies, (Medium)]\n",
       "257             [McFlurry, with, Oreo, Cookies, (Snack)]\n",
       "258    [McFlurry, with, Reese's, Peanut, Butter, Cups...\n",
       "259    [McFlurry, with, Reese's, Peanut, Butter, Cups...\n",
       "Name: item, Length: 260, dtype: object"
      ]
     },
     "execution_count": 62,
     "metadata": {},
     "output_type": "execute_result"
    }
   ],
   "source": [
    "mac[\"item\"].str.split()"
   ]
  },
  {
   "cell_type": "code",
   "execution_count": 63,
   "id": "14fdbfee-4dac-4b9d-8531-6aa382b507ca",
   "metadata": {},
   "outputs": [
    {
     "data": {
      "text/plain": [
       "False"
      ]
     },
     "execution_count": 63,
     "metadata": {},
     "output_type": "execute_result"
    }
   ],
   "source": [
    "\"Cheese\" in [\"McFlurry\", \"with\", \"Oreo\", \"Cookies\", '(Small)']"
   ]
  },
  {
   "cell_type": "code",
   "execution_count": 64,
   "id": "691c562f-37d3-4635-92ea-4a05fe381bfa",
   "metadata": {},
   "outputs": [
    {
     "data": {
      "text/plain": [
       "True"
      ]
     },
     "execution_count": 64,
     "metadata": {},
     "output_type": "execute_result"
    }
   ],
   "source": [
    "\"Cheese\" in [\"Cheese\", \"with\", \"Oreo\", \"Cookies\", '(Small)']"
   ]
  },
  {
   "cell_type": "code",
   "execution_count": 72,
   "id": "6b6c7563-9ee3-4626-aa2b-de6049fd9e8f",
   "metadata": {},
   "outputs": [
    {
     "data": {
      "text/plain": [
       "0      False\n",
       "1      False\n",
       "2      False\n",
       "3      False\n",
       "4      False\n",
       "       ...  \n",
       "255    False\n",
       "256    False\n",
       "257    False\n",
       "258    False\n",
       "259    False\n",
       "Name: item, Length: 260, dtype: bool"
      ]
     },
     "execution_count": 72,
     "metadata": {},
     "output_type": "execute_result"
    }
   ],
   "source": [
    "# def has_cheese_old(lst):\n",
    "#     if \"Cheese\" in lst:\n",
    "#         return True\n",
    "#     else:\n",
    "#         return False\n",
    "\n",
    "def has_cheese_old(lst):\n",
    "    return \"Cheese\" in lst\n",
    "\n",
    "def has_cheese(lst):\n",
    "    for item in lst:\n",
    "        if \"Cheese\" in item:\n",
    "            return True\n",
    "    return False\n",
    "\n",
    "mac[\"item\"].str.split().apply(has_cheese)"
   ]
  },
  {
   "cell_type": "markdown",
   "id": "fab97d89-92e3-4b67-b811-9959f6188eb8",
   "metadata": {},
   "source": [
    "`[\"Pasta\", \"(Cheese)\"]`"
   ]
  },
  {
   "cell_type": "code",
   "execution_count": 70,
   "id": "b68384f3-ddbc-4f6a-a378-251023be66c0",
   "metadata": {},
   "outputs": [
    {
     "data": {
      "text/plain": [
       "False"
      ]
     },
     "execution_count": 70,
     "metadata": {},
     "output_type": "execute_result"
    }
   ],
   "source": [
    "\"Cheese\" in [\"Pasta\", \"(Cheese)\"]"
   ]
  },
  {
   "cell_type": "code",
   "execution_count": 73,
   "id": "c94bc35d-f38b-4128-8802-19cb86792718",
   "metadata": {},
   "outputs": [
    {
     "data": {
      "text/plain": [
       "16"
      ]
     },
     "execution_count": 73,
     "metadata": {},
     "output_type": "execute_result"
    }
   ],
   "source": [
    "mac[\"item\"].str.split().apply(has_cheese).sum()"
   ]
  },
  {
   "cell_type": "code",
   "execution_count": null,
   "id": "79f499a3-cfd1-4940-8d4f-3ef595a49bfc",
   "metadata": {},
   "outputs": [],
   "source": []
  },
  {
   "cell_type": "code",
   "execution_count": null,
   "id": "9c623b9c-f08b-43ed-a9ed-54ca4373bd35",
   "metadata": {},
   "outputs": [],
   "source": []
  },
  {
   "cell_type": "code",
   "execution_count": null,
   "id": "cdf576da-3f63-4aaf-b4f7-e9451f248401",
   "metadata": {},
   "outputs": [],
   "source": []
  }
 ],
 "metadata": {
  "kernelspec": {
   "display_name": "Python 3 (ipykernel)",
   "language": "python",
   "name": "python3"
  },
  "language_info": {
   "codemirror_mode": {
    "name": "ipython",
    "version": 3
   },
   "file_extension": ".py",
   "mimetype": "text/x-python",
   "name": "python",
   "nbconvert_exporter": "python",
   "pygments_lexer": "ipython3",
   "version": "3.11.3"
  }
 },
 "nbformat": 4,
 "nbformat_minor": 5
}
