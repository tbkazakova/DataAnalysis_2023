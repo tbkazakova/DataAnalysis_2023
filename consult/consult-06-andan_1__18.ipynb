{
 "cells": [
  {
   "cell_type": "code",
   "execution_count": 2,
   "id": "0c8577ba-c257-4eb1-a335-fc44171ebe50",
   "metadata": {},
   "outputs": [],
   "source": [
    "import numpy as np"
   ]
  },
  {
   "cell_type": "markdown",
   "id": "ade5d839-affb-4c26-8a65-abf02a15c449",
   "metadata": {},
   "source": [
    "## Что показывает различие медианы и среднего?\n",
    "\n",
    "> Среднее больше медианы тогда, когда есть большой выброс.\n",
    "> \n",
    "> Среднее меньше медианы тогда, когда есть **малый** выброс"
   ]
  },
  {
   "cell_type": "code",
   "execution_count": 10,
   "id": "9113ef6d-9267-4320-8756-e12132e0a86d",
   "metadata": {},
   "outputs": [],
   "source": [
    "calm = [200, 4000, 3000, 5000, 6000]"
   ]
  },
  {
   "cell_type": "code",
   "execution_count": 11,
   "id": "cc138566-91e0-4e7d-bc64-3d01d34b557c",
   "metadata": {},
   "outputs": [
    {
     "data": {
      "text/plain": [
       "[200, 3000, 4000, 5000, 6000]"
      ]
     },
     "execution_count": 11,
     "metadata": {},
     "output_type": "execute_result"
    }
   ],
   "source": [
    "sorted(calm)"
   ]
  },
  {
   "cell_type": "code",
   "execution_count": 12,
   "id": "0895f1b7-be0a-4a79-a99e-3b248406ab18",
   "metadata": {},
   "outputs": [
    {
     "data": {
      "text/plain": [
       "4000.0"
      ]
     },
     "execution_count": 12,
     "metadata": {},
     "output_type": "execute_result"
    }
   ],
   "source": [
    "np.quantile(np.array(calm), 0.5)"
   ]
  },
  {
   "cell_type": "code",
   "execution_count": 8,
   "id": "1d26e3a9-9383-43f0-a81a-828e03c23456",
   "metadata": {},
   "outputs": [
    {
     "data": {
      "text/plain": [
       "3760.0"
      ]
     },
     "execution_count": 8,
     "metadata": {},
     "output_type": "execute_result"
    }
   ],
   "source": [
    "(800 + 3000 + 4000 + 5000 + 6000) / 5"
   ]
  },
  {
   "cell_type": "code",
   "execution_count": 13,
   "id": "9d27f7b2-124e-4d64-8d81-109a4781a8b0",
   "metadata": {},
   "outputs": [
    {
     "data": {
      "text/plain": [
       "3640.0"
      ]
     },
     "execution_count": 13,
     "metadata": {},
     "output_type": "execute_result"
    }
   ],
   "source": [
    "(200 + 3000 + 4000 + 5000 + 6000) / (1*5)"
   ]
  },
  {
   "cell_type": "code",
   "execution_count": 14,
   "id": "fe020ccb-fc1d-42ac-bd13-703d39d66107",
   "metadata": {},
   "outputs": [
    {
     "data": {
      "text/plain": [
       "3640.0"
      ]
     },
     "execution_count": 14,
     "metadata": {},
     "output_type": "execute_result"
    }
   ],
   "source": [
    "np.mean(calm)"
   ]
  },
  {
   "cell_type": "code",
   "execution_count": 15,
   "id": "0b00c4fb-c420-46e0-b316-a132aadcc8fc",
   "metadata": {},
   "outputs": [
    {
     "name": "stdout",
     "output_type": "stream",
     "text": [
      "86\n"
     ]
    }
   ],
   "source": [
    "mean = 62\n",
    "std = 8\n",
    "\n",
    "print(mean + 3 * std)"
   ]
  },
  {
   "cell_type": "code",
   "execution_count": 16,
   "id": "b626a803-5dd8-4cc4-974c-0f4a59cd1234",
   "metadata": {},
   "outputs": [
    {
     "name": "stdout",
     "output_type": "stream",
     "text": [
      "46\n"
     ]
    }
   ],
   "source": [
    "print(mean - 2 * std)"
   ]
  },
  {
   "cell_type": "code",
   "execution_count": 17,
   "id": "05a6c34d-f52d-42f8-8181-7014b6e49d0e",
   "metadata": {},
   "outputs": [
    {
     "name": "stdout",
     "output_type": "stream",
     "text": [
      "54 70\n"
     ]
    }
   ],
   "source": [
    "print(mean - std, mean+std)"
   ]
  },
  {
   "cell_type": "markdown",
   "id": "d3217035-1a59-4d11-9aa6-b8b0190b407b",
   "metadata": {},
   "source": [
    "## 16 рассчитать ошибку"
   ]
  },
  {
   "cell_type": "markdown",
   "id": "27d01df9-1bbc-48d6-a6a9-cd3cfe6f3503",
   "metadata": {},
   "source": [
    "MSE"
   ]
  },
  {
   "cell_type": "code",
   "execution_count": 23,
   "id": "36c3f419-8212-4116-b573-32eaa92ccdfc",
   "metadata": {},
   "outputs": [],
   "source": [
    "import numpy as np\n",
    "\n",
    "Y = [12, 40, 8, 60, 61]\n",
    "Z = [9, 36, 10, 57, 62]\n",
    "\n",
    "y = np.array(Y)\n",
    "z = np.array(Z)\n"
   ]
  },
  {
   "cell_type": "code",
   "execution_count": 19,
   "id": "fcdfbc1b-398c-499a-8bde-66ba3c5c5a66",
   "metadata": {},
   "outputs": [
    {
     "data": {
      "text/plain": [
       "array([ 3,  4, -2,  3, -1])"
      ]
     },
     "execution_count": 19,
     "metadata": {},
     "output_type": "execute_result"
    }
   ],
   "source": [
    "y - z"
   ]
  },
  {
   "cell_type": "code",
   "execution_count": 20,
   "id": "ae948963-88b2-4965-b2f6-304a5b85e900",
   "metadata": {},
   "outputs": [
    {
     "data": {
      "text/plain": [
       "array([ 9, 16,  4,  9,  1])"
      ]
     },
     "execution_count": 20,
     "metadata": {},
     "output_type": "execute_result"
    }
   ],
   "source": [
    "(y - z) ** 2"
   ]
  },
  {
   "cell_type": "code",
   "execution_count": 21,
   "id": "5b8d7f69-387e-45f2-b49e-ba0e156e63f0",
   "metadata": {},
   "outputs": [
    {
     "data": {
      "text/plain": [
       "7.8"
      ]
     },
     "execution_count": 21,
     "metadata": {},
     "output_type": "execute_result"
    }
   ],
   "source": [
    "((y - z) ** 2).mean()"
   ]
  },
  {
   "cell_type": "markdown",
   "id": "90902891-1692-47c0-bfd4-ee98d3f9c41f",
   "metadata": {},
   "source": [
    "## 17"
   ]
  },
  {
   "cell_type": "code",
   "execution_count": 24,
   "id": "c92ac7b3-389e-4df9-a763-e40a6e57c471",
   "metadata": {},
   "outputs": [],
   "source": [
    "import pandas as pd\n",
    "\n",
    "pension = [39, 48, 70]\n",
    "memory = [9, 10, 9]\n",
    "countries = [\"Ш\", \"США\", \"Г\"]\n",
    "\n",
    "df = pd.DataFrame({\"pension\": pension, \"memory\": memory, \"country\": countries})"
   ]
  },
  {
   "cell_type": "code",
   "execution_count": 25,
   "id": "c40bb193-0c9d-40fb-9b14-6f60a8cd5085",
   "metadata": {},
   "outputs": [
    {
     "data": {
      "text/html": [
       "<div>\n",
       "<style scoped>\n",
       "    .dataframe tbody tr th:only-of-type {\n",
       "        vertical-align: middle;\n",
       "    }\n",
       "\n",
       "    .dataframe tbody tr th {\n",
       "        vertical-align: top;\n",
       "    }\n",
       "\n",
       "    .dataframe thead th {\n",
       "        text-align: right;\n",
       "    }\n",
       "</style>\n",
       "<table border=\"1\" class=\"dataframe\">\n",
       "  <thead>\n",
       "    <tr style=\"text-align: right;\">\n",
       "      <th></th>\n",
       "      <th>pension</th>\n",
       "      <th>memory</th>\n",
       "      <th>country</th>\n",
       "    </tr>\n",
       "  </thead>\n",
       "  <tbody>\n",
       "    <tr>\n",
       "      <th>0</th>\n",
       "      <td>39</td>\n",
       "      <td>9</td>\n",
       "      <td>Ш</td>\n",
       "    </tr>\n",
       "    <tr>\n",
       "      <th>1</th>\n",
       "      <td>48</td>\n",
       "      <td>10</td>\n",
       "      <td>США</td>\n",
       "    </tr>\n",
       "    <tr>\n",
       "      <th>2</th>\n",
       "      <td>70</td>\n",
       "      <td>9</td>\n",
       "      <td>Г</td>\n",
       "    </tr>\n",
       "  </tbody>\n",
       "</table>\n",
       "</div>"
      ],
      "text/plain": [
       "   pension  memory country\n",
       "0       39       9       Ш\n",
       "1       48      10     США\n",
       "2       70       9       Г"
      ]
     },
     "execution_count": 25,
     "metadata": {},
     "output_type": "execute_result"
    }
   ],
   "source": [
    "df"
   ]
  },
  {
   "attachments": {
    "2e39a48d-d0da-48f1-b5a8-ee62f3a8b1aa.png": {
     "image/png": "[encoded data removed]"
    }
   },
   "cell_type": "markdown",
   "id": "f3c7e4c6-8dfa-4e92-bdfc-c41dac97f5f8",
   "metadata": {},
   "source": [
    "![изображение.png](attachment:2e39a48d-d0da-48f1-b5a8-ee62f3a8b1aa.png)"
   ]
  },
  {
   "cell_type": "code",
   "execution_count": 36,
   "id": "064471b2-4f7e-4c8c-b5d6-094eaec69deb",
   "metadata": {},
   "outputs": [
    {
     "name": "stdout",
     "output_type": "stream",
     "text": [
      "X mean: 52.333333333333336\n",
      "SS_X: 508.66666666666663\n"
     ]
    }
   ],
   "source": [
    "X_mean = df[\"pension\"].mean()\n",
    "print(\"X mean:\", X_mean)\n",
    "\n",
    "SS_X = ((df[\"pension\"] - X_mean) ** 2).sum()\n",
    "print(\"SS_X:\", SS_X)"
   ]
  },
  {
   "cell_type": "code",
   "execution_count": 35,
   "id": "3f5918c4-4522-4f9e-97a2-b878926c2aa2",
   "metadata": {},
   "outputs": [
    {
     "name": "stdout",
     "output_type": "stream",
     "text": [
      "Y mean: 9.333333333333334\n",
      "SS_Y: 0.6666666666666666\n"
     ]
    }
   ],
   "source": [
    "Y_mean = df[\"memory\"].mean()\n",
    "print(\"Y mean:\", Y_mean)\n",
    "\n",
    "SS_Y = ((df[\"memory\"] - Y_mean) ** 2).sum()\n",
    "print(\"SS_Y:\", SS_Y)"
   ]
  },
  {
   "attachments": {
    "4d3ce68e-851e-46b3-be47-eedf34602b04.png": {
     "image/png": "[encoded data removed]"
    }
   },
   "cell_type": "markdown",
   "id": "ec3446dc-9770-442c-9e29-698f1f80b456",
   "metadata": {},
   "source": [
    "![изображение.png](attachment:4d3ce68e-851e-46b3-be47-eedf34602b04.png)"
   ]
  },
  {
   "cell_type": "code",
   "execution_count": 39,
   "id": "68be42a2-cd0b-4b53-913f-b90d9a0f25ee",
   "metadata": {},
   "outputs": [
    {
     "data": {
      "text/plain": [
       "3"
      ]
     },
     "execution_count": 39,
     "metadata": {},
     "output_type": "execute_result"
    }
   ],
   "source": [
    "n = len(df)\n",
    "n"
   ]
  },
  {
   "cell_type": "markdown",
   "id": "8a343043-6b05-4fac-8256-74e1853cb565",
   "metadata": {},
   "source": [
    "$SS_P$:"
   ]
  },
  {
   "cell_type": "code",
   "execution_count": 46,
   "id": "51d331f6-d6ba-48be-8de7-8cddedf24bd4",
   "metadata": {},
   "outputs": [
    {
     "data": {
      "text/plain": [
       "-4.3333333333332575"
      ]
     },
     "execution_count": 46,
     "metadata": {},
     "output_type": "execute_result"
    }
   ],
   "source": [
    "SS_P = (df[\"pension\"] * df[\"memory\"]).sum() - ((df[\"pension\"].sum() * df[\"memory\"].sum()) / n)\n",
    "SS_P"
   ]
  },
  {
   "cell_type": "code",
   "execution_count": 47,
   "id": "3ffc178e-bb1d-4031-bc58-8c93fe5aef46",
   "metadata": {},
   "outputs": [
    {
     "data": {
      "text/plain": [
       "-4.333333333333332"
      ]
     },
     "execution_count": 47,
     "metadata": {},
     "output_type": "execute_result"
    }
   ],
   "source": [
    "(\n",
    "    (df[\"pension\"] - X_mean)\n",
    "    * (df[\"memory\"] - Y_mean)\n",
    ").sum()"
   ]
  },
  {
   "cell_type": "markdown",
   "id": "5587254a-82ea-47e8-9ebe-e9fda4972889",
   "metadata": {},
   "source": [
    "$b$ - коэффициент перед $X$ (оценка коэффициента) (параметр модели) "
   ]
  },
  {
   "cell_type": "code",
   "execution_count": 49,
   "id": "25da5d57-a91a-4574-947c-bd46a57299d2",
   "metadata": {},
   "outputs": [
    {
     "data": {
      "text/plain": [
       "-0.00851900393184782"
      ]
     },
     "execution_count": 49,
     "metadata": {},
     "output_type": "execute_result"
    }
   ],
   "source": [
    "SS_P / SS_X"
   ]
  },
  {
   "cell_type": "markdown",
   "id": "002d1a5a-6d3e-47ae-9272-f2a81f24511a",
   "metadata": {},
   "source": [
    "## 18"
   ]
  },
  {
   "cell_type": "code",
   "execution_count": 51,
   "id": "6dab66fa-6cf3-4c2d-b10c-279e3f9fcfea",
   "metadata": {},
   "outputs": [
    {
     "data": {
      "text/plain": [
       "array([[1.        , 0.27826086],\n",
       "       [0.27826086, 1.        ]])"
      ]
     },
     "execution_count": 51,
     "metadata": {},
     "output_type": "execute_result"
    }
   ],
   "source": [
    "X = np.array([800, 495, 302, 1001, 256])\n",
    "Y = np.array([15, 12.1, 20, 24.2, 18.7])\n",
    "\n",
    "np.corrcoef(X, Y)"
   ]
  },
  {
   "cell_type": "code",
   "execution_count": null,
   "id": "32d454de-40ef-4d96-93ab-505c33040176",
   "metadata": {},
   "outputs": [],
   "source": []
  },
  {
   "cell_type": "code",
   "execution_count": null,
   "id": "6386552f-d212-404b-829d-9ecb29edccb1",
   "metadata": {},
   "outputs": [],
   "source": []
  }
 ],
 "metadata": {
  "kernelspec": {
   "display_name": "proverbs",
   "language": "python",
   "name": "proverbs"
  },
  "language_info": {
   "codemirror_mode": {
    "name": "ipython",
    "version": 3
   },
   "file_extension": ".py",
   "mimetype": "text/x-python",
   "name": "python",
   "nbconvert_exporter": "python",
   "pygments_lexer": "ipython3",
   "version": "3.11.3"
  }
 },
 "nbformat": 4,
 "nbformat_minor": 5
}
