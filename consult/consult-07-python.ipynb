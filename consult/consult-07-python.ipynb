{
 "cells": [
  {
   "cell_type": "markdown",
   "id": "b6abc864-d49a-4f07-a8be-9e6b1879b66a",
   "metadata": {},
   "source": [
    "## перевод из строки в число если в строке пробелы *возможен*"
   ]
  },
  {
   "cell_type": "code",
   "execution_count": 2,
   "id": "b7f1de46-8d57-45ea-85a9-a604d7973542",
   "metadata": {},
   "outputs": [
    {
     "name": "stdout",
     "output_type": "stream",
     "text": [
      "14151 <class 'int'>\n"
     ]
    }
   ],
   "source": [
    "num = int(\"14151 \\n\")\n",
    "\n",
    "print(num, type(num))"
   ]
  },
  {
   "cell_type": "markdown",
   "id": "f1de6f30-819a-41c8-8b5b-95415da4e4f2",
   "metadata": {},
   "source": [
    "ещё возможен перевод, если в строке есть визуальный разделитель `_` (подстрочный индекс)"
   ]
  },
  {
   "cell_type": "code",
   "execution_count": 4,
   "id": "de304636-4cef-4eaf-ba63-9204257296d6",
   "metadata": {},
   "outputs": [
    {
     "name": "stdout",
     "output_type": "stream",
     "text": [
      "141554151 <class 'int'>\n"
     ]
    }
   ],
   "source": [
    "num = int(\"14_155_4151 \\n \")\n",
    "\n",
    "print(num, type(num))"
   ]
  },
  {
   "cell_type": "code",
   "execution_count": 5,
   "id": "dfd98300-3fbf-4da4-b22e-4e5bf4354a7d",
   "metadata": {},
   "outputs": [
    {
     "name": "stdout",
     "output_type": "stream",
     "text": [
      "23.0 <class 'float'>\n"
     ]
    }
   ],
   "source": [
    "num = float(\"23\\n\")\n",
    "\n",
    "print(num, type(num))"
   ]
  },
  {
   "cell_type": "markdown",
   "id": "52669f71-079e-4b06-8fc3-88e375867406",
   "metadata": {},
   "source": [
    "## множества"
   ]
  },
  {
   "cell_type": "markdown",
   "id": "7e6ec7e9-3736-4ae8-8088-90843cc8bc3d",
   "metadata": {},
   "source": [
    "**в множествах нет порядка**\n",
    "\n",
    "- нельзя обратиться к элементам по индексу\n",
    "- по-разному может выводиться одно и то же множество при перезапусках"
   ]
  },
  {
   "cell_type": "code",
   "execution_count": 10,
   "id": "f9b6b113-6d83-40b3-bd00-c89b06e81570",
   "metadata": {},
   "outputs": [
    {
     "name": "stdout",
     "output_type": "stream",
     "text": [
      "{'Аня', 12, 14, 17, 'Витя', 'Коля'}\n"
     ]
    }
   ],
   "source": [
    "original = {14, \"Аня\", 17, \"Витя\"}\n",
    "\n",
    "new = {\"Коля\", 12, 14, 17}\n",
    "\n",
    "# print(original & new)  # пересечение\n",
    "print(original | new)  # объединение"
   ]
  },
  {
   "cell_type": "code",
   "execution_count": 11,
   "id": "f97da494-efb1-4615-981b-e64800918d3d",
   "metadata": {},
   "outputs": [
    {
     "name": "stdout",
     "output_type": "stream",
     "text": [
      "{17, 'Аня', 'Витя', 'Коля', 12, 14}\n"
     ]
    }
   ],
   "source": [
    "original = {14, \"Аня\", 17, \"Витя\"}\n",
    "\n",
    "new = {\"Коля\", 12}\n",
    "\n",
    "# print(original & new)  # пересечение\n",
    "print(original | new)  # объединение"
   ]
  },
  {
   "cell_type": "markdown",
   "id": "f77ba8f4-4e09-4b6b-b4c9-503cc8519aac",
   "metadata": {},
   "source": [
    "## количество уникальных штук"
   ]
  },
  {
   "cell_type": "markdown",
   "id": "df24abd4-278a-4356-bc49-a64eefaad5b1",
   "metadata": {},
   "source": [
    "Множества — коллекция уникальных элементов.\n",
    "\n",
    "Если применить к какой-то коллекции `set`, то получится множество уникальных элементов этой коллекции"
   ]
  },
  {
   "cell_type": "code",
   "execution_count": 12,
   "id": "6cab1db8-04c9-4d24-acd8-e3f181070489",
   "metadata": {},
   "outputs": [
    {
     "name": "stdout",
     "output_type": "stream",
     "text": [
      "['мама', 'мыла', 'раму', 'мама']\n"
     ]
    }
   ],
   "source": [
    "l = \"мама мыла раму мама\".split()\n",
    "\n",
    "print(l)"
   ]
  },
  {
   "cell_type": "code",
   "execution_count": 13,
   "id": "87de9b26-121d-44c6-a946-b220d05da18a",
   "metadata": {},
   "outputs": [
    {
     "data": {
      "text/plain": [
       "{'мама', 'мыла', 'раму'}"
      ]
     },
     "execution_count": 13,
     "metadata": {},
     "output_type": "execute_result"
    }
   ],
   "source": [
    "set(l)"
   ]
  },
  {
   "cell_type": "markdown",
   "id": "4fd295e4-0fcf-4de9-8f27-1ee1c1579316",
   "metadata": {},
   "source": [
    "`set()` можно сделать только из коллекций! Числа не пойдут. "
   ]
  },
  {
   "cell_type": "code",
   "execution_count": 14,
   "id": "5970224f-d284-4558-9f61-7676d81dbe40",
   "metadata": {},
   "outputs": [
    {
     "ename": "TypeError",
     "evalue": "'int' object is not iterable",
     "output_type": "error",
     "traceback": [
      "\u001b[1;31m---------------------------------------------------------------------------\u001b[0m",
      "\u001b[1;31mTypeError\u001b[0m                                 Traceback (most recent call last)",
      "Cell \u001b[1;32mIn[14], line 1\u001b[0m\n\u001b[1;32m----> 1\u001b[0m \u001b[38;5;28;43mset\u001b[39;49m\u001b[43m(\u001b[49m\u001b[38;5;241;43m15151\u001b[39;49m\u001b[43m)\u001b[49m\n",
      "\u001b[1;31mTypeError\u001b[0m: 'int' object is not iterable"
     ]
    }
   ],
   "source": [
    "set(15151)"
   ]
  },
  {
   "cell_type": "markdown",
   "id": "524f939c-f860-4f9b-a4c3-b1e2cde8d223",
   "metadata": {},
   "source": [
    "а строки пойдут"
   ]
  },
  {
   "cell_type": "code",
   "execution_count": 15,
   "id": "bc788256-571a-41cb-96db-4c99a021b33f",
   "metadata": {},
   "outputs": [
    {
     "data": {
      "text/plain": [
       "{'А', 'а', 'н'}"
      ]
     },
     "execution_count": 15,
     "metadata": {},
     "output_type": "execute_result"
    }
   ],
   "source": [
    "set(\"Анна\")"
   ]
  },
  {
   "cell_type": "code",
   "execution_count": 18,
   "id": "4e9ba593-4ac9-42a9-9a6b-13221b1968ad",
   "metadata": {},
   "outputs": [
    {
     "name": "stdout",
     "output_type": "stream",
     "text": [
      "['А', 'н', 'н', 'а']\n"
     ]
    }
   ],
   "source": [
    "print(list(\"Анна\"))"
   ]
  },
  {
   "cell_type": "code",
   "execution_count": 19,
   "id": "bd80e0ab-9e70-4fc7-8d8c-5a1e47355dba",
   "metadata": {},
   "outputs": [
    {
     "name": "stdout",
     "output_type": "stream",
     "text": [
      "{'а', 'н', 'А'}\n"
     ]
    }
   ],
   "source": [
    "print(set(list(\"Анна\")))"
   ]
  },
  {
   "cell_type": "markdown",
   "id": "d8a8a954-075b-4991-8ffe-655ec18bdd40",
   "metadata": {},
   "source": [
    "без учёта регистра\n",
    "\n"
   ]
  },
  {
   "cell_type": "code",
   "execution_count": 21,
   "id": "a7ecef1b-b484-4c0b-b31b-890059ac2655",
   "metadata": {},
   "outputs": [
    {
     "name": "stdout",
     "output_type": "stream",
     "text": [
      "['а', 'н', 'н', 'а']\n",
      "{'а', 'н'}\n"
     ]
    }
   ],
   "source": [
    "s = \"Анна\"\n",
    "\n",
    "print(list(s.lower()))\n",
    "\n",
    "print(set(s.lower()))"
   ]
  },
  {
   "cell_type": "markdown",
   "id": "b73ee38e-a7b2-4933-bdfe-29f0e9fb4821",
   "metadata": {},
   "source": [
    "Поэтому, когда в задаче просили найти количество уникальных букв без учёта регистра, мы понимаем, что...\n",
    "\n",
    "1. к строке надо применить `.lower()`, чтобы сделать всё в нижнем регистре (и исчезли различия регистра)\n",
    "2. из строки нужно получить множество, чтобы остались лишь уникальные символы строки\n",
    "\n",
    "3. ну и уже после можно найти длину этого множества"
   ]
  },
  {
   "cell_type": "code",
   "execution_count": null,
   "id": "0d42273b-d3ea-4dfc-b536-bae1b8e9f535",
   "metadata": {},
   "outputs": [],
   "source": [
    "def get_letters(name):\n",
    "    return len(set(name.lower()))"
   ]
  },
  {
   "cell_type": "markdown",
   "id": "a88a1033-d372-431b-8df5-085c8ac8e8c4",
   "metadata": {},
   "source": [
    "### (не-)альтернативы"
   ]
  },
  {
   "cell_type": "markdown",
   "id": "161136fb-fb86-4956-86c2-669d0767b799",
   "metadata": {},
   "source": [
    "❌ с `str.count()` непонятно как это вообще устроить\n",
    "\n",
    "Этот метод считает, сколько раз в строке встречается ОПРЕДЕЛЁННАЯ строка, переданная как аргумент"
   ]
  },
  {
   "cell_type": "code",
   "execution_count": 37,
   "id": "f8036a21-d72d-4192-b6cf-04450f1643e7",
   "metadata": {},
   "outputs": [
    {
     "name": "stdout",
     "output_type": "stream",
     "text": [
      "3\n",
      "1\n"
     ]
    }
   ],
   "source": [
    "s = \"Мама мыла раму\"\n",
    "\n",
    "print(s.count(\"м\"))\n",
    "print(s.count(\"М\"))"
   ]
  },
  {
   "cell_type": "markdown",
   "id": "f9ab9f63-2b4d-4c35-abb7-151bd91b2831",
   "metadata": {},
   "source": [
    "🤔 Можно посчитать, сколько раз каждый уникальный элемент встретился, используя словарь.\n",
    "\n",
    "Тогда ключами в нём будут уникальные элементы, а значениями — их частота.\n",
    "\n",
    "Но это сложнее, чем множество и всё равно в итоге нужно будет просто узнать длину этого словаря... "
   ]
  },
  {
   "cell_type": "code",
   "execution_count": 1,
   "id": "9c5a76e2-e899-45c6-a105-6f4840dd26b4",
   "metadata": {},
   "outputs": [
    {
     "name": "stdout",
     "output_type": "stream",
     "text": [
      "{'м': 2, 'а': 1, 'к': 1, 'с': 1, 'и': 1}\n",
      "5\n"
     ]
    }
   ],
   "source": [
    "name = \"Максим\"\n",
    "\n",
    "counter = {}\n",
    "\n",
    "for letter in name.lower():    \n",
    "    if not letter in counter:\n",
    "        counter[letter] = 1\n",
    "    else:\n",
    "        counter[letter] += 1\n",
    "\n",
    "print(counter)\n",
    "print(len(counter))"
   ]
  },
  {
   "cell_type": "markdown",
   "id": "78aa4161-dd30-4f8a-90a1-cd5e6a56e87f",
   "metadata": {},
   "source": [
    "Ключи в словарях это то, что до двоеточия `:`, и они привилегированы.\n",
    "Они проверяются при `in`, и по ним происходит итерация (по ним идёт цикл), если написать просто `for elem in <словарь>:`"
   ]
  },
  {
   "cell_type": "code",
   "execution_count": 46,
   "id": "5fdd4dc2-6d87-4b3e-9ffc-82a3e7aee4d8",
   "metadata": {},
   "outputs": [
    {
     "data": {
      "text/plain": [
       "False"
      ]
     },
     "execution_count": 46,
     "metadata": {},
     "output_type": "execute_result"
    }
   ],
   "source": [
    "\"я\" in counter"
   ]
  },
  {
   "cell_type": "code",
   "execution_count": 47,
   "id": "1de7f3f3-7304-4ff1-8d2d-1ad15f22a886",
   "metadata": {},
   "outputs": [
    {
     "data": {
      "text/plain": [
       "True"
      ]
     },
     "execution_count": 47,
     "metadata": {},
     "output_type": "execute_result"
    }
   ],
   "source": [
    "\"м\" in counter"
   ]
  },
  {
   "cell_type": "code",
   "execution_count": 53,
   "id": "54d3be8c-4c8c-404c-8ca8-9f20d1fc56f4",
   "metadata": {},
   "outputs": [
    {
     "name": "stdout",
     "output_type": "stream",
     "text": [
      "{'м': 2, 'а': 1, 'к': 1, 'с': 1, 'и': 1, 10: 'я'}\n",
      "False\n"
     ]
    }
   ],
   "source": [
    "counter[10] = \"я\"\n",
    "print(counter)\n",
    "\n",
    "print(\"я\" in counter)  # False поскольку in проверяет про КЛЮЧИ, которые слева от двоеточия"
   ]
  },
  {
   "cell_type": "markdown",
   "id": "08adf02a-191b-4c1b-af0e-871d1e8e1dba",
   "metadata": {},
   "source": [
    "Проверить есть ли что-то среди значений можно получив значения через `.values()`"
   ]
  },
  {
   "cell_type": "code",
   "execution_count": 57,
   "id": "722b9336-235b-4cab-9760-9297d31acce9",
   "metadata": {},
   "outputs": [
    {
     "name": "stdout",
     "output_type": "stream",
     "text": [
      "dict_values([2, 1, 1, 1, 1, 'я'])\n",
      "True\n"
     ]
    }
   ],
   "source": [
    "print(counter.values())\n",
    "print(\"я\" in counter.values())"
   ]
  },
  {
   "cell_type": "markdown",
   "id": "982337d7-0315-499d-9169-54b384da012f",
   "metadata": {},
   "source": [
    "а `dict.items()` даёт парочки `(ключ, значение)` — кортежи из двух элементов"
   ]
  },
  {
   "cell_type": "code",
   "execution_count": 48,
   "id": "f81a8591-6153-4651-bb17-674782c041a4",
   "metadata": {},
   "outputs": [
    {
     "name": "stdout",
     "output_type": "stream",
     "text": [
      "('м', 2)\n",
      "('а', 1)\n",
      "('к', 1)\n",
      "('с', 1)\n",
      "('и', 1)\n"
     ]
    }
   ],
   "source": [
    "for item in counter.items():\n",
    "    print(item)"
   ]
  },
  {
   "cell_type": "code",
   "execution_count": 49,
   "id": "afeb4a4b-073b-4692-b8fe-c03e9c0a7342",
   "metadata": {},
   "outputs": [
    {
     "name": "stdout",
     "output_type": "stream",
     "text": [
      "м 2\n",
      "а 1\n",
      "к 1\n",
      "с 1\n",
      "и 1\n"
     ]
    }
   ],
   "source": [
    "for key, value in counter.items():\n",
    "    print(key, value)"
   ]
  },
  {
   "cell_type": "markdown",
   "id": "42517bda-4016-40e1-8dd4-e8d1979d33e4",
   "metadata": {},
   "source": [
    "Другие методы строк:\n",
    "\n",
    "на `is` начинаются методы, которые выдают `True`/ `False`, то есть логическое значение"
   ]
  },
  {
   "cell_type": "code",
   "execution_count": 22,
   "id": "fa92fcff-5591-4638-a879-102e6168ccb9",
   "metadata": {},
   "outputs": [
    {
     "name": "stdout",
     "output_type": "stream",
     "text": [
      "анна\n"
     ]
    }
   ],
   "source": [
    "s = \"Анна\"\n",
    "\n",
    "print(s.lower())"
   ]
  },
  {
   "cell_type": "code",
   "execution_count": 30,
   "id": "32621d9d-e579-4ae8-a7e0-82ce6fe44af6",
   "metadata": {},
   "outputs": [
    {
     "name": "stdout",
     "output_type": "stream",
     "text": [
      "False\n",
      "True\n"
     ]
    }
   ],
   "source": [
    "s = \"Анна\"\n",
    "other = \"максим\"\n",
    "\n",
    "print(s.islower())\n",
    "print(other.islower())"
   ]
  },
  {
   "cell_type": "code",
   "execution_count": 29,
   "id": "71e78cee-b32f-4d02-9988-20b69691e672",
   "metadata": {},
   "outputs": [
    {
     "name": "stdout",
     "output_type": "stream",
     "text": [
      "False\n",
      "True\n"
     ]
    }
   ],
   "source": [
    "s = \"Анна\"\n",
    "up = \"АННА\"\n",
    "\n",
    "print(s.isupper())\n",
    "print(up.isupper())"
   ]
  },
  {
   "cell_type": "code",
   "execution_count": 28,
   "id": "4b20b2ac-c75a-4b82-af7c-cc7962758604",
   "metadata": {},
   "outputs": [
    {
     "name": "stdout",
     "output_type": "stream",
     "text": [
      "False\n",
      "True\n"
     ]
    }
   ],
   "source": [
    "s = \"Анна\"\n",
    "dig = \"5151\"\n",
    "\n",
    "print(s.isdigit())\n",
    "print(dig.isdigit())"
   ]
  },
  {
   "cell_type": "code",
   "execution_count": 32,
   "id": "7045122c-7ed7-4d5c-8498-a79c38683045",
   "metadata": {},
   "outputs": [
    {
     "name": "stdout",
     "output_type": "stream",
     "text": [
      "False\n",
      "True\n"
     ]
    }
   ],
   "source": [
    "s = \"X-14\"\n",
    "letters = \"Маск\"\n",
    "\n",
    "print(s.isalpha())\n",
    "print(letters.isalpha())"
   ]
  },
  {
   "cell_type": "code",
   "execution_count": 34,
   "id": "3364a78c-895b-4db1-ae65-eaa29fd59173",
   "metadata": {},
   "outputs": [
    {
     "name": "stdout",
     "output_type": "stream",
     "text": [
      "False\n",
      "True\n"
     ]
    }
   ],
   "source": [
    "s = \"X-14\"\n",
    "s_no_ = \"X14\"\n",
    "\n",
    "print(s.isalnum())\n",
    "print(s_no_.isalnum())"
   ]
  },
  {
   "cell_type": "markdown",
   "id": "e89199a3-5270-495c-a234-e88bb6010e78",
   "metadata": {},
   "source": [
    "Не забывайте про встроенное в питон средство помощи — функцию `help`.\n",
    "\n",
    "Вот, например, все методы строк:"
   ]
  },
  {
   "cell_type": "code",
   "execution_count": 35,
   "id": "13fd4122-d3fd-456a-a174-05f82732fce4",
   "metadata": {},
   "outputs": [
    {
     "name": "stdout",
     "output_type": "stream",
     "text": [
      "Help on class str in module builtins:\n",
      "\n",
      "class str(object)\n",
      " |  str(object='') -> str\n",
      " |  str(bytes_or_buffer[, encoding[, errors]]) -> str\n",
      " |  \n",
      " |  Create a new string object from the given object. If encoding or\n",
      " |  errors is specified, then the object must expose a data buffer\n",
      " |  that will be decoded using the given encoding and error handler.\n",
      " |  Otherwise, returns the result of object.__str__() (if defined)\n",
      " |  or repr(object).\n",
      " |  encoding defaults to sys.getdefaultencoding().\n",
      " |  errors defaults to 'strict'.\n",
      " |  \n",
      " |  Methods defined here:\n",
      " |  \n",
      " |  __add__(self, value, /)\n",
      " |      Return self+value.\n",
      " |  \n",
      " |  __contains__(self, key, /)\n",
      " |      Return key in self.\n",
      " |  \n",
      " |  __eq__(self, value, /)\n",
      " |      Return self==value.\n",
      " |  \n",
      " |  __format__(self, format_spec, /)\n",
      " |      Return a formatted version of the string as described by format_spec.\n",
      " |  \n",
      " |  __ge__(self, value, /)\n",
      " |      Return self>=value.\n",
      " |  \n",
      " |  __getattribute__(self, name, /)\n",
      " |      Return getattr(self, name).\n",
      " |  \n",
      " |  __getitem__(self, key, /)\n",
      " |      Return self[key].\n",
      " |  \n",
      " |  __getnewargs__(...)\n",
      " |  \n",
      " |  __gt__(self, value, /)\n",
      " |      Return self>value.\n",
      " |  \n",
      " |  __hash__(self, /)\n",
      " |      Return hash(self).\n",
      " |  \n",
      " |  __iter__(self, /)\n",
      " |      Implement iter(self).\n",
      " |  \n",
      " |  __le__(self, value, /)\n",
      " |      Return self<=value.\n",
      " |  \n",
      " |  __len__(self, /)\n",
      " |      Return len(self).\n",
      " |  \n",
      " |  __lt__(self, value, /)\n",
      " |      Return self<value.\n",
      " |  \n",
      " |  __mod__(self, value, /)\n",
      " |      Return self%value.\n",
      " |  \n",
      " |  __mul__(self, value, /)\n",
      " |      Return self*value.\n",
      " |  \n",
      " |  __ne__(self, value, /)\n",
      " |      Return self!=value.\n",
      " |  \n",
      " |  __repr__(self, /)\n",
      " |      Return repr(self).\n",
      " |  \n",
      " |  __rmod__(self, value, /)\n",
      " |      Return value%self.\n",
      " |  \n",
      " |  __rmul__(self, value, /)\n",
      " |      Return value*self.\n",
      " |  \n",
      " |  __sizeof__(self, /)\n",
      " |      Return the size of the string in memory, in bytes.\n",
      " |  \n",
      " |  __str__(self, /)\n",
      " |      Return str(self).\n",
      " |  \n",
      " |  capitalize(self, /)\n",
      " |      Return a capitalized version of the string.\n",
      " |      \n",
      " |      More specifically, make the first character have upper case and the rest lower\n",
      " |      case.\n",
      " |  \n",
      " |  casefold(self, /)\n",
      " |      Return a version of the string suitable for caseless comparisons.\n",
      " |  \n",
      " |  center(self, width, fillchar=' ', /)\n",
      " |      Return a centered string of length width.\n",
      " |      \n",
      " |      Padding is done using the specified fill character (default is a space).\n",
      " |  \n",
      " |  count(...)\n",
      " |      S.count(sub[, start[, end]]) -> int\n",
      " |      \n",
      " |      Return the number of non-overlapping occurrences of substring sub in\n",
      " |      string S[start:end].  Optional arguments start and end are\n",
      " |      interpreted as in slice notation.\n",
      " |  \n",
      " |  encode(self, /, encoding='utf-8', errors='strict')\n",
      " |      Encode the string using the codec registered for encoding.\n",
      " |      \n",
      " |      encoding\n",
      " |        The encoding in which to encode the string.\n",
      " |      errors\n",
      " |        The error handling scheme to use for encoding errors.\n",
      " |        The default is 'strict' meaning that encoding errors raise a\n",
      " |        UnicodeEncodeError.  Other possible values are 'ignore', 'replace' and\n",
      " |        'xmlcharrefreplace' as well as any other name registered with\n",
      " |        codecs.register_error that can handle UnicodeEncodeErrors.\n",
      " |  \n",
      " |  endswith(...)\n",
      " |      S.endswith(suffix[, start[, end]]) -> bool\n",
      " |      \n",
      " |      Return True if S ends with the specified suffix, False otherwise.\n",
      " |      With optional start, test S beginning at that position.\n",
      " |      With optional end, stop comparing S at that position.\n",
      " |      suffix can also be a tuple of strings to try.\n",
      " |  \n",
      " |  expandtabs(self, /, tabsize=8)\n",
      " |      Return a copy where all tab characters are expanded using spaces.\n",
      " |      \n",
      " |      If tabsize is not given, a tab size of 8 characters is assumed.\n",
      " |  \n",
      " |  find(...)\n",
      " |      S.find(sub[, start[, end]]) -> int\n",
      " |      \n",
      " |      Return the lowest index in S where substring sub is found,\n",
      " |      such that sub is contained within S[start:end].  Optional\n",
      " |      arguments start and end are interpreted as in slice notation.\n",
      " |      \n",
      " |      Return -1 on failure.\n",
      " |  \n",
      " |  format(...)\n",
      " |      S.format(*args, **kwargs) -> str\n",
      " |      \n",
      " |      Return a formatted version of S, using substitutions from args and kwargs.\n",
      " |      The substitutions are identified by braces ('{' and '}').\n",
      " |  \n",
      " |  format_map(...)\n",
      " |      S.format_map(mapping) -> str\n",
      " |      \n",
      " |      Return a formatted version of S, using substitutions from mapping.\n",
      " |      The substitutions are identified by braces ('{' and '}').\n",
      " |  \n",
      " |  index(...)\n",
      " |      S.index(sub[, start[, end]]) -> int\n",
      " |      \n",
      " |      Return the lowest index in S where substring sub is found,\n",
      " |      such that sub is contained within S[start:end].  Optional\n",
      " |      arguments start and end are interpreted as in slice notation.\n",
      " |      \n",
      " |      Raises ValueError when the substring is not found.\n",
      " |  \n",
      " |  isalnum(self, /)\n",
      " |      Return True if the string is an alpha-numeric string, False otherwise.\n",
      " |      \n",
      " |      A string is alpha-numeric if all characters in the string are alpha-numeric and\n",
      " |      there is at least one character in the string.\n",
      " |  \n",
      " |  isalpha(self, /)\n",
      " |      Return True if the string is an alphabetic string, False otherwise.\n",
      " |      \n",
      " |      A string is alphabetic if all characters in the string are alphabetic and there\n",
      " |      is at least one character in the string.\n",
      " |  \n",
      " |  isascii(self, /)\n",
      " |      Return True if all characters in the string are ASCII, False otherwise.\n",
      " |      \n",
      " |      ASCII characters have code points in the range U+0000-U+007F.\n",
      " |      Empty string is ASCII too.\n",
      " |  \n",
      " |  isdecimal(self, /)\n",
      " |      Return True if the string is a decimal string, False otherwise.\n",
      " |      \n",
      " |      A string is a decimal string if all characters in the string are decimal and\n",
      " |      there is at least one character in the string.\n",
      " |  \n",
      " |  isdigit(self, /)\n",
      " |      Return True if the string is a digit string, False otherwise.\n",
      " |      \n",
      " |      A string is a digit string if all characters in the string are digits and there\n",
      " |      is at least one character in the string.\n",
      " |  \n",
      " |  isidentifier(self, /)\n",
      " |      Return True if the string is a valid Python identifier, False otherwise.\n",
      " |      \n",
      " |      Call keyword.iskeyword(s) to test whether string s is a reserved identifier,\n",
      " |      such as \"def\" or \"class\".\n",
      " |  \n",
      " |  islower(self, /)\n",
      " |      Return True if the string is a lowercase string, False otherwise.\n",
      " |      \n",
      " |      A string is lowercase if all cased characters in the string are lowercase and\n",
      " |      there is at least one cased character in the string.\n",
      " |  \n",
      " |  isnumeric(self, /)\n",
      " |      Return True if the string is a numeric string, False otherwise.\n",
      " |      \n",
      " |      A string is numeric if all characters in the string are numeric and there is at\n",
      " |      least one character in the string.\n",
      " |  \n",
      " |  isprintable(self, /)\n",
      " |      Return True if the string is printable, False otherwise.\n",
      " |      \n",
      " |      A string is printable if all of its characters are considered printable in\n",
      " |      repr() or if it is empty.\n",
      " |  \n",
      " |  isspace(self, /)\n",
      " |      Return True if the string is a whitespace string, False otherwise.\n",
      " |      \n",
      " |      A string is whitespace if all characters in the string are whitespace and there\n",
      " |      is at least one character in the string.\n",
      " |  \n",
      " |  istitle(self, /)\n",
      " |      Return True if the string is a title-cased string, False otherwise.\n",
      " |      \n",
      " |      In a title-cased string, upper- and title-case characters may only\n",
      " |      follow uncased characters and lowercase characters only cased ones.\n",
      " |  \n",
      " |  isupper(self, /)\n",
      " |      Return True if the string is an uppercase string, False otherwise.\n",
      " |      \n",
      " |      A string is uppercase if all cased characters in the string are uppercase and\n",
      " |      there is at least one cased character in the string.\n",
      " |  \n",
      " |  join(self, iterable, /)\n",
      " |      Concatenate any number of strings.\n",
      " |      \n",
      " |      The string whose method is called is inserted in between each given string.\n",
      " |      The result is returned as a new string.\n",
      " |      \n",
      " |      Example: '.'.join(['ab', 'pq', 'rs']) -> 'ab.pq.rs'\n",
      " |  \n",
      " |  ljust(self, width, fillchar=' ', /)\n",
      " |      Return a left-justified string of length width.\n",
      " |      \n",
      " |      Padding is done using the specified fill character (default is a space).\n",
      " |  \n",
      " |  lower(self, /)\n",
      " |      Return a copy of the string converted to lowercase.\n",
      " |  \n",
      " |  lstrip(self, chars=None, /)\n",
      " |      Return a copy of the string with leading whitespace removed.\n",
      " |      \n",
      " |      If chars is given and not None, remove characters in chars instead.\n",
      " |  \n",
      " |  partition(self, sep, /)\n",
      " |      Partition the string into three parts using the given separator.\n",
      " |      \n",
      " |      This will search for the separator in the string.  If the separator is found,\n",
      " |      returns a 3-tuple containing the part before the separator, the separator\n",
      " |      itself, and the part after it.\n",
      " |      \n",
      " |      If the separator is not found, returns a 3-tuple containing the original string\n",
      " |      and two empty strings.\n",
      " |  \n",
      " |  removeprefix(self, prefix, /)\n",
      " |      Return a str with the given prefix string removed if present.\n",
      " |      \n",
      " |      If the string starts with the prefix string, return string[len(prefix):].\n",
      " |      Otherwise, return a copy of the original string.\n",
      " |  \n",
      " |  removesuffix(self, suffix, /)\n",
      " |      Return a str with the given suffix string removed if present.\n",
      " |      \n",
      " |      If the string ends with the suffix string and that suffix is not empty,\n",
      " |      return string[:-len(suffix)]. Otherwise, return a copy of the original\n",
      " |      string.\n",
      " |  \n",
      " |  replace(self, old, new, count=-1, /)\n",
      " |      Return a copy with all occurrences of substring old replaced by new.\n",
      " |      \n",
      " |        count\n",
      " |          Maximum number of occurrences to replace.\n",
      " |          -1 (the default value) means replace all occurrences.\n",
      " |      \n",
      " |      If the optional argument count is given, only the first count occurrences are\n",
      " |      replaced.\n",
      " |  \n",
      " |  rfind(...)\n",
      " |      S.rfind(sub[, start[, end]]) -> int\n",
      " |      \n",
      " |      Return the highest index in S where substring sub is found,\n",
      " |      such that sub is contained within S[start:end].  Optional\n",
      " |      arguments start and end are interpreted as in slice notation.\n",
      " |      \n",
      " |      Return -1 on failure.\n",
      " |  \n",
      " |  rindex(...)\n",
      " |      S.rindex(sub[, start[, end]]) -> int\n",
      " |      \n",
      " |      Return the highest index in S where substring sub is found,\n",
      " |      such that sub is contained within S[start:end].  Optional\n",
      " |      arguments start and end are interpreted as in slice notation.\n",
      " |      \n",
      " |      Raises ValueError when the substring is not found.\n",
      " |  \n",
      " |  rjust(self, width, fillchar=' ', /)\n",
      " |      Return a right-justified string of length width.\n",
      " |      \n",
      " |      Padding is done using the specified fill character (default is a space).\n",
      " |  \n",
      " |  rpartition(self, sep, /)\n",
      " |      Partition the string into three parts using the given separator.\n",
      " |      \n",
      " |      This will search for the separator in the string, starting at the end. If\n",
      " |      the separator is found, returns a 3-tuple containing the part before the\n",
      " |      separator, the separator itself, and the part after it.\n",
      " |      \n",
      " |      If the separator is not found, returns a 3-tuple containing two empty strings\n",
      " |      and the original string.\n",
      " |  \n",
      " |  rsplit(self, /, sep=None, maxsplit=-1)\n",
      " |      Return a list of the substrings in the string, using sep as the separator string.\n",
      " |      \n",
      " |        sep\n",
      " |          The separator used to split the string.\n",
      " |      \n",
      " |          When set to None (the default value), will split on any whitespace\n",
      " |          character (including \\\\n \\\\r \\\\t \\\\f and spaces) and will discard\n",
      " |          empty strings from the result.\n",
      " |        maxsplit\n",
      " |          Maximum number of splits (starting from the left).\n",
      " |          -1 (the default value) means no limit.\n",
      " |      \n",
      " |      Splitting starts at the end of the string and works to the front.\n",
      " |  \n",
      " |  rstrip(self, chars=None, /)\n",
      " |      Return a copy of the string with trailing whitespace removed.\n",
      " |      \n",
      " |      If chars is given and not None, remove characters in chars instead.\n",
      " |  \n",
      " |  split(self, /, sep=None, maxsplit=-1)\n",
      " |      Return a list of the substrings in the string, using sep as the separator string.\n",
      " |      \n",
      " |        sep\n",
      " |          The separator used to split the string.\n",
      " |      \n",
      " |          When set to None (the default value), will split on any whitespace\n",
      " |          character (including \\\\n \\\\r \\\\t \\\\f and spaces) and will discard\n",
      " |          empty strings from the result.\n",
      " |        maxsplit\n",
      " |          Maximum number of splits (starting from the left).\n",
      " |          -1 (the default value) means no limit.\n",
      " |      \n",
      " |      Note, str.split() is mainly useful for data that has been intentionally\n",
      " |      delimited.  With natural text that includes punctuation, consider using\n",
      " |      the regular expression module.\n",
      " |  \n",
      " |  splitlines(self, /, keepends=False)\n",
      " |      Return a list of the lines in the string, breaking at line boundaries.\n",
      " |      \n",
      " |      Line breaks are not included in the resulting list unless keepends is given and\n",
      " |      true.\n",
      " |  \n",
      " |  startswith(...)\n",
      " |      S.startswith(prefix[, start[, end]]) -> bool\n",
      " |      \n",
      " |      Return True if S starts with the specified prefix, False otherwise.\n",
      " |      With optional start, test S beginning at that position.\n",
      " |      With optional end, stop comparing S at that position.\n",
      " |      prefix can also be a tuple of strings to try.\n",
      " |  \n",
      " |  strip(self, chars=None, /)\n",
      " |      Return a copy of the string with leading and trailing whitespace removed.\n",
      " |      \n",
      " |      If chars is given and not None, remove characters in chars instead.\n",
      " |  \n",
      " |  swapcase(self, /)\n",
      " |      Convert uppercase characters to lowercase and lowercase characters to uppercase.\n",
      " |  \n",
      " |  title(self, /)\n",
      " |      Return a version of the string where each word is titlecased.\n",
      " |      \n",
      " |      More specifically, words start with uppercased characters and all remaining\n",
      " |      cased characters have lower case.\n",
      " |  \n",
      " |  translate(self, table, /)\n",
      " |      Replace each character in the string using the given translation table.\n",
      " |      \n",
      " |        table\n",
      " |          Translation table, which must be a mapping of Unicode ordinals to\n",
      " |          Unicode ordinals, strings, or None.\n",
      " |      \n",
      " |      The table must implement lookup/indexing via __getitem__, for instance a\n",
      " |      dictionary or list.  If this operation raises LookupError, the character is\n",
      " |      left untouched.  Characters mapped to None are deleted.\n",
      " |  \n",
      " |  upper(self, /)\n",
      " |      Return a copy of the string converted to uppercase.\n",
      " |  \n",
      " |  zfill(self, width, /)\n",
      " |      Pad a numeric string with zeros on the left, to fill a field of the given width.\n",
      " |      \n",
      " |      The string is never truncated.\n",
      " |  \n",
      " |  ----------------------------------------------------------------------\n",
      " |  Static methods defined here:\n",
      " |  \n",
      " |  __new__(*args, **kwargs) from builtins.type\n",
      " |      Create and return a new object.  See help(type) for accurate signature.\n",
      " |  \n",
      " |  maketrans(...)\n",
      " |      Return a translation table usable for str.translate().\n",
      " |      \n",
      " |      If there is only one argument, it must be a dictionary mapping Unicode\n",
      " |      ordinals (integers) or characters to Unicode ordinals, strings or None.\n",
      " |      Character keys will be then converted to ordinals.\n",
      " |      If there are two arguments, they must be strings of equal length, and\n",
      " |      in the resulting dictionary, each character in x will be mapped to the\n",
      " |      character at the same position in y. If there is a third argument, it\n",
      " |      must be a string, whose characters will be mapped to None in the result.\n",
      "\n"
     ]
    }
   ],
   "source": [
    "help(str)"
   ]
  },
  {
   "cell_type": "markdown",
   "id": "742323c4-5921-4c46-b24e-be3263e8d669",
   "metadata": {},
   "source": [
    "## Пройтись параллельно по двум спискам одинаковой длины сразу и сделать новый"
   ]
  },
  {
   "cell_type": "markdown",
   "id": "a3e89ea9-8647-428e-a223-caba13939a5f",
   "metadata": {},
   "source": [
    "Тут помогут индексы и идиома `for i in range(len(...))`"
   ]
  },
  {
   "cell_type": "code",
   "execution_count": 64,
   "id": "70d56758-1fc0-4751-bff8-0507ae38a548",
   "metadata": {},
   "outputs": [
    {
     "name": "stdout",
     "output_type": "stream",
     "text": [
      "0 Юра\n",
      "1 Люда\n",
      "2 Кирилл\n",
      "3 Никита\n",
      "4 Оля\n"
     ]
    }
   ],
   "source": [
    "names = \"Юра Люда Кирилл Никита Оля\".split()\n",
    "days = [24, 28, 29, 26, 30]\n",
    "\n",
    "for i in range(len(names)):\n",
    "    print(i, names[i])"
   ]
  },
  {
   "cell_type": "code",
   "execution_count": 66,
   "id": "7ad26dea-418c-4c41-97c6-4d9bb8c52c4f",
   "metadata": {},
   "outputs": [
    {
     "name": "stdout",
     "output_type": "stream",
     "text": [
      "5\n"
     ]
    }
   ],
   "source": [
    "print(len(names))"
   ]
  },
  {
   "cell_type": "markdown",
   "id": "59117213-9479-43da-b25d-50ce77a9d861",
   "metadata": {},
   "source": [
    "какие индексы у списка длиной 5?\n",
    "\n",
    "0, 1, 2, 3, 4"
   ]
  },
  {
   "cell_type": "code",
   "execution_count": 69,
   "id": "cb5d69d4-d756-427e-a952-b45b25bb49e8",
   "metadata": {},
   "outputs": [
    {
     "name": "stdout",
     "output_type": "stream",
     "text": [
      "[0, 1, 2, 3, 4, 5, 6, 7, 8, 9]\n",
      "0\n",
      "1\n",
      "2\n",
      "3\n",
      "4\n",
      "5\n",
      "6\n",
      "7\n",
      "8\n",
      "9\n"
     ]
    }
   ],
   "source": [
    "myrange = range(10)\n",
    "print(list(myrange))\n",
    "\n",
    "for i in myrange:\n",
    "    print(i)"
   ]
  },
  {
   "cell_type": "code",
   "execution_count": 70,
   "id": "022bf532-7109-4828-8837-8af270c976fc",
   "metadata": {},
   "outputs": [
    {
     "name": "stdout",
     "output_type": "stream",
     "text": [
      "[5, 6, 7, 8, 9]\n",
      "5\n",
      "6\n",
      "7\n",
      "8\n",
      "9\n"
     ]
    }
   ],
   "source": [
    "myrange = range(5, 10)\n",
    "print(list(myrange))\n",
    "\n",
    "for i in myrange:\n",
    "    print(i)"
   ]
  },
  {
   "cell_type": "code",
   "execution_count": 71,
   "id": "af16afce-1a3e-4298-bfaa-4c710384aa4d",
   "metadata": {},
   "outputs": [
    {
     "name": "stdout",
     "output_type": "stream",
     "text": [
      "[5, 7, 9]\n",
      "5\n",
      "7\n",
      "9\n"
     ]
    }
   ],
   "source": [
    "myrange = range(5, 10, 2)\n",
    "print(list(myrange))\n",
    "\n",
    "for i in myrange:\n",
    "    print(i)"
   ]
  },
  {
   "cell_type": "markdown",
   "id": "522568b0-9d72-4ec1-9ecd-32c4e69ba73e",
   "metadata": {},
   "source": [
    "`for i in range(len(<список>))` — идиома которая позволяет проходиться по индексам списка"
   ]
  },
  {
   "cell_type": "code",
   "execution_count": 75,
   "id": "6e13239c-832f-4cca-b6a8-f2583bfcf4e9",
   "metadata": {},
   "outputs": [
    {
     "name": "stdout",
     "output_type": "stream",
     "text": [
      "['Юра', 'Люда', 'Кирилл', 'Никита']\n"
     ]
    }
   ],
   "source": [
    "names = \"Юра Люда Кирилл Никита Оля\".split()\n",
    "days = [24, 28, 29, 26, 30]\n",
    "\n",
    "have_remaining_days = []\n",
    "\n",
    "for i in range(len(names)):\n",
    "    if days[i] < 30:\n",
    "        have_remaining_days.append(names[i])\n",
    "\n",
    "print(have_remaining_days)"
   ]
  },
  {
   "cell_type": "code",
   "execution_count": 80,
   "id": "a5cbc738-454a-4eee-8929-290ff69bb56d",
   "metadata": {},
   "outputs": [
    {
     "data": {
      "text/plain": [
       "['Люда', 'Кирилл', 'Никита', 'Оля']"
      ]
     },
     "execution_count": 80,
     "metadata": {},
     "output_type": "execute_result"
    }
   ],
   "source": [
    "def remaining_days(names, days):\n",
    "    have_remaining_days = []\n",
    "    \n",
    "    for i in range(len(names)):\n",
    "        if days[i] < 30:\n",
    "            have_remaining_days.append(names[i])\n",
    "\n",
    "    return have_remaining_days\n",
    "\n",
    "remaining_days(\"Юра Люда Кирилл Никита Оля\".split(), [40, 28, 29, 26, 20])"
   ]
  },
  {
   "cell_type": "code",
   "execution_count": 80,
   "id": "8f62e4a5-3851-4737-a282-1ca7481122a4",
   "metadata": {},
   "outputs": [
    {
     "data": {
      "text/plain": [
       "['Люда', 'Кирилл', 'Никита', 'Оля']"
      ]
     },
     "execution_count": 80,
     "metadata": {},
     "output_type": "execute_result"
    }
   ],
   "source": [
    "def remaining_days(names, days):\n",
    "    have_remaining_days = []\n",
    "    \n",
    "    for i in range(len(names)):\n",
    "        person_name = names[i]\n",
    "        person_days = days[i]\n",
    "        \n",
    "        if person_days < 30:\n",
    "            have_remaining_days.append(person_name)\n",
    "\n",
    "    return have_remaining_days\n",
    "\n",
    "remaining_days(\"Юра Люда Кирилл Никита Оля\".split(), [40, 28, 29, 26, 20])"
   ]
  },
  {
   "cell_type": "code",
   "execution_count": null,
   "id": "728bcbcf-0ebb-425f-8a33-5f1cbad95bef",
   "metadata": {},
   "outputs": [],
   "source": []
  },
  {
   "cell_type": "code",
   "execution_count": 83,
   "id": "76c301e6-a07a-42f3-8d2f-619501373d32",
   "metadata": {},
   "outputs": [
    {
     "name": "stdout",
     "output_type": "stream",
     "text": [
      "5\n",
      "5\n"
     ]
    },
    {
     "ename": "TypeError",
     "evalue": "len() takes exactly one argument (2 given)",
     "output_type": "error",
     "traceback": [
      "\u001b[1;31m---------------------------------------------------------------------------\u001b[0m",
      "\u001b[1;31mTypeError\u001b[0m                                 Traceback (most recent call last)",
      "Cell \u001b[1;32mIn[83], line 6\u001b[0m\n\u001b[0;32m      4\u001b[0m \u001b[38;5;28mprint\u001b[39m(\u001b[38;5;28mlen\u001b[39m(names))\n\u001b[0;32m      5\u001b[0m \u001b[38;5;28mprint\u001b[39m(\u001b[38;5;28mlen\u001b[39m(days))\n\u001b[1;32m----> 6\u001b[0m \u001b[38;5;28mprint\u001b[39m(\u001b[38;5;28;43mlen\u001b[39;49m\u001b[43m(\u001b[49m\u001b[43mnames\u001b[49m\u001b[43m,\u001b[49m\u001b[43m \u001b[49m\u001b[43mdays\u001b[49m\u001b[43m)\u001b[49m)\n",
      "\u001b[1;31mTypeError\u001b[0m: len() takes exactly one argument (2 given)"
     ]
    }
   ],
   "source": [
    "names = \"Юра Люда Кирилл Никита Оля\".split()\n",
    "days = [24, 28, 29, 26, 30]\n",
    "\n",
    "print(len(names))\n",
    "print(len(days))\n",
    "print(len(names, days))"
   ]
  },
  {
   "cell_type": "code",
   "execution_count": 85,
   "id": "daac7bc3-b35d-4995-b807-8dcbb47bb940",
   "metadata": {},
   "outputs": [
    {
     "name": "stdout",
     "output_type": "stream",
     "text": [
      "0 Юра 24\n",
      "0 Юра 28\n",
      "0 Юра 29\n",
      "0 Юра 26\n",
      "0 Юра 30\n",
      "1 Люда 24\n",
      "1 Люда 28\n",
      "1 Люда 29\n",
      "1 Люда 26\n",
      "1 Люда 30\n",
      "2 Кирилл 24\n",
      "2 Кирилл 28\n",
      "2 Кирилл 29\n",
      "2 Кирилл 26\n",
      "2 Кирилл 30\n",
      "3 Никита 24\n",
      "3 Никита 28\n",
      "3 Никита 29\n",
      "3 Никита 26\n",
      "3 Никита 30\n",
      "4 Оля 24\n",
      "4 Оля 28\n",
      "4 Оля 29\n",
      "4 Оля 26\n",
      "4 Оля 30\n"
     ]
    }
   ],
   "source": [
    "names = \"Юра Люда Кирилл Никита Оля\".split()\n",
    "days = [24, 28, 29, 26, 30]\n",
    "\n",
    "# что-то не то, каждый с каждым\n",
    "for i in range(len(names)):\n",
    "    for j in range(len(days)):\n",
    "        print(i, names[i], days[j])"
   ]
  },
  {
   "cell_type": "code",
   "execution_count": 86,
   "id": "0bddfc9e-74f6-40a9-b60e-54da8a6844a1",
   "metadata": {},
   "outputs": [
    {
     "name": "stdout",
     "output_type": "stream",
     "text": [
      "Юра 24 50\n",
      "Люда 28 60\n",
      "Кирилл 29 70\n",
      "Никита 26 90\n",
      "Оля 30 100\n"
     ]
    }
   ],
   "source": [
    "names = \"Юра Люда Кирилл Никита Оля\".split()\n",
    "days = [24, 28, 29, 26, 30]\n",
    "income = [50, 60, 70, 90, 100]\n",
    "\n",
    "\n",
    "for i in range(len(names)):\n",
    "    print(names[i], days[i], income[i])"
   ]
  },
  {
   "cell_type": "markdown",
   "id": "d421a857-b87c-4872-95b7-53bb84be13e9",
   "metadata": {},
   "source": [
    "### Когда нужны вложенные циклы\n",
    "\n",
    "В общем, в таких задачах не нужны были вложенные циклы.\n",
    "\n",
    "А когда нужны? — Когда нужно сделать \"каждое с каждым\"!\n",
    "\n",
    "Например, распечатать таблицу умножения ))"
   ]
  },
  {
   "cell_type": "code",
   "execution_count": 88,
   "id": "80dfa9bc-5b79-475c-af0d-29ac42a62ee3",
   "metadata": {},
   "outputs": [
    {
     "name": "stdout",
     "output_type": "stream",
     "text": [
      "2 * 1 = 2\n",
      "2 * 2 = 4\n",
      "2 * 3 = 6\n",
      "2 * 4 = 8\n",
      "2 * 5 = 10\n",
      "2 * 6 = 12\n",
      "2 * 7 = 14\n",
      "2 * 8 = 16\n",
      "2 * 9 = 18\n",
      "\n",
      "3 * 1 = 3\n",
      "3 * 2 = 6\n",
      "3 * 3 = 9\n",
      "3 * 4 = 12\n",
      "3 * 5 = 15\n",
      "3 * 6 = 18\n",
      "3 * 7 = 21\n",
      "3 * 8 = 24\n",
      "3 * 9 = 27\n",
      "\n",
      "4 * 1 = 4\n",
      "4 * 2 = 8\n",
      "4 * 3 = 12\n",
      "4 * 4 = 16\n",
      "4 * 5 = 20\n",
      "4 * 6 = 24\n",
      "4 * 7 = 28\n",
      "4 * 8 = 32\n",
      "4 * 9 = 36\n",
      "\n"
     ]
    }
   ],
   "source": [
    "for left in range(2, 5):\n",
    "    for right in range(1, 10):\n",
    "        print(f\"{left} * {right} = {left * right}\")\n",
    "    \n",
    "    print()"
   ]
  },
  {
   "cell_type": "markdown",
   "id": "a9b17906-6071-4ed1-88d1-fddfe8a4a0d3",
   "metadata": {},
   "source": [
    "## `map`\n",
    "\n",
    "— функция высшего порядка, которая умеет применять другие функции\n",
    "\n",
    "`map(<имя_другой_функции>, <коллекция>)` — применит к каждому элементу коллекции (второй аргумент), какую-то функцию (первый аргумент)"
   ]
  },
  {
   "cell_type": "code",
   "execution_count": 96,
   "id": "595149a3-639e-44d1-abc1-ad7ca0409f64",
   "metadata": {},
   "outputs": [
    {
     "name": "stdout",
     "output_type": "stream",
     "text": [
      "41 <class 'int'>\n",
      "159 <class 'int'>\n",
      "151 <class 'int'>\n"
     ]
    }
   ],
   "source": [
    "for num in map(int, ['41', '159', '151']):\n",
    "    print(num, type(num))"
   ]
  },
  {
   "cell_type": "code",
   "execution_count": 94,
   "id": "b616407a-1531-4a97-83d9-d3149579cd1c",
   "metadata": {},
   "outputs": [
    {
     "name": "stdin",
     "output_type": "stream",
     "text": [
      " 41 159 151\n"
     ]
    },
    {
     "name": "stdout",
     "output_type": "stream",
     "text": [
      "41 159 151 <class 'str'>\n",
      "['41', '159', '151'] <class 'list'>\n",
      "[41, 159, 151] <class 'list'>\n"
     ]
    }
   ],
   "source": [
    "numbers_str = input()\n",
    "\n",
    "print(numbers_str, type(numbers_str))\n",
    "\n",
    "numbers_str_list = numbers_str.split()\n",
    "print(numbers_str_list, type(numbers_str_list))\n",
    "\n",
    "numbers_list = list(map(int, numbers_str_list))\n",
    "print(numbers_list, type(numbers_list))"
   ]
  },
  {
   "cell_type": "markdown",
   "id": "3a86e9c0-f3db-415d-abf0-81d018377c1e",
   "metadata": {},
   "source": [
    "Само `map` не печатается, в этом оно похоже на `range`. Чтобы увидеть итог, нужно пройтись по `map(...)` в цикле или применить `list(map(...))`"
   ]
  },
  {
   "cell_type": "code",
   "execution_count": 95,
   "id": "f8df112e-4cdf-448e-9523-0d8463ec23e2",
   "metadata": {},
   "outputs": [
    {
     "data": {
      "text/plain": [
       "<map at 0x157da359c30>"
      ]
     },
     "execution_count": 95,
     "metadata": {},
     "output_type": "execute_result"
    }
   ],
   "source": [
    "map(int, ['41', '159', '151'])"
   ]
  },
  {
   "cell_type": "markdown",
   "id": "7e541757-95b2-4ee2-a9c8-38e572ea2d19",
   "metadata": {},
   "source": [
    "`map` полезна при считывании чисел в строке, для перевода их в `int` или `float`"
   ]
  },
  {
   "cell_type": "code",
   "execution_count": 2,
   "id": "e36da95a-cae7-41c2-96c2-7381dea9446e",
   "metadata": {},
   "outputs": [
    {
     "name": "stdin",
     "output_type": "stream",
     "text": [
      " 15 591 501\n"
     ]
    },
    {
     "name": "stdout",
     "output_type": "stream",
     "text": [
      "1107\n"
     ]
    }
   ],
   "source": [
    "nums_strings = input().split() \n",
    "\n",
    "nums = list(map(int, nums_strings))\n",
    "\n",
    "# могут быть ещё действия, например суммирование\n",
    "print(sum(nums))"
   ]
  },
  {
   "cell_type": "markdown",
   "id": "b166c32a-f136-4cc3-ac3d-a0380b05e677",
   "metadata": {},
   "source": [
    "### Применение методов\n",
    "\n",
    "Чтобы применить с помощью `map` методы (которые пишутся через точку `.` после данной определённого типа, например `str`, как `.lower()`: \"Анна\".lower()), нужно записать полное имя метода — добавить перед `.` тип"
   ]
  },
  {
   "cell_type": "code",
   "execution_count": 101,
   "id": "2135cae8-d48a-47d9-b226-4062ec7ca9dc",
   "metadata": {},
   "outputs": [
    {
     "name": "stdin",
     "output_type": "stream",
     "text": [
      " Анна Максим\n"
     ]
    },
    {
     "name": "stdout",
     "output_type": "stream",
     "text": [
      "['анна', 'максим']\n"
     ]
    }
   ],
   "source": [
    "names = input().split()\n",
    "\n",
    "print(list(map(str.lower, names)))"
   ]
  },
  {
   "cell_type": "markdown",
   "id": "a01a5d36-eca9-42f6-a11a-c68ec2a81c2a",
   "metadata": {},
   "source": [
    "Это работает, потому что работает `str.lower(\"Анна\")`"
   ]
  },
  {
   "cell_type": "code",
   "execution_count": 3,
   "id": "ca57fb3e-337c-4bce-b7d6-a52b24b4665c",
   "metadata": {
    "scrolled": true
   },
   "outputs": [
    {
     "name": "stdout",
     "output_type": "stream",
     "text": [
      "анна\n",
      "анна\n"
     ]
    }
   ],
   "source": [
    "print(\"Анна\".lower())\n",
    "\n",
    "print(str.lower(\"Анна\"))"
   ]
  },
  {
   "cell_type": "markdown",
   "id": "bcf47076-dbf0-449c-9f03-f1919299a880",
   "metadata": {},
   "source": [
    "(у списков нет метода `.lower()`, не забывайте!)"
   ]
  },
  {
   "cell_type": "code",
   "execution_count": 105,
   "id": "22e0dbb9-0595-4596-b70b-0ba7c4efe5be",
   "metadata": {},
   "outputs": [
    {
     "name": "stdout",
     "output_type": "stream",
     "text": [
      "['Анна', 'Максим']\n"
     ]
    },
    {
     "ename": "AttributeError",
     "evalue": "'list' object has no attribute 'lower'",
     "output_type": "error",
     "traceback": [
      "\u001b[1;31m---------------------------------------------------------------------------\u001b[0m",
      "\u001b[1;31mAttributeError\u001b[0m                            Traceback (most recent call last)",
      "Cell \u001b[1;32mIn[105], line 2\u001b[0m\n\u001b[0;32m      1\u001b[0m \u001b[38;5;28mprint\u001b[39m(names)\n\u001b[1;32m----> 2\u001b[0m \u001b[43mnames\u001b[49m\u001b[38;5;241;43m.\u001b[39;49m\u001b[43mlower\u001b[49m()\n",
      "\u001b[1;31mAttributeError\u001b[0m: 'list' object has no attribute 'lower'"
     ]
    }
   ],
   "source": [
    "print(names)\n",
    "names.lower()"
   ]
  },
  {
   "cell_type": "code",
   "execution_count": 100,
   "id": "ebd373ee-38d0-4ddc-b250-d2aa7773e23f",
   "metadata": {},
   "outputs": [
    {
     "name": "stdout",
     "output_type": "stream",
     "text": [
      "анна\n",
      "максим\n"
     ]
    }
   ],
   "source": [
    "print(\"Анна\".lower())\n",
    "\n",
    "s = \"Максим\"\n",
    "print(s.lower())"
   ]
  },
  {
   "cell_type": "markdown",
   "id": "d3155425-7b80-46ce-aabf-66693aad3fa5",
   "metadata": {},
   "source": [
    "Можно свободно использовать в `map` и свои функции:"
   ]
  },
  {
   "cell_type": "code",
   "execution_count": 4,
   "id": "9c854507-832c-499a-af13-319e17de6cd0",
   "metadata": {},
   "outputs": [
    {
     "name": "stdout",
     "output_type": "stream",
     "text": [
      "[1, 4, 81, 196]\n"
     ]
    }
   ],
   "source": [
    "def square(num):\n",
    "    return num ** 2\n",
    "\n",
    "my_nums = [1, 2, 9, 14]\n",
    "\n",
    "print(list(map(square, my_nums)))"
   ]
  },
  {
   "cell_type": "code",
   "execution_count": 116,
   "id": "bf7d7ecb-54e9-4904-a651-2911556735f1",
   "metadata": {},
   "outputs": [
    {
     "name": "stdin",
     "output_type": "stream",
     "text": [
      " 1 2 5 9 14 25\n"
     ]
    },
    {
     "name": "stdout",
     "output_type": "stream",
     "text": [
      "['1', '2', '5', '9', '14', '25']\n",
      "<map object at 0x00000157DA35A830>\n",
      "[1, 4, 25, 81, 196, 625]\n"
     ]
    }
   ],
   "source": [
    "my_nums_str = input().split()\n",
    "print(my_nums_str)\n",
    "\n",
    "my_nums = map(int, my_nums_str)\n",
    "print(my_nums)\n",
    "\n",
    "def square(num):\n",
    "    return num ** 2\n",
    "\n",
    "print(list(map(square, my_nums)))"
   ]
  },
  {
   "cell_type": "markdown",
   "id": "bdbb0cc9-99c8-42e6-ac4c-1392431bcb34",
   "metadata": {},
   "source": [
    "## вывести элементы заданного списка по индексам, которые также заданы"
   ]
  },
  {
   "cell_type": "markdown",
   "id": "0eab82f7-c6f8-4fe2-bf42-1ba963dcf658",
   "metadata": {},
   "source": [
    "В задаче был задан список `names`, а в списке numbers были числа, которые **нужно воспринимать как индексы**. И нужно просто взять из списка элементы по заданным индексам.\n",
    "\n",
    "Для этого достаточно пройтись по индексам и по ним обращаться к списку."
   ]
  },
  {
   "cell_type": "code",
   "execution_count": 118,
   "id": "57d0b570-4526-426f-9580-0a2990c4a21f",
   "metadata": {},
   "outputs": [
    {
     "name": "stdout",
     "output_type": "stream",
     "text": [
      "[14, 14, 'Витя']\n"
     ]
    }
   ],
   "source": [
    "names = [\"Аня\", 14, 14, \"Витя\", 34]\n",
    "numbers = [1, 2, 3]\n",
    "\n",
    "# распечатать элементы names по индексам из numbers\n",
    "answer = []\n",
    "for i in numbers:\n",
    "    answer.append(names[i])\n",
    "\n",
    "print(answer)"
   ]
  },
  {
   "cell_type": "code",
   "execution_count": 119,
   "id": "293d2e9b-11ba-46cc-bc6b-913393358967",
   "metadata": {},
   "outputs": [
    {
     "name": "stdout",
     "output_type": "stream",
     "text": [
      "['Петя', 'Петя']\n"
     ]
    }
   ],
   "source": [
    "names = [\"Аня\", \"Маша\", \"Петя\", \"Марина\"]\n",
    "numbers = [2, 2]\n",
    "\n",
    "# распечатать элементы names по индексам из numbers\n",
    "answer = []\n",
    "for i in numbers:\n",
    "    answer.append(names[i])\n",
    "\n",
    "print(answer)"
   ]
  },
  {
   "cell_type": "code",
   "execution_count": 120,
   "id": "13337927-335d-4227-8218-3a339558fbf8",
   "metadata": {},
   "outputs": [
    {
     "name": "stdout",
     "output_type": "stream",
     "text": [
      "['Петя']\n"
     ]
    }
   ],
   "source": [
    "names = [\"Аня\", \"Маша\", \"Петя\", \"Марина\"]\n",
    "numbers = [2, 2]\n",
    "\n",
    "# распечатать элементы names по индексам из numbers\n",
    "# НЕПРАВИЛЬНО!!! ДОЛЖНА ВЫВОДИТЬ ДВАЖДЫ \"Петя\"\n",
    "answer = []\n",
    "for i in range(len(names)):\n",
    "    if i in numbers:\n",
    "        answer.append(names[i])\n",
    "\n",
    "print(answer)"
   ]
  },
  {
   "cell_type": "markdown",
   "id": "7bd01936-69ad-4a17-9400-27cf2264cfc4",
   "metadata": {},
   "source": [
    "## два списка одинаковой длины и вывести те элементы одного из списков, которым соответствует определенное значение во втором списке"
   ]
  },
  {
   "cell_type": "markdown",
   "id": "0b3d7202-f0af-4580-9bf0-5069a7d476ee",
   "metadata": {},
   "source": [
    "Задачка похожа на ту, что выше, но не совсем. Тут нужно проходиться по нескольким спискам параллельно"
   ]
  },
  {
   "cell_type": "code",
   "execution_count": 121,
   "id": "da8cf70d-6695-4d8d-9d14-905df9839bb8",
   "metadata": {},
   "outputs": [
    {
     "name": "stdin",
     "output_type": "stream",
     "text": [
      " Anna Alisa Alena Oleg Ivan\n",
      " Japanese Korean Japanese English Korean\n",
      " Japanese\n"
     ]
    },
    {
     "name": "stdout",
     "output_type": "stream",
     "text": [
      "['Anna', 'Alena']\n"
     ]
    }
   ],
   "source": [
    "# names = \"Anna Alisa Alena Oleg Ivan\"\n",
    "# languages = \"Japanese Korean Japanese English Korean\"\n",
    "# info = \"Japanese\"\n",
    "\n",
    "names = input().split()\n",
    "languages = input().split()\n",
    "info = input()\n",
    "\n",
    "answer = []\n",
    "for i in range(len(names)):\n",
    "    name = names[i]\n",
    "    language = languages[i]\n",
    "\n",
    "    if info == language:\n",
    "        answer.append(name)\n",
    "\n",
    "print(answer)"
   ]
  },
  {
   "cell_type": "code",
   "execution_count": null,
   "id": "7b07d37a-5ca5-490a-b36e-cb736dda8618",
   "metadata": {},
   "outputs": [],
   "source": []
  },
  {
   "cell_type": "markdown",
   "id": "a66fd2aa-adc4-46ea-89da-6990701955b9",
   "metadata": {},
   "source": [
    "## Повторять действие несколько раз"
   ]
  },
  {
   "cell_type": "code",
   "execution_count": 127,
   "id": "3a7a3073-6076-4dd5-aeed-6a19243f286b",
   "metadata": {},
   "outputs": [
    {
     "name": "stdin",
     "output_type": "stream",
     "text": [
      " 1\n",
      " 2006\n"
     ]
    },
    {
     "name": "stdout",
     "output_type": "stream",
     "text": [
      "2006 год — чётный\n"
     ]
    }
   ],
   "source": [
    "n = int(input())\n",
    "\n",
    "while n != 0:\n",
    "    year = int(input())\n",
    "    if year % 2 == 0:\n",
    "        print(year, \"год — чётный\")\n",
    "    n -= 1"
   ]
  },
  {
   "cell_type": "code",
   "execution_count": 144,
   "id": "ed3bccf0-b1f8-4fa4-b3b9-13fbd710aef3",
   "metadata": {},
   "outputs": [
    {
     "name": "stdin",
     "output_type": "stream",
     "text": [
      " 3\n",
      " 2000\n"
     ]
    },
    {
     "name": "stdout",
     "output_type": "stream",
     "text": [
      "2000 год — чётный\n"
     ]
    },
    {
     "name": "stdin",
     "output_type": "stream",
     "text": [
      " 2003\n",
      " 2008\n"
     ]
    },
    {
     "name": "stdout",
     "output_type": "stream",
     "text": [
      "2008 год — чётный\n"
     ]
    }
   ],
   "source": [
    "n = int(input())\n",
    "\n",
    "while n > 0:\n",
    "    year = int(input())\n",
    "    if year % 2 == 0:\n",
    "        print(year, \"год — чётный\")\n",
    "    n -= 1"
   ]
  },
  {
   "cell_type": "code",
   "execution_count": 146,
   "id": "21b8a544-bffe-4e99-95fc-ff6a7a779e52",
   "metadata": {},
   "outputs": [
    {
     "name": "stdin",
     "output_type": "stream",
     "text": [
      " 1\n",
      " 2006\n"
     ]
    },
    {
     "name": "stdout",
     "output_type": "stream",
     "text": [
      "2006 год — чётный\n"
     ]
    }
   ],
   "source": [
    "n = int(input())\n",
    "\n",
    "for i in range(n):\n",
    "    year = int(input())\n",
    "    if year % 2 == 0:\n",
    "        print(year, \"год — чётный\")"
   ]
  },
  {
   "cell_type": "markdown",
   "id": "4a7165d5-059c-47d4-a1df-77a36ed96ee8",
   "metadata": {},
   "source": [
    "ЕСЛИ БЫ в задаче просили считывать данные до тех пор пока не будет N именно чётных годов, тогда нужен цикл while и n уменьшать внутри условия"
   ]
  },
  {
   "cell_type": "code",
   "execution_count": 147,
   "id": "c6dc671b-b10c-4e69-a03c-da0b645f0e1b",
   "metadata": {},
   "outputs": [
    {
     "name": "stdin",
     "output_type": "stream",
     "text": [
      " 3\n",
      " 2000\n"
     ]
    },
    {
     "name": "stdout",
     "output_type": "stream",
     "text": [
      "2000 год — чётный\n"
     ]
    },
    {
     "name": "stdin",
     "output_type": "stream",
     "text": [
      " 20003\n",
      " 2008\n"
     ]
    },
    {
     "name": "stdout",
     "output_type": "stream",
     "text": [
      "2008 год — чётный\n"
     ]
    },
    {
     "name": "stdin",
     "output_type": "stream",
     "text": [
      " 2001\n",
      " 2007\n",
      " 2009\n",
      " 2011\n",
      " 2023\n",
      " 2024\n"
     ]
    },
    {
     "name": "stdout",
     "output_type": "stream",
     "text": [
      "2024 год — чётный\n"
     ]
    }
   ],
   "source": [
    "n = int(input())\n",
    "\n",
    "while n > 0:\n",
    "    year = int(input())\n",
    "    if year % 2 == 0:\n",
    "        print(year, \"год — чётный\")\n",
    "        n -= 1"
   ]
  },
  {
   "cell_type": "code",
   "execution_count": 122,
   "id": "dee63de7-aa5a-4c67-adc3-2a8c03aaa034",
   "metadata": {},
   "outputs": [
    {
     "data": {
      "text/plain": [
       "1"
      ]
     },
     "execution_count": 122,
     "metadata": {},
     "output_type": "execute_result"
    }
   ],
   "source": [
    "17 % 2"
   ]
  },
  {
   "cell_type": "code",
   "execution_count": 124,
   "id": "38dca719-84fb-4059-9671-a670926315f9",
   "metadata": {},
   "outputs": [
    {
     "data": {
      "text/plain": [
       "0"
      ]
     },
     "execution_count": 124,
     "metadata": {},
     "output_type": "execute_result"
    }
   ],
   "source": [
    "16 % 2"
   ]
  },
  {
   "cell_type": "code",
   "execution_count": 123,
   "id": "0dfc2d02-b782-469a-bfc9-2b65b291724a",
   "metadata": {
    "scrolled": true
   },
   "outputs": [
    {
     "data": {
      "text/plain": [
       "3"
      ]
     },
     "execution_count": 123,
     "metadata": {},
     "output_type": "execute_result"
    }
   ],
   "source": [
    "15 % 4"
   ]
  },
  {
   "cell_type": "code",
   "execution_count": null,
   "id": "c7b68b36-4526-4389-b232-6198e799f699",
   "metadata": {},
   "outputs": [],
   "source": []
  },
  {
   "cell_type": "markdown",
   "id": "e922fb62-5d15-4288-ba47-9ad132b8d71a",
   "metadata": {},
   "source": [
    "## f-строки\n",
    "\n",
    "Они просто удобные, и иногда проще распечатать что-то с ними, чем с голым `print`"
   ]
  },
  {
   "cell_type": "code",
   "execution_count": 128,
   "id": "c7d0a767-b46e-45ab-b675-b4a6f36885e3",
   "metadata": {},
   "outputs": [
    {
     "name": "stdin",
     "output_type": "stream",
     "text": [
      " Максим\n"
     ]
    },
    {
     "name": "stdout",
     "output_type": "stream",
     "text": [
      "Здравствуйте, 'Максим'!\n"
     ]
    }
   ],
   "source": [
    "name = input()\n",
    "\n",
    "print(f\"Здравствуйте, '{name}'!\")"
   ]
  },
  {
   "cell_type": "code",
   "execution_count": 129,
   "id": "41216f46-ccc7-48d5-8093-0a9f0f16a3df",
   "metadata": {},
   "outputs": [
    {
     "name": "stdin",
     "output_type": "stream",
     "text": [
      " Максим\n"
     ]
    },
    {
     "name": "stdout",
     "output_type": "stream",
     "text": [
      "Здравствуйте, ' Максим '!\n"
     ]
    }
   ],
   "source": [
    "name = input()\n",
    "\n",
    "print(\"Здравствуйте, '\", name, \"'!\")"
   ]
  },
  {
   "cell_type": "code",
   "execution_count": 130,
   "id": "67b3a3a5-b82d-4118-a1a1-66046de62a6c",
   "metadata": {},
   "outputs": [
    {
     "name": "stdin",
     "output_type": "stream",
     "text": [
      " Максим\n"
     ]
    },
    {
     "name": "stdout",
     "output_type": "stream",
     "text": [
      "Здравствуйте, ' Максим '!\n"
     ]
    }
   ],
   "source": [
    "name = input()\n",
    "\n",
    "print(\"Здравствуйте, '\", name, \"'!\", sep=\" \")"
   ]
  },
  {
   "cell_type": "code",
   "execution_count": 131,
   "id": "fca47ec4-d49c-4a10-8649-672ab9017fcf",
   "metadata": {},
   "outputs": [
    {
     "name": "stdin",
     "output_type": "stream",
     "text": [
      " Максим\n"
     ]
    },
    {
     "name": "stdout",
     "output_type": "stream",
     "text": [
      "Здравствуйте, 'Максим'!\n"
     ]
    }
   ],
   "source": [
    "name = input()\n",
    "\n",
    "print(\"Здравствуйте, '\", name, \"'!\", sep=\"\")"
   ]
  },
  {
   "cell_type": "markdown",
   "id": "87a1ea6d-f74e-444c-bb5f-39b4545f1350",
   "metadata": {},
   "source": [
    "кавычки в f-строках должны быть не те, которые вокруг неё самой"
   ]
  },
  {
   "cell_type": "code",
   "execution_count": 138,
   "id": "b81f286a-eff6-43e7-917a-884c402cf97a",
   "metadata": {},
   "outputs": [
    {
     "name": "stdout",
     "output_type": "stream",
     "text": [
      "Здравствуйте, 'Максим' 23 лет!\n"
     ]
    }
   ],
   "source": [
    "names2age = {\"Максим\": 23, \"МА\": 40}\n",
    "\n",
    "print(f\"Здравствуйте, 'Максим' {names2age['Максим']} лет!\")"
   ]
  },
  {
   "cell_type": "code",
   "execution_count": 142,
   "id": "ba40cafc-1104-44ba-8c4f-c0ddc45cebc4",
   "metadata": {},
   "outputs": [
    {
     "name": "stdout",
     "output_type": "stream",
     "text": [
      "3.1\n"
     ]
    }
   ],
   "source": [
    "num = 3.1415926\n",
    "\n",
    "print(f\"{num:.2}\")"
   ]
  }
 ],
 "metadata": {
  "kernelspec": {
   "display_name": "Python 3 (ipykernel)",
   "language": "python",
   "name": "python3"
  },
  "language_info": {
   "codemirror_mode": {
    "name": "ipython",
    "version": 3
   },
   "file_extension": ".py",
   "mimetype": "text/x-python",
   "name": "python",
   "nbconvert_exporter": "python",
   "pygments_lexer": "ipython3",
   "version": "3.11.3"
  }
 },
 "nbformat": 4,
 "nbformat_minor": 5
}
