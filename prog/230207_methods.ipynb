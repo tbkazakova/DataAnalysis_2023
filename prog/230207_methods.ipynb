{
 "cells": [
  {
   "cell_type": "markdown",
   "id": "fe4aa52a",
   "metadata": {
    "id": "fe4aa52a"
   },
   "source": [
    "# Продолжение про списки, кортежи и строки. Методы списков"
   ]
  },
  {
   "cell_type": "markdown",
   "id": "aec3aa23",
   "metadata": {
    "id": "aec3aa23"
   },
   "source": [
    "Мы уже знаем про:\n",
    "- типы данных `int`, `float`, `str`, `bool`, `list` [список], `tuple` (кортеж неизменяемый)\n",
    "- математические операторы: `+`, `-`, `/`, `*`, `**` (в степень), `%` (остаток от деления), `//` (целая часть при делении)\n",
    "- `print()` — напечатать\n",
    "- `type()` — узнать тип данных\n",
    "- `input()` — принять значение от пользователя\n",
    "- `int()` — преобразовать в целочисленный формат\n",
    "- `float()` — преобразовать в формат дробного числа\n",
    "- `str()` — преобразовать в строку\n",
    "- `bool()` — преобразовать в bool (True/False)\n",
    "- `list()` — преобразовать в список\n",
    "- `tuple()` — преобразовать в кортеж\n",
    "- условия:\n",
    "```\n",
    "if <условие>:\n",
    "    <инструкции, для случая если условие истинно (True)>\n",
    "#elif <условие №2>:\n",
    "#    <инструкции, для случая если условие №2 истинно (True)>\n",
    "#else:\n",
    "#    <инструкции, когда все условия не выполнились (False)>\n",
    "```\n",
    "- операторы сравнения: `>`, `<`, `>=`, `<=`, `==` (равно), `!=` (не равно)\n",
    "- логические операторы: `and`, `or`, `not`\n",
    "- цикл `while`:\n",
    "```\n",
    "while <условие>:\n",
    "    <инструкции, которые будут выполняться по кругу, пока условие выполняется True>\n",
    "```\n",
    "- цикл `for`\n",
    "```\n",
    "for <element> in <elements>:\n",
    "       <инструкции, которые будут выполняться для каждого элемента>\n",
    "```\n",
    "- `.split()` - поделить строку, указанную до точки, по сочетанию символов, указанных в скобках (строка -> список)\n",
    "- индексация с нуля: `итерируемый_объект[индекс]`\n",
    "- срезы: `итерируемый_объект[START:END:STEP]`\n",
    "- `*список` - то же самое, что `список[0] список[1] список[2] список[3]...`"
   ]
  },
  {
   "cell_type": "markdown",
   "id": "e26a24a6-eea7-48e7-9fc1-9690db2058f2",
   "metadata": {},
   "source": [
    "---"
   ]
  },
  {
   "cell_type": "markdown",
   "id": "4cbd0a9c-132b-4730-b6c7-0f40fe87e30b",
   "metadata": {},
   "source": [
    "Со списками нам может быть полезно делать много разных вещей:\n",
    "- узнавать сколько в них вещей\n",
    "- добавлять данные\n",
    "- изменять данные\n",
    "- удалять данные\n",
    "- искать что-то!"
   ]
  },
  {
   "cell_type": "markdown",
   "id": "b3a3455d-11b9-49c6-abc3-99417014acdb",
   "metadata": {},
   "source": [
    "Посмотрим, какие в питоне есть для этого возможности. "
   ]
  },
  {
   "cell_type": "markdown",
   "id": "qIMX-OTubLwX",
   "metadata": {
    "id": "qIMX-OTubLwX"
   },
   "source": [
    "## len() - узнать длину"
   ]
  },
  {
   "cell_type": "markdown",
   "id": "d5c2cab8-13e2-4236-985e-13fad17058d0",
   "metadata": {},
   "source": [
    "как списка, так и кортежа (так и строчки, так и много чего ещё, что увидим в будущем) "
   ]
  },
  {
   "cell_type": "code",
   "execution_count": 1,
   "id": "PDh26CAcbFyJ",
   "metadata": {
    "colab": {
     "base_uri": "https://localhost:8080/"
    },
    "id": "PDh26CAcbFyJ",
    "outputId": "23ca5354-e158-4536-9a8e-b3cbcb49627c"
   },
   "outputs": [
    {
     "data": {
      "text/plain": [
       "12"
      ]
     },
     "execution_count": 1,
     "metadata": {},
     "output_type": "execute_result"
    }
   ],
   "source": [
    "months = ('January', 'February', 'March',\n",
    "          'April', 'May', 'June', 'July',\n",
    "          'August', 'September', 'October',\n",
    "          'November', 'December')\n",
    "len(months)"
   ]
  },
  {
   "cell_type": "markdown",
   "id": "7b4d400d-e6c5-47e9-a5fb-6f46d660633d",
   "metadata": {},
   "source": [
    "Не забывайте, что длина на один больше, чем максимальный индекс!"
   ]
  },
  {
   "cell_type": "code",
   "execution_count": 2,
   "id": "2e3e1200-cf85-4af9-835f-d32d946dc631",
   "metadata": {},
   "outputs": [
    {
     "ename": "IndexError",
     "evalue": "tuple index out of range",
     "output_type": "error",
     "traceback": [
      "\u001b[1;31m---------------------------------------------------------------------------\u001b[0m",
      "\u001b[1;31mIndexError\u001b[0m                                Traceback (most recent call last)",
      "Cell \u001b[1;32mIn [2], line 1\u001b[0m\n\u001b[1;32m----> 1\u001b[0m \u001b[43mmonths\u001b[49m\u001b[43m[\u001b[49m\u001b[38;5;241;43m12\u001b[39;49m\u001b[43m]\u001b[49m\n",
      "\u001b[1;31mIndexError\u001b[0m: tuple index out of range"
     ]
    }
   ],
   "source": [
    "months[12]"
   ]
  },
  {
   "cell_type": "markdown",
   "id": "bddbe937-c725-4429-81f2-8126a77ea68d",
   "metadata": {},
   "source": [
    "(Почему? Потому что минимальный индекс это 0, а не 1, и выходит не `1..12`, а `0..11`, и так всегда с индексами в питоне)   "
   ]
  },
  {
   "cell_type": "code",
   "execution_count": 3,
   "id": "AGs2MbnGbuMd",
   "metadata": {
    "colab": {
     "base_uri": "https://localhost:8080/"
    },
    "id": "AGs2MbnGbuMd",
    "outputId": "518ac72b-a247-4889-fa9e-23f686df7154"
   },
   "outputs": [
    {
     "name": "stdout",
     "output_type": "stream",
     "text": [
      "36\n"
     ]
    }
   ],
   "source": [
    "print(len('Сколько символов в этом предложении?'))"
   ]
  },
  {
   "cell_type": "markdown",
   "id": "oriScWuCacNt",
   "metadata": {
    "id": "oriScWuCacNt"
   },
   "source": [
    "## range() &mdash; \"обещание последовательности чисел\" "
   ]
  },
  {
   "cell_type": "markdown",
   "id": "2e9dc477-24a4-49e7-95ba-5ea04da829eb",
   "metadata": {},
   "source": [
    "Бывают ситуации, когда нужен диапазон чисел.\n",
    "    Эта функция здесь и поможет!"
   ]
  },
  {
   "cell_type": "markdown",
   "id": "71fb65ce-a6bb-406a-b3c2-4da419c864c2",
   "metadata": {},
   "source": [
    "Просто так ничего полезного не печатает:"
   ]
  },
  {
   "cell_type": "code",
   "execution_count": 4,
   "id": "jyJ6Ah-IaeZg",
   "metadata": {
    "colab": {
     "base_uri": "https://localhost:8080/"
    },
    "id": "jyJ6Ah-IaeZg",
    "outputId": "aee76753-39bb-4c74-c9e0-bc17a0723570"
   },
   "outputs": [
    {
     "name": "stdout",
     "output_type": "stream",
     "text": [
      "range(0, 8)\n"
     ]
    }
   ],
   "source": [
    "print(range(8))"
   ]
  },
  {
   "cell_type": "markdown",
   "id": "266eac0a-fe93-498c-b301-c7b18917b8cd",
   "metadata": {},
   "source": [
    "Но можно поглотить функциями `tuple` или `list`, чтобы получить заполненный объект соответствующего типа! И чудо, там будет диапазон чисел! "
   ]
  },
  {
   "cell_type": "code",
   "execution_count": 5,
   "id": "PX8iWwYjjieL",
   "metadata": {
    "colab": {
     "base_uri": "https://localhost:8080/"
    },
    "id": "PX8iWwYjjieL",
    "outputId": "a95a3b83-29a9-4002-a8b7-1c006acef34f"
   },
   "outputs": [
    {
     "data": {
      "text/plain": [
       "(0, 1, 2, 3, 4, 5, 6, 7)"
      ]
     },
     "execution_count": 5,
     "metadata": {},
     "output_type": "execute_result"
    }
   ],
   "source": [
    "tuple(range(8))"
   ]
  },
  {
   "cell_type": "code",
   "execution_count": 6,
   "id": "0PSGmTiYafTD",
   "metadata": {
    "id": "0PSGmTiYafTD"
   },
   "outputs": [
    {
     "data": {
      "text/plain": [
       "[2, 3, 4, 5, 6, 7]"
      ]
     },
     "execution_count": 6,
     "metadata": {},
     "output_type": "execute_result"
    }
   ],
   "source": [
    "list(range(2,8))"
   ]
  },
  {
   "cell_type": "code",
   "execution_count": 7,
   "id": "2zB8Tew9aiS2",
   "metadata": {
    "id": "2zB8Tew9aiS2"
   },
   "outputs": [
    {
     "data": {
      "text/plain": [
       "[0, 2, 4, 6]"
      ]
     },
     "execution_count": 7,
     "metadata": {},
     "output_type": "execute_result"
    }
   ],
   "source": [
    "list(range(0, 8, 2))"
   ]
  },
  {
   "cell_type": "markdown",
   "id": "59ed1a59-6d04-4102-9c78-9ca24500376a",
   "metadata": {},
   "source": [
    "Другой способ использовать `range`, это не совсем поглотить, а пройтись по нему в цикле"
   ]
  },
  {
   "cell_type": "code",
   "execution_count": 8,
   "id": "CUxX-e-janFa",
   "metadata": {
    "colab": {
     "base_uri": "https://localhost:8080/"
    },
    "id": "CUxX-e-janFa",
    "outputId": "4660b180-f097-4881-a2f2-9301f06a3088"
   },
   "outputs": [
    {
     "name": "stdout",
     "output_type": "stream",
     "text": [
      "Привет! 0\n",
      "Привет! 1\n",
      "Привет! 2\n",
      "Привет! 3\n",
      "Привет! 4\n"
     ]
    }
   ],
   "source": [
    "# kolvo = 0\n",
    "# while kolvo < 5:\n",
    "    # print('Привет!')\n",
    "    # kolvo +=1\n",
    "    \n",
    "\n",
    "# здороваемся 5 раз и считаем\n",
    "for i in range(5):\n",
    "    print('Привет!', i)"
   ]
  },
  {
   "cell_type": "markdown",
   "id": "f641d649-6c79-40fc-b31c-4e099e44138a",
   "metadata": {},
   "source": [
    "Обратите внимание, что числа из диапазона мы можем использовать как индексы для какой-то последовательности!\n",
    "    (Для списков, кортежей, строк и т.д.)"
   ]
  },
  {
   "cell_type": "code",
   "execution_count": 9,
   "id": "wKSeWLJpaqrp",
   "metadata": {
    "id": "wKSeWLJpaqrp"
   },
   "outputs": [
    {
     "name": "stdout",
     "output_type": "stream",
     "text": [
      "l 2\n",
      "l 3\n"
     ]
    }
   ],
   "source": [
    "word = 'Hello'\n",
    "for i in range(2,4):  # как l l напечатать?\n",
    "    print(word[i], i)"
   ]
  },
  {
   "cell_type": "markdown",
   "id": "833f2d0d-a0c2-460c-b032-90a906b7b224",
   "metadata": {},
   "source": [
    "Если в коде выше собирать строчку по кусочкам, то это будет эквивалентно срезу ниже.\n",
    "    **Обратите внимание**, индексы устроены так же, только разделены двоеточием: `[начало:конец:шаг]`, а не запятой как в `range`"
   ]
  },
  {
   "cell_type": "code",
   "execution_count": 10,
   "id": "2face798-c585-451c-92ca-9b5d8916d277",
   "metadata": {},
   "outputs": [
    {
     "data": {
      "text/plain": [
       "'ll'"
      ]
     },
     "execution_count": 10,
     "metadata": {},
     "output_type": "execute_result"
    }
   ],
   "source": [
    "word[2:4]"
   ]
  },
  {
   "cell_type": "markdown",
   "id": "D7Hfzprsa7X2",
   "metadata": {
    "id": "D7Hfzprsa7X2"
   },
   "source": [
    "### Тренировка\n",
    "\n",
    "Как напечатать номер месяца и название? Есть много способов. Но попробуем `range(len(months))`"
   ]
  },
  {
   "cell_type": "markdown",
   "id": "dafc199d-f4bc-4d0e-bde7-5cb9fd23c139",
   "metadata": {},
   "source": [
    "Ниже для полноты пример с проходом по всему кортежу.\n",
    "    Тут хитро сочетается получение длины функцией `len` (для такого кортежа это будет `12`), и создание диапазона чисел от `0` (это начало по умолчанию, когда не указано иного), до `12` (`len(months)`) невключительно.\n",
    "    \n",
    "Но это и есть в точности все возможные индексы для нашего кортежа!\n",
    "    Ведь они тоже `0..11`!\n",
    "    \n",
    "Поэтому `range()` в сочетании с `len(<список/кортеж/строка/другая последовательность>)` в качестве аргумента, удобен для прохода по последовательностям, когда нужны также индексы."
   ]
  },
  {
   "cell_type": "code",
   "execution_count": 12,
   "id": "aTfofsFqatN-",
   "metadata": {
    "id": "aTfofsFqatN-"
   },
   "outputs": [
    {
     "name": "stdout",
     "output_type": "stream",
     "text": [
      "1 January\n",
      "2 February\n",
      "3 March\n",
      "4 April\n",
      "5 May\n",
      "6 June\n",
      "7 July\n",
      "8 August\n",
      "9 September\n",
      "10 October\n",
      "11 November\n",
      "12 December\n"
     ]
    }
   ],
   "source": [
    "for i in range(len(months)):\n",
    "    print(i+1, months[i])"
   ]
  },
  {
   "cell_type": "markdown",
   "id": "bb11460f",
   "metadata": {
    "id": "bb11460f"
   },
   "source": [
    "### Тренировка\n",
    "Напечатайте в строку: название книги, автора, год издания"
   ]
  },
  {
   "cell_type": "code",
   "execution_count": 13,
   "id": "3f273e9b",
   "metadata": {
    "id": "3f273e9b"
   },
   "outputs": [],
   "source": [
    "books = ['Петя и волк', 'Муфта, Полботинка и Моховая Борода', 'Зоки и Бада']\n",
    "authors = ['С. С. Прокофьев', 'Эно Рауд', 'Ирина и Леонид Тюхтяевы']\n",
    "publication = ['1936', '1976', '1990']"
   ]
  },
  {
   "cell_type": "markdown",
   "id": "b07c84dd-2257-44af-8100-69a869e3925c",
   "metadata": {},
   "source": [
    "Списки у нас одинаковой длины и название на первом месте соответствует автору на первом месте и году на первом месте.\n",
    "\n",
    "Значит, нужно проходиться по индексам какого-то из списков (неважно какого!) и брать из каждого списка элемент на соответствущей позиции."
   ]
  },
  {
   "cell_type": "code",
   "execution_count": 14,
   "id": "9e7a53c8",
   "metadata": {},
   "outputs": [
    {
     "name": "stdout",
     "output_type": "stream",
     "text": [
      "Петя и волк - С. С. Прокофьев - 1936\n",
      "Муфта, Полботинка и Моховая Борода - Эно Рауд - 1976\n",
      "Зоки и Бада - Ирина и Леонид Тюхтяевы - 1990\n"
     ]
    }
   ],
   "source": [
    "for i in range(len(books)):\n",
    "    print(books[i], authors[i], publication[i], sep=' - ')"
   ]
  },
  {
   "cell_type": "markdown",
   "id": "Rhm23mTbcJWs",
   "metadata": {
    "id": "Rhm23mTbcJWs"
   },
   "source": [
    "## `enumerate(<последовательность>)` &mdash; получить новую последовательность дополненную порядковыми номерами"
   ]
  },
  {
   "cell_type": "markdown",
   "id": "c145d132-8375-4b19-9f03-b454def725ac",
   "metadata": {},
   "source": [
    "Как и `range` сам по себе ничего не печатает:"
   ]
  },
  {
   "cell_type": "code",
   "execution_count": 15,
   "id": "9cdefc08-b941-4354-8820-bbe55a81d2e7",
   "metadata": {},
   "outputs": [
    {
     "data": {
      "text/plain": [
       "<enumerate at 0x1af30460940>"
      ]
     },
     "execution_count": 15,
     "metadata": {},
     "output_type": "execute_result"
    }
   ],
   "source": [
    "enumerate(months)"
   ]
  },
  {
   "cell_type": "markdown",
   "id": "4e2d8896-b114-41dd-9d84-67f1ea4ab8bc",
   "metadata": {},
   "source": [
    "Но список позволяет поглотить и увидеть, что `enumerate` делает последовательность кортежей (показан список, потому что применили `list`, а не `tuple` например):\n",
    "    \n",
    "    [(порядковый_номер, элемент), (порядковый_номер, элемент), (порядковый_номер, элемент)]\n",
    "    \n"
   ]
  },
  {
   "cell_type": "code",
   "execution_count": 16,
   "id": "a993f248",
   "metadata": {},
   "outputs": [
    {
     "data": {
      "text/plain": [
       "[(0, 'January'),\n",
       " (1, 'February'),\n",
       " (2, 'March'),\n",
       " (3, 'April'),\n",
       " (4, 'May'),\n",
       " (5, 'June'),\n",
       " (6, 'July'),\n",
       " (7, 'August'),\n",
       " (8, 'September'),\n",
       " (9, 'October'),\n",
       " (10, 'November'),\n",
       " (11, 'December')]"
      ]
     },
     "execution_count": 16,
     "metadata": {},
     "output_type": "execute_result"
    }
   ],
   "source": [
    "list(enumerate(months))"
   ]
  },
  {
   "cell_type": "markdown",
   "id": "c26bc2d0-b264-42df-a703-414ba7910ccc",
   "metadata": {},
   "source": [
    "Как это удобно использовать в цикле?"
   ]
  },
  {
   "cell_type": "markdown",
   "id": "700b2fc9-f5fd-485e-93c7-a9ddc2145e9f",
   "metadata": {},
   "source": [
    "Вспомним сперва, что в питоне можно распределять присвоение (со знаком равно `=`) через запятую:"
   ]
  },
  {
   "cell_type": "code",
   "execution_count": 17,
   "id": "SrrQ58N9cTOd",
   "metadata": {
    "id": "SrrQ58N9cTOd"
   },
   "outputs": [
    {
     "name": "stdout",
     "output_type": "stream",
     "text": [
      "a: 4\n",
      "b: 5\n"
     ]
    }
   ],
   "source": [
    "# воспоминание:\n",
    "a, b = 4, 5\n",
    "print(\"a:\", a)\n",
    "print(\"b:\", b)"
   ]
  },
  {
   "cell_type": "markdown",
   "id": "2b2deb5c-be86-45ba-98de-12ae59361643",
   "metadata": {},
   "source": [
    "Если справа есть скобки, т.е. правая часть &mdash; кортеж, то не страшно, всё работает точно так же:"
   ]
  },
  {
   "cell_type": "code",
   "execution_count": 18,
   "id": "f69a757a-d277-4442-a300-1f37162253ac",
   "metadata": {},
   "outputs": [
    {
     "name": "stdout",
     "output_type": "stream",
     "text": [
      "i: 5\n",
      "month: June\n"
     ]
    }
   ],
   "source": [
    "i, month =  (5, 'June')\n",
    "\n",
    "print(\"i:\", i)\n",
    "print(\"month:\", month)"
   ]
  },
  {
   "cell_type": "markdown",
   "id": "53b67d31-1012-4617-92a5-df21e845ac75",
   "metadata": {},
   "source": [
    "Этот способ \"развернуть\" кортеж в отдельные переменные мы и используем! "
   ]
  },
  {
   "cell_type": "markdown",
   "id": "5abd38cb-d6d7-4c32-b6e8-a67c0acd81ca",
   "metadata": {},
   "source": [
    "Как и с `range` пройдёмся сразу по `enumerate` (не вызывая `list`):"
   ]
  },
  {
   "cell_type": "code",
   "execution_count": 19,
   "id": "Agil8Md2lGoR",
   "metadata": {
    "id": "Agil8Md2lGoR"
   },
   "outputs": [
    {
     "name": "stdout",
     "output_type": "stream",
     "text": [
      "id: 0 month: January\n",
      "id: 1 month: February\n",
      "id: 2 month: March\n",
      "id: 3 month: April\n",
      "id: 4 month: May\n",
      "id: 5 month: June\n",
      "id: 6 month: July\n",
      "id: 7 month: August\n",
      "id: 8 month: September\n",
      "id: 9 month: October\n",
      "id: 10 month: November\n",
      "id: 11 month: December\n"
     ]
    }
   ],
   "source": [
    "months = ('January', 'February', 'March',\n",
    "          'April', 'May', 'June', 'July',\n",
    "          'August', 'September', 'October',\n",
    "          'November', 'December')\n",
    "\n",
    "for i, month in enumerate(months):\n",
    "    print(\"id:\", i, \"month:\", month)    "
   ]
  },
  {
   "cell_type": "markdown",
   "id": "9b3f60cf-abc9-4af4-92f1-e19018b2b20c",
   "metadata": {},
   "source": [
    "Ну и действительно, на каждом шагу цикла нам выдаётся кортеж из двух элементов, индекса и элемента оригинальной последовательности, и мы этот кортеж просто распаковываем / разворачиваем в отдельные переменные."
   ]
  },
  {
   "cell_type": "markdown",
   "id": "136901ea-5d0b-4aa2-a62e-231a33735c31",
   "metadata": {},
   "source": [
    "Элементов в кортежах выданных `enumerate` на каждом шагу всегда два, какими бы сложными ни были элементы исходной последовательности:"
   ]
  },
  {
   "cell_type": "code",
   "execution_count": 20,
   "id": "d719a380-a4f6-4f70-bf3b-a39b6304faa5",
   "metadata": {
    "colab": {
     "base_uri": "https://localhost:8080/"
    },
    "id": "lv-8vhRLnCcy",
    "outputId": "827c2f80-fdaf-4c65-fde2-e38ef68d4a68"
   },
   "outputs": [
    {
     "name": "stdout",
     "output_type": "stream",
     "text": [
      "[(0, [1, 2, 3]), (1, [4, 5, 6]), (2, [7, 8, 9])]\n"
     ]
    }
   ],
   "source": [
    "matrix = [[1, 2, 3], [4, 5, 6], [7, 8, 9]]\n",
    "enum_matrix = list(enumerate(matrix))\n",
    "\n",
    "print(enum_matrix)"
   ]
  },
  {
   "cell_type": "code",
   "execution_count": 21,
   "id": "9bd7e83f-6592-4b53-80c5-e26b7bf20d1d",
   "metadata": {
    "colab": {
     "base_uri": "https://localhost:8080/"
    },
    "id": "lv-8vhRLnCcy",
    "outputId": "827c2f80-fdaf-4c65-fde2-e38ef68d4a68"
   },
   "outputs": [
    {
     "name": "stdout",
     "output_type": "stream",
     "text": [
      "index of the row is: 0 values of the row are: [1, 2, 3]\n",
      "index of the row is: 1 values of the row are: [4, 5, 6]\n",
      "index of the row is: 2 values of the row are: [7, 8, 9]\n"
     ]
    }
   ],
   "source": [
    "for row_i, row in enumerate(matrix):\n",
    "    print(\"index of the row is:\", row_i, \"values of the row are:\", row)"
   ]
  },
  {
   "cell_type": "markdown",
   "id": "66412c38-a279-40ba-a97d-1b45b80add79",
   "metadata": {},
   "source": [
    "Наконец, можно попросить начинать отсчёт с какого-то другого целого числа, не с нуля: "
   ]
  },
  {
   "cell_type": "code",
   "execution_count": 22,
   "id": "54138e45-7294-44e8-9b38-fdf88f1b2a7e",
   "metadata": {},
   "outputs": [
    {
     "name": "stdout",
     "output_type": "stream",
     "text": [
      "2 [1, 2, 3]\n",
      "3 [4, 5, 6]\n",
      "4 [7, 8, 9]\n"
     ]
    }
   ],
   "source": [
    "for i, row in enumerate(matrix, start=2):\n",
    "    print(i, row)    "
   ]
  },
  {
   "cell_type": "markdown",
   "id": "28762c46-5872-4858-b59b-a6630f20dfe3",
   "metadata": {},
   "source": [
    "Для нашей задачи про книги, авторов и годы тоже можно использовать `enumerate`:"
   ]
  },
  {
   "cell_type": "code",
   "execution_count": 23,
   "id": "5df8c581-10e6-48ef-b328-4df7c4666878",
   "metadata": {},
   "outputs": [
    {
     "data": {
      "text/plain": [
       "[(0, 'Петя и волк'),\n",
       " (1, 'Муфта, Полботинка и Моховая Борода'),\n",
       " (2, 'Зоки и Бада')]"
      ]
     },
     "execution_count": 23,
     "metadata": {},
     "output_type": "execute_result"
    }
   ],
   "source": [
    "books = ['Петя и волк', 'Муфта, Полботинка и Моховая Борода', 'Зоки и Бада']\n",
    "authors = ['С. С. Прокофьев', 'Эно Рауд', 'Ирина и Леонид Тюхтяевы']\n",
    "publication = ['1936', '1976', '1990']\n",
    "\n",
    "list(enumerate(books))"
   ]
  },
  {
   "cell_type": "markdown",
   "id": "9a2ddf6e-097f-4ba5-8e75-6dd02200dc5f",
   "metadata": {},
   "source": [
    "Снова, в `enumerate` подаём какой-то любой из этих списков (здесь `books`), и получаем индексы, которые используем для обращения к другим спискам, и сами элементы исходного списка `books` (поэтому к самому `books` нам не нужно обращаться через `books[i]`, уже всё есть)."
   ]
  },
  {
   "cell_type": "code",
   "execution_count": 24,
   "id": "dd7aca2c-ce06-4667-ab09-6cc9296d944e",
   "metadata": {
    "id": "Agil8Md2lGoR"
   },
   "outputs": [
    {
     "name": "stdout",
     "output_type": "stream",
     "text": [
      "Петя и волк С. С. Прокофьев 1936\n",
      "Муфта, Полботинка и Моховая Борода Эно Рауд 1976\n",
      "Зоки и Бада Ирина и Леонид Тюхтяевы 1990\n"
     ]
    }
   ],
   "source": [
    "for i, book in enumerate(books):\n",
    "    print(book, authors[i], publication[i])"
   ]
  },
  {
   "cell_type": "markdown",
   "id": "ab0959b2-b8c3-4e0c-ad9f-36942c349b70",
   "metadata": {
    "id": "vSXzDnQOnK_5",
    "tags": []
   },
   "source": [
    "## Цикл в цикле"
   ]
  },
  {
   "cell_type": "markdown",
   "id": "3b01e47e-5bf8-4b16-a140-463e33561030",
   "metadata": {},
   "source": [
    "Циклы `for`, как и `while` могут вкладываться один в другой.\n",
    "    \n",
    "```python\n",
    "for outer_index in outer_sequence:\n",
    "    for inner_index in inner_sequence:\n",
    "        ... # <действие>\n",
    "```\n",
    "\n",
    "В такой ситуации на каждом шаге внешнего цикла (`for outer_index in outer_sequence`) **полностью** прогонится внутренний цикл.\n",
    "\n",
    "В итоге:\n",
    "- внешний цикл выполнится столько раз, какова длина `outer_sequence`,\n",
    "- внутренний цикл выполнится столько раз, какова длина `inner_sequence`,\n",
    "- а `...` действие выполнится столько раз, каково число $len(outer\\_sequence) * len(inner\\_sequence)$\n",
    "\n",
    "\n"
   ]
  },
  {
   "cell_type": "markdown",
   "id": "290d1bf6-51c9-4ca8-860c-e16fe252708c",
   "metadata": {
    "id": "vSXzDnQOnK_5",
    "tags": []
   },
   "source": [
    "Максим подтягивается 4 подхода по 5 раз. \n",
    "В этой задаче... \n",
    "- внешний цикл (подходы) выполнится 4 раза\n",
    "    - внутренний цикл (повторения) при каждом шаге внешнего выполнится 5 раз\n",
    "    - т.е. вообще всего печатание числа повторений будет выполнено $4 * 5 = 20$ раз!"
   ]
  },
  {
   "cell_type": "code",
   "execution_count": 25,
   "id": "JwhcaMP8oIaj",
   "metadata": {
    "id": "JwhcaMP8oIaj"
   },
   "outputs": [
    {
     "name": "stdout",
     "output_type": "stream",
     "text": [
      "Начался подход\n",
      "Повторов сделано:\n",
      "1\n",
      "2\n",
      "3\n",
      "4\n",
      "5\n",
      "ПОДХОДОВ сделано: 0\n",
      "\n",
      "Начался подход\n",
      "Повторов сделано:\n",
      "1\n",
      "2\n",
      "3\n",
      "4\n",
      "5\n",
      "ПОДХОДОВ сделано: 1\n",
      "\n",
      "Начался подход\n",
      "Повторов сделано:\n",
      "1\n",
      "2\n",
      "3\n",
      "4\n",
      "5\n",
      "ПОДХОДОВ сделано: 2\n",
      "\n",
      "Начался подход\n",
      "Повторов сделано:\n",
      "1\n",
      "2\n",
      "3\n",
      "4\n",
      "5\n",
      "ПОДХОДОВ сделано: 3\n",
      "\n"
     ]
    }
   ],
   "source": [
    "num_sets = 4\n",
    "num_repeats = 5\n",
    "\n",
    "for set_povtor in range(num_sets):\n",
    "    print(\"Начался подход\")\n",
    "    print(\"Повторов сделано:\")\n",
    "    for repeat in range(num_repeats):\n",
    "        print(repeat + 1)\n",
    "    print(\"ПОДХОДОВ сделано:\", set_povtor)\n",
    "    print()"
   ]
  },
  {
   "cell_type": "markdown",
   "id": "mXEPZcDIoNCn",
   "metadata": {
    "id": "mXEPZcDIoNCn"
   },
   "source": [
    "### Тренировка\n",
    "Снова напишем таблицу умножения (используя range)"
   ]
  },
  {
   "cell_type": "markdown",
   "id": "36978c28-f2f9-42ff-b21e-af11b94cc67e",
   "metadata": {},
   "source": [
    "- `a` определяет левые числа в строчках, `b` &mdash; правые. Заметьте, как `a`, левое число, остаётся тем же в каждых 8 последовательных строчках, меняется только правое, `b`\n",
    "- затем, наконец, левым числом становится следующее по счёту и снова 8 строк \n",
    "- ... (и т.д.)\n"
   ]
  },
  {
   "cell_type": "code",
   "execution_count": 67,
   "id": "VooTVX0koJee",
   "metadata": {
    "id": "VooTVX0koJee",
    "tags": []
   },
   "outputs": [
    {
     "name": "stdout",
     "output_type": "stream",
     "text": [
      "2 * 2 = 4\n",
      "2 * 3 = 6\n",
      "2 * 4 = 8\n",
      "2 * 5 = 10\n",
      "2 * 6 = 12\n",
      "2 * 7 = 14\n",
      "2 * 8 = 16\n",
      "2 * 9 = 18\n",
      "\n",
      "3 * 2 = 6\n",
      "3 * 3 = 9\n",
      "3 * 4 = 12\n",
      "3 * 5 = 15\n",
      "3 * 6 = 18\n",
      "3 * 7 = 21\n",
      "3 * 8 = 24\n",
      "3 * 9 = 27\n",
      "\n",
      "4 * 2 = 8\n",
      "4 * 3 = 12\n",
      "4 * 4 = 16\n",
      "4 * 5 = 20\n",
      "4 * 6 = 24\n",
      "4 * 7 = 28\n",
      "4 * 8 = 32\n",
      "4 * 9 = 36\n",
      "\n",
      "5 * 2 = 10\n",
      "5 * 3 = 15\n",
      "5 * 4 = 20\n",
      "5 * 5 = 25\n",
      "5 * 6 = 30\n",
      "5 * 7 = 35\n",
      "5 * 8 = 40\n",
      "5 * 9 = 45\n",
      "\n",
      "6 * 2 = 12\n",
      "6 * 3 = 18\n",
      "6 * 4 = 24\n",
      "6 * 5 = 30\n",
      "6 * 6 = 36\n",
      "6 * 7 = 42\n",
      "6 * 8 = 48\n",
      "6 * 9 = 54\n",
      "\n",
      "7 * 2 = 14\n",
      "7 * 3 = 21\n",
      "7 * 4 = 28\n",
      "7 * 5 = 35\n",
      "7 * 6 = 42\n",
      "7 * 7 = 49\n",
      "7 * 8 = 56\n",
      "7 * 9 = 63\n",
      "\n",
      "8 * 2 = 16\n",
      "8 * 3 = 24\n",
      "8 * 4 = 32\n",
      "8 * 5 = 40\n",
      "8 * 6 = 48\n",
      "8 * 7 = 56\n",
      "8 * 8 = 64\n",
      "8 * 9 = 72\n",
      "\n",
      "9 * 2 = 18\n",
      "9 * 3 = 27\n",
      "9 * 4 = 36\n",
      "9 * 5 = 45\n",
      "9 * 6 = 54\n",
      "9 * 7 = 63\n",
      "9 * 8 = 72\n",
      "9 * 9 = 81\n",
      "\n"
     ]
    }
   ],
   "source": [
    "for a in range(2, 10):\n",
    "    for b in range(2, 10):\n",
    "        print(a, '*', b, '=', a*b)\n",
    "    print()"
   ]
  },
  {
   "cell_type": "markdown",
   "id": "0784a29a-24d4-489d-a619-872fc3fb885b",
   "metadata": {},
   "source": [
    "### Тренировка 2\n"
   ]
  },
  {
   "cell_type": "markdown",
   "id": "d0677ec5-4733-4cf6-9c53-dc2244042e6d",
   "metadata": {},
   "source": [
    "\n",
    "❓ Как напечатать длины каждого слова в каждом предложении?\n",
    "\n",
    "Алгоритм такой:\n",
    "\n",
    "- проходясь по предложениям:\n",
    "    - так как предложение - строчка, делить предложение на слова\n",
    "    - проходясь по словам из предложения:\n",
    "        - печатать длину слова и само слово "
   ]
  },
  {
   "cell_type": "markdown",
   "id": "1b3671de-e360-47cf-a527-d53fcb3916a2",
   "metadata": {},
   "source": [
    "Пример работы:\n",
    "\n",
    "```\n",
    "\n",
    "любить 6\n",
    "и 1\n",
    "быть 4\n",
    "любимым 7\n",
    "\n",
    "чтоб 4\n",
    "не 2\n",
    "болела 6\n",
    "мать 4\n",
    "\n",
    "...\n",
    "```"
   ]
  },
  {
   "cell_type": "markdown",
   "id": "23f72a3c-946b-42af-9295-efa3e8a221f8",
   "metadata": {},
   "source": [
    "Обратите внимание, что `for` по строке это не то (получатся отдельные её символы, а не слова): "
   ]
  },
  {
   "cell_type": "code",
   "execution_count": 27,
   "id": "b158aca9-5c11-4907-b059-1112ab0f556e",
   "metadata": {
    "tags": []
   },
   "outputs": [
    {
     "name": "stdout",
     "output_type": "stream",
     "text": [
      "л\n",
      "ю\n",
      "б\n",
      "и\n",
      "т\n",
      "ь\n",
      " \n",
      "и\n",
      " \n",
      "б\n",
      "ы\n",
      "т\n",
      "ь\n",
      " \n",
      "л\n",
      "ю\n",
      "б\n",
      "и\n",
      "м\n",
      "ы\n",
      "м\n"
     ]
    }
   ],
   "source": [
    "for symb in 'любить и быть любимым':\n",
    "    print(symb)"
   ]
  },
  {
   "cell_type": "markdown",
   "id": "9d6a01da-a261-4304-b0f3-ba0e98b7bb9c",
   "metadata": {},
   "source": [
    "Ещё не пойдёт применять метод `.split` к списку, это не поделит строчки из списка (потому что каждая строчка только элемент (!) списка).\n",
    "    (Вспомните, что в списке могут быть не только строки. Мы же не можем делить числа!) "
   ]
  },
  {
   "cell_type": "code",
   "execution_count": 28,
   "id": "4e281df4-b157-4084-ace1-547b58b8863e",
   "metadata": {},
   "outputs": [
    {
     "ename": "AttributeError",
     "evalue": "'list' object has no attribute 'split'",
     "output_type": "error",
     "traceback": [
      "\u001b[1;31m---------------------------------------------------------------------------\u001b[0m",
      "\u001b[1;31mAttributeError\u001b[0m                            Traceback (most recent call last)",
      "Cell \u001b[1;32mIn [28], line 6\u001b[0m\n\u001b[0;32m      1\u001b[0m wishes \u001b[38;5;241m=\u001b[39m [\u001b[38;5;124m'\u001b[39m\u001b[38;5;124mлюбить и быть любимым\u001b[39m\u001b[38;5;124m'\u001b[39m,\n\u001b[0;32m      2\u001b[0m           \u001b[38;5;124m'\u001b[39m\u001b[38;5;124mчтоб не болела мать\u001b[39m\u001b[38;5;124m'\u001b[39m,\n\u001b[0;32m      3\u001b[0m           \u001b[38;5;124m'\u001b[39m\u001b[38;5;124mчтоб на нашей горестной планете только звезды падали с небес\u001b[39m\u001b[38;5;124m'\u001b[39m,\n\u001b[0;32m      4\u001b[0m           \u001b[38;5;124m'\u001b[39m\u001b[38;5;124mбыли все доверчивы, как дети, и любили дождь, цветы и лес\u001b[39m\u001b[38;5;124m'\u001b[39m]\n\u001b[1;32m----> 6\u001b[0m \u001b[43mwishes\u001b[49m\u001b[38;5;241;43m.\u001b[39;49m\u001b[43msplit\u001b[49m()\n",
      "\u001b[1;31mAttributeError\u001b[0m: 'list' object has no attribute 'split'"
     ]
    }
   ],
   "source": [
    "wishes = ['любить и быть любимым',\n",
    "          'чтоб не болела мать',\n",
    "          'чтоб на нашей горестной планете только звезды падали с небес',\n",
    "          'были все доверчивы, как дети, и любили дождь, цветы и лес']\n",
    "\n",
    "wishes.split()"
   ]
  },
  {
   "cell_type": "markdown",
   "id": "9cf25273-5464-4361-8266-259647225745",
   "metadata": {},
   "source": [
    "В общем, решение может быть таким"
   ]
  },
  {
   "cell_type": "code",
   "execution_count": 29,
   "id": "0a63dc25-1797-4159-9258-77e1deca1bb5",
   "metadata": {},
   "outputs": [
    {
     "name": "stdout",
     "output_type": "stream",
     "text": [
      "любить 6\n",
      "и 1\n",
      "быть 4\n",
      "любимым 7\n",
      "\n",
      "чтоб 4\n",
      "не 2\n",
      "болела 6\n",
      "мать 4\n",
      "\n",
      "чтоб 4\n",
      "на 2\n",
      "нашей 5\n",
      "горестной 9\n",
      "планете 7\n",
      "только 6\n",
      "звезды 6\n",
      "падали 6\n",
      "с 1\n",
      "небес 5\n",
      "\n",
      "были 4\n",
      "все 3\n",
      "доверчивы, 10\n",
      "как 3\n",
      "дети, 5\n",
      "и 1\n",
      "любили 6\n",
      "дождь, 6\n",
      "цветы 5\n",
      "и 1\n",
      "лес 3\n",
      "\n"
     ]
    }
   ],
   "source": [
    "wishes = ['любить и быть любимым',\n",
    "          'чтоб не болела мать',\n",
    "          'чтоб на нашей горестной планете только звезды падали с небес',\n",
    "          'были все доверчивы, как дети, и любили дождь, цветы и лес']\n",
    "\n",
    "for sentence in wishes:\n",
    "    words = sentence.split()\n",
    "    for one_word in words:\n",
    "        print(one_word, len(one_word))\n",
    "    print()"
   ]
  },
  {
   "cell_type": "markdown",
   "id": "tDzK-Px1oZ9t",
   "metadata": {
    "id": "tDzK-Px1oZ9t"
   },
   "source": [
    "## Методы списков"
   ]
  },
  {
   "cell_type": "markdown",
   "id": "45a8271b-87e9-4aef-b810-792a745bc55a",
   "metadata": {},
   "source": [
    "Списки можно менять, они изменяемые! (В отличие от кортежей и строк). \n",
    "\n",
    "Поэтому большинство методов действительно меняют исходный список."
   ]
  },
  {
   "cell_type": "markdown",
   "id": "R3AcYelMpo5i",
   "metadata": {
    "id": "R3AcYelMpo5i"
   },
   "source": [
    "### .append()  — добавление элемента в конец списка"
   ]
  },
  {
   "cell_type": "code",
   "execution_count": 30,
   "id": "jn18l5qEpoRr",
   "metadata": {
    "colab": {
     "base_uri": "https://localhost:8080/"
    },
    "id": "jn18l5qEpoRr",
    "outputId": "c9b1f58e-8f65-41a3-fd34-57a10b596174"
   },
   "outputs": [
    {
     "name": "stdout",
     "output_type": "stream",
     "text": [
      "[]\n",
      "['спать']\n"
     ]
    }
   ],
   "source": [
    "list_of_wishes = []  # Список желаний, когда спрашивают.\n",
    "print(list_of_wishes)\n",
    "list_of_wishes.append('спать')  # После секунды раздумий\n",
    "print(list_of_wishes)\n",
    "\n",
    "# добавьте ещё одно желание"
   ]
  },
  {
   "cell_type": "markdown",
   "id": "JeAv65F-rIiM",
   "metadata": {
    "id": "JeAv65F-rIiM"
   },
   "source": [
    "Метод принимает один аргумент — объект, который нужно добавить. Метод ничего **не возвращает, а просто изменяет исходный список** (результат работы метода нельзя сохранить в переменную!).\n"
   ]
  },
  {
   "cell_type": "code",
   "execution_count": 31,
   "id": "0ba90249-f071-4335-b59e-9a65457cd375",
   "metadata": {},
   "outputs": [
    {
     "name": "stdout",
     "output_type": "stream",
     "text": [
      "[[1, 2, 3], [4, 5, 6], [7, 8, 9]]\n",
      "[[1, 2, 3], [4, 5, 6], [7, 8, 9], [10, 11, 12]]\n"
     ]
    }
   ],
   "source": [
    "matrix = [[1, 2, 3], [4, 5, 6], [7, 8, 9]]\n",
    "print(matrix)\n",
    "\n",
    "matrix.append([10, 11, 12])\n",
    "\n",
    "print(matrix)"
   ]
  },
  {
   "cell_type": "markdown",
   "id": "Whp4WwToq5VU",
   "metadata": {
    "id": "Whp4WwToq5VU"
   },
   "source": [
    "### .extend(`another_list`)  — расширяет список, добавляя в конец все элементы списка `another_list`"
   ]
  },
  {
   "cell_type": "markdown",
   "id": "5f16b21f-57f0-45aa-af72-f198fcc48c15",
   "metadata": {},
   "source": [
    "Но вообще-то передать в `extend` можно не только список, увидим ниже"
   ]
  },
  {
   "cell_type": "code",
   "execution_count": 32,
   "id": "cSQ5yzo7q4la",
   "metadata": {
    "colab": {
     "base_uri": "https://localhost:8080/"
    },
    "id": "cSQ5yzo7q4la",
    "outputId": "edf36948-543e-43f5-80f2-b17b33684364"
   },
   "outputs": [
    {
     "name": "stdout",
     "output_type": "stream",
     "text": [
      "['спать', 'любить и быть любимым', 'чтоб не болела мать', 'чтоб на нашей горестной планете только звезды падали с небес', 'были все доверчивы, как дети, и любили дождь, цветы и лес']\n"
     ]
    }
   ],
   "source": [
    "ready_wishlist = ['любить и быть любимым',\n",
    "                  'чтоб не болела мать',\n",
    "                  'чтоб на нашей горестной планете только звезды падали с небес',\n",
    "                  'были все доверчивы, как дети, и любили дождь, цветы и лес']\n",
    "list_of_wishes.extend(ready_wishlist)\n",
    "print(list_of_wishes)"
   ]
  },
  {
   "cell_type": "markdown",
   "id": "a73b73bc-306a-4845-a307-6921ed8cd1a0",
   "metadata": {},
   "source": [
    "А вот `.extend()` со списком списков. Числа добавились поодиночке! "
   ]
  },
  {
   "cell_type": "code",
   "execution_count": 68,
   "id": "aaaa24e2-7911-4f4d-a827-71202fae28e7",
   "metadata": {
    "tags": []
   },
   "outputs": [
    {
     "name": "stdout",
     "output_type": "stream",
     "text": [
      "[[1, 2, 3], [4, 5, 6], [7, 8, 9]]\n",
      "[[1, 2, 3], [4, 5, 6], [7, 8, 9], 10, 11, 12]\n"
     ]
    }
   ],
   "source": [
    "matrix = [[1, 2, 3], [4, 5, 6], [7, 8, 9]]\n",
    "print(matrix)\n",
    "\n",
    "matrix.extend([10, 11, 12])\n",
    "\n",
    "print(matrix)"
   ]
  },
  {
   "cell_type": "markdown",
   "id": "3ef2b342-56b1-4b71-8440-700d488fa186",
   "metadata": {},
   "source": [
    "А есть ещё сложение списков!"
   ]
  },
  {
   "cell_type": "code",
   "execution_count": 69,
   "id": "WhArMMwqvzZW",
   "metadata": {
    "colab": {
     "base_uri": "https://localhost:8080/"
    },
    "id": "WhArMMwqvzZW",
    "outputId": "6634848c-6bbb-423d-ecdb-b9e36b0b616a"
   },
   "outputs": [
    {
     "name": "stdout",
     "output_type": "stream",
     "text": [
      "['конфета', 'шоколадка']\n",
      "['крекер', 'сухарик']\n",
      "['конфета', 'шоколадка', 'крекер', 'сухарик']\n"
     ]
    }
   ],
   "source": [
    "# Как объединить списки в один, не меняя исходных?\n",
    "# Сложить!\n",
    "\n",
    "sweet = ['конфета', 'шоколадка']\n",
    "salty = ['крекер', 'сухарик']\n",
    "basket = sweet + salty\n",
    "print(sweet)\n",
    "print(salty)\n",
    "print(basket)"
   ]
  },
  {
   "cell_type": "markdown",
   "id": "e51ec269-4473-428a-a354-94a917d9024d",
   "metadata": {},
   "source": [
    "В `.extend()` можно передать не другой список, а ещё и кортеж, и даже строчку."
   ]
  },
  {
   "cell_type": "markdown",
   "id": "b69b7be7-6df6-4d76-bcbe-d8fd9a42138d",
   "metadata": {},
   "source": [
    "Если передать **в `.extend()` строчку**, то список расширится **отдельными символами** из неё.\n",
    "    Это похоже на то, как в цикле `for` по строчке будут печататься её символы:\n",
    "\n",
    "```python\n",
    "for symb in \"мир\":\n",
    "    print(symb)\n",
    "\n",
    "м\n",
    "и\n",
    "р\n",
    "```"
   ]
  },
  {
   "cell_type": "markdown",
   "id": "9737161b-ff5e-4161-9783-df3853d8ca08",
   "metadata": {},
   "source": [
    "(Это связано с тем, что строчка это просто последовательность символов. Видно из английского названия string, ведь бывают string of perls и т.д.)"
   ]
  },
  {
   "cell_type": "code",
   "execution_count": 33,
   "id": "de5294a5-0c4d-4226-940a-fd6ae1bc0c59",
   "metadata": {},
   "outputs": [
    {
     "name": "stdout",
     "output_type": "stream",
     "text": [
      "['hello', 'п', 'р', 'и', 'в', 'е', 'т']\n"
     ]
    }
   ],
   "source": [
    "letters = [\"hello\"]\n",
    "letters.extend(\"привет\")\n",
    "print(letters)"
   ]
  },
  {
   "cell_type": "markdown",
   "id": "d567752e-c14c-4958-9f1f-6a88652e383e",
   "metadata": {},
   "source": [
    "Сравните это с добавлением строки целиком в список методом `.append()`"
   ]
  },
  {
   "cell_type": "code",
   "execution_count": 34,
   "id": "b8fc9846-b44c-4766-ac7a-9ad32b853a55",
   "metadata": {},
   "outputs": [
    {
     "name": "stdout",
     "output_type": "stream",
     "text": [
      "['hello', 'привет']\n"
     ]
    }
   ],
   "source": [
    "salutes = [\"hello\"]\n",
    "\n",
    "salutes.append(\"привет\")\n",
    "print(salutes)"
   ]
  },
  {
   "cell_type": "markdown",
   "id": "gMC01XWIrWX1",
   "metadata": {
    "id": "gMC01XWIrWX1"
   },
   "source": [
    "### .insert(`i`, `x`)  — вставляет в `i`-ую позицию в списке значение `x`"
   ]
  },
  {
   "cell_type": "code",
   "execution_count": 37,
   "id": "amOISBbJqiWv",
   "metadata": {
    "colab": {
     "base_uri": "https://localhost:8080/"
    },
    "id": "amOISBbJqiWv",
    "outputId": "e410f726-b1ab-4d8b-8ab4-c19414cf524a"
   },
   "outputs": [
    {
     "name": "stdout",
     "output_type": "stream",
     "text": [
      "7\n"
     ]
    },
    {
     "data": {
      "text/plain": [
       "['жить',\n",
       " 'спать',\n",
       " 'любить и быть любимым',\n",
       " 'чтоб не болела мать',\n",
       " 'гулять',\n",
       " 'чтоб на нашей горестной планете только звезды падали с небес',\n",
       " 'были все доверчивы, как дети, и любили дождь, цветы и лес']"
      ]
     },
     "execution_count": 37,
     "metadata": {},
     "output_type": "execute_result"
    }
   ],
   "source": [
    "list_of_wishes.insert(0, 'жить')\n",
    "\n",
    "# вставьте ещё желаний\n",
    "list_of_wishes.insert(4, 'гулять')\n",
    "print(len(list_of_wishes))\n",
    "list_of_wishes"
   ]
  },
  {
   "cell_type": "code",
   "execution_count": 39,
   "id": "50e1e434-22c1-4f39-89b7-a2641cbd7fab",
   "metadata": {},
   "outputs": [
    {
     "name": "stdout",
     "output_type": "stream",
     "text": [
      "жить\n",
      "гулять\n"
     ]
    }
   ],
   "source": [
    "print(list_of_wishes[0])\n",
    "\n",
    "print(list_of_wishes[4])"
   ]
  },
  {
   "cell_type": "markdown",
   "id": "3a1a398b-e57a-456b-bcb2-c43b051f9300",
   "metadata": {},
   "source": [
    "### `.pop(i)` &mdash; удаляет элемент, расположенный по индексу `i` в списке "
   ]
  },
  {
   "cell_type": "code",
   "execution_count": 40,
   "id": "04c609dd-387c-4ee7-9ccf-f6c93f9fabc4",
   "metadata": {},
   "outputs": [
    {
     "name": "stdout",
     "output_type": "stream",
     "text": [
      "['жить', 'спать', 'любить и быть любимым', 'чтоб не болела мать', 'гулять', 'чтоб на нашей горестной планете только звезды падали с небес', 'были все доверчивы, как дети, и любили дождь, цветы и лес']\n",
      "спать\n",
      "['жить', 'любить и быть любимым', 'чтоб не болела мать', 'гулять', 'чтоб на нашей горестной планете только звезды падали с небес', 'были все доверчивы, как дети, и любили дождь, цветы и лес']\n"
     ]
    }
   ],
   "source": [
    "print(list_of_wishes)\n",
    "\n",
    "print(list_of_wishes[1])\n",
    "list_of_wishes.pop(1)\n",
    "\n",
    "print(list_of_wishes)\n"
   ]
  },
  {
   "cell_type": "markdown",
   "id": "819a344e-e6f0-4b9c-ad5b-0b20f66d8d4e",
   "metadata": {},
   "source": [
    "Можно не передавать аргумента `i`, тогда, по умолчанию, удаляется последний элемент списка."
   ]
  },
  {
   "cell_type": "code",
   "execution_count": 41,
   "id": "cd819b09-1a4e-4fa9-8c45-89a89eef9b19",
   "metadata": {},
   "outputs": [
    {
     "name": "stdout",
     "output_type": "stream",
     "text": [
      "['жить', 'любить и быть любимым', 'чтоб не болела мать', 'гулять', 'чтоб на нашей горестной планете только звезды падали с небес', 'были все доверчивы, как дети, и любили дождь, цветы и лес']\n",
      "['жить', 'любить и быть любимым', 'чтоб не болела мать', 'гулять', 'чтоб на нашей горестной планете только звезды падали с небес']\n",
      "были все доверчивы, как дети, и любили дождь, цветы и лес\n"
     ]
    }
   ],
   "source": [
    "print(list_of_wishes)\n",
    "\n",
    "element = list_of_wishes.pop()\n",
    "\n",
    "\n",
    "print(list_of_wishes)\n",
    "print(element)"
   ]
  },
  {
   "cell_type": "markdown",
   "id": "d21hjkSttlGI",
   "metadata": {
    "id": "d21hjkSttlGI"
   },
   "source": [
    "### .remove(`x`) - удаляет первый элемент в списке, имеющий значение `x`"
   ]
  },
  {
   "cell_type": "code",
   "execution_count": 42,
   "id": "4zTIIwV3toIf",
   "metadata": {
    "id": "4zTIIwV3toIf"
   },
   "outputs": [
    {
     "data": {
      "text/plain": [
       "['жить', 'любить и быть любимым', 'чтоб не болела мать', 'гулять']"
      ]
     },
     "execution_count": 42,
     "metadata": {},
     "output_type": "execute_result"
    }
   ],
   "source": [
    "list_of_wishes.remove('чтоб на нашей горестной планете только звезды падали с небес')\n",
    "list_of_wishes"
   ]
  },
  {
   "cell_type": "code",
   "execution_count": 43,
   "id": "hOCcb5ERuSQj",
   "metadata": {
    "colab": {
     "base_uri": "https://localhost:8080/"
    },
    "id": "hOCcb5ERuSQj",
    "outputId": "91b85b35-cfa4-4b7b-b5cf-06980ff1b2ac"
   },
   "outputs": [
    {
     "name": "stdout",
     "output_type": "stream",
     "text": [
      "['молоко', 'кефир', 'вода', 'сок', 'морс']\n",
      "['молоко', 'кефир', 'вода', 'морс']\n"
     ]
    }
   ],
   "source": [
    "shoplist = ['молоко', 'кефир', 'сок', 'вода', 'сок', 'морс']  # тут 2 сока\n",
    "shoplist.remove('сок')\n",
    "print(shoplist)  # тут 1 сок, причём второй\n",
    "shoplist.remove('сок')\n",
    "print(shoplist)"
   ]
  },
  {
   "cell_type": "markdown",
   "id": "abbiYBGgtpWm",
   "metadata": {
    "id": "abbiYBGgtpWm"
   },
   "source": [
    "### `.clear()`  — очищает список"
   ]
  },
  {
   "cell_type": "code",
   "execution_count": 44,
   "id": "iuZLh59Stsue",
   "metadata": {
    "colab": {
     "base_uri": "https://localhost:8080/"
    },
    "id": "iuZLh59Stsue",
    "outputId": "3bc1125f-18d5-4d4e-fc07-2d4c81bcd112"
   },
   "outputs": [
    {
     "name": "stdout",
     "output_type": "stream",
     "text": [
      "['молоко', 'кефир', 'вода', 'морс']\n",
      "[]\n"
     ]
    }
   ],
   "source": [
    "print(shoplist)\n",
    "shoplist.clear()\n",
    "print(shoplist)"
   ]
  },
  {
   "cell_type": "markdown",
   "id": "WVKoImeTxToU",
   "metadata": {
    "id": "WVKoImeTxToU"
   },
   "source": [
    "### .count(`x`)  — узнать, сколько раз встречается элемент `x`"
   ]
  },
  {
   "cell_type": "code",
   "execution_count": 70,
   "id": "1cbede2f-a3e4-4517-8ea0-5cbefdfbcb5d",
   "metadata": {
    "colab": {
     "base_uri": "https://localhost:8080/"
    },
    "id": "43DkWmLixSkl",
    "outputId": "fd327da2-e325-4231-bee9-3d71ff32b308"
   },
   "outputs": [
    {
     "data": {
      "text/plain": [
       "2"
      ]
     },
     "execution_count": 70,
     "metadata": {},
     "output_type": "execute_result"
    }
   ],
   "source": [
    "shoplist = ['молоко', 'кефир', 'сок', 'вода', 'сок', 'морс']\n",
    "shoplist.count('сок')"
   ]
  },
  {
   "cell_type": "code",
   "execution_count": 71,
   "id": "43DkWmLixSkl",
   "metadata": {
    "colab": {
     "base_uri": "https://localhost:8080/"
    },
    "id": "43DkWmLixSkl",
    "outputId": "fd327da2-e325-4231-bee9-3d71ff32b308"
   },
   "outputs": [
    {
     "data": {
      "text/plain": [
       "0"
      ]
     },
     "execution_count": 71,
     "metadata": {},
     "output_type": "execute_result"
    }
   ],
   "source": [
    "shoplist = ['молоко', 'кефир', 'сок', 'вода', 'сок', 'морс']\n",
    "shoplist.count('малина')"
   ]
  },
  {
   "cell_type": "markdown",
   "id": "kYM1eRhZOm4e",
   "metadata": {
    "id": "kYM1eRhZOm4e",
    "tags": []
   },
   "source": [
    "#### Тренировка\n",
    "Игра \"Я знаю 5 имён девочек\"\n",
    "\n",
    "Спрашивайте у пользователя 5 названий чего-нибудь. Если пользователь повторился и ввёл имя 2й раз, игра завершается."
   ]
  },
  {
   "cell_type": "code",
   "execution_count": 46,
   "id": "h8aUPXPvvfYZ",
   "metadata": {
    "id": "h8aUPXPvvfYZ"
   },
   "outputs": [
    {
     "name": "stdin",
     "output_type": "stream",
     "text": [
      "Имя девочки:  Маша\n",
      "Имя девочки:  Саша\n",
      "Имя девочки:  Маша\n"
     ]
    },
    {
     "name": "stdout",
     "output_type": "stream",
     "text": [
      "Было!\n"
     ]
    }
   ],
   "source": [
    "names = []\n",
    "\n",
    "for i in range(5):\n",
    "    answer = input('Имя девочки: ')\n",
    "    # if answer in names:  # Это отличный способ, который вы знали\n",
    "    #     print('Было!')\n",
    "    #     break\n",
    "    # TODO\n",
    "    if names.count(answer) > 0:   # Это новый способ\n",
    "        print('Было!')\n",
    "        break\n",
    "\n",
    "    names.append(answer)\n",
    "    if i == 4:\n",
    "        print('Получилось!')\n",
    "    "
   ]
  },
  {
   "cell_type": "markdown",
   "id": "3e937b85-ec05-4c9b-883d-cab15a95acbb",
   "metadata": {},
   "source": [
    "Обратите внимание на вариацию задачи, где уже нельзя без `count`:\n",
    "\n",
    "> Спрашивайте у пользователя 5 названий чего-нибудь. **Можно повториться один раз**. Если пользователь пытается назвать что-то в третий раз, то игра завершается."
   ]
  },
  {
   "cell_type": "code",
   "execution_count": 48,
   "id": "6d267127-b7b6-4a30-b0c7-d9fdd7778bb5",
   "metadata": {
    "id": "h8aUPXPvvfYZ"
   },
   "outputs": [
    {
     "name": "stdin",
     "output_type": "stream",
     "text": [
      "Имя девочки:  Хельга\n",
      "Имя девочки:  Анна\n",
      "Имя девочки:  Хельга\n",
      "Имя девочки:  Анна\n",
      "Имя девочки:  Анна\n"
     ]
    },
    {
     "name": "stdout",
     "output_type": "stream",
     "text": [
      "Было!\n"
     ]
    }
   ],
   "source": [
    "names = []\n",
    "\n",
    "for i in range(5):\n",
    "    answer = input('Имя девочки: ')\n",
    "    if names.count(answer) > 1:\n",
    "        print('Было!')\n",
    "        break\n",
    "\n",
    "    names.append(answer)\n",
    "    if i == 4:\n",
    "        print('Получилось!')\n",
    "    "
   ]
  },
  {
   "cell_type": "markdown",
   "id": "3VKAEkWSQMdQ",
   "metadata": {
    "id": "3VKAEkWSQMdQ"
   },
   "source": [
    "### .index(`x`)  — узнать индекс элемента `x` в списке"
   ]
  },
  {
   "cell_type": "markdown",
   "id": "d4682941-cbc8-4dce-9533-1a94f62468db",
   "metadata": {},
   "source": [
    "Чтобы узнать на какой позиции что-то находится можно пройтись в цикле по списку и выйти из цикла, когда что-то найдено.\n",
    "    Если элементов с таким значением было несколько, то это позволяет узнать **индекс первого**."
   ]
  },
  {
   "cell_type": "code",
   "execution_count": 49,
   "id": "eV0h9wvYxANV",
   "metadata": {
    "colab": {
     "base_uri": "https://localhost:8080/"
    },
    "id": "eV0h9wvYxANV",
    "outputId": "74d15f4c-c384-4dd8-add9-3f84d33874d2"
   },
   "outputs": [
    {
     "name": "stdout",
     "output_type": "stream",
     "text": [
      "2\n"
     ]
    }
   ],
   "source": [
    "# Так вы умели:\n",
    "\n",
    "shopping_list = ['молоко', 'сок', 'хлеб', 'сок', 'кефир']\n",
    "\n",
    "for i in range(len(shopping_list)):\n",
    "    if shopping_list[i] == 'хлеб':  # если мы нашли хлеб\n",
    "        print(i)\n",
    "        break      # остановим цикл, и индекс будет в переменной i \n",
    "                                    "
   ]
  },
  {
   "cell_type": "code",
   "execution_count": 50,
   "id": "Hf07fQxaQhdy",
   "metadata": {
    "colab": {
     "base_uri": "https://localhost:8080/"
    },
    "id": "Hf07fQxaQhdy",
    "outputId": "e145d79a-5729-4c07-b102-09e0d958fd92"
   },
   "outputs": [
    {
     "data": {
      "text/plain": [
       "1"
      ]
     },
     "execution_count": 50,
     "metadata": {},
     "output_type": "execute_result"
    }
   ],
   "source": [
    "shopping_list.index('сок')  # узнаём индекс первого такого элемента"
   ]
  },
  {
   "cell_type": "code",
   "execution_count": 51,
   "id": "220b4624-555d-40a7-92d5-4b476442bbe3",
   "metadata": {},
   "outputs": [
    {
     "name": "stdout",
     "output_type": "stream",
     "text": [
      "['молоко', 'хлеб', 'сок', 'кефир']\n"
     ]
    }
   ],
   "source": [
    "shopping_list.remove(\"сок\")\n",
    "shopping_list.index(\"сок\")\n",
    "print(shopping_list)"
   ]
  },
  {
   "cell_type": "markdown",
   "id": "127aba4a-00b9-44e9-b418-51921ae20dbe",
   "metadata": {},
   "source": [
    "Мы не умеем работать с ошибками, поэтому сложновато хорошо использовать `.index`:"
   ]
  },
  {
   "cell_type": "code",
   "execution_count": 52,
   "id": "Sum2RXpOSslk",
   "metadata": {
    "colab": {
     "base_uri": "https://localhost:8080/",
     "height": 173
    },
    "id": "Sum2RXpOSslk",
    "outputId": "a87a2cca-4b95-4ec6-9e2a-5229aebb5245"
   },
   "outputs": [
    {
     "ename": "ValueError",
     "evalue": "'морс' is not in list",
     "output_type": "error",
     "traceback": [
      "\u001b[1;31m---------------------------------------------------------------------------\u001b[0m",
      "\u001b[1;31mValueError\u001b[0m                                Traceback (most recent call last)",
      "Cell \u001b[1;32mIn [52], line 1\u001b[0m\n\u001b[1;32m----> 1\u001b[0m \u001b[43mshopping_list\u001b[49m\u001b[38;5;241;43m.\u001b[39;49m\u001b[43mindex\u001b[49m\u001b[43m(\u001b[49m\u001b[38;5;124;43m'\u001b[39;49m\u001b[38;5;124;43mморс\u001b[39;49m\u001b[38;5;124;43m'\u001b[39;49m\u001b[43m)\u001b[49m  \u001b[38;5;66;03m# если такого элемента, сломается\u001b[39;00m\n",
      "\u001b[1;31mValueError\u001b[0m: 'морс' is not in list"
     ]
    }
   ],
   "source": [
    "shopping_list.index('морс')  # если такого элемента, сломается"
   ]
  },
  {
   "cell_type": "markdown",
   "id": "b7eb3421-f9f3-49c7-b073-1694a27c5d75",
   "metadata": {},
   "source": [
    "> Но можно сперва проверять, есть ли что-то в списке, а затем узнавать индекс если есть (но это чуточку не оптимально)"
   ]
  },
  {
   "cell_type": "markdown",
   "id": "OhvEQA0lSIrN",
   "metadata": {
    "id": "OhvEQA0lSIrN"
   },
   "source": [
    "#### Тренировка\n",
    "Замените сок на что-нибудь другое."
   ]
  },
  {
   "cell_type": "code",
   "execution_count": 56,
   "id": "fb093c78-1544-47c7-b836-c2c78cad653e",
   "metadata": {},
   "outputs": [
    {
     "name": "stdout",
     "output_type": "stream",
     "text": [
      "1\n",
      "['молоко', 'вода', 'хлеб', 'сок', 'кефир']\n"
     ]
    }
   ],
   "source": [
    "shopping_list = ['молоко', 'сок', 'хлеб', 'сок', 'кефир']\n",
    "\n",
    "juice_i = shopping_list.index(\"сок\")\n",
    "print(juice_i)\n",
    "\n",
    "shopping_list[juice_i] = \"вода\"\n",
    "\n",
    "print(shopping_list)"
   ]
  },
  {
   "cell_type": "markdown",
   "id": "bb90b5d4-4669-40d1-9af1-97950622ab09",
   "metadata": {},
   "source": [
    "Мы можем повторить действия, чтобы заменить уже второй `сок` на `лимонад`"
   ]
  },
  {
   "cell_type": "code",
   "execution_count": 57,
   "id": "fed0b188-f6ce-4a71-9e4f-881be8b661ce",
   "metadata": {},
   "outputs": [
    {
     "name": "stdout",
     "output_type": "stream",
     "text": [
      "3\n",
      "['молоко', 'вода', 'хлеб', 'лимонад', 'кефир']\n"
     ]
    }
   ],
   "source": [
    "juice_i2 = shopping_list.index(\"сок\")\n",
    "print(juice_i2)\n",
    "\n",
    "shopping_list[juice_i2] = \"лимонад\"\n",
    "print(shopping_list)\n"
   ]
  },
  {
   "cell_type": "markdown",
   "id": "znT1UuQ9Rqe0",
   "metadata": {
    "id": "znT1UuQ9Rqe0"
   },
   "source": [
    "## Ещё несколько функций для списков и кортежей"
   ]
  },
  {
   "cell_type": "markdown",
   "id": "rYybFZW3R5JB",
   "metadata": {
    "id": "rYybFZW3R5JB"
   },
   "source": [
    "### `sum(<последовательность>)` &mdash; сумма"
   ]
  },
  {
   "cell_type": "code",
   "execution_count": 58,
   "id": "Y6Hd96MjRorC",
   "metadata": {
    "colab": {
     "base_uri": "https://localhost:8080/"
    },
    "id": "Y6Hd96MjRorC",
    "outputId": "93487b22-90ad-44b1-ad92-2d9a2670581f"
   },
   "outputs": [
    {
     "name": "stdout",
     "output_type": "stream",
     "text": [
      "6\n",
      "10.5\n"
     ]
    }
   ],
   "source": [
    "print(sum([1, 2, 3]))     # попросим посчитать и вывести сумму чисел в списке\n",
    "print(sum((3.5, 3, 4)))   # попросим посчитать и вывести сумму чисел в кортеже"
   ]
  },
  {
   "cell_type": "markdown",
   "id": "t8Ms0P1gTDvg",
   "metadata": {
    "id": "t8Ms0P1gTDvg"
   },
   "source": [
    "### `min(<последовательность>)`  — минимальное"
   ]
  },
  {
   "cell_type": "code",
   "execution_count": 59,
   "id": "cNJu7lFBTByJ",
   "metadata": {
    "colab": {
     "base_uri": "https://localhost:8080/"
    },
    "id": "cNJu7lFBTByJ",
    "outputId": "a5853322-2256-4da7-8765-bbcd84291bc9"
   },
   "outputs": [
    {
     "name": "stdout",
     "output_type": "stream",
     "text": [
      "1\n",
      "3\n"
     ]
    }
   ],
   "source": [
    "print(min([1, 2, 3]))     # попросим посчитать и вывести сумму чисел в списке\n",
    "print(min((3.5, 3, 4)))"
   ]
  },
  {
   "cell_type": "markdown",
   "id": "Oj_PZyhgTDL7",
   "metadata": {
    "id": "Oj_PZyhgTDL7"
   },
   "source": [
    "### `max(<последовательность>)`  — максимальное"
   ]
  },
  {
   "cell_type": "code",
   "execution_count": 60,
   "id": "jHeBvTWaTjmQ",
   "metadata": {
    "colab": {
     "base_uri": "https://localhost:8080/"
    },
    "id": "jHeBvTWaTjmQ",
    "outputId": "e39bc4b7-8820-4e6f-82d8-a897ea6b9da5"
   },
   "outputs": [
    {
     "name": "stdout",
     "output_type": "stream",
     "text": [
      "3\n",
      "4\n"
     ]
    }
   ],
   "source": [
    "print(max([1, 2, 3]))     # попросим посчитать и вывести сумму чисел в списке\n",
    "print(max((3.5, 3, 4)))"
   ]
  },
  {
   "cell_type": "code",
   "execution_count": 61,
   "id": "iCFlo3spT2aV",
   "metadata": {
    "colab": {
     "base_uri": "https://localhost:8080/"
    },
    "id": "iCFlo3spT2aV",
    "outputId": "85e81b86-0c15-4fd1-b315-4822669e32e2"
   },
   "outputs": [
    {
     "name": "stdout",
     "output_type": "stream",
     "text": [
      "я\n"
     ]
    }
   ],
   "source": [
    "# работает и со строками\n",
    "s = 'abzя112358--0=-=-='\n",
    "print(max(s))"
   ]
  },
  {
   "cell_type": "markdown",
   "id": "81ad0e49-7fda-472a-aff5-2b1c7c7d5d3a",
   "metadata": {},
   "source": [
    "_\\* (это работает потому, что каждому символу в памяти компьютера соответствует какое-то число)_"
   ]
  },
  {
   "cell_type": "markdown",
   "id": "E8w8b9PEVH6b",
   "metadata": {
    "id": "E8w8b9PEVH6b"
   },
   "source": [
    "## `map(<имя_функции>, <последовательность>)` &mdash; применить функцию или метод ко всем элементам последовательности сразу (к каждому)"
   ]
  },
  {
   "cell_type": "markdown",
   "id": "2cb5bc61-f315-4748-9bde-1cd73775a82e",
   "metadata": {},
   "source": [
    "Как и `range` и `enumerate`, при печати сходу ничего полезного не даёт.\n",
    "\n",
    "Вот мы пробуем применить функцию вычисления длины `len` к строчкам из списка:"
   ]
  },
  {
   "cell_type": "code",
   "execution_count": 62,
   "id": "vufAQzqxVnXe",
   "metadata": {
    "colab": {
     "base_uri": "https://localhost:8080/"
    },
    "id": "vufAQzqxVnXe",
    "outputId": "cd143384-0478-47bf-acae-cd5f4a5babdd"
   },
   "outputs": [
    {
     "data": {
      "text/plain": [
       "<map at 0x1af2f1c45e0>"
      ]
     },
     "execution_count": 62,
     "metadata": {},
     "output_type": "execute_result"
    }
   ],
   "source": [
    "map(len, ['Привет', 'ТЕСТ', 'функции', 'map!'])"
   ]
  },
  {
   "cell_type": "markdown",
   "id": "afbc48a7-3e60-48e3-bc08-d0f5abdf9943",
   "metadata": {},
   "source": [
    "Но при поглощении с `list` уже работает:"
   ]
  },
  {
   "cell_type": "code",
   "execution_count": 63,
   "id": "ldyfXKEAVLP4",
   "metadata": {
    "colab": {
     "base_uri": "https://localhost:8080/"
    },
    "id": "ldyfXKEAVLP4",
    "outputId": "35eeb80f-ce17-4f08-e717-cadc252c6c17"
   },
   "outputs": [
    {
     "name": "stdout",
     "output_type": "stream",
     "text": [
      "[6, 4, 7, 4]\n"
     ]
    }
   ],
   "source": [
    "print(list(map(len, ['Привет', 'ТЕСТ', 'функции', 'map!'])))"
   ]
  },
  {
   "cell_type": "markdown",
   "id": "f9e7d0d6-c879-43f1-9232-b810d5aff717",
   "metadata": {},
   "source": [
    "Обратите внимание, функция `len` записана без скобок!\n",
    "    Почему?\n",
    "    Потому что мы хотим просто указать имя нужной функции, а уже `map` сама будет применять указанную нами функцию к каждому элементу последовательности."
   ]
  },
  {
   "cell_type": "markdown",
   "id": "3c88f7dd-ea38-4e81-96ab-523fb22022c3",
   "metadata": {},
   "source": [
    "Вообще-то можно применять таким образом и методы (то, что пишется через точку, типа `.split()`).\n",
    "\n",
    "Но в этом случае нужно использовать полное имя метода.\n",
    "    Т.е. писать не `.split` (так нельзя), не `\"\".split` (не то что нужно и не пойдёт здесь), а полное имя.\n",
    "    Полные имена методов перед точкой содержат тот тип данных, чьи они методы, например `str.split`:"
   ]
  },
  {
   "cell_type": "code",
   "execution_count": 64,
   "id": "siz6hvU2WVA2",
   "metadata": {
    "colab": {
     "base_uri": "https://localhost:8080/"
    },
    "id": "siz6hvU2WVA2",
    "outputId": "354f863e-ce8a-4161-d357-e7d272ab35ca"
   },
   "outputs": [
    {
     "name": "stdout",
     "output_type": "stream",
     "text": [
      "[['Таня', 'Казакова'], ['Максим', 'Бажуков'], ['Олег', 'Сериков']]\n"
     ]
    }
   ],
   "source": [
    "print(list(map(str.split, ['Таня Казакова', 'Максим Бажуков', 'Олег Сериков'])))"
   ]
  },
  {
   "cell_type": "markdown",
   "id": "bd185e4f-169e-4ef5-b152-31ecda5e0519",
   "metadata": {},
   "source": [
    "Здесь мы попросили функцию `map` применить к каждой строчке из списка строковый метод `str.split` (собственно, то что он строковый, т.е. от `str` мы и указали, написав `str` перед точкой)"
   ]
  },
  {
   "cell_type": "markdown",
   "id": "2e23beca-c5d5-461d-a379-1f119792ecc9",
   "metadata": {},
   "source": [
    "Нельзя без `str`:"
   ]
  },
  {
   "cell_type": "code",
   "execution_count": 65,
   "id": "7d31734f-30f1-4aaf-9358-69af2af260a8",
   "metadata": {},
   "outputs": [
    {
     "ename": "SyntaxError",
     "evalue": "invalid syntax (3148066646.py, line 1)",
     "output_type": "error",
     "traceback": [
      "\u001b[1;36m  Cell \u001b[1;32mIn [65], line 1\u001b[1;36m\u001b[0m\n\u001b[1;33m    print(list(map(.split, ['Таня Казакова', 'Максим Бажуков', 'Олег Сериков'])))\u001b[0m\n\u001b[1;37m                   ^\u001b[0m\n\u001b[1;31mSyntaxError\u001b[0m\u001b[1;31m:\u001b[0m invalid syntax\n"
     ]
    }
   ],
   "source": [
    "print(list(map(.split, ['Таня Казакова', 'Максим Бажуков', 'Олег Сериков'])))"
   ]
  },
  {
   "cell_type": "markdown",
   "id": "d87a75b8-81ab-4268-87d7-ea4c0828fcf7",
   "metadata": {},
   "source": [
    "Совсем не то если перед точкой кавычки с какой-то строчкой (например, пустой):"
   ]
  },
  {
   "cell_type": "code",
   "execution_count": 66,
   "id": "4ac94909-3621-4292-8167-55c7850033ad",
   "metadata": {},
   "outputs": [
    {
     "name": "stdout",
     "output_type": "stream",
     "text": [
      "[[''], [''], ['']]\n"
     ]
    }
   ],
   "source": [
    "print(list(map(\"\".split, ['Таня Казакова', 'Максим Бажуков', 'Олег Сериков'])))"
   ]
  }
 ],
 "metadata": {
  "colab": {
   "provenance": []
  },
  "kernelspec": {
   "display_name": "Python 3 (ipykernel)",
   "language": "python",
   "name": "python3"
  },
  "language_info": {
   "codemirror_mode": {
    "name": "ipython",
    "version": 3
   },
   "file_extension": ".py",
   "mimetype": "text/x-python",
   "name": "python",
   "nbconvert_exporter": "python",
   "pygments_lexer": "ipython3",
   "version": "3.9.7"
  }
 },
 "nbformat": 4,
 "nbformat_minor": 5
}
