{
 "cells": [
  {
   "cell_type": "markdown",
   "id": "fe4aa52a",
   "metadata": {
    "id": "fe4aa52a"
   },
   "source": [
    "# Списки, кортежи. Цикл for"
   ]
  },
  {
   "cell_type": "markdown",
   "id": "aec3aa23",
   "metadata": {
    "id": "aec3aa23"
   },
   "source": [
    "Мы уже знаем про:\n",
    "- типы данных `int`, `float`, `str`, `bool`\n",
    "- математические операторы: `+`, `-`, `/`, `*`, `**` (в степень), `%` (остаток от деления), `//` (целая часть при делении)\n",
    "- `print()` — напечатать\n",
    "- `type()` — узнать тип данных\n",
    "- `input()` — принять значение от пользователя\n",
    "- `int()` — преобразовать в целочисленный формат\n",
    "- `float()` — преобразовать в формат дробного числа\n",
    "- `str()` — преобразовать в строку\n",
    "- `bool()` — преобразовать в bool (True/False)\n",
    "- условия:\n",
    "\n",
    "```\n",
    "if <условие>:\n",
    "    <инструкции, для случая если условие истинно (True)>\n",
    "(\n",
    "#elif <условие №2>:\n",
    "    #<инструкции, для случая если условие №2 истинно (True)>\n",
    "else:\n",
    "    <инструкции, когда все условия не выполнились (False)>\n",
    ")\n",
    "```\n",
    "- операторы сравнения: `>`, `<`, `>=`, `<=`, `==` (равно), `!=` (не равно)\n",
    "- логические операторы: `and`, `or`, `not`\n",
    "- цикл `while`:\n",
    "\n",
    "```\n",
    "while <условие>:\n",
    "    <инструкции, которые будут выполняться по кругу, пока условие выполняется True>\n",
    "```"
   ]
  },
  {
   "cell_type": "markdown",
   "id": "077c0bb1",
   "metadata": {
    "id": "077c0bb1"
   },
   "source": [
    "В этот раз узнаем про:\n",
    "- списки (list) - `[]`\n",
    "- кортежи (tuple) - `()`\n",
    "- `.split()` - метод, делящий строку на части по сочетанию символов, указанных в скрбках\n",
    "- `list()` - преобразовать в список\n",
    "- `tuple()` - преобразовать в кортеж\n",
    "- `len()` - узнать длину\n",
    "- цикл `for`:\n",
    "\n",
    "```\n",
    "for <element> in <elements>:\n",
    "       <инструкции, которые будут выполняться для каждого элемента>\n",
    "```\n",
    "\n",
    "- `range()`\n",
    "- `enumerate()`"
   ]
  },
  {
   "cell_type": "markdown",
   "id": "ccd54bdb",
   "metadata": {
    "id": "ccd54bdb"
   },
   "source": [
    "# Список\n",
    "Список (list) - упорядоченная изменяемая коллекция элементов различных типов.\n",
    "\n",
    "списки почти не ограничены по длине (не больше 500 миллионов элементов)"
   ]
  },
  {
   "cell_type": "markdown",
   "id": "1dd5ddfe",
   "metadata": {
    "id": "1dd5ddfe"
   },
   "source": [
    "## Создание списков"
   ]
  },
  {
   "cell_type": "code",
   "execution_count": 1,
   "id": "fad92805",
   "metadata": {
    "id": "fad92805"
   },
   "outputs": [],
   "source": [
    "some_food = ['сайки', 'коржики', 'коврижки', 'апельсины',\n",
    "             'мандарины', 'малина из корзины',\n",
    "             'на палочках петушки', 'с повидлом пирожки']  # список строк\n",
    "# Про красоту кода: по PEP-8 длина строки не больше 79 символов\n",
    "# Перенос строки список не меняет"
   ]
  },
  {
   "cell_type": "markdown",
   "id": "6a7fe463",
   "metadata": {
    "id": "6a7fe463"
   },
   "source": [
    "Общий вид:\n",
    "в квадратных скобках элементы через запятую"
   ]
  },
  {
   "cell_type": "code",
   "execution_count": 2,
   "id": "8ba02bca",
   "metadata": {
    "colab": {
     "base_uri": "https://localhost:8080/"
    },
    "id": "8ba02bca",
    "outputId": "50f322fe-0176-4710-dba7-3156a1fa515e"
   },
   "outputs": [
    {
     "data": {
      "text/plain": [
       "['сайки',\n",
       " 'коржики',\n",
       " 'коврижки',\n",
       " 'апельсины',\n",
       " 'мандарины',\n",
       " 'малина из корзины',\n",
       " 'на палочках петушки',\n",
       " 'с повидлом пирожки']"
      ]
     },
     "execution_count": 2,
     "metadata": {},
     "output_type": "execute_result"
    }
   ],
   "source": [
    "some_food"
   ]
  },
  {
   "cell_type": "code",
   "execution_count": 3,
   "id": "e818914b",
   "metadata": {
    "id": "e818914b"
   },
   "outputs": [
    {
     "data": {
      "text/plain": [
       "list"
      ]
     },
     "execution_count": 3,
     "metadata": {},
     "output_type": "execute_result"
    }
   ],
   "source": [
    "type(some_food)"
   ]
  },
  {
   "cell_type": "code",
   "execution_count": 4,
   "id": "31f10e92",
   "metadata": {
    "id": "31f10e92"
   },
   "outputs": [],
   "source": [
    "empty_list = []  # а так создают пустой список\n",
    "\n",
    "fibo_digits = [0, 1, 1, 2, 3, 5, 8, 13, 21, 34, 55, 89]  # список чисел Фибоначчи\n",
    "mixed_list = ['год', 2023, True]  # в одном списке могут храниться элементы разных типов\n",
    "matrix = [[1, 2, 3], [4, 5, 6], [7, 8, 9]]  # список может содержать другие списки"
   ]
  },
  {
   "cell_type": "markdown",
   "id": "ae19b0bd",
   "metadata": {
    "id": "ae19b0bd"
   },
   "source": [
    "### list()\n",
    "`list()` - функция для преобразования в список"
   ]
  },
  {
   "cell_type": "code",
   "execution_count": 5,
   "id": "29c051d1",
   "metadata": {
    "id": "29c051d1",
    "outputId": "41831970-e391-43f7-b8d1-2a58529eb18f"
   },
   "outputs": [
    {
     "data": {
      "text/plain": [
       "['п', 'р', 'и', 'в', 'е', 'т']"
      ]
     },
     "execution_count": 5,
     "metadata": {},
     "output_type": "execute_result"
    }
   ],
   "source": [
    "list('привет')\n",
    "# Сама по себе строка является упорядоченной коллекцией символов."
   ]
  },
  {
   "cell_type": "code",
   "execution_count": 6,
   "id": "31ef4cdd",
   "metadata": {
    "id": "31ef4cdd",
    "outputId": "7fa1a38f-0fec-4169-85d8-0a9cb0b624c1"
   },
   "outputs": [
    {
     "ename": "TypeError",
     "evalue": "'bool' object is not iterable",
     "output_type": "error",
     "traceback": [
      "\u001b[0;31m---------------------------------------------------------------------------\u001b[0m",
      "\u001b[0;31mTypeError\u001b[0m                                 Traceback (most recent call last)",
      "Input \u001b[0;32mIn [6]\u001b[0m, in \u001b[0;36m<cell line: 1>\u001b[0;34m()\u001b[0m\n\u001b[0;32m----> 1\u001b[0m \u001b[38;5;28;43mlist\u001b[39;49m\u001b[43m(\u001b[49m\u001b[38;5;28;43;01mTrue\u001b[39;49;00m\u001b[43m)\u001b[49m\n",
      "\u001b[0;31mTypeError\u001b[0m: 'bool' object is not iterable"
     ]
    }
   ],
   "source": [
    "list(True)"
   ]
  },
  {
   "cell_type": "markdown",
   "id": "1d55ff3b",
   "metadata": {
    "id": "1d55ff3b"
   },
   "source": [
    "`list()` применяется к объектам, которые iterable (=итерируемы), т.е. которые способны возвращать элементы по одному, которые являются собранием чего-то."
   ]
  },
  {
   "cell_type": "code",
   "execution_count": 7,
   "id": "9dc06c1e",
   "metadata": {
    "id": "9dc06c1e"
   },
   "outputs": [],
   "source": [
    "# Можно создать пустой список и так:\n",
    "\n",
    "empty_list2 = list()  # аналогично empty_list = []"
   ]
  },
  {
   "cell_type": "code",
   "execution_count": 8,
   "id": "12af18ee",
   "metadata": {},
   "outputs": [
    {
     "data": {
      "text/plain": [
       "[]"
      ]
     },
     "execution_count": 8,
     "metadata": {},
     "output_type": "execute_result"
    }
   ],
   "source": [
    "empty_list2"
   ]
  },
  {
   "cell_type": "markdown",
   "id": "f269eefa",
   "metadata": {
    "id": "f269eefa"
   },
   "source": [
    "### .split()\n",
    "`.split()` - метод, который применяется к строкам. Делит их на части."
   ]
  },
  {
   "cell_type": "code",
   "execution_count": 9,
   "id": "f13f2c59",
   "metadata": {
    "id": "f13f2c59",
    "outputId": "696d2dfb-34c4-44e0-abdf-5b84e4f08700"
   },
   "outputs": [
    {
     "name": "stdout",
     "output_type": "stream",
     "text": [
      "['сахар', 'яйца', 'мука', 'масло', 'яблоки', 'корица']\n"
     ]
    }
   ],
   "source": [
    "mom_asked = 'сахар яйца мука масло яблоки корица'\n",
    "\n",
    "# Как из этого сделать список?\n",
    "# Что будет, если сделать list(mom_asked)?\n",
    "# Вот так - хорошо\n",
    "\n",
    "product_list = mom_asked.split()\n",
    "print(product_list)"
   ]
  },
  {
   "cell_type": "code",
   "execution_count": 10,
   "id": "db6cafc0",
   "metadata": {
    "id": "db6cafc0",
    "outputId": "d810e2d1-9314-4ede-bcad-8d0eaad2e71f"
   },
   "outputs": [
    {
     "name": "stdout",
     "output_type": "stream",
     "text": [
      "['сахар,', 'яйца,', 'мука,', 'масло,', 'яблоки,', 'корица']\n"
     ]
    }
   ],
   "source": [
    "# А если\n",
    "mom_asked = 'сахар, яйца, мука, масло, яблоки, корица'\n",
    "\n",
    "product_list = mom_asked.split()\n",
    "print(product_list)"
   ]
  },
  {
   "cell_type": "markdown",
   "id": "180a42a4",
   "metadata": {
    "id": "180a42a4"
   },
   "source": [
    "По умолчанию `.split()` делит по пробелоподобным символам. Но можно указать разделитель (наш знакомый sep)."
   ]
  },
  {
   "cell_type": "code",
   "execution_count": 11,
   "id": "2313bfee",
   "metadata": {
    "id": "2313bfee",
    "outputId": "4ed5e531-e83b-40b4-a466-652b5a7279e9"
   },
   "outputs": [
    {
     "name": "stdout",
     "output_type": "stream",
     "text": [
      "строчка хихи с хихи необычными хихи разделителями\n"
     ]
    }
   ],
   "source": [
    "# воспоминание про sep\n",
    "print('строчка', 'с', 'необычными', 'разделителями', sep=' хихи ')"
   ]
  },
  {
   "cell_type": "markdown",
   "id": "cb187ef4",
   "metadata": {},
   "source": [
    "*Что делать, если забыли, какие аргументы есть у функции?*"
   ]
  },
  {
   "cell_type": "code",
   "execution_count": 12,
   "id": "pCvGETyO_rqo",
   "metadata": {
    "colab": {
     "base_uri": "https://localhost:8080/"
    },
    "id": "pCvGETyO_rqo",
    "outputId": "b84074d2-7b48-4e12-9fe7-50066351c776"
   },
   "outputs": [
    {
     "name": "stdout",
     "output_type": "stream",
     "text": [
      "Help on built-in function print in module builtins:\n",
      "\n",
      "print(...)\n",
      "    print(value, ..., sep=' ', end='\\n', file=sys.stdout, flush=False)\n",
      "    \n",
      "    Prints the values to a stream, or to sys.stdout by default.\n",
      "    Optional keyword arguments:\n",
      "    file:  a file-like object (stream); defaults to the current sys.stdout.\n",
      "    sep:   string inserted between values, default a space.\n",
      "    end:   string appended after the last value, default a newline.\n",
      "    flush: whether to forcibly flush the stream.\n",
      "\n"
     ]
    }
   ],
   "source": [
    "help(print)"
   ]
  },
  {
   "cell_type": "code",
   "execution_count": 13,
   "id": "39AGyPTS_sXE",
   "metadata": {
    "id": "39AGyPTS_sXE"
   },
   "outputs": [],
   "source": [
    "?print"
   ]
  },
  {
   "cell_type": "markdown",
   "id": "b870125d",
   "metadata": {},
   "source": [
    "*Обратно к `.split()`.*"
   ]
  },
  {
   "cell_type": "code",
   "execution_count": 14,
   "id": "5741eb53",
   "metadata": {
    "id": "5741eb53",
    "outputId": "44318a10-20cc-455b-b713-127c9fa032e5"
   },
   "outputs": [
    {
     "name": "stdout",
     "output_type": "stream",
     "text": [
      "['сахар', 'яйца', 'мука', 'масло', 'яблоки', 'корица']\n"
     ]
    }
   ],
   "source": [
    "mom_asked = 'сахар, яйца, мука, масло, яблоки, корица'\n",
    "\n",
    "product_list = mom_asked.split(', ')  # mom_asked.split(sep=', ')\n",
    "print(product_list)\n",
    "\n",
    "# mom_asked не меняется при этом, там всё ещё строка. Проверьте."
   ]
  },
  {
   "cell_type": "code",
   "execution_count": 15,
   "id": "eef36de7",
   "metadata": {},
   "outputs": [
    {
     "data": {
      "text/plain": [
       "'сахар, яйца, мука, масло, яблоки, корица'"
      ]
     },
     "execution_count": 15,
     "metadata": {},
     "output_type": "execute_result"
    }
   ],
   "source": [
    "mom_asked.split(', ')\n",
    "mom_asked"
   ]
  },
  {
   "cell_type": "markdown",
   "id": "dc9d5864",
   "metadata": {
    "id": "dc9d5864"
   },
   "source": [
    "Общий вид:\n",
    "\n",
    "`<то, к чему применяется>.split(аргументы)`\n",
    "\n",
    "Сравните с функциями: `print(аргументы, в т.ч. <то, к чему применяется>)`\n",
    "\n",
    "Теперь мы знаем, что у `.split()` есть аргумент `sep` для указания, по какому сочетанию символов делить строку. По умолчанию делит по пробелоподобным символам.\n",
    "\n",
    "Этот метод отдаёт список из строки."
   ]
  },
  {
   "cell_type": "code",
   "execution_count": 16,
   "id": "b51c70c0",
   "metadata": {
    "id": "b51c70c0",
    "outputId": "16a02806-6c0d-426e-864f-5fc1b8bf6a6e"
   },
   "outputs": [
    {
     "name": "stdout",
     "output_type": "stream",
     "text": [
      "какой-то\n",
      "неаккуратно\tнаписанный текст\n",
      "['какой-то', 'неаккуратно', 'написанный', 'текст']\n"
     ]
    }
   ],
   "source": [
    "# Почему \"пробелоподобным\"?\n",
    "some_text = 'какой-то\\nнеаккуратно\\tнаписанный текст'  # \\n - новый абзац, \\t - табуляция\n",
    "print(some_text)\n",
    "print(some_text.split())"
   ]
  },
  {
   "cell_type": "markdown",
   "id": "230d8ed3",
   "metadata": {
    "id": "230d8ed3"
   },
   "source": [
    "### Тренировка\n",
    "Поделите `text` на предложения"
   ]
  },
  {
   "cell_type": "code",
   "execution_count": 17,
   "id": "2d11f987",
   "metadata": {
    "colab": {
     "base_uri": "https://localhost:8080/"
    },
    "id": "2d11f987",
    "outputId": "fba0ae3f-0a5e-4086-d260-edf1584a316c"
   },
   "outputs": [
    {
     "data": {
      "text/plain": [
       "['Иван Топорышкин пошел на охоту, с ним пудель пошел, перепрыгнув забор, Иван, как бревно провалился в болото, а пудель в реке утонул, как топор',\n",
       " 'Иван Топорышкин пошел на охоту, с ним пудель вприпрыжку пошел, как топор',\n",
       " 'Иван повалился бревном на болото, а пудель в реке перепрыгнул забор',\n",
       " 'Иван Топорышкин пошел на охоту, с ним пудель в реке провалился в забор',\n",
       " 'Иван как бревно перепрыгнул болото, а пудель вприпрыжку попал на топор.']"
      ]
     },
     "execution_count": 17,
     "metadata": {},
     "output_type": "execute_result"
    }
   ],
   "source": [
    "text = 'Иван Топорышкин пошел на охоту, с ним пудель пошел, перепрыгнув забор, Иван, как бревно провалился в болото, а пудель в реке утонул, как топор. Иван Топорышкин пошел на охоту, с ним пудель вприпрыжку пошел, как топор. Иван повалился бревном на болото, а пудель в реке перепрыгнул забор. Иван Топорышкин пошел на охоту, с ним пудель в реке провалился в забор. Иван как бревно перепрыгнул болото, а пудель вприпрыжку попал на топор.'\n",
    "\n",
    "\n",
    "text.split('. ')"
   ]
  },
  {
   "cell_type": "markdown",
   "id": "2ac684cc",
   "metadata": {
    "id": "2ac684cc"
   },
   "source": [
    "Комментарий: через несколько недель мы покажем хороший способ делить на предложения"
   ]
  },
  {
   "cell_type": "markdown",
   "id": "b6366f30",
   "metadata": {
    "id": "b6366f30"
   },
   "source": [
    "## Индексы\n",
    "В упорядоченных коллекциях элементы пронумерованы.\n",
    "\n",
    "**нумерация с нуля!**"
   ]
  },
  {
   "cell_type": "code",
   "execution_count": 20,
   "id": "90207adb",
   "metadata": {
    "id": "90207adb",
    "outputId": "1f7a5a9d-5ddb-4038-fe6d-736c5823629c"
   },
   "outputs": [
    {
     "name": "stdout",
     "output_type": "stream",
     "text": [
      "т\n"
     ]
    }
   ],
   "source": [
    "word = 'австралопитек'\n",
    "\n",
    "# Какая 3я буква?\n",
    "print(word[3])\n",
    "\n",
    "# а - нулевая буква\n",
    "# Как вывести \"с\"? word[3-1]"
   ]
  },
  {
   "cell_type": "code",
   "execution_count": 21,
   "id": "2e65f745",
   "metadata": {
    "id": "2e65f745",
    "outputId": "12fb362d-e239-44b0-9b0d-a2e778d2300a"
   },
   "outputs": [
    {
     "name": "stdout",
     "output_type": "stream",
     "text": [
      "к\n"
     ]
    }
   ],
   "source": [
    "# Какая последняя буква?\n",
    "print(word[-1])  # отрицательная индексация"
   ]
  },
  {
   "cell_type": "code",
   "execution_count": 22,
   "id": "253f1072",
   "metadata": {
    "id": "253f1072",
    "outputId": "91adfef7-40a3-458d-c38c-f33dfd256fa9"
   },
   "outputs": [
    {
     "name": "stdout",
     "output_type": "stream",
     "text": [
      "стра\n"
     ]
    }
   ],
   "source": [
    "print(word[2:6:1])"
   ]
  },
  {
   "cell_type": "code",
   "execution_count": 23,
   "id": "b443cbea",
   "metadata": {
    "id": "b443cbea",
    "outputId": "310d890c-480c-4932-da6c-3f2dd261fb7a"
   },
   "outputs": [
    {
     "name": "stdout",
     "output_type": "stream",
     "text": [
      "австра\n"
     ]
    }
   ],
   "source": [
    "print(word[:6])"
   ]
  },
  {
   "cell_type": "code",
   "execution_count": 24,
   "id": "a62db9f5",
   "metadata": {
    "id": "a62db9f5",
    "outputId": "12c837d7-5da4-4a27-f539-65401b717ca4"
   },
   "outputs": [
    {
     "name": "stdout",
     "output_type": "stream",
     "text": [
      "питек\n"
     ]
    }
   ],
   "source": [
    "print(word[8:])"
   ]
  },
  {
   "cell_type": "code",
   "execution_count": 25,
   "id": "f34ea7c6",
   "metadata": {
    "id": "f34ea7c6",
    "outputId": "185995fc-94a5-4a44-85c8-4d788541b9b1"
   },
   "outputs": [
    {
     "name": "stdout",
     "output_type": "stream",
     "text": [
      "асрлптк\n"
     ]
    }
   ],
   "source": [
    "print(word[::2])  # print(word[0:13:2])"
   ]
  },
  {
   "cell_type": "code",
   "execution_count": 26,
   "id": "8f51ce6a",
   "metadata": {
    "id": "8f51ce6a"
   },
   "outputs": [
    {
     "name": "stdout",
     "output_type": "stream",
     "text": [
      "кетиполартсва\n"
     ]
    }
   ],
   "source": [
    "# Как вывести слово с буквами в обратном порядке?\n",
    "print(word[::-1])"
   ]
  },
  {
   "cell_type": "code",
   "execution_count": 27,
   "id": "4aa9e2b9",
   "metadata": {
    "id": "4aa9e2b9",
    "outputId": "4eb2db44-4a3f-409f-a8a0-a377b9b5c2d9"
   },
   "outputs": [
    {
     "name": "stdout",
     "output_type": "stream",
     "text": [
      "['хлеб', 'сметана']\n"
     ]
    }
   ],
   "source": [
    "# Со списками и кортежами так же работает\n",
    "products = ['огурцы', 'помидоры', 'картошка', 'хлеб',\n",
    "            'масло', 'сметана', 'молоко', 'мука', 'яйца']\n",
    "print(products[3:7:2])"
   ]
  },
  {
   "cell_type": "code",
   "execution_count": 28,
   "id": "db207cfa",
   "metadata": {
    "id": "db207cfa",
    "outputId": "ea031052-a11b-4f07-c167-2239b93d0dd2"
   },
   "outputs": [
    {
     "ename": "IndexError",
     "evalue": "list index out of range",
     "output_type": "error",
     "traceback": [
      "\u001b[0;31m---------------------------------------------------------------------------\u001b[0m",
      "\u001b[0;31mIndexError\u001b[0m                                Traceback (most recent call last)",
      "Input \u001b[0;32mIn [28]\u001b[0m, in \u001b[0;36m<cell line: 2>\u001b[0;34m()\u001b[0m\n\u001b[1;32m      1\u001b[0m \u001b[38;5;66;03m# Несуществующее не печатает\u001b[39;00m\n\u001b[0;32m----> 2\u001b[0m \u001b[43mproducts\u001b[49m\u001b[43m[\u001b[49m\u001b[38;5;241;43m12\u001b[39;49m\u001b[43m]\u001b[49m\n",
      "\u001b[0;31mIndexError\u001b[0m: list index out of range"
     ]
    }
   ],
   "source": [
    "# Несуществующее не печатает\n",
    "products[12]"
   ]
  },
  {
   "cell_type": "markdown",
   "id": "b033ac9c-a27c-43ce-8ff1-86e55614db1f",
   "metadata": {},
   "source": [
    "### Тренировка"
   ]
  },
  {
   "cell_type": "markdown",
   "id": "7cb0fe43-e579-4ef4-a78c-5a2d6da6525c",
   "metadata": {},
   "source": [
    "Распечатайте слова в строке со второго по пятое (включительно!)"
   ]
  },
  {
   "cell_type": "code",
   "execution_count": 6,
   "id": "4735bfc4-9ef4-4cff-a6d9-9e2d735b1836",
   "metadata": {},
   "outputs": [],
   "source": [
    "s = \"не-первое не-второе не-третье не-четвёртое не-пятое не-шестое не-седьмое\"\n"
   ]
  },
  {
   "cell_type": "code",
   "execution_count": 7,
   "id": "ec8bc20c-a710-4347-97ba-653b3fab9048",
   "metadata": {},
   "outputs": [
    {
     "name": "stdout",
     "output_type": "stream",
     "text": [
      "['не-второе', 'не-третье', 'не-четвёртое', 'не-пятое']\n"
     ]
    }
   ],
   "source": [
    "print(s.split()[1:5])"
   ]
  },
  {
   "cell_type": "markdown",
   "id": "3680d9d9",
   "metadata": {
    "id": "3680d9d9"
   },
   "source": [
    "## Кортежи"
   ]
  },
  {
   "cell_type": "code",
   "execution_count": 29,
   "id": "40a0361d",
   "metadata": {
    "colab": {
     "base_uri": "https://localhost:8080/"
    },
    "id": "40a0361d",
    "outputId": "3fb412d9-b199-4cd7-99de-13c63fe53df1"
   },
   "outputs": [
    {
     "name": "stdout",
     "output_type": "stream",
     "text": [
      "<class 'tuple'>\n"
     ]
    }
   ],
   "source": [
    "months = ('January', 'February', 'March',\n",
    "         'April', 'May', 'June', 'July',\n",
    "         'August', 'September', 'October',\n",
    "         'November', 'December')\n",
    "print(type(months))"
   ]
  },
  {
   "cell_type": "code",
   "execution_count": 30,
   "id": "83e87d8d",
   "metadata": {
    "colab": {
     "base_uri": "https://localhost:8080/"
    },
    "id": "83e87d8d",
    "outputId": "b7c48f68-879f-4326-c8a0-418371bcbd37"
   },
   "outputs": [
    {
     "name": "stdout",
     "output_type": "stream",
     "text": [
      "Второй месяц:  February\n"
     ]
    }
   ],
   "source": [
    "print('Второй месяц: ', months[2-1] )"
   ]
  },
  {
   "cell_type": "markdown",
   "id": "0ddbfcda",
   "metadata": {
    "id": "0ddbfcda"
   },
   "source": [
    "## Распаковка\n",
    "Как красиво распечатать список или кортеж (без скобочек)?"
   ]
  },
  {
   "cell_type": "code",
   "execution_count": 31,
   "id": "62bd1b31",
   "metadata": {
    "id": "62bd1b31",
    "outputId": "1f299c95-88a8-4b38-938f-9c5d83eb773b"
   },
   "outputs": [
    {
     "name": "stdout",
     "output_type": "stream",
     "text": [
      "('January', 'February', 'March', 'April', 'May', 'June', 'July', 'August', 'September', 'October', 'November', 'December')\n"
     ]
    }
   ],
   "source": [
    "print(months)  # Как убрать скобочки?"
   ]
  },
  {
   "cell_type": "code",
   "execution_count": 32,
   "id": "b5a64b67",
   "metadata": {
    "id": "b5a64b67",
    "outputId": "fc6780c5-3052-4664-aa31-ae6e5ee35f41"
   },
   "outputs": [
    {
     "name": "stdout",
     "output_type": "stream",
     "text": [
      "January\n",
      "February\n",
      "March\n",
      "April\n",
      "May\n"
     ]
    }
   ],
   "source": [
    "print(months[0])\n",
    "print(months[1])\n",
    "print(months[2])\n",
    "print(months[3])\n",
    "print(months[4])\n",
    "# Так очень долго"
   ]
  },
  {
   "cell_type": "code",
   "execution_count": 33,
   "id": "bb944b3c",
   "metadata": {
    "id": "bb944b3c"
   },
   "outputs": [
    {
     "name": "stdout",
     "output_type": "stream",
     "text": [
      "January\n",
      "February\n",
      "March\n",
      "April\n",
      "May\n",
      "June\n",
      "July\n",
      "August\n",
      "September\n",
      "October\n",
      "November\n",
      "December\n"
     ]
    }
   ],
   "source": [
    "# Напишите разумнее (мы помним про while)\n",
    "index = 0\n",
    "while index < 12:\n",
    "    print(months[index])\n",
    "    index += 1"
   ]
  },
  {
   "cell_type": "code",
   "execution_count": 34,
   "id": "5ac268c9",
   "metadata": {
    "id": "5ac268c9",
    "outputId": "5c3fc579-89d3-4352-a467-3ff5d902fd5e"
   },
   "outputs": [
    {
     "name": "stdout",
     "output_type": "stream",
     "text": [
      "January February March April May June July August September October November December\n"
     ]
    }
   ],
   "source": [
    "print(*months)\n",
    "# это то же самое, что print(months[0], months[1], months[2], months[3], months[4]...)"
   ]
  },
  {
   "cell_type": "code",
   "execution_count": 35,
   "id": "tXz1kzp98_U_",
   "metadata": {
    "colab": {
     "base_uri": "https://localhost:8080/"
    },
    "id": "tXz1kzp98_U_",
    "outputId": "dd885a81-9aee-4e73-fe89-ae85cfeb685b"
   },
   "outputs": [
    {
     "name": "stdout",
     "output_type": "stream",
     "text": [
      "January\n",
      "February\n",
      "March\n",
      "April\n",
      "May\n",
      "June\n",
      "July\n",
      "August\n",
      "September\n",
      "October\n",
      "November\n",
      "December\n"
     ]
    }
   ],
   "source": [
    "print(*months, sep='\\n')"
   ]
  },
  {
   "cell_type": "code",
   "execution_count": 36,
   "id": "FWZNewOT9XDz",
   "metadata": {
    "colab": {
     "base_uri": "https://localhost:8080/"
    },
    "id": "FWZNewOT9XDz",
    "outputId": "3f34de8e-4145-4f5e-e380-1d253e08d2d8"
   },
   "outputs": [
    {
     "name": "stdout",
     "output_type": "stream",
     "text": [
      "('January', 'February', 'March', 'April', 'May', 'June', 'July', 'August', 'September', 'October', 'November', 'December')\n"
     ]
    }
   ],
   "source": [
    "print(months, sep='\\n')"
   ]
  },
  {
   "cell_type": "markdown",
   "id": "794f220a",
   "metadata": {},
   "source": [
    "#### Ещё про звёздочку"
   ]
  },
  {
   "cell_type": "code",
   "execution_count": 37,
   "id": "dc005f8b",
   "metadata": {},
   "outputs": [
    {
     "name": "stdout",
     "output_type": "stream",
     "text": [
      "January\n",
      "['February', 'March', 'April', 'May', 'June', 'July', 'August', 'September', 'October', 'November', 'December']\n"
     ]
    }
   ],
   "source": [
    "first_month, *rest = months\n",
    "\n",
    "print(first_month)\n",
    "print(rest)"
   ]
  },
  {
   "cell_type": "code",
   "execution_count": 38,
   "id": "Sf-b-oSG-ecY",
   "metadata": {
    "colab": {
     "base_uri": "https://localhost:8080/"
    },
    "id": "Sf-b-oSG-ecY",
    "outputId": "21923dc5-b3c6-4809-81e6-127009023c16"
   },
   "outputs": [
    {
     "name": "stdout",
     "output_type": "stream",
     "text": [
      "January\n",
      "February\n",
      "['March', 'April', 'May', 'June', 'July', 'August', 'September', 'October', 'November']\n",
      "December\n"
     ]
    }
   ],
   "source": [
    "first_month, second_month, *rest, last_month = months\n",
    "\n",
    "print(first_month)\n",
    "print(second_month)\n",
    "print(rest)\n",
    "print(last_month)"
   ]
  },
  {
   "cell_type": "markdown",
   "id": "682d1220",
   "metadata": {},
   "source": [
    "## in"
   ]
  },
  {
   "cell_type": "code",
   "execution_count": 39,
   "id": "146aff24",
   "metadata": {},
   "outputs": [
    {
     "name": "stdout",
     "output_type": "stream",
     "text": [
      "False\n"
     ]
    }
   ],
   "source": [
    "products = ['огурцы', 'помидоры', 'картошка', 'хлеб', 'масло', 'сметана', 'молоко', 'мука', 'яйца']\n",
    "\n",
    "print('рыба' in products)"
   ]
  },
  {
   "cell_type": "markdown",
   "id": "c5fa45d7",
   "metadata": {},
   "source": [
    "### Тренировка\n",
    "Проверьте, купит ли мама 'мороженое'? Если да, напечатайте 'Ура!' Если нет, напечатайте что-нибудь другое."
   ]
  },
  {
   "cell_type": "code",
   "execution_count": 40,
   "id": "7a2524a1",
   "metadata": {},
   "outputs": [
    {
     "name": "stdout",
     "output_type": "stream",
     "text": [
      "Ура!\n"
     ]
    }
   ],
   "source": [
    "products = ['огурцы', 'помидоры', 'картошка', 'хлеб', 'масло', 'сметана', 'молоко', 'мука', 'мороженое']\n",
    "if 'мороженое' in products:\n",
    "    print('Ура!')"
   ]
  },
  {
   "cell_type": "markdown",
   "id": "9000cb7f",
   "metadata": {
    "id": "9000cb7f"
   },
   "source": [
    "## Изменяемость и неизменяемость типов данных"
   ]
  },
  {
   "cell_type": "code",
   "execution_count": 35,
   "id": "83766c64",
   "metadata": {
    "id": "83766c64",
    "outputId": "1e6355d1-9684-4130-89f8-36ce097a11f5"
   },
   "outputs": [
    {
     "name": "stdout",
     "output_type": "stream",
     "text": [
      "картошка ['огурцы', 'помидоры', 'картошка', 'хлеб', 'масло', 'сметана', 'молоко', 'мука', 'яйца']\n",
      "лук ['огурцы', 'помидоры', 'лук', 'хлеб', 'масло', 'сметана', 'молоко', 'мука', 'яйца']\n"
     ]
    }
   ],
   "source": [
    "# Списки изменяемые\n",
    "\n",
    "products = ['огурцы', 'помидоры', 'картошка', 'хлеб', 'масло', 'сметана', 'молоко', 'мука', 'яйца']\n",
    "# картошка есть, а лук кончился\n",
    "print(products[2], products)\n",
    "\n",
    "products[2] = 'лук'\n",
    "print(products[2], products)"
   ]
  },
  {
   "cell_type": "code",
   "execution_count": 42,
   "id": "a920bd2c",
   "metadata": {
    "id": "a920bd2c",
    "outputId": "aba1a7e4-86fd-4cb3-9d03-bad206c6f1b9"
   },
   "outputs": [
    {
     "name": "stdout",
     "output_type": "stream",
     "text": [
      "['огурцы', 'помидоры', 'лук', 'хлеб', 'масло', 'сметана', 'молоко', 'мука', 'яйца']\n"
     ]
    }
   ],
   "source": [
    "print(products)"
   ]
  },
  {
   "cell_type": "markdown",
   "id": "c134acba-3e66-4d76-8e8d-9e4f2376a028",
   "metadata": {},
   "source": [
    "**Обратите внимание:** когда мы пишем `products = ['огурцы', 'помидоры', 'картошка']` мы **называем** последовательность строк, которая сохранится в памяти. Если дать ей второе (ниже это `myproducts`), третье, ... десятое названия, изменения, которые мы внесём, обращаясь по одному имени, отразятся везде! \n",
    "\n",
    "Для кого-то Пушкин был Александром Сергеевичем, для кого-то наверняка Сашей, лицеисты могли звать его француз (?).\n",
    "    Дантес его, наверное, звал \"Александр Сергеевич\".\n",
    "    Но так или иначе, после дуэли с Дантесом изменился сам Пушкин, как его ни назови, Саша, Александр Сергеевич или как-то ещё.\n",
    "    Так и списки.\n",
    "    Меняются, как их ни назови!\n",
    "\n",
    "(про переменные как названия значений в памяти, это верно для всего в питоне, про изменения, отражающиеся на всех именах, &mdash; для **изменяемых типов данных**, коим является список)"
   ]
  },
  {
   "cell_type": "code",
   "execution_count": 13,
   "id": "e4738c8e-2c0f-4418-a734-6743712534d5",
   "metadata": {
    "id": "83766c64",
    "outputId": "1e6355d1-9684-4130-89f8-36ce097a11f5"
   },
   "outputs": [
    {
     "name": "stdout",
     "output_type": "stream",
     "text": [
      "картошка ['огурцы', 'помидоры', 'картошка', 'хлеб', 'масло', 'сметана', 'молоко', 'мука', 'яйца']\n",
      "лук ['огурцы', 'помидоры', 'лук', 'хлеб', 'масло', 'сметана', 'молоко', 'мука', 'яйца']\n",
      "['огурцы', 'помидоры', 'лук', 'хлеб', 'масло', 'сметана', 'молоко', 'мука', 'яйца']\n"
     ]
    }
   ],
   "source": [
    "# Списки изменяемые\n",
    "\n",
    "products = ['огурцы', 'помидоры', 'картошка', 'хлеб', 'масло', 'сметана', 'молоко', 'мука', 'яйца']\n",
    "# картошка есть, а лук кончился\n",
    "myproducts = products\n",
    "\n",
    "print(products[2], products)\n",
    "products[2] = 'лук'\n",
    "print(products[2], products)\n",
    "\n",
    "print(myproducts)"
   ]
  },
  {
   "cell_type": "code",
   "execution_count": 14,
   "id": "4b62adf2-dffa-463a-9768-3786e4ce346a",
   "metadata": {},
   "outputs": [
    {
     "name": "stdout",
     "output_type": "stream",
     "text": [
      "картошка ['огурцы', 'помидоры', 'хлеб', 'масло', 'сметана', 'молоко', 'мука', 'яйца']\n"
     ]
    }
   ],
   "source": [
    "products = ['огурцы', 'помидоры', 'картошка', 'хлеб', 'масло', 'сметана', 'молоко', 'мука', 'яйца']\n",
    "\n",
    "deleted_product = products.pop(2)\n",
    "print(deleted_product, products)"
   ]
  },
  {
   "cell_type": "code",
   "execution_count": 11,
   "id": "c0713148",
   "metadata": {
    "id": "c0713148",
    "outputId": "995a8fde-ed6a-4dcf-8b22-4ea35f2ae2ff"
   },
   "outputs": [
    {
     "ename": "TypeError",
     "evalue": "'str' object does not support item assignment",
     "output_type": "error",
     "traceback": [
      "\u001b[1;31m---------------------------------------------------------------------------\u001b[0m",
      "\u001b[1;31mTypeError\u001b[0m                                 Traceback (most recent call last)",
      "Cell \u001b[1;32mIn [11], line 3\u001b[0m\n\u001b[0;32m      1\u001b[0m \u001b[38;5;66;03m# строки неизменяемые\u001b[39;00m\n\u001b[0;32m      2\u001b[0m word \u001b[38;5;241m=\u001b[39m \u001b[38;5;124m'\u001b[39m\u001b[38;5;124mтомик\u001b[39m\u001b[38;5;124m'\u001b[39m\n\u001b[1;32m----> 3\u001b[0m \u001b[43mword\u001b[49m\u001b[43m[\u001b[49m\u001b[38;5;241;43m0\u001b[39;49m\u001b[43m]\u001b[49m \u001b[38;5;241m=\u001b[39m \u001b[38;5;124m'\u001b[39m\u001b[38;5;124mд\u001b[39m\u001b[38;5;124m'\u001b[39m\n",
      "\u001b[1;31mTypeError\u001b[0m: 'str' object does not support item assignment"
     ]
    }
   ],
   "source": [
    "# строки неизменяемые\n",
    "word = 'томик'\n",
    "word[0] = 'д'"
   ]
  },
  {
   "cell_type": "code",
   "execution_count": 44,
   "id": "008e34d2",
   "metadata": {
    "id": "008e34d2",
    "outputId": "a6cf24ab-b81e-4281-d651-4647037b965c"
   },
   "outputs": [
    {
     "ename": "TypeError",
     "evalue": "'tuple' object does not support item assignment",
     "output_type": "error",
     "traceback": [
      "\u001b[0;31m---------------------------------------------------------------------------\u001b[0m",
      "\u001b[0;31mTypeError\u001b[0m                                 Traceback (most recent call last)",
      "Input \u001b[0;32mIn [44]\u001b[0m, in \u001b[0;36m<cell line: 6>\u001b[0;34m()\u001b[0m\n\u001b[1;32m      1\u001b[0m \u001b[38;5;66;03m# кортежи неизменяемые\u001b[39;00m\n\u001b[1;32m      2\u001b[0m months \u001b[38;5;241m=\u001b[39m (\u001b[38;5;124m'\u001b[39m\u001b[38;5;124mJanuary\u001b[39m\u001b[38;5;124m'\u001b[39m, \u001b[38;5;124m'\u001b[39m\u001b[38;5;124mFebruary\u001b[39m\u001b[38;5;124m'\u001b[39m, \u001b[38;5;124m'\u001b[39m\u001b[38;5;124mMarch\u001b[39m\u001b[38;5;124m'\u001b[39m,\n\u001b[1;32m      3\u001b[0m          \u001b[38;5;124m'\u001b[39m\u001b[38;5;124mApril\u001b[39m\u001b[38;5;124m'\u001b[39m, \u001b[38;5;124m'\u001b[39m\u001b[38;5;124mMay\u001b[39m\u001b[38;5;124m'\u001b[39m, \u001b[38;5;124m'\u001b[39m\u001b[38;5;124mJune\u001b[39m\u001b[38;5;124m'\u001b[39m, \u001b[38;5;124m'\u001b[39m\u001b[38;5;124mJuly\u001b[39m\u001b[38;5;124m'\u001b[39m,\n\u001b[1;32m      4\u001b[0m          \u001b[38;5;124m'\u001b[39m\u001b[38;5;124mAugust\u001b[39m\u001b[38;5;124m'\u001b[39m, \u001b[38;5;124m'\u001b[39m\u001b[38;5;124mSeptember\u001b[39m\u001b[38;5;124m'\u001b[39m, \u001b[38;5;124m'\u001b[39m\u001b[38;5;124mOctober\u001b[39m\u001b[38;5;124m'\u001b[39m,\n\u001b[1;32m      5\u001b[0m          \u001b[38;5;124m'\u001b[39m\u001b[38;5;124mNovember\u001b[39m\u001b[38;5;124m'\u001b[39m, \u001b[38;5;124m'\u001b[39m\u001b[38;5;124mDecember\u001b[39m\u001b[38;5;124m'\u001b[39m)\n\u001b[0;32m----> 6\u001b[0m \u001b[43mmonths\u001b[49m\u001b[43m[\u001b[49m\u001b[38;5;241;43m1\u001b[39;49m\u001b[43m]\u001b[49m \u001b[38;5;241m=\u001b[39m \u001b[38;5;124m'\u001b[39m\u001b[38;5;124mФевраль\u001b[39m\u001b[38;5;124m'\u001b[39m\n\u001b[1;32m      7\u001b[0m \u001b[38;5;28mprint\u001b[39m(months)\n",
      "\u001b[0;31mTypeError\u001b[0m: 'tuple' object does not support item assignment"
     ]
    }
   ],
   "source": [
    "# кортежи неизменяемые\n",
    "months = ('January', 'February', 'March',\n",
    "         'April', 'May', 'June', 'July',\n",
    "         'August', 'September', 'October',\n",
    "         'November', 'December')\n",
    "months[1] = 'Февраль'\n",
    "print(months)"
   ]
  },
  {
   "cell_type": "markdown",
   "id": "ecbf0f67",
   "metadata": {},
   "source": [
    "Есть способ изменить кортеж! Делаем списком, меняем, обратно делаем кортежем."
   ]
  },
  {
   "cell_type": "code",
   "execution_count": 45,
   "id": "29c8fe7c",
   "metadata": {},
   "outputs": [
    {
     "name": "stdout",
     "output_type": "stream",
     "text": [
      "<class 'list'>\n",
      "<class 'tuple'>\n",
      "('January', 'Февраль', 'March', 'April', 'May', 'June', 'July', 'August', 'September', 'October', 'November', 'December')\n"
     ]
    }
   ],
   "source": [
    "list_months = list(months)\n",
    "print(type(list_months))\n",
    "\n",
    "list_months[1] = 'Февраль'\n",
    "\n",
    "months = tuple(list_months)\n",
    "\n",
    "print(type(months))\n",
    "print(months)"
   ]
  },
  {
   "cell_type": "markdown",
   "id": "135953eb-6a26-4d9d-b081-be48e5695dec",
   "metadata": {},
   "source": [
    "### Неизменяемые данные &mdash; \"поменять\" это на самом деле \"сделать отдельный новый\""
   ]
  },
  {
   "cell_type": "markdown",
   "id": "79dd6482-77a6-4ec5-915b-ef19936ad0b4",
   "metadata": {},
   "source": [
    "> Ниже материал посложнее.\n",
    "    Но вообще понимать это неплохо, чтобы избежать ошибок."
   ]
  },
  {
   "cell_type": "markdown",
   "id": "e9408c3c-ffaf-404f-80d5-8cf6575f2cfa",
   "metadata": {},
   "source": [
    "Нужно быть внимательным с чем-то, о чём мы давно говорили. Имена переменных &mdash; это отсылки, указатели на то, где искать значение переменной (плюс дополнительная информация вроде типа переменной). То, можно ли поменять данные, зависит от их типа (который известен Питону и который всегда можно узнать используя `type()`), но имя это всегда ссылка.\n",
    "\n",
    "Поэтому если у нас несколько одинаковых ссылок на данные неизменемого типа, то \"изменить\" их значит использовать то же имя для новой ссылки, и это не отразится на существующих ссылках/указателях:"
   ]
  },
  {
   "cell_type": "code",
   "execution_count": 8,
   "id": "fa3f19d4-c27e-4230-ac40-6807da7bc20c",
   "metadata": {},
   "outputs": [
    {
     "name": "stdout",
     "output_type": "stream",
     "text": [
      "Привет, мир! Привет, мир!\n",
      "Ух Привет, мир!\n"
     ]
    }
   ],
   "source": [
    "mystr = \"Привет, мир!\"\n",
    "mystr_same = mystr\n",
    "print(mystr, mystr_same)\n",
    "\n",
    "mystr = \"Ух\"\n",
    "print(mystr, mystr_same)"
   ]
  },
  {
   "cell_type": "code",
   "execution_count": 9,
   "id": "c8ee6c97-f7fd-47c7-97f5-a85cc1c2cb0e",
   "metadata": {},
   "outputs": [
    {
     "name": "stdout",
     "output_type": "stream",
     "text": [
      "120 120\n",
      "3141411 120\n"
     ]
    }
   ],
   "source": [
    "mynum = 120\n",
    "mynum_same = mynum\n",
    "print(mynum, mynum_same)\n",
    "\n",
    "mynum = 3141411\n",
    "print(mynum, mynum_same)"
   ]
  },
  {
   "cell_type": "markdown",
   "id": "e25505fb-9d58-4826-8967-e86fbda311ae",
   "metadata": {},
   "source": [
    "Представим, что у нас есть описание транспорта в каком-то городе.\n",
    "    Сперва число направлений, потом сами направления. \n",
    "    Направления сами это тоже списки, потому что по одному направлению может быть несколько городов. "
   ]
  },
  {
   "cell_type": "code",
   "execution_count": 18,
   "id": "98603ecc-d97d-4bb6-bb78-282b218f5a1c",
   "metadata": {},
   "outputs": [],
   "source": [
    "one_destination = ['казань', 'волгоград', 'астрахань'] # \"казань волгоград астрахань\".split()"
   ]
  },
  {
   "cell_type": "code",
   "execution_count": 19,
   "id": "773684b1-2302-44c2-88d4-fcc6fa21e5e1",
   "metadata": {},
   "outputs": [
    {
     "name": "stdout",
     "output_type": "stream",
     "text": [
      "[2, ['курск'], ['казань', 'волгоград', 'астрахань']]\n"
     ]
    }
   ],
   "source": [
    "all_destinations = [2, [\"курск\"], one_destination]\n",
    "print(all_destinations)"
   ]
  },
  {
   "cell_type": "markdown",
   "id": "89bf99c3-fe3b-44fc-87f8-7f0501a14d6e",
   "metadata": {},
   "source": [
    "Мы можем добавить во внутренний список, (к одному из направлений), что-то просто обратившись по индексу к внутреннему списку.\n",
    "    (За добавление отвечает метод списка `.append`, см. [дальше в тетрадке methods](./230207_methods.ipynb))\n",
    "    Конечно, изменения отобразятся и во внешнем списке всех направлений!"
   ]
  },
  {
   "cell_type": "code",
   "execution_count": 20,
   "id": "8e7f411d-a54a-49bc-85c5-85e5a62ff674",
   "metadata": {},
   "outputs": [
    {
     "name": "stdout",
     "output_type": "stream",
     "text": [
      "[2, ['курск', 'брянск'], ['казань', 'волгоград', 'астрахань']]\n"
     ]
    }
   ],
   "source": [
    "all_destinations[1].append(\"брянск\")\n",
    "print(all_destinations)"
   ]
  },
  {
   "cell_type": "markdown",
   "id": "6f46c67a-ea2b-4c4a-b9e8-69d2bddcd092",
   "metadata": {},
   "source": [
    "А теперь давайте я обращусь к исходному направлению `one_destination`, которое включено в список всех направлений `all_destinations`  и закрою это направление (очистив список методом `.clear()` &mdash; см. [тетрадку](./230207_methods.ipynb))"
   ]
  },
  {
   "cell_type": "code",
   "execution_count": 21,
   "id": "a31224d4-d46a-49f7-a6fb-ee37d9910a51",
   "metadata": {},
   "outputs": [
    {
     "name": "stdout",
     "output_type": "stream",
     "text": [
      "[2, ['курск', 'брянск'], []]\n"
     ]
    }
   ],
   "source": [
    "one_destination.clear()\n",
    "print(all_destinations)"
   ]
  },
  {
   "cell_type": "markdown",
   "id": "77cd8d53-5d16-4705-9c62-d0b2bd5507e8",
   "metadata": {},
   "source": [
    "Очищал обращаясь к `one_destination`, но и из большого списка `all_destinations` это оказалось заметно!"
   ]
  },
  {
   "cell_type": "markdown",
   "id": "edf6be03-22e9-412f-b929-c42f35b09b51",
   "metadata": {},
   "source": [
    "А теперь **кортежи!**"
   ]
  },
  {
   "cell_type": "markdown",
   "id": "76efc060-fdb7-4455-8301-b293745e7370",
   "metadata": {},
   "source": [
    "Спойлер: с кортежами нельзя менять штуку по индексу, если она сама неизменяемая, т.е. число или строка. \n",
    "    А список можно! "
   ]
  },
  {
   "cell_type": "code",
   "execution_count": 33,
   "id": "c8d5ed5f-7d8d-432a-9d1b-48ce80dcc496",
   "metadata": {},
   "outputs": [],
   "source": [
    "# результаты соревнования: число участников кроме победителя, имя победителя, имена участников не-победителей\n",
    "tourney_result = (2, \"Vasya\", [\"Andrew\", \"Kirill\"])"
   ]
  },
  {
   "cell_type": "markdown",
   "id": "a424ccbe-4868-42f8-94cb-437a6bf76ffd",
   "metadata": {},
   "source": [
    "Победителя не поменять, это &mdash; строка и она элемент кортежа:"
   ]
  },
  {
   "cell_type": "code",
   "execution_count": 34,
   "id": "36088d57-2862-41a9-95e0-d5dcbd1ab6e6",
   "metadata": {},
   "outputs": [
    {
     "ename": "TypeError",
     "evalue": "'tuple' object does not support item assignment",
     "output_type": "error",
     "traceback": [
      "\u001b[1;31m---------------------------------------------------------------------------\u001b[0m",
      "\u001b[1;31mTypeError\u001b[0m                                 Traceback (most recent call last)",
      "Cell \u001b[1;32mIn [34], line 1\u001b[0m\n\u001b[1;32m----> 1\u001b[0m \u001b[43mtourney_result\u001b[49m\u001b[43m[\u001b[49m\u001b[38;5;241;43m1\u001b[39;49m\u001b[43m]\u001b[49m \u001b[38;5;241m=\u001b[39m \u001b[38;5;124m\"\u001b[39m\u001b[38;5;124mAlexey\u001b[39m\u001b[38;5;124m\"\u001b[39m\n",
      "\u001b[1;31mTypeError\u001b[0m: 'tuple' object does not support item assignment"
     ]
    }
   ],
   "source": [
    "tourney_result[1] = \"Alexey\""
   ]
  },
  {
   "cell_type": "markdown",
   "id": "8f300430-85b3-47a2-b5ee-bca2bfff41b6",
   "metadata": {},
   "source": [
    "А вот расширить список не-победителей можно!"
   ]
  },
  {
   "cell_type": "code",
   "execution_count": 32,
   "id": "a050667a-4e73-49e2-a500-59238947f49d",
   "metadata": {},
   "outputs": [
    {
     "name": "stdout",
     "output_type": "stream",
     "text": [
      "(2, 'Vasya', ['Andrew', 'Kirill', 'Ivan'])\n"
     ]
    }
   ],
   "source": [
    "tourney_result[2].append(\"Ivan\")\n",
    "print(tourney_result)"
   ]
  },
  {
   "cell_type": "markdown",
   "id": "3acg0z_XBorC",
   "metadata": {
    "id": "3acg0z_XBorC"
   },
   "source": [
    "## Цикл for"
   ]
  },
  {
   "cell_type": "markdown",
   "id": "eecc343f-55d5-450e-80c3-99a2fa468de4",
   "metadata": {},
   "source": [
    "Ранее мы познакомились с циклом `while`, который работает на основе какого-то условия, пока оно не станет неверным (или мы не выйдем из цикла сами, используя `break`). Он удобен ровно для этого, когда мы можем сформулировать условие для продолжения (просто `while <условие>`) или прекращения (что-то вроде `while <not условие>`) повторяющихся действий. Например, мы принимали с этим циклом ввод от пользователя (и завершали цикл, когда введена пустая строка, то есть просто нажат <kbd>enter</kbd>).\n",
    "\n",
    "Бывают задачи, которые легче формулировать в других терминах: для каждого элемента набора (списка, строки, диапазона чисел), нужно выполнить какое-то действие. `while` здесь не очень удобен. Например, если для овощного салата у нас есть набор ингредиентов-овощей, то нужно каждый овощ сперва помыть. Как сформулировать на питоне, что `<моем> <каждый овощ>`? Можно заметить, что здесь повторяется одинаковое действие (мытьё) с немного разными объектами (разными овощами)."
   ]
  },
  {
   "cell_type": "markdown",
   "id": "3ef6c033-be36-49c2-9619-1d14e61bdf73",
   "metadata": {},
   "source": [
    "Вот как мы могли бы это делать с `while`:"
   ]
  },
  {
   "cell_type": "markdown",
   "id": "68b3322e-ff78-4c2b-ad4c-b3e86a2e471f",
   "metadata": {},
   "source": [
    "```python\n",
    "some_collection = [...]\n",
    "\n",
    "max_elems = len(some_collection)\n",
    "i = 0\n",
    "while i < max_elems:\n",
    "    current_elem = some_collection[i]\n",
    "    ... # действия\n",
    "    i += 1  \n",
    "```"
   ]
  },
  {
   "cell_type": "code",
   "execution_count": 5,
   "id": "ad2ac972-882d-4722-9257-6fa7fc65a4a7",
   "metadata": {},
   "outputs": [
    {
     "name": "stdout",
     "output_type": "stream",
     "text": [
      "мою овощ: огурец\n",
      "мою овощ: помидор\n"
     ]
    }
   ],
   "source": [
    "vegetables = [\"огурец\", \"помидор\"]\n",
    "\n",
    "max_elems = len(vegetables)\n",
    "i = 0\n",
    "while i < max_elems:\n",
    "    veg = vegetables[i]\n",
    "    print(\"мою овощ:\", veg)\n",
    "    i += 1  "
   ]
  },
  {
   "cell_type": "markdown",
   "id": "4b1b7a7d-7d0b-404a-be33-718c446e8106",
   "metadata": {},
   "source": [
    "Не очень красиво и удобно...\n",
    "\n",
    "Для такого рода задач существует другая конструкция, другой цикл: цикл `for`."
   ]
  },
  {
   "cell_type": "markdown",
   "id": "d09a3c0b-9cf2-4cd6-b881-ea69aafc9bb6",
   "metadata": {},
   "source": [
    "```\n",
    "for <element> in <elements>:\n",
    "       <инструкции, которые будут выполняться для каждого элемента>\n",
    "```"
   ]
  },
  {
   "cell_type": "markdown",
   "id": "4e071c29-fefd-40e1-b5a0-44fc216c16b2",
   "metadata": {},
   "source": [
    "```\n",
    "for овощ in овощи:\n",
    "       моем(овощ) \n",
    "```"
   ]
  },
  {
   "cell_type": "code",
   "execution_count": 2,
   "id": "ed5b785b-4c15-4f66-a36e-df35cdc14a48",
   "metadata": {},
   "outputs": [
    {
     "name": "stdout",
     "output_type": "stream",
     "text": [
      "мою овощ: огурец\n",
      "мою овощ: помидор\n"
     ]
    }
   ],
   "source": [
    "vegetables = [\"огурец\", \"помидор\"]\n",
    "\n",
    "for veg in vegetables:\n",
    "    print(\"мою овощ:\", veg)"
   ]
  },
  {
   "cell_type": "markdown",
   "id": "3d0a1547-8ade-4abf-8db7-122f053296b2",
   "metadata": {},
   "source": [
    "`veg` здесь переменная, в которую на время повтора цикла сохраняется элемент из `vegetables`."
   ]
  },
  {
   "cell_type": "code",
   "execution_count": 2,
   "id": "ehAdEdK6BXHW",
   "metadata": {
    "id": "ehAdEdK6BXHW"
   },
   "outputs": [
    {
     "name": "stdout",
     "output_type": "stream",
     "text": [
      "January February March April May June July August September October November December "
     ]
    }
   ],
   "source": [
    "# Ещё один способ распечатать названия месяцев\n",
    "months = ('January', 'February', 'March',\n",
    "         'April', 'May', 'June', 'July',\n",
    "         'August', 'September', 'October',\n",
    "         'November', 'December')\n",
    "\n",
    "\n",
    "for month in months:  # для каждого месяца в месяцах\n",
    "    print(month, end=\" \")      # распечатай месяц\n",
    "    \n",
    "# print(months[0], end=\" \")\n",
    "# print(months[1], end=\" \")\n",
    "# print(months[2], end=\" \")\n",
    "# ...\n",
    "# print(months[11], end=\" \")"
   ]
  },
  {
   "cell_type": "markdown",
   "id": "961af498",
   "metadata": {},
   "source": [
    "`month` здесь переменная, в которую на время цикла сохраняется элемент из `months`.\n",
    "\n",
    "Мы могли её назвать `m` или `elem` и вообще как угодно."
   ]
  },
  {
   "cell_type": "markdown",
   "id": "a8caafed-f770-49c7-a67d-d39193035010",
   "metadata": {},
   "source": [
    "Не забывайте, что выше использован именованный аргумент `end=<что напечатать после того, как напечатали то, что спросили>`.\n",
    "\n",
    "Обычно можно узнать, какие есть у функции аргументы используя функцию `help(<интересующая_функция>)`. \n",
    "    В неё мы передадим просто имя функции, о которой что-то интересно."
   ]
  },
  {
   "cell_type": "code",
   "execution_count": 3,
   "id": "3b7d0614-71e6-4b28-8711-0d51fc3fa6eb",
   "metadata": {},
   "outputs": [
    {
     "name": "stdout",
     "output_type": "stream",
     "text": [
      "Help on built-in function print in module builtins:\n",
      "\n",
      "print(...)\n",
      "    print(value, ..., sep=' ', end='\\n', file=sys.stdout, flush=False)\n",
      "    \n",
      "    Prints the values to a stream, or to sys.stdout by default.\n",
      "    Optional keyword arguments:\n",
      "    file:  a file-like object (stream); defaults to the current sys.stdout.\n",
      "    sep:   string inserted between values, default a space.\n",
      "    end:   string appended after the last value, default a newline.\n",
      "    flush: whether to forcibly flush the stream.\n",
      "\n"
     ]
    }
   ],
   "source": [
    "help(print)"
   ]
  },
  {
   "cell_type": "markdown",
   "id": "0a4852f4",
   "metadata": {},
   "source": [
    "### Тренировка\n",
    "Поздровайтесь с каждым из списка (напишите \"Привет, `name`\")"
   ]
  },
  {
   "cell_type": "code",
   "execution_count": null,
   "id": "b4c0bc28",
   "metadata": {},
   "outputs": [
    {
     "name": "stdout",
     "output_type": "stream",
     "text": [
      "Привет, Антон\n",
      "Привет, Андре\n",
      "Привет, Симон\n",
      "Привет, Марья\n",
      "Привет, Тереза\n",
      "Привет, Француаз\n",
      "Привет, Изобель\n"
     ]
    }
   ],
   "source": [
    "names = ['Антон', 'Андре', 'Симон', 'Марья', 'Тереза', 'Француаз', 'Изобель']\n",
    "# не в тему: закончите список\n",
    "for name in names:\n",
    "    print('Привет,', name)"
   ]
  },
  {
   "cell_type": "markdown",
   "id": "37611d66",
   "metadata": {},
   "source": [
    "### Тренировка\n"
   ]
  },
  {
   "cell_type": "markdown",
   "id": "8635fce2",
   "metadata": {},
   "source": [
    "Поменяйте картошку на лук. Вы не знаете, на каком месте стоит элемент 'картошка'"
   ]
  },
  {
   "cell_type": "code",
   "execution_count": 52,
   "id": "86fbaef5",
   "metadata": {},
   "outputs": [
    {
     "name": "stdout",
     "output_type": "stream",
     "text": [
      "['огурцы', 'помидоры', 'лук', 'хлеб', 'масло']\n"
     ]
    }
   ],
   "source": [
    "products = ['огурцы', 'помидоры', 'картошка', 'хлеб', 'масло']\n",
    "n = 0\n",
    "if 'картошка' in products:\n",
    "    for product in products:\n",
    "        if product == 'картошка':\n",
    "            index = n\n",
    "        n+=1\n",
    "    products[index] = 'лук'\n",
    "    \n",
    "print(products)"
   ]
  },
  {
   "cell_type": "markdown",
   "id": "985adc63",
   "metadata": {},
   "source": [
    "*А дальше 4ая группа не пошла.*"
   ]
  },
  {
   "cell_type": "markdown",
   "id": "085d9be5",
   "metadata": {
    "id": "8598e725"
   },
   "source": [
    "### range()"
   ]
  },
  {
   "cell_type": "code",
   "execution_count": null,
   "id": "5374f841",
   "metadata": {},
   "outputs": [],
   "source": [
    "list(range(8))"
   ]
  },
  {
   "cell_type": "code",
   "execution_count": null,
   "id": "6af09d2d",
   "metadata": {},
   "outputs": [],
   "source": [
    "list(range(2,8))"
   ]
  },
  {
   "cell_type": "code",
   "execution_count": null,
   "id": "6c409eb1",
   "metadata": {},
   "outputs": [],
   "source": [
    "list(range(0, 8, 2))"
   ]
  },
  {
   "cell_type": "code",
   "execution_count": null,
   "id": "fae9ddac",
   "metadata": {},
   "outputs": [],
   "source": [
    "# здороваемся 5 раз и считаем\n",
    "for i in range(5):\n",
    "    print('Привет!', i+1)"
   ]
  },
  {
   "cell_type": "code",
   "execution_count": null,
   "id": "62abe1d3",
   "metadata": {},
   "outputs": [],
   "source": [
    "word = 'Hello'\n",
    "for i in range(_____):  # что сюда добавить, чтобы l l напечатать?\n",
    "    print(word[i])"
   ]
  },
  {
   "cell_type": "markdown",
   "id": "a485ae0f",
   "metadata": {},
   "source": [
    "### Тренировка\n",
    "Как напечатать номер месяца и название? Есть много способов. Но пропробуем `range(len(months))`"
   ]
  },
  {
   "cell_type": "code",
   "execution_count": null,
   "id": "77d37117",
   "metadata": {},
   "outputs": [],
   "source": []
  },
  {
   "cell_type": "markdown",
   "id": "bb11460f",
   "metadata": {
    "id": "bb11460f"
   },
   "source": [
    "### Тренировка\n",
    "Напечатайте в строку название книги, автора, год издания"
   ]
  },
  {
   "cell_type": "code",
   "execution_count": null,
   "id": "3f273e9b",
   "metadata": {
    "id": "3f273e9b"
   },
   "outputs": [],
   "source": [
    "books = ['Петя и Волк', 'Муфта, Полботинка и Моховая Борода', 'Зоки и Бада']\n",
    "authors = ['С.С. Прокофьев', 'Эно Рауд', 'Ирина и Леонид Тюхтяевы']\n",
    "publication = ['1936', '1976', '1990']\n",
    "\n",
    "# ваш код"
   ]
  },
  {
   "cell_type": "markdown",
   "id": "bdd0364f",
   "metadata": {},
   "source": [
    "### enumerate()"
   ]
  },
  {
   "cell_type": "code",
   "execution_count": null,
   "id": "ESX4yUFm-Ahm",
   "metadata": {
    "id": "ESX4yUFm-Ahm"
   },
   "outputs": [],
   "source": [
    "# воспоминание:\n",
    "a, b = 4, 5\n",
    "print(\"a:\", a)\n",
    "print(\"b:\", b)"
   ]
  },
  {
   "cell_type": "code",
   "execution_count": null,
   "id": "_CWEnF1M95p1",
   "metadata": {
    "colab": {
     "base_uri": "https://localhost:8080/"
    },
    "id": "_CWEnF1M95p1",
    "outputId": "366206ae-f8a7-499d-97fb-bf4223cad679"
   },
   "outputs": [],
   "source": [
    "enum = list(enumerate(months))\n",
    "print(enum)"
   ]
  },
  {
   "cell_type": "code",
   "execution_count": null,
   "id": "xYT5tXae9fGv",
   "metadata": {
    "colab": {
     "base_uri": "https://localhost:8080/"
    },
    "id": "xYT5tXae9fGv",
    "outputId": "355899a1-a9f6-4934-92ae-f7fa6bdaa22b"
   },
   "outputs": [],
   "source": [
    "for i, month in enumerate(months):\n",
    "    print(\"id:\", i, \"month:\", month)"
   ]
  },
  {
   "cell_type": "markdown",
   "id": "587cf86f",
   "metadata": {},
   "source": [
    "enumerate всегда делает список кортежей: [(порядковый_номер, элемент), (порядковый_номер, элемент), (порядковый_номер, элемент)]"
   ]
  },
  {
   "cell_type": "code",
   "execution_count": null,
   "id": "poqQb1RN-PGY",
   "metadata": {
    "colab": {
     "base_uri": "https://localhost:8080/"
    },
    "id": "poqQb1RN-PGY",
    "outputId": "229bc03e-86ab-4bcd-a885-16d71d9751e1"
   },
   "outputs": [],
   "source": [
    "matrix = [[1, 2, 3], [4, 5, 6], [7, 8, 9]]\n",
    "enum_matrix = list(enumerate(matrix))\n",
    "\n",
    "print(enum_matrix)"
   ]
  },
  {
   "cell_type": "markdown",
   "id": "c09595aa",
   "metadata": {},
   "source": [
    "#### Цикл в цикле"
   ]
  },
  {
   "cell_type": "markdown",
   "id": "7d62ff15",
   "metadata": {},
   "source": [
    "Максим подтягивается 4 подхода по 10 раз:"
   ]
  },
  {
   "cell_type": "code",
   "execution_count": null,
   "id": "rLnMop4YBZuq",
   "metadata": {
    "colab": {
     "base_uri": "https://localhost:8080/"
    },
    "id": "rLnMop4YBZuq",
    "outputId": "977fb38b-e5a5-4bd5-cf6f-b97792890763"
   },
   "outputs": [],
   "source": [
    "num_sets = 4\n",
    "num_repeats = 10\n",
    "\n",
    "for set_povtor in range(num_sets):\n",
    "    print(\"повторов сделано:\")\n",
    "    for repeat in range(num_repeats):\n",
    "        print(\"\", repeat + 1)\n",
    "\n",
    "    print()\n",
    "    print(\"ПОДХОДОВ сделано:\", set_povtor + 1)    "
   ]
  },
  {
   "cell_type": "markdown",
   "id": "b955a4ea",
   "metadata": {},
   "source": [
    "### Тренировка\n",
    "Снова напишем таблицу умножения"
   ]
  },
  {
   "cell_type": "code",
   "execution_count": null,
   "id": "83ee6e66-2fe1-4672-b759-fb2f2bf67f40",
   "metadata": {},
   "outputs": [],
   "source": []
  }
 ],
 "metadata": {
  "colab": {
   "provenance": []
  },
  "kernelspec": {
   "display_name": "Python 3 (ipykernel)",
   "language": "python",
   "name": "python3"
  },
  "language_info": {
   "codemirror_mode": {
    "name": "ipython",
    "version": 3
   },
   "file_extension": ".py",
   "mimetype": "text/x-python",
   "name": "python",
   "nbconvert_exporter": "python",
   "pygments_lexer": "ipython3",
   "version": "3.9.7"
  }
 },
 "nbformat": 4,
 "nbformat_minor": 5
}
