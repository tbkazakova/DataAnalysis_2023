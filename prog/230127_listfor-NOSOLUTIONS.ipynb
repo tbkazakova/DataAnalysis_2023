{
 "cells": [
  {
   "cell_type": "markdown",
   "id": "fe4aa52a",
   "metadata": {
    "id": "fe4aa52a"
   },
   "source": [
    "# Списки, кортежи. Цикл for"
   ]
  },
  {
   "cell_type": "markdown",
   "id": "aec3aa23",
   "metadata": {
    "id": "aec3aa23"
   },
   "source": [
    "Мы уже знаем про:\n",
    "- типы данных `int`, `float`, `str`, `bool`\n",
    "- математические операторы: `+`, `-`, `/`, `*`, `**` (в степень), `%` (остаток от деления), `//` (целая часть при делении)\n",
    "- `print()` — напечатать\n",
    "- `type()` — узнать тип данных\n",
    "- `input()` — принять значение от пользователя\n",
    "- `int()` — преобразовать в целочисленный формат\n",
    "- `float()` — преобразовать в формат дробного числа\n",
    "- `str()` — преобразовать в строку\n",
    "- `bool()` — преобразовать в bool (True/False)\n",
    "- условия:\n",
    "\n",
    "```\n",
    "if <условие>:\n",
    "    <инструкции, для случая если условие истинно (True)>\n",
    "(\n",
    "#elif <условие №2>:\n",
    "    #<инструкции, для случая если условие №2 истинно (True)>\n",
    "else:\n",
    "    <инструкции, когда все условия не выполнились (False)>\n",
    ")\n",
    "```\n",
    "- операторы сравнения: `>`, `<`, `>=`, `<=`, `==` (равно), `!=` (не равно)\n",
    "- логические операторы: `and`, `or`, `not`\n",
    "- цикл `while`:\n",
    "\n",
    "```\n",
    "while <условие>:\n",
    "    <инструкции, которые будут выполняться по кругу, пока условие выполняется True>\n",
    "```"
   ]
  },
  {
   "cell_type": "markdown",
   "id": "077c0bb1",
   "metadata": {
    "id": "077c0bb1"
   },
   "source": [
    "В этот раз узнаем про:\n",
    "- списки (list) - `[]`\n",
    "- кортежи (tuple) - `()`\n",
    "- `.strip()` - метод, делящий строку на части по сочетанию символов, указанных в скрбках\n",
    "- `list()` - преобразовать в список\n",
    "- `tuple()` - преобразовать в кортеж\n",
    "- `len()` - узнать длину\n",
    "- цикл `for`:\n",
    "\n",
    "```\n",
    "for <element> in <elements>:\n",
    "       <инструкции, которые будут выполняться для каждого элемента>\n",
    "```\n",
    "\n",
    "- `range()`\n",
    "- `enumerate()`"
   ]
  },
  {
   "cell_type": "markdown",
   "id": "ccd54bdb",
   "metadata": {
    "id": "ccd54bdb"
   },
   "source": [
    "# Список\n",
    "Список (list) - упорядоченная изменяемая коллекция элементов различных типов.\n",
    "\n",
    "списки почти не ограничены по длине (не больше 500 миллионов элементов)"
   ]
  },
  {
   "cell_type": "markdown",
   "id": "1dd5ddfe",
   "metadata": {
    "id": "1dd5ddfe"
   },
   "source": [
    "## Создание списков"
   ]
  },
  {
   "cell_type": "code",
   "execution_count": 1,
   "id": "fad92805",
   "metadata": {
    "id": "fad92805"
   },
   "outputs": [],
   "source": [
    "some_food = ['сайки', 'коржики', 'коврижки', 'апельсины',\n",
    "             'мандарины', 'малина из корзины',\n",
    "             'на палочках петушки', 'с повидлом пирожки']  # список строк\n",
    "# Про красоту кода: по PEP-8 длина строки не больше 79 символов\n",
    "# Перенос строки список не меняет"
   ]
  },
  {
   "cell_type": "markdown",
   "id": "6a7fe463",
   "metadata": {
    "id": "6a7fe463"
   },
   "source": [
    "Общий вид:\n",
    "в квадратных скобках элементы через запятую"
   ]
  },
  {
   "cell_type": "code",
   "execution_count": 2,
   "id": "8ba02bca",
   "metadata": {
    "colab": {
     "base_uri": "https://localhost:8080/"
    },
    "id": "8ba02bca",
    "outputId": "50f322fe-0176-4710-dba7-3156a1fa515e"
   },
   "outputs": [
    {
     "data": {
      "text/plain": [
       "['сайки',\n",
       " 'коржики',\n",
       " 'коврижки',\n",
       " 'апельсины',\n",
       " 'мандарины',\n",
       " 'малина из корзины',\n",
       " 'на палочках петушки',\n",
       " 'с повидлом пирожки']"
      ]
     },
     "execution_count": 2,
     "metadata": {},
     "output_type": "execute_result"
    }
   ],
   "source": [
    "some_food"
   ]
  },
  {
   "cell_type": "code",
   "execution_count": 3,
   "id": "e818914b",
   "metadata": {
    "id": "e818914b"
   },
   "outputs": [
    {
     "data": {
      "text/plain": [
       "list"
      ]
     },
     "execution_count": 3,
     "metadata": {},
     "output_type": "execute_result"
    }
   ],
   "source": [
    "type(some_food)"
   ]
  },
  {
   "cell_type": "code",
   "execution_count": 4,
   "id": "31f10e92",
   "metadata": {
    "id": "31f10e92"
   },
   "outputs": [],
   "source": [
    "empty_list = []  # а так создают пустой список\n",
    "\n",
    "fibo_digits = [0, 1, 1, 2, 3, 5, 8, 13, 21, 34, 55, 89]  # список чисел Фибоначчи\n",
    "mixed_list = ['год', 2023, True]  # в одном списке могут храниться элементы разных типов\n",
    "matrix = [[1, 2, 3], [4, 5, 6], [7, 8, 9]]  # список может содержать другие списки"
   ]
  },
  {
   "cell_type": "markdown",
   "id": "ae19b0bd",
   "metadata": {
    "id": "ae19b0bd"
   },
   "source": [
    "### list()\n",
    "`list()` - функция для преобразования в список"
   ]
  },
  {
   "cell_type": "code",
   "execution_count": 5,
   "id": "29c051d1",
   "metadata": {
    "id": "29c051d1",
    "outputId": "41831970-e391-43f7-b8d1-2a58529eb18f"
   },
   "outputs": [
    {
     "data": {
      "text/plain": [
       "['п', 'р', 'и', 'в', 'е', 'т']"
      ]
     },
     "execution_count": 5,
     "metadata": {},
     "output_type": "execute_result"
    }
   ],
   "source": [
    "list('привет')\n",
    "# Сама по себе строка является упорядоченной коллекцией символов."
   ]
  },
  {
   "cell_type": "code",
   "execution_count": 6,
   "id": "31ef4cdd",
   "metadata": {
    "id": "31ef4cdd",
    "outputId": "7fa1a38f-0fec-4169-85d8-0a9cb0b624c1"
   },
   "outputs": [
    {
     "ename": "TypeError",
     "evalue": "'bool' object is not iterable",
     "output_type": "error",
     "traceback": [
      "\u001b[0;31m---------------------------------------------------------------------------\u001b[0m",
      "\u001b[0;31mTypeError\u001b[0m                                 Traceback (most recent call last)",
      "Input \u001b[0;32mIn [6]\u001b[0m, in \u001b[0;36m<cell line: 1>\u001b[0;34m()\u001b[0m\n\u001b[0;32m----> 1\u001b[0m \u001b[38;5;28;43mlist\u001b[39;49m\u001b[43m(\u001b[49m\u001b[38;5;28;43;01mTrue\u001b[39;49;00m\u001b[43m)\u001b[49m\n",
      "\u001b[0;31mTypeError\u001b[0m: 'bool' object is not iterable"
     ]
    }
   ],
   "source": [
    "list(True)"
   ]
  },
  {
   "cell_type": "markdown",
   "id": "1d55ff3b",
   "metadata": {
    "id": "1d55ff3b"
   },
   "source": [
    "`list()` применяется к объектам, которые iterable (=итерируемы), т.е. которые способны возвращать элементы по одному, которые являются собранием чего-то."
   ]
  },
  {
   "cell_type": "code",
   "execution_count": 7,
   "id": "9dc06c1e",
   "metadata": {
    "id": "9dc06c1e"
   },
   "outputs": [],
   "source": [
    "# Можно создать пустой список и так:\n",
    "\n",
    "empty_list2 = list()  # аналогично empty_list = []"
   ]
  },
  {
   "cell_type": "code",
   "execution_count": 8,
   "id": "12af18ee",
   "metadata": {},
   "outputs": [
    {
     "data": {
      "text/plain": [
       "[]"
      ]
     },
     "execution_count": 8,
     "metadata": {},
     "output_type": "execute_result"
    }
   ],
   "source": [
    "empty_list2"
   ]
  },
  {
   "cell_type": "markdown",
   "id": "f269eefa",
   "metadata": {
    "id": "f269eefa"
   },
   "source": [
    "### .split()\n",
    "`.split()` - метод, который применяется к строкам. Делит их на части."
   ]
  },
  {
   "cell_type": "code",
   "execution_count": 9,
   "id": "f13f2c59",
   "metadata": {
    "id": "f13f2c59",
    "outputId": "696d2dfb-34c4-44e0-abdf-5b84e4f08700"
   },
   "outputs": [
    {
     "name": "stdout",
     "output_type": "stream",
     "text": [
      "['сахар', 'яйца', 'мука', 'масло', 'яблоки', 'корица']\n"
     ]
    }
   ],
   "source": [
    "mom_asked = 'сахар яйца мука масло яблоки корица'\n",
    "\n",
    "# Как из этого сделать список?\n",
    "# Что будет, если сделать list(mom_asked)?\n",
    "# Вот так - хорошо\n",
    "\n",
    "product_list = mom_asked.split()\n",
    "print(product_list)"
   ]
  },
  {
   "cell_type": "code",
   "execution_count": 10,
   "id": "db6cafc0",
   "metadata": {
    "id": "db6cafc0",
    "outputId": "d810e2d1-9314-4ede-bcad-8d0eaad2e71f"
   },
   "outputs": [
    {
     "name": "stdout",
     "output_type": "stream",
     "text": [
      "['сахар,', 'яйца,', 'мука,', 'масло,', 'яблоки,', 'корица']\n"
     ]
    }
   ],
   "source": [
    "# А если\n",
    "mom_asked = 'сахар, яйца, мука, масло, яблоки, корица'\n",
    "\n",
    "product_list = mom_asked.split()\n",
    "print(product_list)"
   ]
  },
  {
   "cell_type": "markdown",
   "id": "180a42a4",
   "metadata": {
    "id": "180a42a4"
   },
   "source": [
    "По умолчанию `.split()` делит по пробелоподобным символам. Но можно указать разделитель (наш знакомый sep)."
   ]
  },
  {
   "cell_type": "code",
   "execution_count": 11,
   "id": "2313bfee",
   "metadata": {
    "id": "2313bfee",
    "outputId": "4ed5e531-e83b-40b4-a466-652b5a7279e9"
   },
   "outputs": [
    {
     "name": "stdout",
     "output_type": "stream",
     "text": [
      "строчка хихи с хихи необычными хихи разделителями\n"
     ]
    }
   ],
   "source": [
    "# воспоминание про sep\n",
    "print('строчка', 'с', 'необычными', 'разделителями', sep=' хихи ')"
   ]
  },
  {
   "cell_type": "markdown",
   "id": "cb187ef4",
   "metadata": {},
   "source": [
    "*Что делать, если забыли, какие аргументы есть у функции?*"
   ]
  },
  {
   "cell_type": "code",
   "execution_count": 12,
   "id": "pCvGETyO_rqo",
   "metadata": {
    "colab": {
     "base_uri": "https://localhost:8080/"
    },
    "id": "pCvGETyO_rqo",
    "outputId": "b84074d2-7b48-4e12-9fe7-50066351c776"
   },
   "outputs": [
    {
     "name": "stdout",
     "output_type": "stream",
     "text": [
      "Help on built-in function print in module builtins:\n",
      "\n",
      "print(...)\n",
      "    print(value, ..., sep=' ', end='\\n', file=sys.stdout, flush=False)\n",
      "    \n",
      "    Prints the values to a stream, or to sys.stdout by default.\n",
      "    Optional keyword arguments:\n",
      "    file:  a file-like object (stream); defaults to the current sys.stdout.\n",
      "    sep:   string inserted between values, default a space.\n",
      "    end:   string appended after the last value, default a newline.\n",
      "    flush: whether to forcibly flush the stream.\n",
      "\n"
     ]
    }
   ],
   "source": [
    "help(print)"
   ]
  },
  {
   "cell_type": "code",
   "execution_count": 13,
   "id": "39AGyPTS_sXE",
   "metadata": {
    "id": "39AGyPTS_sXE"
   },
   "outputs": [],
   "source": [
    "?print"
   ]
  },
  {
   "cell_type": "markdown",
   "id": "b870125d",
   "metadata": {},
   "source": [
    "*Обратно к `.split()`.*"
   ]
  },
  {
   "cell_type": "code",
   "execution_count": 14,
   "id": "5741eb53",
   "metadata": {
    "id": "5741eb53",
    "outputId": "44318a10-20cc-455b-b713-127c9fa032e5"
   },
   "outputs": [
    {
     "name": "stdout",
     "output_type": "stream",
     "text": [
      "['сахар', 'яйца', 'мука', 'масло', 'яблоки', 'корица']\n"
     ]
    }
   ],
   "source": [
    "mom_asked = 'сахар, яйца, мука, масло, яблоки, корица'\n",
    "\n",
    "product_list = mom_asked.split(', ')  # mom_asked.split(sep=', ')\n",
    "print(product_list)\n",
    "\n",
    "# mom_asked не меняется при этом, там всё ещё строка. Проверьте."
   ]
  },
  {
   "cell_type": "code",
   "execution_count": 15,
   "id": "eef36de7",
   "metadata": {},
   "outputs": [
    {
     "data": {
      "text/plain": [
       "'сахар, яйца, мука, масло, яблоки, корица'"
      ]
     },
     "execution_count": 15,
     "metadata": {},
     "output_type": "execute_result"
    }
   ],
   "source": [
    "mom_asked.split(', ')\n",
    "mom_asked"
   ]
  },
  {
   "cell_type": "markdown",
   "id": "dc9d5864",
   "metadata": {
    "id": "dc9d5864"
   },
   "source": [
    "Общий вид:\n",
    "\n",
    "`<то, к чему применяется>.split(аргументы)`\n",
    "\n",
    "Сравните с функциями: `print(аргументы, в т.ч. <то, к чему применяется>)`\n",
    "\n",
    "Теперь мы знаем, что у `.split()` есть аргумент `sep` для указания, по какому сочетанию символов делить строку. По умолчанию делит по пробелоподобным символам.\n",
    "\n",
    "Этот метод отдаёт список из строки."
   ]
  },
  {
   "cell_type": "code",
   "execution_count": 16,
   "id": "b51c70c0",
   "metadata": {
    "id": "b51c70c0",
    "outputId": "16a02806-6c0d-426e-864f-5fc1b8bf6a6e"
   },
   "outputs": [
    {
     "name": "stdout",
     "output_type": "stream",
     "text": [
      "какой-то\n",
      "неаккуратно\tнаписанный текст\n",
      "['какой-то', 'неаккуратно', 'написанный', 'текст']\n"
     ]
    }
   ],
   "source": [
    "# Почему \"пробелоподобным\"?\n",
    "some_text = 'какой-то\\nнеаккуратно\\tнаписанный текст'  # \\n - новый абзац, \\t - табуляция\n",
    "print(some_text)\n",
    "print(some_text.split())"
   ]
  },
  {
   "cell_type": "markdown",
   "id": "230d8ed3",
   "metadata": {
    "id": "230d8ed3"
   },
   "source": [
    "### Тренировка\n",
    "Поделите `text` на предложения"
   ]
  },
  {
   "cell_type": "code",
   "execution_count": 19,
   "id": "2d11f987",
   "metadata": {
    "colab": {
     "base_uri": "https://localhost:8080/"
    },
    "id": "2d11f987",
    "outputId": "fba0ae3f-0a5e-4086-d260-edf1584a316c"
   },
   "outputs": [],
   "source": [
    "text = 'Иван Топорышкин пошел на охоту, с ним пудель пошел, перепрыгнув забор, Иван, как бревно провалился в болото, а пудель в реке утонул, как топор. Иван Топорышкин пошел на охоту, с ним пудель вприпрыжку пошел, как топор. Иван повалился бревном на болото, а пудель в реке перепрыгнул забор. Иван Топорышкин пошел на охоту, с ним пудель в реке провалился в забор. Иван как бревно перепрыгнул болото, а пудель вприпрыжку попал на топор.'\n"
   ]
  },
  {
   "cell_type": "code",
   "execution_count": 18,
   "id": "64d893e4-b778-4034-90ed-bba5590958f7",
   "metadata": {
    "colab": {
     "base_uri": "https://localhost:8080/"
    },
    "id": "2d11f987",
    "outputId": "fba0ae3f-0a5e-4086-d260-edf1584a316c"
   },
   "outputs": [
    {
     "data": {
      "text/plain": [
       "['Иван Топорышкин пошел на охоту, с ним пудель пошел, перепрыгнув забор, Иван, как бревно провалился в болото, а пудель в реке утонул, как топор',\n",
       " 'Иван Топорышкин пошел на охоту, с ним пудель вприпрыжку пошел, как топор',\n",
       " 'Иван повалился бревном на болото, а пудель в реке перепрыгнул забор',\n",
       " 'Иван Топорышкин пошел на охоту, с ним пудель в реке провалился в забор',\n",
       " 'Иван как бревно перепрыгнул болото, а пудель вприпрыжку попал на топор.']"
      ]
     },
     "execution_count": 18,
     "metadata": {},
     "output_type": "execute_result"
    }
   ],
   "source": []
  },
  {
   "cell_type": "markdown",
   "id": "2ac684cc",
   "metadata": {
    "id": "2ac684cc"
   },
   "source": [
    "Комментарий: через несколько недель мы покажем хороший способ делить на предложения"
   ]
  },
  {
   "cell_type": "markdown",
   "id": "b6366f30",
   "metadata": {
    "id": "b6366f30"
   },
   "source": [
    "## Индексы\n",
    "В упорядоченных коллекциях элементы пронумерованы.\n",
    "\n",
    "**нумерация с нуля!**"
   ]
  },
  {
   "cell_type": "code",
   "execution_count": 20,
   "id": "90207adb",
   "metadata": {
    "id": "90207adb",
    "outputId": "1f7a5a9d-5ddb-4038-fe6d-736c5823629c"
   },
   "outputs": [
    {
     "name": "stdout",
     "output_type": "stream",
     "text": [
      "т\n"
     ]
    }
   ],
   "source": [
    "word = 'австралопитек'\n",
    "\n",
    "# Какая 3я буква?\n",
    "print(word[3])\n",
    "\n",
    "# а - нулевая буква\n",
    "# Как вывести \"с\"? word[3-1]"
   ]
  },
  {
   "cell_type": "code",
   "execution_count": 21,
   "id": "2e65f745",
   "metadata": {
    "id": "2e65f745",
    "outputId": "12fb362d-e239-44b0-9b0d-a2e778d2300a"
   },
   "outputs": [
    {
     "name": "stdout",
     "output_type": "stream",
     "text": [
      "к\n"
     ]
    }
   ],
   "source": [
    "# Какая последняя буква?\n",
    "print(word[-1])  # отрицательная индексация"
   ]
  },
  {
   "cell_type": "code",
   "execution_count": 22,
   "id": "253f1072",
   "metadata": {
    "id": "253f1072",
    "outputId": "91adfef7-40a3-458d-c38c-f33dfd256fa9"
   },
   "outputs": [
    {
     "name": "stdout",
     "output_type": "stream",
     "text": [
      "стра\n"
     ]
    }
   ],
   "source": [
    "print(word[2:6:1])"
   ]
  },
  {
   "cell_type": "code",
   "execution_count": 23,
   "id": "b443cbea",
   "metadata": {
    "id": "b443cbea",
    "outputId": "310d890c-480c-4932-da6c-3f2dd261fb7a"
   },
   "outputs": [
    {
     "name": "stdout",
     "output_type": "stream",
     "text": [
      "австра\n"
     ]
    }
   ],
   "source": [
    "print(word[:6])"
   ]
  },
  {
   "cell_type": "code",
   "execution_count": 24,
   "id": "a62db9f5",
   "metadata": {
    "id": "a62db9f5",
    "outputId": "12c837d7-5da4-4a27-f539-65401b717ca4"
   },
   "outputs": [
    {
     "name": "stdout",
     "output_type": "stream",
     "text": [
      "питек\n"
     ]
    }
   ],
   "source": [
    "print(word[8:])"
   ]
  },
  {
   "cell_type": "code",
   "execution_count": 25,
   "id": "f34ea7c6",
   "metadata": {
    "id": "f34ea7c6",
    "outputId": "185995fc-94a5-4a44-85c8-4d788541b9b1"
   },
   "outputs": [
    {
     "name": "stdout",
     "output_type": "stream",
     "text": [
      "асрлптк\n"
     ]
    }
   ],
   "source": [
    "print(word[::2])  # print(word[0:13:2])"
   ]
  },
  {
   "cell_type": "code",
   "execution_count": 26,
   "id": "8f51ce6a",
   "metadata": {
    "id": "8f51ce6a"
   },
   "outputs": [
    {
     "name": "stdout",
     "output_type": "stream",
     "text": [
      "кетиполартсва\n"
     ]
    }
   ],
   "source": [
    "# Как вывести слово с буквами в обратном порядке?\n",
    "print(word[::-1])"
   ]
  },
  {
   "cell_type": "code",
   "execution_count": 27,
   "id": "4aa9e2b9",
   "metadata": {
    "id": "4aa9e2b9",
    "outputId": "4eb2db44-4a3f-409f-a8a0-a377b9b5c2d9"
   },
   "outputs": [
    {
     "name": "stdout",
     "output_type": "stream",
     "text": [
      "['хлеб', 'сметана']\n"
     ]
    }
   ],
   "source": [
    "# Со списками и кортежами так же работает\n",
    "products = ['огурцы', 'помидоры', 'картошка', 'хлеб',\n",
    "            'масло', 'сметана', 'молоко', 'мука', 'яйца']\n",
    "print(products[3:7:2])"
   ]
  },
  {
   "cell_type": "code",
   "execution_count": 28,
   "id": "db207cfa",
   "metadata": {
    "id": "db207cfa",
    "outputId": "ea031052-a11b-4f07-c167-2239b93d0dd2"
   },
   "outputs": [
    {
     "ename": "IndexError",
     "evalue": "list index out of range",
     "output_type": "error",
     "traceback": [
      "\u001b[0;31m---------------------------------------------------------------------------\u001b[0m",
      "\u001b[0;31mIndexError\u001b[0m                                Traceback (most recent call last)",
      "Input \u001b[0;32mIn [28]\u001b[0m, in \u001b[0;36m<cell line: 2>\u001b[0;34m()\u001b[0m\n\u001b[1;32m      1\u001b[0m \u001b[38;5;66;03m# Несуществующее не печатает\u001b[39;00m\n\u001b[0;32m----> 2\u001b[0m \u001b[43mproducts\u001b[49m\u001b[43m[\u001b[49m\u001b[38;5;241;43m12\u001b[39;49m\u001b[43m]\u001b[49m\n",
      "\u001b[0;31mIndexError\u001b[0m: list index out of range"
     ]
    }
   ],
   "source": [
    "# Несуществующее не печатает\n",
    "products[12]"
   ]
  },
  {
   "cell_type": "markdown",
   "id": "8097b5f2-f649-4c7b-93a9-a3bb1a75ac7e",
   "metadata": {},
   "source": [
    "Распечатайте слова в строке со второго по пятое (включительно!)"
   ]
  },
  {
   "cell_type": "markdown",
   "id": "1e1b083f-5b00-498a-bd72-35f65f5b6c5e",
   "metadata": {},
   "source": [
    "### Тренировка"
   ]
  },
  {
   "cell_type": "code",
   "execution_count": 16,
   "id": "14288826-af51-4fe6-bec3-e014c2d996c8",
   "metadata": {},
   "outputs": [],
   "source": [
    "s = \"не-первое не-второе не-третье не-четвёртое не-пятое не-шестое не-седьмое\"\n"
   ]
  },
  {
   "cell_type": "code",
   "execution_count": 15,
   "id": "8fb60078-9b84-48e7-99f0-1d072a7b377b",
   "metadata": {},
   "outputs": [
    {
     "name": "stdout",
     "output_type": "stream",
     "text": [
      "['не-второе', 'не-третье', 'не-четвёртое', 'не-пятое']\n"
     ]
    }
   ],
   "source": []
  },
  {
   "cell_type": "markdown",
   "id": "a8925b24-c729-4607-8f69-3fd54a19ba01",
   "metadata": {},
   "source": [
    "Создайте список, где для каждого слова из строки хранится список букв в ней. Не включайте запятые! (это последние символы в строках, где они есть)"
   ]
  },
  {
   "cell_type": "code",
   "execution_count": 23,
   "id": "14d17058-5e40-49bc-9d35-d1ac14213068",
   "metadata": {},
   "outputs": [
    {
     "name": "stdout",
     "output_type": "stream",
     "text": [
      "\n"
     ]
    }
   ],
   "source": [
    "s = \"Иван Топорышкин пошел на охоту, с ним пудель вприпрыжку пошел, как топор\"\n",
    "\n",
    "final = []\n",
    "\n",
    "# YOUR CODE HERE\n",
    "\n",
    "print(*final, sep='\\n')\n"
   ]
  },
  {
   "cell_type": "code",
   "execution_count": 22,
   "id": "c9a26131-089e-47bd-824b-8408bf06c5a9",
   "metadata": {},
   "outputs": [
    {
     "name": "stdout",
     "output_type": "stream",
     "text": [
      "['И', 'в', 'а', 'н']\n",
      "['Т', 'о', 'п', 'о', 'р', 'ы', 'ш', 'к', 'и', 'н']\n",
      "['п', 'о', 'ш', 'е', 'л']\n",
      "['н', 'а']\n",
      "['о', 'х', 'о', 'т', 'у']\n",
      "['с']\n",
      "['н', 'и', 'м']\n",
      "['п', 'у', 'д', 'е', 'л', 'ь']\n",
      "['в', 'п', 'р', 'и', 'п', 'р', 'ы', 'ж', 'к', 'у']\n",
      "['п', 'о', 'ш', 'е', 'л']\n",
      "['к', 'а', 'к']\n",
      "['т', 'о', 'п', 'о', 'р']\n"
     ]
    }
   ],
   "source": [
    "s = \"Иван Топорышкин пошел на охоту, с ним пудель вприпрыжку пошел, как топор\"\n",
    "\n",
    "final = []\n",
    "\n",
    "# YOUR CODE HERE\n",
    "\n",
    "print(*final, sep='\\n')\n"
   ]
  },
  {
   "cell_type": "markdown",
   "id": "3680d9d9",
   "metadata": {
    "id": "3680d9d9"
   },
   "source": [
    "## Кортежи"
   ]
  },
  {
   "cell_type": "code",
   "execution_count": 29,
   "id": "40a0361d",
   "metadata": {
    "colab": {
     "base_uri": "https://localhost:8080/"
    },
    "id": "40a0361d",
    "outputId": "3fb412d9-b199-4cd7-99de-13c63fe53df1"
   },
   "outputs": [
    {
     "name": "stdout",
     "output_type": "stream",
     "text": [
      "<class 'tuple'>\n"
     ]
    }
   ],
   "source": [
    "months = ('January', 'February', 'March',\n",
    "         'April', 'May', 'June', 'July',\n",
    "         'August', 'September', 'October',\n",
    "         'November', 'December')\n",
    "print(type(months))"
   ]
  },
  {
   "cell_type": "code",
   "execution_count": 30,
   "id": "83e87d8d",
   "metadata": {
    "colab": {
     "base_uri": "https://localhost:8080/"
    },
    "id": "83e87d8d",
    "outputId": "b7c48f68-879f-4326-c8a0-418371bcbd37"
   },
   "outputs": [
    {
     "name": "stdout",
     "output_type": "stream",
     "text": [
      "Второй месяц:  February\n"
     ]
    }
   ],
   "source": [
    "print('Второй месяц: ', months[2-1] )"
   ]
  },
  {
   "cell_type": "markdown",
   "id": "0ddbfcda",
   "metadata": {
    "id": "0ddbfcda"
   },
   "source": [
    "## Распаковка\n",
    "Как красиво распечатать список или кортеж (без скобочек)?"
   ]
  },
  {
   "cell_type": "code",
   "execution_count": 31,
   "id": "62bd1b31",
   "metadata": {
    "id": "62bd1b31",
    "outputId": "1f299c95-88a8-4b38-938f-9c5d83eb773b"
   },
   "outputs": [
    {
     "name": "stdout",
     "output_type": "stream",
     "text": [
      "('January', 'February', 'March', 'April', 'May', 'June', 'July', 'August', 'September', 'October', 'November', 'December')\n"
     ]
    }
   ],
   "source": [
    "print(months)  # Как убрать скобочки?"
   ]
  },
  {
   "cell_type": "code",
   "execution_count": 32,
   "id": "b5a64b67",
   "metadata": {
    "id": "b5a64b67",
    "outputId": "fc6780c5-3052-4664-aa31-ae6e5ee35f41"
   },
   "outputs": [
    {
     "name": "stdout",
     "output_type": "stream",
     "text": [
      "January\n",
      "February\n",
      "March\n",
      "April\n",
      "May\n"
     ]
    }
   ],
   "source": [
    "print(months[0])\n",
    "print(months[1])\n",
    "print(months[2])\n",
    "print(months[3])\n",
    "print(months[4])\n",
    "# Так очень долго"
   ]
  },
  {
   "cell_type": "code",
   "execution_count": 33,
   "id": "bb944b3c",
   "metadata": {
    "id": "bb944b3c"
   },
   "outputs": [
    {
     "name": "stdout",
     "output_type": "stream",
     "text": [
      "January\n",
      "February\n",
      "March\n",
      "April\n",
      "May\n",
      "June\n",
      "July\n",
      "August\n",
      "September\n",
      "October\n",
      "November\n",
      "December\n"
     ]
    }
   ],
   "source": [
    "# Напишите разумнее (мы помним про while)\n",
    "index = 0\n",
    "while index < 12:\n",
    "    print(months[index])\n",
    "    index += 1"
   ]
  },
  {
   "cell_type": "code",
   "execution_count": 34,
   "id": "5ac268c9",
   "metadata": {
    "id": "5ac268c9",
    "outputId": "5c3fc579-89d3-4352-a467-3ff5d902fd5e"
   },
   "outputs": [
    {
     "name": "stdout",
     "output_type": "stream",
     "text": [
      "January February March April May June July August September October November December\n"
     ]
    }
   ],
   "source": [
    "print(*months)\n",
    "# это то же самое, что print(months[0], months[1], months[2], months[3], months[4]...)"
   ]
  },
  {
   "cell_type": "code",
   "execution_count": 35,
   "id": "tXz1kzp98_U_",
   "metadata": {
    "colab": {
     "base_uri": "https://localhost:8080/"
    },
    "id": "tXz1kzp98_U_",
    "outputId": "dd885a81-9aee-4e73-fe89-ae85cfeb685b"
   },
   "outputs": [
    {
     "name": "stdout",
     "output_type": "stream",
     "text": [
      "January\n",
      "February\n",
      "March\n",
      "April\n",
      "May\n",
      "June\n",
      "July\n",
      "August\n",
      "September\n",
      "October\n",
      "November\n",
      "December\n"
     ]
    }
   ],
   "source": [
    "print(*months, sep='\\n')"
   ]
  },
  {
   "cell_type": "code",
   "execution_count": 36,
   "id": "FWZNewOT9XDz",
   "metadata": {
    "colab": {
     "base_uri": "https://localhost:8080/"
    },
    "id": "FWZNewOT9XDz",
    "outputId": "3f34de8e-4145-4f5e-e380-1d253e08d2d8"
   },
   "outputs": [
    {
     "name": "stdout",
     "output_type": "stream",
     "text": [
      "('January', 'February', 'March', 'April', 'May', 'June', 'July', 'August', 'September', 'October', 'November', 'December')\n"
     ]
    }
   ],
   "source": [
    "print(months, sep='\\n')"
   ]
  },
  {
   "cell_type": "markdown",
   "id": "794f220a",
   "metadata": {},
   "source": [
    "#### Ещё про звёздочку"
   ]
  },
  {
   "cell_type": "code",
   "execution_count": 37,
   "id": "dc005f8b",
   "metadata": {},
   "outputs": [
    {
     "name": "stdout",
     "output_type": "stream",
     "text": [
      "January\n",
      "['February', 'March', 'April', 'May', 'June', 'July', 'August', 'September', 'October', 'November', 'December']\n"
     ]
    }
   ],
   "source": [
    "first_month, *rest = months\n",
    "\n",
    "print(first_month)\n",
    "print(rest)"
   ]
  },
  {
   "cell_type": "code",
   "execution_count": 38,
   "id": "Sf-b-oSG-ecY",
   "metadata": {
    "colab": {
     "base_uri": "https://localhost:8080/"
    },
    "id": "Sf-b-oSG-ecY",
    "outputId": "21923dc5-b3c6-4809-81e6-127009023c16"
   },
   "outputs": [
    {
     "name": "stdout",
     "output_type": "stream",
     "text": [
      "January\n",
      "February\n",
      "['March', 'April', 'May', 'June', 'July', 'August', 'September', 'October', 'November']\n",
      "December\n"
     ]
    }
   ],
   "source": [
    "first_month, second_month, *rest, last_month = months\n",
    "\n",
    "print(first_month)\n",
    "print(second_month)\n",
    "print(rest)\n",
    "print(last_month)"
   ]
  },
  {
   "cell_type": "markdown",
   "id": "682d1220",
   "metadata": {},
   "source": [
    "## in"
   ]
  },
  {
   "cell_type": "code",
   "execution_count": 39,
   "id": "146aff24",
   "metadata": {},
   "outputs": [
    {
     "name": "stdout",
     "output_type": "stream",
     "text": [
      "False\n"
     ]
    }
   ],
   "source": [
    "products = ['огурцы', 'помидоры', 'картошка', 'хлеб', 'масло', 'сметана', 'молоко', 'мука', 'яйца']\n",
    "\n",
    "print('рыба' in products)"
   ]
  },
  {
   "cell_type": "markdown",
   "id": "c5fa45d7",
   "metadata": {},
   "source": [
    "### Тренировка\n",
    "Проверьте, купит ли мама 'мороженое'? Если да, напечатайте 'Ура!' Если нет, напечатайте что-нибудь другое."
   ]
  },
  {
   "cell_type": "code",
   "execution_count": 40,
   "id": "7a2524a1",
   "metadata": {},
   "outputs": [
    {
     "name": "stdout",
     "output_type": "stream",
     "text": [
      "Ура!\n"
     ]
    }
   ],
   "source": [
    "products = ['огурцы', 'помидоры', 'картошка', 'хлеб', 'масло', 'сметана', 'молоко', 'мука', 'мороженое']"
   ]
  },
  {
   "cell_type": "markdown",
   "id": "9000cb7f",
   "metadata": {
    "id": "9000cb7f"
   },
   "source": [
    "## Изменяемость и неизменяемость типов данных"
   ]
  },
  {
   "cell_type": "code",
   "execution_count": 41,
   "id": "83766c64",
   "metadata": {
    "id": "83766c64",
    "outputId": "1e6355d1-9684-4130-89f8-36ce097a11f5"
   },
   "outputs": [
    {
     "name": "stdout",
     "output_type": "stream",
     "text": [
      "картошка\n",
      "лук\n"
     ]
    }
   ],
   "source": [
    "# Списки изменяемые\n",
    "\n",
    "products = ['огурцы', 'помидоры', 'картошка', 'хлеб', 'масло', 'сметана', 'молоко', 'мука', 'яйца']\n",
    "# картошка есть, а лук кончился\n",
    "print(products[2])\n",
    "products[2] = 'лук'\n",
    "print(products[2])"
   ]
  },
  {
   "cell_type": "code",
   "execution_count": 42,
   "id": "a920bd2c",
   "metadata": {
    "id": "a920bd2c",
    "outputId": "aba1a7e4-86fd-4cb3-9d03-bad206c6f1b9"
   },
   "outputs": [
    {
     "name": "stdout",
     "output_type": "stream",
     "text": [
      "['огурцы', 'помидоры', 'лук', 'хлеб', 'масло', 'сметана', 'молоко', 'мука', 'яйца']\n"
     ]
    }
   ],
   "source": [
    "print(products)"
   ]
  },
  {
   "cell_type": "markdown",
   "id": "8af1ad2d-4a3e-4720-8194-49f4d9bb8109",
   "metadata": {},
   "source": [
    "**Обратите внимание:** когда мы пишем `products = ['огурцы', 'помидоры', 'картошка']` мы **называем** последовательность строк, которая сохранится в памяти. Если дать ей второе, третье, ... десятое названия, изменения, которые мы внесём, обращаясь по одному имени, отразятся везде! \n",
    "\n",
    "(про переменные как названия значений в памяти, это верно для всего в питоне, про изменения, отражающиеся на всех именах, &mdash; для **изменяемых типов данных**, коим является список)"
   ]
  },
  {
   "cell_type": "code",
   "execution_count": 8,
   "id": "3c44c973-9e01-48bc-928e-a54efafca532",
   "metadata": {},
   "outputs": [
    {
     "name": "stdout",
     "output_type": "stream",
     "text": [
      "['огурцы', 'помидоры', 'картошка', 'хлеб', 'масло', 'сметана', 'молоко', 'мука', 'яйца']\n",
      "['огурцы', 'помидоры', 'картошка', 'хлеб', 'масло', 'сметана', 'молоко', 'мука', 'яйца']\n",
      "\n",
      "['огурцы', 'помидоры', 'лук', 'хлеб', 'масло', 'сметана', 'молоко', 'мука', 'яйца']\n",
      "['огурцы', 'помидоры', 'лук', 'хлеб', 'масло', 'сметана', 'молоко', 'мука', 'яйца']\n"
     ]
    }
   ],
   "source": [
    "products = ['огурцы', 'помидоры', 'картошка', 'хлеб', 'масло', 'сметана', 'молоко', 'мука', 'яйца']\n",
    "myproducts = products\n",
    "print(products, myproducts, sep=\"\\n\")\n",
    "\n",
    "products[2] = 'лук'\n",
    "print()\n",
    "print(products, myproducts, sep=\"\\n\")"
   ]
  },
  {
   "cell_type": "markdown",
   "id": "f79d315d-84ef-4fbd-8add-86a25298c3ed",
   "metadata": {},
   "source": [
    "Сравните с неизменяемыми (!) числами: "
   ]
  },
  {
   "cell_type": "code",
   "execution_count": 10,
   "id": "32e4850e-ffe8-4f0e-bb57-88c64c724ee6",
   "metadata": {},
   "outputs": [
    {
     "name": "stdout",
     "output_type": "stream",
     "text": [
      "5 5\n",
      "6 5\n"
     ]
    }
   ],
   "source": [
    "x = 5\n",
    "y = x\n",
    "print(x, y)\n",
    "\n",
    "x += 1  # мы поменяли, на что отсылает x, не само значение в памяти (!)\n",
    "\n",
    "print(x, y)"
   ]
  },
  {
   "cell_type": "code",
   "execution_count": 43,
   "id": "c0713148",
   "metadata": {
    "id": "c0713148",
    "outputId": "995a8fde-ed6a-4dcf-8b22-4ea35f2ae2ff"
   },
   "outputs": [
    {
     "ename": "TypeError",
     "evalue": "'str' object does not support item assignment",
     "output_type": "error",
     "traceback": [
      "\u001b[0;31m---------------------------------------------------------------------------\u001b[0m",
      "\u001b[0;31mTypeError\u001b[0m                                 Traceback (most recent call last)",
      "Input \u001b[0;32mIn [43]\u001b[0m, in \u001b[0;36m<cell line: 3>\u001b[0;34m()\u001b[0m\n\u001b[1;32m      1\u001b[0m \u001b[38;5;66;03m# строки неизменяемые\u001b[39;00m\n\u001b[1;32m      2\u001b[0m word \u001b[38;5;241m=\u001b[39m \u001b[38;5;124m'\u001b[39m\u001b[38;5;124mтомик\u001b[39m\u001b[38;5;124m'\u001b[39m\n\u001b[0;32m----> 3\u001b[0m \u001b[43mword\u001b[49m\u001b[43m[\u001b[49m\u001b[38;5;241;43m0\u001b[39;49m\u001b[43m]\u001b[49m \u001b[38;5;241m=\u001b[39m \u001b[38;5;124m'\u001b[39m\u001b[38;5;124mд\u001b[39m\u001b[38;5;124m'\u001b[39m\n",
      "\u001b[0;31mTypeError\u001b[0m: 'str' object does not support item assignment"
     ]
    }
   ],
   "source": [
    "# строки неизменяемые\n",
    "word = 'томик'\n",
    "word[0] = 'д'"
   ]
  },
  {
   "cell_type": "code",
   "execution_count": 44,
   "id": "008e34d2",
   "metadata": {
    "id": "008e34d2",
    "outputId": "a6cf24ab-b81e-4281-d651-4647037b965c"
   },
   "outputs": [
    {
     "ename": "TypeError",
     "evalue": "'tuple' object does not support item assignment",
     "output_type": "error",
     "traceback": [
      "\u001b[0;31m---------------------------------------------------------------------------\u001b[0m",
      "\u001b[0;31mTypeError\u001b[0m                                 Traceback (most recent call last)",
      "Input \u001b[0;32mIn [44]\u001b[0m, in \u001b[0;36m<cell line: 6>\u001b[0;34m()\u001b[0m\n\u001b[1;32m      1\u001b[0m \u001b[38;5;66;03m# кортежи неизменяемые\u001b[39;00m\n\u001b[1;32m      2\u001b[0m months \u001b[38;5;241m=\u001b[39m (\u001b[38;5;124m'\u001b[39m\u001b[38;5;124mJanuary\u001b[39m\u001b[38;5;124m'\u001b[39m, \u001b[38;5;124m'\u001b[39m\u001b[38;5;124mFebruary\u001b[39m\u001b[38;5;124m'\u001b[39m, \u001b[38;5;124m'\u001b[39m\u001b[38;5;124mMarch\u001b[39m\u001b[38;5;124m'\u001b[39m,\n\u001b[1;32m      3\u001b[0m          \u001b[38;5;124m'\u001b[39m\u001b[38;5;124mApril\u001b[39m\u001b[38;5;124m'\u001b[39m, \u001b[38;5;124m'\u001b[39m\u001b[38;5;124mMay\u001b[39m\u001b[38;5;124m'\u001b[39m, \u001b[38;5;124m'\u001b[39m\u001b[38;5;124mJune\u001b[39m\u001b[38;5;124m'\u001b[39m, \u001b[38;5;124m'\u001b[39m\u001b[38;5;124mJuly\u001b[39m\u001b[38;5;124m'\u001b[39m,\n\u001b[1;32m      4\u001b[0m          \u001b[38;5;124m'\u001b[39m\u001b[38;5;124mAugust\u001b[39m\u001b[38;5;124m'\u001b[39m, \u001b[38;5;124m'\u001b[39m\u001b[38;5;124mSeptember\u001b[39m\u001b[38;5;124m'\u001b[39m, \u001b[38;5;124m'\u001b[39m\u001b[38;5;124mOctober\u001b[39m\u001b[38;5;124m'\u001b[39m,\n\u001b[1;32m      5\u001b[0m          \u001b[38;5;124m'\u001b[39m\u001b[38;5;124mNovember\u001b[39m\u001b[38;5;124m'\u001b[39m, \u001b[38;5;124m'\u001b[39m\u001b[38;5;124mDecember\u001b[39m\u001b[38;5;124m'\u001b[39m)\n\u001b[0;32m----> 6\u001b[0m \u001b[43mmonths\u001b[49m\u001b[43m[\u001b[49m\u001b[38;5;241;43m1\u001b[39;49m\u001b[43m]\u001b[49m \u001b[38;5;241m=\u001b[39m \u001b[38;5;124m'\u001b[39m\u001b[38;5;124mФевраль\u001b[39m\u001b[38;5;124m'\u001b[39m\n\u001b[1;32m      7\u001b[0m \u001b[38;5;28mprint\u001b[39m(months)\n",
      "\u001b[0;31mTypeError\u001b[0m: 'tuple' object does not support item assignment"
     ]
    }
   ],
   "source": [
    "# кортежи неизменяемые\n",
    "months = ('January', 'February', 'March',\n",
    "         'April', 'May', 'June', 'July',\n",
    "         'August', 'September', 'October',\n",
    "         'November', 'December')\n",
    "months[1] = 'Февраль'\n",
    "print(months)"
   ]
  },
  {
   "cell_type": "markdown",
   "id": "ecbf0f67",
   "metadata": {},
   "source": [
    "Есть способ изменить кортеж! Делаем списком, меняем, обратно делаем кортежем."
   ]
  },
  {
   "cell_type": "code",
   "execution_count": 45,
   "id": "29c8fe7c",
   "metadata": {},
   "outputs": [
    {
     "name": "stdout",
     "output_type": "stream",
     "text": [
      "<class 'list'>\n",
      "<class 'tuple'>\n",
      "('January', 'Февраль', 'March', 'April', 'May', 'June', 'July', 'August', 'September', 'October', 'November', 'December')\n"
     ]
    }
   ],
   "source": [
    "list_months = list(months)\n",
    "print(type(list_months))\n",
    "\n",
    "list_months[1] = 'Февраль'\n",
    "\n",
    "months = tuple(list_months)\n",
    "\n",
    "print(type(months))\n",
    "print(months)"
   ]
  },
  {
   "cell_type": "markdown",
   "id": "3acg0z_XBorC",
   "metadata": {
    "id": "3acg0z_XBorC"
   },
   "source": [
    "## Цикл for"
   ]
  },
  {
   "cell_type": "markdown",
   "id": "640954e5",
   "metadata": {},
   "source": [
    "```\n",
    "for <element> in <elements>:\n",
    "       <инструкции, которые будут выполняться для каждого элемента>\n",
    "```"
   ]
  },
  {
   "cell_type": "code",
   "execution_count": 47,
   "id": "ehAdEdK6BXHW",
   "metadata": {
    "id": "ehAdEdK6BXHW"
   },
   "outputs": [
    {
     "name": "stdout",
     "output_type": "stream",
     "text": [
      "January\n",
      "Февраль\n",
      "March\n",
      "April\n",
      "May\n",
      "June\n",
      "July\n",
      "August\n",
      "September\n",
      "October\n",
      "November\n",
      "December\n"
     ]
    }
   ],
   "source": [
    "# Ещё один способ распечатать названия месяцев\n",
    "\n",
    "for month in months:  # для каждого месяца в месяцах\n",
    "    print(month)      # распечатай месяц"
   ]
  },
  {
   "cell_type": "markdown",
   "id": "961af498",
   "metadata": {},
   "source": [
    "month здесь переменная, в которую на время цикла сохраняется элемент из `months`.\n",
    "\n",
    "Мы могли элемент назвать `m` или `elem` и вообще как угодно."
   ]
  },
  {
   "cell_type": "markdown",
   "id": "0a4852f4",
   "metadata": {},
   "source": [
    "### Тренировка\n",
    "Поздровайтесь с каждым из списка (напишите \"Привет, `name`\")"
   ]
  },
  {
   "cell_type": "code",
   "execution_count": 49,
   "id": "b4c0bc28",
   "metadata": {},
   "outputs": [
    {
     "name": "stdout",
     "output_type": "stream",
     "text": [
      "Привет, Антон\n",
      "Привет, Андре\n",
      "Привет, Симон\n",
      "Привет, Марья\n",
      "Привет, Тереза\n",
      "Привет, Француаз\n",
      "Привет, Изобель\n"
     ]
    }
   ],
   "source": [
    "names = ['Антон', 'Андре', 'Симон', 'Марья', 'Тереза', 'Француаз', 'Изобель']\n",
    "# не в тему: закончите список\n",
    "for name in names:\n",
    "    print('Привет,', name)"
   ]
  },
  {
   "cell_type": "markdown",
   "id": "37611d66",
   "metadata": {},
   "source": [
    "### Тренировка\n"
   ]
  },
  {
   "cell_type": "markdown",
   "id": "8635fce2",
   "metadata": {},
   "source": [
    "Поменяйте картошку на лук. Вы не знаете, на каком месте стоит элемент 'картошка'.\n",
    "(используйте цикл)"
   ]
  },
  {
   "cell_type": "code",
   "execution_count": 13,
   "id": "86fbaef5",
   "metadata": {},
   "outputs": [
    {
     "name": "stdout",
     "output_type": "stream",
     "text": [
      "['огурцы', 'помидоры', 'картошка', 'хлеб', 'масло']\n",
      "['огурцы', 'помидоры', 'лук', 'хлеб', 'масло']\n"
     ]
    }
   ],
   "source": [
    "products = ['огурцы', 'помидоры', 'картошка', 'хлеб', 'масло']\n",
    "print(products)\n",
    "\n",
    "    \n",
    "print(products)"
   ]
  },
  {
   "cell_type": "markdown",
   "id": "985adc63",
   "metadata": {},
   "source": [
    "*А дальше 4ая группа не пошла.*"
   ]
  },
  {
   "cell_type": "markdown",
   "id": "085d9be5",
   "metadata": {
    "id": "8598e725"
   },
   "source": [
    "### range()"
   ]
  },
  {
   "cell_type": "code",
   "execution_count": null,
   "id": "5374f841",
   "metadata": {},
   "outputs": [],
   "source": [
    "list(range(8))"
   ]
  },
  {
   "cell_type": "code",
   "execution_count": null,
   "id": "6af09d2d",
   "metadata": {},
   "outputs": [],
   "source": [
    "list(range(2,8))"
   ]
  },
  {
   "cell_type": "code",
   "execution_count": null,
   "id": "6c409eb1",
   "metadata": {},
   "outputs": [],
   "source": [
    "list(range(0, 8, 2))"
   ]
  },
  {
   "cell_type": "code",
   "execution_count": null,
   "id": "fae9ddac",
   "metadata": {},
   "outputs": [],
   "source": [
    "# здороваемся 5 раз и считаем\n",
    "for i in range(5):\n",
    "    print('Привет!', i+1)"
   ]
  },
  {
   "cell_type": "code",
   "execution_count": null,
   "id": "62abe1d3",
   "metadata": {},
   "outputs": [],
   "source": [
    "word = 'Hello'\n",
    "for i in range(_____):  # что сюда добавить, чтобы l l напечатать?\n",
    "    print(word[i])"
   ]
  },
  {
   "cell_type": "markdown",
   "id": "a485ae0f",
   "metadata": {},
   "source": [
    "### Тренировка\n",
    "Как напечатать номер месяца и название? Есть много способов. Но попробуем `range(len(months))`"
   ]
  },
  {
   "cell_type": "code",
   "execution_count": null,
   "id": "77d37117",
   "metadata": {},
   "outputs": [],
   "source": []
  },
  {
   "cell_type": "markdown",
   "id": "bb11460f",
   "metadata": {
    "id": "bb11460f"
   },
   "source": [
    "### Тренировка\n",
    "Напечатайте в строку название книги, автора, год издания"
   ]
  },
  {
   "cell_type": "code",
   "execution_count": null,
   "id": "3f273e9b",
   "metadata": {
    "id": "3f273e9b"
   },
   "outputs": [],
   "source": [
    "books = ['Петя и Волк', 'Муфта, Полботинка и Моховая Борода', 'Зоки и Бада']\n",
    "authors = ['С.С. Прокофьев', 'Эно Рауд', 'Ирина и Леонид Тюхтяевы']\n",
    "publication = ['1936', '1976', '1990']\n",
    "\n",
    "# ваш код"
   ]
  },
  {
   "cell_type": "markdown",
   "id": "bdd0364f",
   "metadata": {},
   "source": [
    "### enumerate()"
   ]
  },
  {
   "cell_type": "markdown",
   "id": "5c38bdac-ba7f-4164-875a-159c849505ae",
   "metadata": {},
   "source": [
    "Это почти всегда можно использовать вместо `range(len())` и это лучше!"
   ]
  },
  {
   "cell_type": "code",
   "execution_count": null,
   "id": "ESX4yUFm-Ahm",
   "metadata": {
    "id": "ESX4yUFm-Ahm"
   },
   "outputs": [],
   "source": [
    "# воспоминание:\n",
    "a, b = 4, 5\n",
    "print(\"a:\", a)\n",
    "print(\"b:\", b)"
   ]
  },
  {
   "cell_type": "code",
   "execution_count": null,
   "id": "_CWEnF1M95p1",
   "metadata": {
    "colab": {
     "base_uri": "https://localhost:8080/"
    },
    "id": "_CWEnF1M95p1",
    "outputId": "366206ae-f8a7-499d-97fb-bf4223cad679"
   },
   "outputs": [],
   "source": [
    "enum = list(enumerate(months))\n",
    "print(enum)"
   ]
  },
  {
   "cell_type": "code",
   "execution_count": null,
   "id": "xYT5tXae9fGv",
   "metadata": {
    "colab": {
     "base_uri": "https://localhost:8080/"
    },
    "id": "xYT5tXae9fGv",
    "outputId": "355899a1-a9f6-4934-92ae-f7fa6bdaa22b"
   },
   "outputs": [],
   "source": [
    "for i, month in enumerate(months):\n",
    "    print(\"id:\", i, \"month:\", month)"
   ]
  },
  {
   "cell_type": "markdown",
   "id": "587cf86f",
   "metadata": {},
   "source": [
    "enumerate всегда делает список кортежей: `[(порядковый_номер, элемент), (порядковый_номер, элемент), (порядковый_номер, элемент)]`"
   ]
  },
  {
   "cell_type": "code",
   "execution_count": null,
   "id": "poqQb1RN-PGY",
   "metadata": {
    "colab": {
     "base_uri": "https://localhost:8080/"
    },
    "id": "poqQb1RN-PGY",
    "outputId": "229bc03e-86ab-4bcd-a885-16d71d9751e1"
   },
   "outputs": [],
   "source": [
    "matrix = [[1, 2, 3], [4, 5, 6], [7, 8, 9]]\n",
    "enum_matrix = list(enumerate(matrix))\n",
    "\n",
    "print(enum_matrix)"
   ]
  },
  {
   "cell_type": "markdown",
   "id": "c09595aa",
   "metadata": {},
   "source": [
    "#### Цикл в цикле"
   ]
  },
  {
   "cell_type": "markdown",
   "id": "7d62ff15",
   "metadata": {},
   "source": [
    "Максим подтягивается 4 подхода по 10 раз:"
   ]
  },
  {
   "cell_type": "code",
   "execution_count": null,
   "id": "rLnMop4YBZuq",
   "metadata": {
    "colab": {
     "base_uri": "https://localhost:8080/"
    },
    "id": "rLnMop4YBZuq",
    "outputId": "977fb38b-e5a5-4bd5-cf6f-b97792890763"
   },
   "outputs": [],
   "source": [
    "num_sets = 4\n",
    "num_repeats = 10\n",
    "\n",
    "for set_povtor in range(num_sets):\n",
    "    print(\"повторов сделано:\")\n",
    "    for repeat in range(num_repeats):\n",
    "        print(\"\", repeat + 1)\n",
    "\n",
    "    print()\n",
    "    print(\"ПОДХОДОВ сделано:\", set_povtor + 1)    "
   ]
  },
  {
   "cell_type": "markdown",
   "id": "b955a4ea",
   "metadata": {},
   "source": [
    "### Тренировка\n",
    "Снова напишем таблицу умножения"
   ]
  },
  {
   "cell_type": "code",
   "execution_count": null,
   "id": "c3e32a1f",
   "metadata": {},
   "outputs": [],
   "source": []
  }
 ],
 "metadata": {
  "colab": {
   "provenance": []
  },
  "kernelspec": {
   "display_name": "Python 3 (ipykernel)",
   "language": "python",
   "name": "python3"
  },
  "language_info": {
   "codemirror_mode": {
    "name": "ipython",
    "version": 3
   },
   "file_extension": ".py",
   "mimetype": "text/x-python",
   "name": "python",
   "nbconvert_exporter": "python",
   "pygments_lexer": "ipython3",
   "version": "3.9.7"
  }
 },
 "nbformat": 4,
 "nbformat_minor": 5
}
