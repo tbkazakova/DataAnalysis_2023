{
 "cells": [
  {
   "cell_type": "markdown",
   "id": "386e1228",
   "metadata": {},
   "source": [
    "# ДЗ8"
   ]
  },
  {
   "cell_type": "markdown",
   "id": "0fac4eb0",
   "metadata": {},
   "source": [
    "Дедлайн: 19 марта 23:59\n",
    "\n",
    "ДЗ можно загружать по [ссылке](https://classroom.github.com/a/ch68wUVW).\n",
    "\n",
    "### Онлайн-курс\n",
    "- 4 группа смотрит неделю 9, решает задания из недели 8.\n",
    "- 1, 2, 3 группа смотрят и решают недели 8 и 7."
   ]
  },
  {
   "cell_type": "markdown",
   "id": "19c91d3e-48ac-439c-aec4-3575cb3f7585",
   "metadata": {},
   "source": [
    "### Задание 1 (3 балла)"
   ]
  },
  {
   "cell_type": "markdown",
   "id": "3e25ac3e-157b-4593-a8d1-d3707568322e",
   "metadata": {},
   "source": [
    "1, 2 варианты:\n",
    "\n",
    "Допишите функцию, которая принимает а и b и выдаёт большее число:"
   ]
  },
  {
   "cell_type": "code",
   "execution_count": 15,
   "id": "a9d3af83",
   "metadata": {},
   "outputs": [],
   "source": [
    "def choose_max(a, b):\n",
    "    # ваш код, который определяет большее (larger)\n",
    "    return larger"
   ]
  },
  {
   "cell_type": "markdown",
   "id": "adac49a7-acb4-491a-a00b-0a0f2d304928",
   "metadata": {},
   "source": [
    "Примеры:\n",
    "```\n",
    "    choose_max(100, 9)\n",
    "    100\n",
    "```\n",
    "\n",
    "```\n",
    "    choose_max(-1.515, 9.4141)\n",
    "    9.4141\n",
    "```\n",
    "\n",
    "```\n",
    "    choose_max(0, 0)\n",
    "    0\n",
    "```"
   ]
  },
  {
   "cell_type": "markdown",
   "id": "62bb4d5b",
   "metadata": {},
   "source": [
    "3, 4 варианты:\n",
    "\n",
    "Допишите функцию, которая принимает а и b и выдаёт меньшее число:"
   ]
  },
  {
   "cell_type": "code",
   "execution_count": 14,
   "id": "67f98bf5",
   "metadata": {},
   "outputs": [],
   "source": [
    "def choose_min(a, b):\n",
    "    # ваш код, который определяет меньшее (smaller)\n",
    "    return smaller"
   ]
  },
  {
   "cell_type": "markdown",
   "id": "e818e896-cb6f-4bc2-ac9c-f346dc2a2d9f",
   "metadata": {},
   "source": [
    "Примеры:\n",
    "```\n",
    "    choose_min(100, 9)\n",
    "    9\n",
    "```\n",
    "\n",
    "```\n",
    "    choose_min(-1.515, 9.4141)\n",
    "    -1.515\n",
    "```\n",
    "\n",
    "```\n",
    "    choose_min(0, 0)\n",
    "    0\n",
    "```"
   ]
  },
  {
   "cell_type": "markdown",
   "id": "5f1a1a55",
   "metadata": {},
   "source": [
    "### Задание 2. \"Номерок дашь?\" (5+1+1 баллов)\n",
    "\n",
    "Напишите функцию для приведения номеров телефонов в единый формат.\n",
    "\n",
    "**5 баллов**\n",
    "\n",
    "Функция должна принимать строку с телефонным номером. На любой из следующих номеров\n",
    "```\n",
    "\"8 (910) 123 45 67\"\n",
    "\"8-910-123-45-67\"\n",
    "\"8(910)123-45-67\"\n",
    "\"8 910 1234567\"\n",
    "\"89101234567\"\n",
    "```\n",
    "\n",
    "функция должна выдать строку `\"89101234567\"`."
   ]
  },
  {
   "cell_type": "markdown",
   "id": "12bb09b9",
   "metadata": {},
   "source": [
    "**+1 балл**\n",
    "\n",
    "Если функция обрабатывает телефоны с `+7`.\n",
    "```\n",
    "\"+79101234567\"\n",
    "\"+7 910 123 4567\"\n",
    "\"+7(910)123-45-67\"\n",
    "```\n",
    "На любой из этих номеров функция должна выдать строку `\"89101234567\"`."
   ]
  },
  {
   "cell_type": "markdown",
   "id": "90daa6da",
   "metadata": {},
   "source": [
    "**+1 балл**\n",
    "\n",
    "Если функция печатает предупреждение `\"Нетипичный номер\"`, когда в строке неправильное количество цифр (в \"типичном\" номере 11 цифр). Функция всё равно должна выдавать очищенные цифры."
   ]
  },
  {
   "cell_type": "markdown",
   "id": "a12fbdf7",
   "metadata": {},
   "source": [
    "Пример работы готовой функции `unify_num`:"
   ]
  },
  {
   "cell_type": "code",
   "execution_count": 8,
   "id": "7ca727e0",
   "metadata": {},
   "outputs": [
    {
     "name": "stdout",
     "output_type": "stream",
     "text": [
      "89101234567\n",
      "\n",
      "89101234567\n",
      "\n",
      "89101234567\n",
      "\n",
      "89101234567\n",
      "\n",
      "89101234567\n",
      "\n",
      "89101234567\n",
      "\n",
      "89101234567\n",
      "\n",
      "89101234567\n",
      "\n",
      "Нетипичный номер\n",
      "891012345678\n",
      "\n"
     ]
    }
   ],
   "source": [
    "t_numbers = [\"8 (910) 123 45 67\",\n",
    "             \"8-910-123-45-67\",\n",
    "             \"8(910)123-45-67\",\n",
    "             \"8 910 1234567\",\n",
    "             \"89101234567\",\n",
    "             \"+79101234567\",\n",
    "             \"+7 910 123 4567\",\n",
    "             \"+7(910)123-45-67\",\n",
    "             \"+7 910 123 45678\"]\n",
    "for t_number in t_numbers:\n",
    "    print(unify_num(t_number))\n",
    "    print()"
   ]
  }
 ],
 "metadata": {
  "kernelspec": {
   "display_name": "Python 3 (ipykernel)",
   "language": "python",
   "name": "python3"
  },
  "language_info": {
   "codemirror_mode": {
    "name": "ipython",
    "version": 3
   },
   "file_extension": ".py",
   "mimetype": "text/x-python",
   "name": "python",
   "nbconvert_exporter": "python",
   "pygments_lexer": "ipython3",
   "version": "3.9.7"
  }
 },
 "nbformat": 4,
 "nbformat_minor": 5
}
