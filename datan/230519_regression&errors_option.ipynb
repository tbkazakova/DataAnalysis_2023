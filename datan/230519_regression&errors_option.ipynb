{
 "cells": [
  {
   "cell_type": "markdown",
   "id": "6bfb4c9f",
   "metadata": {},
   "source": [
    "# Линейная регрессия"
   ]
  },
  {
   "cell_type": "markdown",
   "id": "47e93a29-2694-4253-a96e-7d239fc9097a",
   "metadata": {},
   "source": [
    "Вспомним термины:\n",
    "\n",
    "- **наблюдение / объект** &mdash; отдельный объект, про который нам известны одно или несколько значений переменных (какие-то характеристики объекта).  \n",
    "  Сответствует *строчке* таблицы.\n",
    "- **переменная** &mdash; параметр, который мы измеряли или узнавали про наши объекты.  \n",
    "  Переменные это то, что бывает количественным и категориальным/бинарным.  \n",
    "  Соответствует *столбцу* таблицы.\n",
    "  \n",
    "У наблюдений как правило будут разные значения переменных\n",
    "\n"
   ]
  },
  {
   "cell_type": "markdown",
   "id": "41c4e33c-0363-458e-a5cb-fc7cd07a20b8",
   "metadata": {},
   "source": [
    "В датасете про велосипеды наблюдением был определённый час дня, а про него известно например:\n",
    "- температура за этот час\n",
    "- скорость ветра\n",
    "- день, дата, которой принадлежит этот час\n",
    "- праздничный ли день\n",
    "- количество отданных в прокат велосипедов, отдельное для двух прокатных центров\n",
    "- ... (и другое)\n",
    "- (и то, какой это, собственно, час дня! &mdash; `Hour`) \n",
    "\n",
    "Это всё переменные!"
   ]
  },
  {
   "cell_type": "code",
   "execution_count": 1,
   "id": "0aaa6d9f-2104-46a0-a7b5-7706ca4b8809",
   "metadata": {},
   "outputs": [
    {
     "data": {
      "text/html": [
       "<div>\n",
       "<style scoped>\n",
       "    .dataframe tbody tr th:only-of-type {\n",
       "        vertical-align: middle;\n",
       "    }\n",
       "\n",
       "    .dataframe tbody tr th {\n",
       "        vertical-align: top;\n",
       "    }\n",
       "\n",
       "    .dataframe thead th {\n",
       "        text-align: right;\n",
       "    }\n",
       "</style>\n",
       "<table border=\"1\" class=\"dataframe\">\n",
       "  <thead>\n",
       "    <tr style=\"text-align: right;\">\n",
       "      <th></th>\n",
       "      <th>Date</th>\n",
       "      <th>Hour</th>\n",
       "      <th>Temperature</th>\n",
       "      <th>Humidity</th>\n",
       "      <th>Wind speed</th>\n",
       "      <th>Rainfall</th>\n",
       "      <th>Snowfall</th>\n",
       "      <th>Seasons</th>\n",
       "      <th>Holiday</th>\n",
       "      <th>Functioning Day</th>\n",
       "      <th>Partner 1</th>\n",
       "      <th>Partner 2</th>\n",
       "    </tr>\n",
       "  </thead>\n",
       "  <tbody>\n",
       "    <tr>\n",
       "      <th>0</th>\n",
       "      <td>01/12/2017</td>\n",
       "      <td>0</td>\n",
       "      <td>-5.2</td>\n",
       "      <td>37</td>\n",
       "      <td>2.2</td>\n",
       "      <td>0.0</td>\n",
       "      <td>0.0</td>\n",
       "      <td>Winter</td>\n",
       "      <td>No Holiday</td>\n",
       "      <td>Yes</td>\n",
       "      <td>207</td>\n",
       "      <td>50</td>\n",
       "    </tr>\n",
       "    <tr>\n",
       "      <th>1</th>\n",
       "      <td>01/12/2017</td>\n",
       "      <td>1</td>\n",
       "      <td>-5.5</td>\n",
       "      <td>38</td>\n",
       "      <td>0.8</td>\n",
       "      <td>0.0</td>\n",
       "      <td>0.0</td>\n",
       "      <td>Winter</td>\n",
       "      <td>No Holiday</td>\n",
       "      <td>Yes</td>\n",
       "      <td>139</td>\n",
       "      <td>80</td>\n",
       "    </tr>\n",
       "    <tr>\n",
       "      <th>2</th>\n",
       "      <td>01/12/2017</td>\n",
       "      <td>2</td>\n",
       "      <td>-6.0</td>\n",
       "      <td>39</td>\n",
       "      <td>1.0</td>\n",
       "      <td>0.0</td>\n",
       "      <td>0.0</td>\n",
       "      <td>Winter</td>\n",
       "      <td>No Holiday</td>\n",
       "      <td>Yes</td>\n",
       "      <td>22</td>\n",
       "      <td>140</td>\n",
       "    </tr>\n",
       "    <tr>\n",
       "      <th>3</th>\n",
       "      <td>01/12/2017</td>\n",
       "      <td>3</td>\n",
       "      <td>-6.2</td>\n",
       "      <td>40</td>\n",
       "      <td>0.9</td>\n",
       "      <td>0.0</td>\n",
       "      <td>0.0</td>\n",
       "      <td>Winter</td>\n",
       "      <td>No Holiday</td>\n",
       "      <td>Yes</td>\n",
       "      <td>43</td>\n",
       "      <td>105</td>\n",
       "    </tr>\n",
       "    <tr>\n",
       "      <th>4</th>\n",
       "      <td>01/12/2017</td>\n",
       "      <td>4</td>\n",
       "      <td>-6.0</td>\n",
       "      <td>36</td>\n",
       "      <td>2.3</td>\n",
       "      <td>0.0</td>\n",
       "      <td>0.0</td>\n",
       "      <td>Winter</td>\n",
       "      <td>No Holiday</td>\n",
       "      <td>Yes</td>\n",
       "      <td>59</td>\n",
       "      <td>38</td>\n",
       "    </tr>\n",
       "  </tbody>\n",
       "</table>\n",
       "</div>"
      ],
      "text/plain": [
       "         Date  Hour  Temperature  Humidity  Wind speed  Rainfall  Snowfall  \\\n",
       "0  01/12/2017     0         -5.2        37         2.2       0.0       0.0   \n",
       "1  01/12/2017     1         -5.5        38         0.8       0.0       0.0   \n",
       "2  01/12/2017     2         -6.0        39         1.0       0.0       0.0   \n",
       "3  01/12/2017     3         -6.2        40         0.9       0.0       0.0   \n",
       "4  01/12/2017     4         -6.0        36         2.3       0.0       0.0   \n",
       "\n",
       "  Seasons     Holiday Functioning Day  Partner 1  Partner 2  \n",
       "0  Winter  No Holiday             Yes        207         50  \n",
       "1  Winter  No Holiday             Yes        139         80  \n",
       "2  Winter  No Holiday             Yes         22        140  \n",
       "3  Winter  No Holiday             Yes         43        105  \n",
       "4  Winter  No Holiday             Yes         59         38  "
      ]
     },
     "execution_count": 1,
     "metadata": {},
     "output_type": "execute_result"
    }
   ],
   "source": [
    "import numpy as np\n",
    "import pandas as pd\n",
    "\n",
    "bikes = pd.read_csv(\"data/BikeData.csv\")\n",
    "\n",
    "bikes.head()"
   ]
  },
  {
   "cell_type": "markdown",
   "id": "71cb1386-98f6-4a9c-bbc0-446c2a35086b",
   "metadata": {},
   "source": [
    "- ❓ Если мы рассуждаем об изменении во времени популяции куниц, то что будет наблюдением, а что переменными?  \n",
    "  - Есть ли переменные *постоянные*, не меняющиеся год к году?"
   ]
  },
  {
   "cell_type": "markdown",
   "id": "54125d58-083d-4343-9505-db50d70ce2ad",
   "metadata": {},
   "source": [
    "- ❓ Если мы рассуждаем о титанике, то что будет наблюдением, а что переменными?  \n",
    "  - Есть ли переменные *постоянные*, не меняющиеся год к году?"
   ]
  },
  {
   "cell_type": "markdown",
   "id": "fd05a5a3-c4a7-4013-9b45-5f3dd5805d7c",
   "metadata": {},
   "source": [
    "## Понимание базовое: формула, связывающая несколько переменных"
   ]
  },
  {
   "cell_type": "markdown",
   "id": "1f20453d-d453-4c4f-979c-f196e3f017e8",
   "metadata": {},
   "source": [
    "Можно придумать формулу, которая свяжет количество сданных в прокат велосипедов в первом центре `Partner 1` с часом дня и температурой:\n",
    "\n",
    "$\\text{Partner 1} = 80 + 10 \\times \\text{Hour} + 2 \\times \\text{Temperature} $\n",
    " \n",
    "кратко:\n",
    "\n",
    "$\\hat{Y} = 80 + 10 \\times X + 2 \\times Z $, где $X$ &mdash; час, $Z$ &mdash; температура, $Y$ &mdash; количество сданных в прокат велосипедов \n",
    "\n",
    "Здесь вышло, что мы **взяли одну переменную** (`Partner 1`) **как целевую / таргетную**, и **связали её с нескольми другими &mdash; признаками**.\n",
    "\n",
    "Кроме того, мы использовали константу 80, это как бы начальный уровень, базовое число продаж. "
   ]
  },
  {
   "cell_type": "markdown",
   "id": "f6b4846c-aefe-4b0c-b4a7-3d8577b32745",
   "metadata": {},
   "source": [
    "Термины:\n",
    "\n",
    "- таргетная / целевая / зависимая переменная\n",
    "- признак или регрессор или признаковая / объясняющая / независимая переменная\n",
    "- **коэффициенты** &mdash; числа, всё кроме переменных (букв) из формулы"
   ]
  },
  {
   "cell_type": "markdown",
   "id": "34698343-4673-4a83-91c6-a9712013b7c7",
   "metadata": {},
   "source": [
    "Можно в эту формулу что-то подставить и посчитать предполагаемое число велосипедов:\n",
    "\n",
    "$80 + 10 \\times 14 + 2 \\times 15 = 250$ (столько велосипедов, по предположению формулы, будет сдано в прокат, в 14 дня при 15 градусах температуры."
   ]
  },
  {
   "cell_type": "markdown",
   "id": "a268a835-27d6-4e0b-8580-148655ff3ebc",
   "metadata": {},
   "source": [
    "❓ Как могут входить в формулу логические / бинарные переменные?\n",
    "\n",
    "$\\text{Partner 1} = 80 + 10 \\times \\text{Hour} - 40 \\times \\text{Holiday} $\n",
    "\n",
    "`Holiday` &mdash; бинарная переменная и понимать надо так (когда выбрано, что у неё True, а что False): если `True` то это 1, если `False`, то 0 \n"
   ]
  },
  {
   "cell_type": "markdown",
   "id": "1ee94977-9106-4533-9fd6-1da73cfda14d",
   "metadata": {},
   "source": [
    "$ 80 + 10 \\times 16 - 40 \\times 1  = 200 $  "
   ]
  },
  {
   "cell_type": "markdown",
   "id": "fd9e3e4f-2fff-4827-b376-fa9d7f3334b8",
   "metadata": {},
   "source": [
    "❓ Как могут входить в формулу категориальные переменные?"
   ]
  },
  {
   "cell_type": "code",
   "execution_count": null,
   "id": "6f42ff30-e44d-4cd3-bbe8-4f17826fffb2",
   "metadata": {},
   "outputs": [],
   "source": []
  },
  {
   "cell_type": "markdown",
   "id": "c2d53c5f-e2ad-4ec6-9c99-efb9a5e009c9",
   "metadata": {},
   "source": [
    "(задания 12, 13, по 0,2 балла)\n",
    "\n",
    "❓ Что в датасете про титаник может быть целевой переменной и с какими признаками?"
   ]
  },
  {
   "cell_type": "code",
   "execution_count": null,
   "id": "7ca6e0b4-ca58-499e-971d-a5dacc747ae6",
   "metadata": {},
   "outputs": [],
   "source": []
  },
  {
   "cell_type": "markdown",
   "id": "9c094e60-7f5d-4ca0-9b64-d4e286ce3711",
   "metadata": {},
   "source": [
    "Есть хитрость, связанная с константными признаками:\n",
    "\n",
    "по сути, такой признак всегда один.\n",
    "\n",
    "Если мы бы задумали формулу, где количество сданных в прокат велосипедов зависит от времени суток (переменная), от близости стадиона (константный признак! Поскольку мы смотрим только один прокатный центр) и также есть базовый уровень сданных в прокат велосипедов (также константный признак).\n",
    "    Формула вышла бы например такая:\n",
    "\n",
    "$\\hat{Y} = 10 \\times \\text{Hour} + 80 + 10 $, где 80 &mdash; оценка базового числа сданных в прокат велосипедов, а 10 &mdash; оценка близости стадиона \n",
    "\n",
    "По сути здесь лишь один константный признак, равный $80 + 10$ \n"
   ]
  },
  {
   "cell_type": "markdown",
   "id": "a0e2427b-a2ff-4901-9e71-27433e00b9e2",
   "metadata": {},
   "source": [
    "## Понимание продвинутое: формула, связывающая несколько переменных, которую можно построить по имеющимся данным"
   ]
  },
  {
   "cell_type": "markdown",
   "id": "51c118a2-d748-4c02-908e-50fa5ed27dff",
   "metadata": {},
   "source": [
    "коэффициенты / веса в формуле можно вычислить!"
   ]
  },
  {
   "cell_type": "markdown",
   "id": "424d7f4a",
   "metadata": {},
   "source": [
    "$$\\hat{Y}_{𝑖} = \\hat{𝑤}_{0} + \\hat{𝑤}_{1} \\times X_{𝑖} $$\n",
    "\n",
    "Формулы для подсчёта весов:\n",
    "    \n",
    "$$\\hat{𝑤}_{0} = \\bar{𝑌} − \\hat{𝑤}_{1}\\bar{𝑋} $$\n",
    "\n",
    "$$\\hat{𝑤}_{1} = \\frac{\\sum((𝑋_{𝑖} − \\bar{𝑋}) \\times (𝑌_{𝑖} − \\bar{𝑌} ))}{\\sum(𝑋_{𝑖} − \\bar{𝑋})^2}$$\n",
    "\n",
    "Что это за обозначения?\n",
    "- черточка сверху $\\bar{◌}$ - среднее арифметическое\n",
    "- крышечка сверху $\\hat{◌}$ - предсказание\n",
    "- ∑︀ - сумма того, что идёт после символа\n"
   ]
  },
  {
   "cell_type": "markdown",
   "id": "5d5986b3-c835-43b1-b473-04c091c57c3f",
   "metadata": {},
   "source": [
    "термины:\n",
    "\n",
    "к слову \"регрессия\" прибавляют прилагательное, указывающее, сколько коэффициентов в ней (считая константный $\\hat{w}_0$):\n",
    "- это ($\\hat{Y}_{𝑖} = \\hat{𝑤}_{0} + \\hat{𝑤}_{1} \\times X_{𝑖} $) **парная** регрессия\n",
    "- чуть выше была **множественная** (больше двух коэффициентов, а именно 3): $\\hat{Y} = 80 + 10 \\times X + 2 \\times Z $"
   ]
  },
  {
   "cell_type": "markdown",
   "id": "ee9d4466-b6e9-4ab9-bf47-e651eb4cf833",
   "metadata": {},
   "source": [
    "продолжаем с парной:"
   ]
  },
  {
   "cell_type": "code",
   "execution_count": 4,
   "id": "944bf00b",
   "metadata": {},
   "outputs": [],
   "source": [
    "import pandas as pd\n",
    "import numpy as np"
   ]
  },
  {
   "cell_type": "markdown",
   "id": "f1307ac9",
   "metadata": {},
   "source": [
    "У нас есть данные. Допустим, сколько человек готовился к работе (X) и оценка (Y). "
   ]
  },
  {
   "cell_type": "code",
   "execution_count": 9,
   "id": "39e14fe9",
   "metadata": {},
   "outputs": [
    {
     "data": {
      "image/png": "[encoded data removed]",
      "text/plain": [
       "<Figure size 640x480 with 1 Axes>"
      ]
     },
     "metadata": {},
     "output_type": "display_data"
    }
   ],
   "source": [
    "X = [3, 1, 4, 2, 5]\n",
    "Y = [8, 5, 6, 7, 9]\n",
    "data = pd.DataFrame()\n",
    "data['X'] = X\n",
    "data['Y'] = Y\n",
    "data.plot('X', 'Y', kind='scatter')"
   ]
  },
  {
   "cell_type": "markdown",
   "id": "a77d26d0",
   "metadata": {},
   "source": [
    "О чём \"линейная регрессия\"? О том, что мы хотим найти примерную формулу для вычисления целевой (таргетной) переменной `Y` по имеющимся данным.\n",
    "\n",
    "То есть здесь, зная время подготовки, хотим *предполагать* оценку."
   ]
  },
  {
   "cell_type": "markdown",
   "id": "d7d07f4d-b1df-4dcf-8a08-05c6d3a22aee",
   "metadata": {},
   "source": [
    "*Задание 18 &mdash; найти уравнение регрессии по таблице с данными (0,875 баллов)*\n"
   ]
  },
  {
   "cell_type": "code",
   "execution_count": 3,
   "id": "42c3c406",
   "metadata": {},
   "outputs": [
    {
     "name": "stdout",
     "output_type": "stream",
     "text": [
      "y = 4.9 + 0.7*x\n"
     ]
    }
   ],
   "source": [
    "X = np.array([3, 1, 4, 2, 5])\n",
    "Y = np.array([8, 5, 6, 7, 9])\n",
    "X_mean = X.mean()\n",
    "Y_mean = Y.mean()\n",
    "# открываем доп. материал к экзамену и переписываем формулы весов\n",
    "w1 = ((X-X_mean)*(Y-Y_mean)).sum() / ((X-X_mean)**2).sum()\n",
    "w0 = Y_mean - w1*X_mean\n",
    "print(f'y = {w0} + {w1}*x')"
   ]
  },
  {
   "cell_type": "markdown",
   "id": "2f1ae874",
   "metadata": {},
   "source": [
    "Вот мы получили формулу. По ней, если готовиться 7 часов, можно получить оценку 9.8.\n",
    "\n",
    "(но вы готовьтесь больше)"
   ]
  },
  {
   "cell_type": "code",
   "execution_count": 4,
   "id": "24f9639f",
   "metadata": {},
   "outputs": [
    {
     "data": {
      "text/plain": [
       "9.8"
      ]
     },
     "execution_count": 4,
     "metadata": {},
     "output_type": "execute_result"
    }
   ],
   "source": [
    "new_x = 7\n",
    "y = 4.9 + 0.7*new_x  # подставляем в формулу\n",
    "y"
   ]
  },
  {
   "cell_type": "markdown",
   "id": "ef531074",
   "metadata": {},
   "source": [
    "Вот так выглядят наши точки вместе с предсказанной прямой"
   ]
  },
  {
   "cell_type": "code",
   "execution_count": 5,
   "id": "649e61fb",
   "metadata": {},
   "outputs": [
    {
     "data": {
      "image/png": "[encoded data removed]",
      "text/plain": [
       "<Figure size 1200x700 with 1 Axes>"
      ]
     },
     "metadata": {},
     "output_type": "display_data"
    }
   ],
   "source": [
    "# это просто визуализация, вам можно этот код не смотреть\n",
    "from matplotlib import pyplot as plt\n",
    "plt.figure(figsize=(12, 7))\n",
    "plt.scatter(X, Y)  # данные\n",
    "plt.plot(X, 4.9 + 0.7*X, color='orange')  # предсказание\n",
    "plt.grid(True)"
   ]
  },
  {
   "cell_type": "markdown",
   "id": "4a5759c4-e5d9-4545-bcf6-32cb4b5e14aa",
   "metadata": {},
   "source": [
    "У нас получилось нарисовать линию регрессии, поскольку это парная регрессия, в уравнении лишь константа и $x$: $y = 4.9 + 0.7 x$\n",
    "\n",
    "Формулу из начала, для велосипедов, на графике отобразить сложно, ведь там две объясняющих переменных (это уже нужны две оси на графике), и целевая (это ещё третья ось!).\n",
    "    *(Но можно, график будет 3d, а регрессия будет не линией, а плоскостью)*"
   ]
  },
  {
   "cell_type": "markdown",
   "id": "3e57a18c",
   "metadata": {},
   "source": [
    "## Метрики для подсчёта качества линейной регрессии"
   ]
  },
  {
   "cell_type": "markdown",
   "id": "776544ed",
   "metadata": {},
   "source": [
    "`MSE` (mean squared error, среднеквадратичная ошибка) - сумма квадратов ошибок, поделённая на количество наблюдений\n",
    "\n",
    "$ 𝑀𝑆𝐸 = \\frac{\\sum(𝑌_{𝑖} − \\hat{𝑌}_{𝑖})^2}{𝑛} $"
   ]
  },
  {
   "cell_type": "code",
   "execution_count": 6,
   "id": "db0686a2",
   "metadata": {},
   "outputs": [
    {
     "data": {
      "text/plain": [
       "1.02"
      ]
     },
     "execution_count": 6,
     "metadata": {},
     "output_type": "execute_result"
    }
   ],
   "source": [
    "# Y, который дали  - Y реальный\n",
    "# Y предсказанный? Предсказанный моделью, то есть нашей формулой\n",
    "Y_pred = w0 + w1*X\n",
    "Y_pred\n",
    "MSE = ((Y-Y_pred)**2).mean()\n",
    "MSE"
   ]
  },
  {
   "cell_type": "markdown",
   "id": "e3efed3b",
   "metadata": {},
   "source": [
    "`MAE` (mean absolute error, средняя абсолютная ошибка) - сумма модулей ошибок, поделённая на количество наблюдений\n",
    "\n",
    "$ 𝑀𝐴𝐸 =\\frac{\\sum|𝑌_{𝑖} − \\hat{𝑌}_{𝑖}|}{𝑛} $"
   ]
  },
  {
   "cell_type": "code",
   "execution_count": 7,
   "id": "3320c16f",
   "metadata": {},
   "outputs": [
    {
     "data": {
      "text/plain": [
       "0.9199999999999999"
      ]
     },
     "execution_count": 7,
     "metadata": {},
     "output_type": "execute_result"
    }
   ],
   "source": [
    "MAE = (np.abs(Y-Y_pred)).mean()\n",
    "MAE"
   ]
  },
  {
   "cell_type": "markdown",
   "id": "46e72b0f",
   "metadata": {},
   "source": [
    "**По этим ошибкам нельзя сказать, хорошая модель или нет**. Но если у нас есть несколько моделей, которые мы проверяем на одних данных, можно сравнить ошибки (MSE с MSE, например) и сделать выводы. Чем меньше ошибка, тем лучше."
   ]
  }
 ],
 "metadata": {
  "kernelspec": {
   "display_name": "Python 3 (ipykernel)",
   "language": "python",
   "name": "python3"
  },
  "language_info": {
   "codemirror_mode": {
    "name": "ipython",
    "version": 3
   },
   "file_extension": ".py",
   "mimetype": "text/x-python",
   "name": "python",
   "nbconvert_exporter": "python",
   "pygments_lexer": "ipython3",
   "version": "3.9.7"
  }
 },
 "nbformat": 4,
 "nbformat_minor": 5
}
